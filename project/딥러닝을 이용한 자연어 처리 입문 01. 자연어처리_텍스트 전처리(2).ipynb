{
 "cells": [
  {
   "cell_type": "markdown",
   "metadata": {},
   "source": [
    "### 정수 인코딩(Integer Encoding)"
   ]
  },
  {
   "cell_type": "markdown",
   "metadata": {},
   "source": [
    "1. 정수 인코딩(Integer Encoding)"
   ]
  },
  {
   "cell_type": "markdown",
   "metadata": {},
   "source": [
    "1) dictionary 이용하기 "
   ]
  },
  {
   "cell_type": "code",
   "execution_count": 1,
   "metadata": {},
   "outputs": [],
   "source": [
    "# dictionary 이용하기 \n",
    "\n",
    "from nltk.tokenize import sent_tokenize\n",
    "from nltk.tokenize import word_tokenize\n",
    "from nltk.corpus import stopwords"
   ]
  },
  {
   "cell_type": "code",
   "execution_count": 2,
   "metadata": {},
   "outputs": [],
   "source": [
    "text = \"A barber is a person. a barber is good person. a barber is huge person. he Knew A Secret! The Secret He Kept is huge secret. Huge secret. His barber kept his word. a barber kept his word. His barber kept his secret. But keeping and keeping such a huge secret to himself was driving the barber crazy. the barber went up a huge mountain.\""
   ]
  },
  {
   "cell_type": "code",
   "execution_count": 3,
   "metadata": {},
   "outputs": [
    {
     "name": "stdout",
     "output_type": "stream",
     "text": [
      "['A barber is a person.', 'a barber is good person.', 'a barber is huge person.', 'he Knew A Secret!', 'The Secret He Kept is huge secret.', 'Huge secret.', 'His barber kept his word.', 'a barber kept his word.', 'His barber kept his secret.', 'But keeping and keeping such a huge secret to himself was driving the barber crazy.', 'the barber went up a huge mountain.']\n"
     ]
    }
   ],
   "source": [
    "# 문장 토큰화\n",
    "text = sent_tokenize(text)\n",
    "print(text)"
   ]
  },
  {
   "cell_type": "code",
   "execution_count": 4,
   "metadata": {},
   "outputs": [
    {
     "name": "stdout",
     "output_type": "stream",
     "text": [
      "[['barber', 'person'], ['barber', 'good', 'person'], ['barber', 'huge', 'person'], ['knew', 'secret'], ['secret', 'kept', 'huge', 'secret'], ['huge', 'secret'], ['barber', 'kept', 'word'], ['barber', 'kept', 'word'], ['barber', 'kept', 'secret'], ['keeping', 'keeping', 'huge', 'secret', 'driving', 'barber', 'crazy'], ['barber', 'went', 'huge', 'mountain']]\n"
     ]
    }
   ],
   "source": [
    "# 정제와 단어 토큰화\n",
    "vocab = {} # 파이썬의 dictionary 자료형\n",
    "sentences = []\n",
    "stop_words = set(stopwords.words('english'))\n",
    "\n",
    "for i in text:\n",
    "    sentence = word_tokenize(i) # 단어 토큰화를 수행합니다.\n",
    "    result = []\n",
    "\n",
    "    for word in sentence: \n",
    "        word = word.lower() # 모든 단어를 소문자화하여 단어의 개수를 줄입니다.\n",
    "        if word not in stop_words: # 단어 토큰화 된 결과에 대해서 불용어를 제거합니다.\n",
    "            if len(word) > 2: # 단어 길이가 2이하인 경우에 대하여 추가로 단어를 제거합니다.\n",
    "                result.append(word)\n",
    "                if word not in vocab:\n",
    "                    vocab[word] = 0 \n",
    "                vocab[word] += 1\n",
    "    sentences.append(result) \n",
    "print(sentences)\n"
   ]
  },
  {
   "cell_type": "code",
   "execution_count": 5,
   "metadata": {},
   "outputs": [
    {
     "name": "stdout",
     "output_type": "stream",
     "text": [
      "{'barber': 8, 'person': 3, 'good': 1, 'huge': 5, 'knew': 1, 'secret': 6, 'kept': 4, 'word': 2, 'keeping': 2, 'driving': 1, 'crazy': 1, 'went': 1, 'mountain': 1}\n"
     ]
    }
   ],
   "source": [
    "print(vocab)"
   ]
  },
  {
   "cell_type": "code",
   "execution_count": 6,
   "metadata": {},
   "outputs": [
    {
     "name": "stdout",
     "output_type": "stream",
     "text": [
      "8\n"
     ]
    }
   ],
   "source": [
    "print(vocab[\"barber\"]) # 'barber'라는 단어의 빈도수 출력"
   ]
  },
  {
   "cell_type": "code",
   "execution_count": 7,
   "metadata": {},
   "outputs": [
    {
     "name": "stdout",
     "output_type": "stream",
     "text": [
      "[('barber', 8), ('secret', 6), ('huge', 5), ('kept', 4), ('person', 3), ('word', 2), ('keeping', 2), ('good', 1), ('knew', 1), ('driving', 1), ('crazy', 1), ('went', 1), ('mountain', 1)]\n"
     ]
    }
   ],
   "source": [
    "# 빈도수가 높은 순으로 정렬\n",
    "vocab_sorted = sorted(vocab.items(), key = lambda x:x[1], reverse = True)\n",
    "print(vocab_sorted)"
   ]
  },
  {
   "cell_type": "code",
   "execution_count": 8,
   "metadata": {},
   "outputs": [
    {
     "name": "stdout",
     "output_type": "stream",
     "text": [
      "{'barber': 1, 'secret': 2, 'huge': 3, 'kept': 4, 'person': 5, 'word': 6, 'keeping': 7}\n"
     ]
    }
   ],
   "source": [
    "word_to_index = {}\n",
    "i=0\n",
    "for (word, frequency) in vocab_sorted :\n",
    "    if frequency > 1 : # 빈도수가 적은 단어는 제외한다.\n",
    "        i=i+1\n",
    "        word_to_index[word] = i\n",
    "print(word_to_index)\n",
    "\n",
    "# 1의 인덱스를 가진 단어가 가장 빈도수가 높은 단어\n",
    "# 빈도수가 1인 단어들은 전부 제외"
   ]
  },
  {
   "cell_type": "code",
   "execution_count": 9,
   "metadata": {},
   "outputs": [
    {
     "name": "stdout",
     "output_type": "stream",
     "text": [
      "{'barber': 1, 'secret': 2, 'huge': 3, 'kept': 4, 'person': 5}\n"
     ]
    }
   ],
   "source": [
    "# 빈도수 상위 n개의 단어만 사용\n",
    "\n",
    "vocab_size = 5\n",
    "words_frequency = [w for w,c in word_to_index.items() if c >= vocab_size + 1] \n",
    "# 인덱스가 5 초과인 단어 제거\n",
    "for w in words_frequency:\n",
    "    del word_to_index[w] # 해당 단어에 대한 인덱스 정보를 삭제\n",
    "print(word_to_index)"
   ]
  },
  {
   "cell_type": "markdown",
   "metadata": {},
   "source": [
    "OOV(Out-Of-Vocabulary) : 단어 집합에 없는 단어\n",
    "\n"
   ]
  },
  {
   "cell_type": "code",
   "execution_count": 10,
   "metadata": {},
   "outputs": [],
   "source": [
    "word_to_index['OOV'] = len(word_to_index) + 1"
   ]
  },
  {
   "cell_type": "code",
   "execution_count": 11,
   "metadata": {},
   "outputs": [
    {
     "name": "stdout",
     "output_type": "stream",
     "text": [
      "[[1, 5], [1, 6, 5], [1, 3, 5], [6, 2], [2, 4, 3, 2], [3, 2], [1, 4, 6], [1, 4, 6], [1, 4, 2], [6, 6, 3, 2, 6, 1, 6], [1, 6, 3, 6]]\n"
     ]
    }
   ],
   "source": [
    "encoded = []\n",
    "for s in sentences:\n",
    "    temp = []\n",
    "    for w in s:\n",
    "        try:\n",
    "            temp.append(word_to_index[w])\n",
    "        except KeyError:\n",
    "            temp.append(word_to_index['OOV'])\n",
    "    encoded.append(temp)\n",
    "print(encoded)"
   ]
  },
  {
   "cell_type": "markdown",
   "metadata": {},
   "source": [
    "2) Counter 사용하기"
   ]
  },
  {
   "cell_type": "code",
   "execution_count": 12,
   "metadata": {},
   "outputs": [],
   "source": [
    "from collections import Counter"
   ]
  },
  {
   "cell_type": "code",
   "execution_count": 13,
   "metadata": {},
   "outputs": [
    {
     "name": "stdout",
     "output_type": "stream",
     "text": [
      "[['barber', 'person'], ['barber', 'good', 'person'], ['barber', 'huge', 'person'], ['knew', 'secret'], ['secret', 'kept', 'huge', 'secret'], ['huge', 'secret'], ['barber', 'kept', 'word'], ['barber', 'kept', 'word'], ['barber', 'kept', 'secret'], ['keeping', 'keeping', 'huge', 'secret', 'driving', 'barber', 'crazy'], ['barber', 'went', 'huge', 'mountain']]\n"
     ]
    }
   ],
   "source": [
    "print(sentences)"
   ]
  },
  {
   "cell_type": "code",
   "execution_count": 14,
   "metadata": {},
   "outputs": [
    {
     "name": "stdout",
     "output_type": "stream",
     "text": [
      "['barber', 'person', 'barber', 'good', 'person', 'barber', 'huge', 'person', 'knew', 'secret', 'secret', 'kept', 'huge', 'secret', 'huge', 'secret', 'barber', 'kept', 'word', 'barber', 'kept', 'word', 'barber', 'kept', 'secret', 'keeping', 'keeping', 'huge', 'secret', 'driving', 'barber', 'crazy', 'barber', 'went', 'huge', 'mountain']\n"
     ]
    }
   ],
   "source": [
    "words = sum(sentences, [])\n",
    "# 위 작업은 words = np.hstack(sentences)로도 수행 가능.\n",
    "print(words)"
   ]
  },
  {
   "cell_type": "code",
   "execution_count": 15,
   "metadata": {},
   "outputs": [
    {
     "name": "stdout",
     "output_type": "stream",
     "text": [
      "Counter({'barber': 8, 'secret': 6, 'huge': 5, 'kept': 4, 'person': 3, 'word': 2, 'keeping': 2, 'good': 1, 'knew': 1, 'driving': 1, 'crazy': 1, 'went': 1, 'mountain': 1})\n"
     ]
    }
   ],
   "source": [
    "vocab = Counter(words) # 파이썬의 Counter 모듈을 이용하면 단어의 모든 빈도를 쉽게 계산할 수 있습니다.\n",
    "print(vocab)\n",
    "# 단어를 키(key)로, 단어에 대한 빈도수가 값(value)으로 저장"
   ]
  },
  {
   "cell_type": "code",
   "execution_count": 16,
   "metadata": {},
   "outputs": [
    {
     "name": "stdout",
     "output_type": "stream",
     "text": [
      "8\n"
     ]
    }
   ],
   "source": [
    "print(vocab[\"barber\"]) # 'barber'라는 단어의 빈도수 출력"
   ]
  },
  {
   "cell_type": "code",
   "execution_count": 17,
   "metadata": {},
   "outputs": [
    {
     "data": {
      "text/plain": [
       "[('barber', 8), ('secret', 6), ('huge', 5), ('kept', 4), ('person', 3)]"
      ]
     },
     "execution_count": 17,
     "metadata": {},
     "output_type": "execute_result"
    }
   ],
   "source": [
    "vocab_size = 5\n",
    "vocab = vocab.most_common(vocab_size) # 등장 빈도수가 높은 상위 5개의 단어만 저장\n",
    "vocab"
   ]
  },
  {
   "cell_type": "code",
   "execution_count": 18,
   "metadata": {},
   "outputs": [
    {
     "name": "stdout",
     "output_type": "stream",
     "text": [
      "{'barber': 1, 'secret': 2, 'huge': 3, 'kept': 4, 'person': 5}\n"
     ]
    }
   ],
   "source": [
    "# 정수 인덱스 부여 \n",
    "# 높은 빈도수를 가진 단어일수록 낮은 정수 인덱스를 부여\n",
    "word_to_index = {}\n",
    "i = 0\n",
    "for (word, frequency) in vocab :\n",
    "    i = i+1\n",
    "    word_to_index[word] = i\n",
    "print(word_to_index)"
   ]
  },
  {
   "cell_type": "markdown",
   "metadata": {},
   "source": [
    "3) NLTK의 FreqDist 사용하기"
   ]
  },
  {
   "cell_type": "code",
   "execution_count": 19,
   "metadata": {},
   "outputs": [],
   "source": [
    "from nltk import FreqDist\n",
    "import numpy as np"
   ]
  },
  {
   "cell_type": "code",
   "execution_count": 20,
   "metadata": {},
   "outputs": [],
   "source": [
    "# np.hstack으로 문장 구분을 제거하여 입력으로 사용 . ex) ['barber', 'person', 'barber', 'good' ... 중략 ...\n",
    "vocab = FreqDist(np.hstack(sentences))"
   ]
  },
  {
   "cell_type": "code",
   "execution_count": 21,
   "metadata": {},
   "outputs": [
    {
     "name": "stdout",
     "output_type": "stream",
     "text": [
      "8\n"
     ]
    }
   ],
   "source": [
    "print(vocab[\"barber\"]) # 'barber'라는 단어의 빈도수 출력"
   ]
  },
  {
   "cell_type": "code",
   "execution_count": 22,
   "metadata": {},
   "outputs": [
    {
     "data": {
      "text/plain": [
       "[('barber', 8), ('secret', 6), ('huge', 5), ('kept', 4), ('person', 3)]"
      ]
     },
     "execution_count": 22,
     "metadata": {},
     "output_type": "execute_result"
    }
   ],
   "source": [
    "vocab_size = 5\n",
    "vocab = vocab.most_common(vocab_size) # 등장 빈도수가 높은 상위 5개의 단어만 저장\n",
    "vocab"
   ]
  },
  {
   "cell_type": "code",
   "execution_count": 23,
   "metadata": {},
   "outputs": [
    {
     "name": "stdout",
     "output_type": "stream",
     "text": [
      "{'barber': 1, 'secret': 2, 'huge': 3, 'kept': 4, 'person': 5}\n"
     ]
    }
   ],
   "source": [
    "# enumerate  사용 인덱스 부여\n",
    "word_to_index = {word[0] : index + 1 for index, word in enumerate(vocab)}\n",
    "print(word_to_index)"
   ]
  },
  {
   "cell_type": "markdown",
   "metadata": {},
   "source": [
    "- enumerate 이해하기\n",
    " - 순서가 있는 자료형(list, set, tuple, dictionary, string)을 입력으로 받아 인덱스를 순차적으로 함께 리턴함"
   ]
  },
  {
   "cell_type": "code",
   "execution_count": 24,
   "metadata": {},
   "outputs": [
    {
     "name": "stdout",
     "output_type": "stream",
     "text": [
      "value : a, index: 0\n",
      "value : b, index: 1\n",
      "value : c, index: 2\n",
      "value : d, index: 3\n",
      "value : e, index: 4\n"
     ]
    }
   ],
   "source": [
    "test=['a', 'b', 'c', 'd', 'e']\n",
    "for index, value in enumerate(test): \n",
    "    # 입력의 순서대로 0부터 인덱스를 부여함.\n",
    "  print(\"value : {}, index: {}\".format(value, index))\n",
    "\n",
    "# 리스트의 모든 토큰에 대해서 인덱스가 순차적으로 증가되며 부여"
   ]
  },
  {
   "cell_type": "markdown",
   "metadata": {},
   "source": [
    "2. 케라스(Keras)의 텍스트 전처리"
   ]
  },
  {
   "cell_type": "code",
   "execution_count": 25,
   "metadata": {},
   "outputs": [],
   "source": [
    "from tensorflow.keras.preprocessing.text import Tokenizer"
   ]
  },
  {
   "cell_type": "code",
   "execution_count": 26,
   "metadata": {},
   "outputs": [],
   "source": [
    "sentences=[['barber', 'person'], ['barber', 'good', 'person'], ['barber', 'huge', 'person'], ['knew', 'secret'], ['secret', 'kept', 'huge', 'secret'], ['huge', 'secret'], ['barber', 'kept', 'word'], ['barber', 'kept', 'word'], ['barber', 'kept', 'secret'], ['keeping', 'keeping', 'huge', 'secret', 'driving', 'barber', 'crazy'], ['barber', 'went', 'huge', 'mountain']]"
   ]
  },
  {
   "cell_type": "code",
   "execution_count": 27,
   "metadata": {},
   "outputs": [],
   "source": [
    "tokenizer = Tokenizer()\n",
    "tokenizer.fit_on_texts(sentences) \n",
    "# fit_on_texts()안에 코퍼스를 입력으로 하면 빈도수를 기준으로 단어 집합을 생성한다."
   ]
  },
  {
   "cell_type": "code",
   "execution_count": 28,
   "metadata": {},
   "outputs": [
    {
     "name": "stdout",
     "output_type": "stream",
     "text": [
      "{'barber': 1, 'secret': 2, 'huge': 3, 'kept': 4, 'person': 5, 'word': 6, 'keeping': 7, 'good': 8, 'knew': 9, 'driving': 10, 'crazy': 11, 'went': 12, 'mountain': 13}\n"
     ]
    }
   ],
   "source": [
    "print(tokenizer.word_index)"
   ]
  },
  {
   "cell_type": "code",
   "execution_count": 29,
   "metadata": {},
   "outputs": [
    {
     "name": "stdout",
     "output_type": "stream",
     "text": [
      "OrderedDict([('barber', 8), ('person', 3), ('good', 1), ('huge', 5), ('knew', 1), ('secret', 6), ('kept', 4), ('word', 2), ('keeping', 2), ('driving', 1), ('crazy', 1), ('went', 1), ('mountain', 1)])\n"
     ]
    }
   ],
   "source": [
    "print(tokenizer.word_counts)"
   ]
  },
  {
   "cell_type": "code",
   "execution_count": 30,
   "metadata": {},
   "outputs": [
    {
     "name": "stdout",
     "output_type": "stream",
     "text": [
      "[[1, 5], [1, 8, 5], [1, 3, 5], [9, 2], [2, 4, 3, 2], [3, 2], [1, 4, 6], [1, 4, 6], [1, 4, 2], [7, 7, 3, 2, 10, 1, 11], [1, 12, 3, 13]]\n"
     ]
    }
   ],
   "source": [
    "print(tokenizer.texts_to_sequences(sentences))"
   ]
  },
  {
   "cell_type": "code",
   "execution_count": 31,
   "metadata": {},
   "outputs": [
    {
     "data": {
      "text/plain": [
       "[[5]]"
      ]
     },
     "execution_count": 31,
     "metadata": {},
     "output_type": "execute_result"
    }
   ],
   "source": [
    "tokenizer.texts_to_sequences(['i love drwill and another person'])"
   ]
  },
  {
   "cell_type": "code",
   "execution_count": 32,
   "metadata": {},
   "outputs": [],
   "source": [
    "# 상위 5개 단어 추출\n",
    "vocab_size = 5\n",
    "tokenizer = Tokenizer(num_words = vocab_size + 1) # 상위 5개 단어만 사용\n",
    "tokenizer.fit_on_texts(sentences)"
   ]
  },
  {
   "cell_type": "markdown",
   "metadata": {},
   "source": [
    "##### num_words에서 +1을 더해서 값을 넣어주는 이유: num_words는 숫자를 0부터 카운트"
   ]
  },
  {
   "cell_type": "code",
   "execution_count": 33,
   "metadata": {},
   "outputs": [
    {
     "name": "stdout",
     "output_type": "stream",
     "text": [
      "{'barber': 1, 'secret': 2, 'huge': 3, 'kept': 4, 'person': 5, 'word': 6, 'keeping': 7, 'good': 8, 'knew': 9, 'driving': 10, 'crazy': 11, 'went': 12, 'mountain': 13}\n"
     ]
    }
   ],
   "source": [
    "print(tokenizer.word_index)"
   ]
  },
  {
   "cell_type": "code",
   "execution_count": 34,
   "metadata": {},
   "outputs": [
    {
     "name": "stdout",
     "output_type": "stream",
     "text": [
      "OrderedDict([('barber', 8), ('person', 3), ('good', 1), ('huge', 5), ('knew', 1), ('secret', 6), ('kept', 4), ('word', 2), ('keeping', 2), ('driving', 1), ('crazy', 1), ('went', 1), ('mountain', 1)])\n"
     ]
    }
   ],
   "source": [
    "print(tokenizer.word_counts)"
   ]
  },
  {
   "cell_type": "code",
   "execution_count": 35,
   "metadata": {},
   "outputs": [
    {
     "name": "stdout",
     "output_type": "stream",
     "text": [
      "[[1, 5], [1, 5], [1, 3, 5], [2], [2, 4, 3, 2], [3, 2], [1, 4], [1, 4], [1, 4, 2], [3, 2, 1], [1, 3]]\n"
     ]
    }
   ],
   "source": [
    "print(tokenizer.texts_to_sequences(sentences))"
   ]
  },
  {
   "cell_type": "markdown",
   "metadata": {},
   "source": [
    "-  word_index와 word_counts에서도 지정된 num_words만큼의 단어만 남기고 싶다면"
   ]
  },
  {
   "cell_type": "code",
   "execution_count": 36,
   "metadata": {},
   "outputs": [],
   "source": [
    "tokenizer = Tokenizer() # num_words를 여기서는 지정하지 않은 상태\n",
    "tokenizer.fit_on_texts(sentences)"
   ]
  },
  {
   "cell_type": "code",
   "execution_count": 37,
   "metadata": {},
   "outputs": [
    {
     "name": "stdout",
     "output_type": "stream",
     "text": [
      "{'barber': 1, 'secret': 2, 'huge': 3, 'kept': 4, 'person': 5}\n",
      "OrderedDict([('barber', 8), ('person', 3), ('huge', 5), ('secret', 6), ('kept', 4)])\n",
      "[[1, 5], [1, 5], [1, 3, 5], [2], [2, 4, 3, 2], [3, 2], [1, 4], [1, 4], [1, 4, 2], [3, 2, 1], [1, 3]]\n"
     ]
    }
   ],
   "source": [
    "vocab_size = 5\n",
    "words_frequency = [w for w,c in tokenizer.word_index.items() if c >= vocab_size + 1] \n",
    "# 인덱스가 5 초과인 단어 제거\n",
    "for w in words_frequency:\n",
    "    del tokenizer.word_index[w] # 해당 단어에 대한 인덱스 정보를 삭제\n",
    "    del tokenizer.word_counts[w] # 해당 단어에 대한 카운트 정보를 삭제\n",
    "print(tokenizer.word_index)\n",
    "print(tokenizer.word_counts)\n",
    "print(tokenizer.texts_to_sequences(sentences))"
   ]
  },
  {
   "cell_type": "code",
   "execution_count": 38,
   "metadata": {},
   "outputs": [],
   "source": [
    "# 단어 집합에 없는 단어들은 OOV로 간주하여 보존하고 싶다면 \n",
    "# Tokenizer의 인자 oov_token을 사용"
   ]
  },
  {
   "cell_type": "code",
   "execution_count": 39,
   "metadata": {},
   "outputs": [],
   "source": [
    "vocab_size = 5\n",
    "tokenizer = Tokenizer(num_words = vocab_size + 2, oov_token = 'OOV')\n",
    "# 빈도수 상위 5개 단어만 사용. \n",
    "# 숫자 0과 OOV를 고려해서 단어 집합의 크기는 +2 (0, oov)\n",
    "tokenizer.fit_on_texts(sentences)\n",
    "# 만약 oov_token을 사용하기로 했다면 \n",
    "# 케라스 토크나이저는 기본적으로 'OOV'의 인덱스를 1로 합니다."
   ]
  },
  {
   "cell_type": "code",
   "execution_count": 40,
   "metadata": {
    "scrolled": true
   },
   "outputs": [
    {
     "data": {
      "text/plain": [
       "{'OOV': 1,\n",
       " 'barber': 2,\n",
       " 'secret': 3,\n",
       " 'huge': 4,\n",
       " 'kept': 5,\n",
       " 'person': 6,\n",
       " 'word': 7,\n",
       " 'keeping': 8,\n",
       " 'good': 9,\n",
       " 'knew': 10,\n",
       " 'driving': 11,\n",
       " 'crazy': 12,\n",
       " 'went': 13,\n",
       " 'mountain': 14}"
      ]
     },
     "execution_count": 40,
     "metadata": {},
     "output_type": "execute_result"
    }
   ],
   "source": [
    "tokenizer.word_index"
   ]
  },
  {
   "cell_type": "code",
   "execution_count": 41,
   "metadata": {
    "scrolled": true
   },
   "outputs": [
    {
     "name": "stdout",
     "output_type": "stream",
     "text": [
      "단어 OOV의 인덱스 : 1\n"
     ]
    }
   ],
   "source": [
    "print('단어 OOV의 인덱스 : {}'.format(tokenizer.word_index['OOV']))"
   ]
  },
  {
   "cell_type": "code",
   "execution_count": 42,
   "metadata": {},
   "outputs": [
    {
     "name": "stdout",
     "output_type": "stream",
     "text": [
      "[[2, 6], [2, 1, 6], [2, 4, 6], [1, 3], [3, 5, 4, 3], [4, 3], [2, 5, 1], [2, 5, 1], [2, 5, 3], [1, 1, 4, 3, 1, 2, 1], [2, 1, 4, 1]]\n"
     ]
    }
   ],
   "source": [
    "print(tokenizer.texts_to_sequences(sentences))"
   ]
  },
  {
   "cell_type": "markdown",
   "metadata": {},
   "source": [
    "##### 빈도수 상위 5개의 단어는 2 ~ 6까지의 인덱스를 가졌으며, 그 외 단어 집합에 없는 'good'과 같은 단어들은 전부 'OOV'의 인덱스인 1로 인코딩되었습니다."
   ]
  },
  {
   "cell_type": "markdown",
   "metadata": {},
   "source": [
    "### 패딩(Padding)"
   ]
  },
  {
   "cell_type": "markdown",
   "metadata": {},
   "source": [
    "1. Numpy로 패딩하기"
   ]
  },
  {
   "cell_type": "code",
   "execution_count": 43,
   "metadata": {},
   "outputs": [],
   "source": [
    "import numpy as np\n",
    "from tensorflow.keras.preprocessing.text import Tokenizer"
   ]
  },
  {
   "cell_type": "code",
   "execution_count": 44,
   "metadata": {},
   "outputs": [],
   "source": [
    "sentences = [['barber', 'person'], ['barber', 'good', 'person'], ['barber', 'huge', 'person'], ['knew', 'secret'], ['secret', 'kept', 'huge', 'secret'], ['huge', 'secret'], ['barber', 'kept', 'word'], ['barber', 'kept', 'word'], ['barber', 'kept', 'secret'], ['keeping', 'keeping', 'huge', 'secret', 'driving', 'barber', 'crazy'], ['barber', 'went', 'huge', 'mountain']]"
   ]
  },
  {
   "cell_type": "code",
   "execution_count": 45,
   "metadata": {},
   "outputs": [],
   "source": [
    "# 정수 인코딩\n",
    "tokenizer = Tokenizer()\n",
    "tokenizer.fit_on_texts(sentences) \n",
    "# fit_on_texts()안에 코퍼스를 입력으로 하면 빈도수를 기준으로 단어 집합을 생성한다."
   ]
  },
  {
   "cell_type": "code",
   "execution_count": 46,
   "metadata": {},
   "outputs": [
    {
     "name": "stdout",
     "output_type": "stream",
     "text": [
      "[[1, 5], [1, 8, 5], [1, 3, 5], [9, 2], [2, 4, 3, 2], [3, 2], [1, 4, 6], [1, 4, 6], [1, 4, 2], [7, 7, 3, 2, 10, 1, 11], [1, 12, 3, 13]]\n"
     ]
    }
   ],
   "source": [
    "encoded = tokenizer.texts_to_sequences(sentences)\n",
    "print(encoded)\n",
    "# 모든 단어가 고유한 정수로 변환"
   ]
  },
  {
   "cell_type": "code",
   "execution_count": 47,
   "metadata": {},
   "outputs": [
    {
     "name": "stdout",
     "output_type": "stream",
     "text": [
      "7\n"
     ]
    }
   ],
   "source": [
    "# 모두 동일한 길이로 맞춰주기 위해서 \n",
    "# 이 중에서 가장 길이가 긴 문장의 길이를 계산\n",
    "max_len = max(len(item) for item in encoded)\n",
    "print(max_len)"
   ]
  },
  {
   "cell_type": "code",
   "execution_count": 48,
   "metadata": {},
   "outputs": [
    {
     "data": {
      "text/plain": [
       "array([[ 1,  5,  0,  0,  0,  0,  0],\n",
       "       [ 1,  8,  5,  0,  0,  0,  0],\n",
       "       [ 1,  3,  5,  0,  0,  0,  0],\n",
       "       [ 9,  2,  0,  0,  0,  0,  0],\n",
       "       [ 2,  4,  3,  2,  0,  0,  0],\n",
       "       [ 3,  2,  0,  0,  0,  0,  0],\n",
       "       [ 1,  4,  6,  0,  0,  0,  0],\n",
       "       [ 1,  4,  6,  0,  0,  0,  0],\n",
       "       [ 1,  4,  2,  0,  0,  0,  0],\n",
       "       [ 7,  7,  3,  2, 10,  1, 11],\n",
       "       [ 1, 12,  3, 13,  0,  0,  0]])"
      ]
     },
     "execution_count": 48,
     "metadata": {},
     "output_type": "execute_result"
    }
   ],
   "source": [
    "for item in encoded: # 각 문장에 대해서\n",
    "    while len(item) < max_len:   # max_len보다 작으면\n",
    "        item.append(0)\n",
    "\n",
    "padded_np = np.array(encoded)\n",
    "padded_np"
   ]
  },
  {
   "cell_type": "markdown",
   "metadata": {},
   "source": [
    "- 패딩(padding)\n",
    " - 데이터에 특정 값을 채워서 데이터의 크기(shape)를 조정하는 것 \n",
    " - 숫자 0을 사용하고 있다면 제로 패딩(zero padding)이라고 합니다."
   ]
  },
  {
   "cell_type": "markdown",
   "metadata": {},
   "source": [
    "2. 케라스 전처리 도구로 패딩하기"
   ]
  },
  {
   "cell_type": "code",
   "execution_count": 49,
   "metadata": {},
   "outputs": [
    {
     "name": "stdout",
     "output_type": "stream",
     "text": [
      "[[1, 5], [1, 8, 5], [1, 3, 5], [9, 2], [2, 4, 3, 2], [3, 2], [1, 4, 6], [1, 4, 6], [1, 4, 2], [7, 7, 3, 2, 10, 1, 11], [1, 12, 3, 13]]\n"
     ]
    }
   ],
   "source": [
    "from tensorflow.keras.preprocessing.sequence import pad_sequences\n",
    "\n",
    "encoded = tokenizer.texts_to_sequences(sentences)\n",
    "print(encoded)"
   ]
  },
  {
   "cell_type": "code",
   "execution_count": 50,
   "metadata": {},
   "outputs": [
    {
     "data": {
      "text/plain": [
       "array([[ 0,  0,  0,  0,  0,  1,  5],\n",
       "       [ 0,  0,  0,  0,  1,  8,  5],\n",
       "       [ 0,  0,  0,  0,  1,  3,  5],\n",
       "       [ 0,  0,  0,  0,  0,  9,  2],\n",
       "       [ 0,  0,  0,  2,  4,  3,  2],\n",
       "       [ 0,  0,  0,  0,  0,  3,  2],\n",
       "       [ 0,  0,  0,  0,  1,  4,  6],\n",
       "       [ 0,  0,  0,  0,  1,  4,  6],\n",
       "       [ 0,  0,  0,  0,  1,  4,  2],\n",
       "       [ 7,  7,  3,  2, 10,  1, 11],\n",
       "       [ 0,  0,  0,  1, 12,  3, 13]])"
      ]
     },
     "execution_count": 50,
     "metadata": {},
     "output_type": "execute_result"
    }
   ],
   "source": [
    "padded = pad_sequences(encoded)\n",
    "padded\n",
    "\n",
    "# pad_sequences : 기본적으로 앞에 0으로 채움 "
   ]
  },
  {
   "cell_type": "code",
   "execution_count": 51,
   "metadata": {},
   "outputs": [
    {
     "data": {
      "text/plain": [
       "array([[ 1,  5,  0,  0,  0,  0,  0],\n",
       "       [ 1,  8,  5,  0,  0,  0,  0],\n",
       "       [ 1,  3,  5,  0,  0,  0,  0],\n",
       "       [ 9,  2,  0,  0,  0,  0,  0],\n",
       "       [ 2,  4,  3,  2,  0,  0,  0],\n",
       "       [ 3,  2,  0,  0,  0,  0,  0],\n",
       "       [ 1,  4,  6,  0,  0,  0,  0],\n",
       "       [ 1,  4,  6,  0,  0,  0,  0],\n",
       "       [ 1,  4,  2,  0,  0,  0,  0],\n",
       "       [ 7,  7,  3,  2, 10,  1, 11],\n",
       "       [ 1, 12,  3, 13,  0,  0,  0]])"
      ]
     },
     "execution_count": 51,
     "metadata": {},
     "output_type": "execute_result"
    }
   ],
   "source": [
    "# 뒤에 0을 채우고 싶다면 인자로 padding='post'\n",
    "padded = pad_sequences(encoded, padding = 'post')\n",
    "padded"
   ]
  },
  {
   "cell_type": "code",
   "execution_count": 52,
   "metadata": {},
   "outputs": [
    {
     "data": {
      "text/plain": [
       "array([[ 1,  5,  0,  0,  0],\n",
       "       [ 1,  8,  5,  0,  0],\n",
       "       [ 1,  3,  5,  0,  0],\n",
       "       [ 9,  2,  0,  0,  0],\n",
       "       [ 2,  4,  3,  2,  0],\n",
       "       [ 3,  2,  0,  0,  0],\n",
       "       [ 1,  4,  6,  0,  0],\n",
       "       [ 1,  4,  6,  0,  0],\n",
       "       [ 1,  4,  2,  0,  0],\n",
       "       [ 3,  2, 10,  1, 11],\n",
       "       [ 1, 12,  3, 13,  0]])"
      ]
     },
     "execution_count": 52,
     "metadata": {},
     "output_type": "execute_result"
    }
   ],
   "source": [
    "# 길이에 제한을 두고 패딩\n",
    "\n",
    "padded = pad_sequences(encoded, padding = 'post', maxlen = 5)\n",
    "padded\n",
    "# 길이가 5보다 짧은 문서들은 0으로 패딩"
   ]
  },
  {
   "cell_type": "code",
   "execution_count": 53,
   "metadata": {},
   "outputs": [
    {
     "name": "stdout",
     "output_type": "stream",
     "text": [
      "14\n"
     ]
    }
   ],
   "source": [
    "last_value = len(tokenizer.word_index) + 1 # 단어 집합의 크기보다 1 큰 숫자를 사용\n",
    "print(last_value)\n",
    "# 현재 단어가 총 13개이고, 1번부터 13번까지 정수가 사용되었으므로 \n",
    "# 단어 집합의 크기에 +1을 하면 이마지막 숫자인 13보다 1이 큰 14가 나옴 "
   ]
  },
  {
   "cell_type": "code",
   "execution_count": 54,
   "metadata": {},
   "outputs": [
    {
     "data": {
      "text/plain": [
       "array([[ 1,  5, 14, 14, 14, 14, 14],\n",
       "       [ 1,  8,  5, 14, 14, 14, 14],\n",
       "       [ 1,  3,  5, 14, 14, 14, 14],\n",
       "       [ 9,  2, 14, 14, 14, 14, 14],\n",
       "       [ 2,  4,  3,  2, 14, 14, 14],\n",
       "       [ 3,  2, 14, 14, 14, 14, 14],\n",
       "       [ 1,  4,  6, 14, 14, 14, 14],\n",
       "       [ 1,  4,  6, 14, 14, 14, 14],\n",
       "       [ 1,  4,  2, 14, 14, 14, 14],\n",
       "       [ 7,  7,  3,  2, 10,  1, 11],\n",
       "       [ 1, 12,  3, 13, 14, 14, 14]])"
      ]
     },
     "execution_count": 54,
     "metadata": {},
     "output_type": "execute_result"
    }
   ],
   "source": [
    "padded = pad_sequences(encoded, padding = 'post', value = last_value)\n",
    "padded"
   ]
  },
  {
   "cell_type": "markdown",
   "metadata": {},
   "source": [
    "### 원-핫 인코딩(One-Hot Encoding)"
   ]
  },
  {
   "cell_type": "markdown",
   "metadata": {},
   "source": [
    "- one-hote encoding이란?"
   ]
  },
  {
   "cell_type": "markdown",
   "metadata": {},
   "source": [
    "#### 원-핫 인코딩 두 가지 과정\n",
    "\n",
    "- 각 단어에 고유한 인덱스를 부여(정수 인코딩)\n",
    "- 표현하고 싶은 단어의 인덱스의 위치에 1을 부여하고, 다른 단어의 인덱스의 위치에는 0을 부여"
   ]
  },
  {
   "cell_type": "code",
   "execution_count": 80,
   "metadata": {},
   "outputs": [
    {
     "name": "stdout",
     "output_type": "stream",
     "text": [
      "['나', '는', '자연어', '처리', '를', '배운다']\n"
     ]
    }
   ],
   "source": [
    "# okt 형태소 분석기 통해 토큰화 \n",
    "from konlpy.tag import Okt  \n",
    "okt=Okt()  \n",
    "token=okt.morphs(\"나는 자연어 처리를 배운다\")  \n",
    "print(token)"
   ]
  },
  {
   "cell_type": "code",
   "execution_count": 81,
   "metadata": {},
   "outputs": [
    {
     "name": "stdout",
     "output_type": "stream",
     "text": [
      "{'나': 0, '는': 1, '자연어': 2, '처리': 3, '를': 4, '배운다': 5}\n"
     ]
    }
   ],
   "source": [
    "# 각 토큰에 대해 고유한 인덱스(index) 부여 \n",
    "word2index={}\n",
    "for voca in token:\n",
    "     if voca not in word2index.keys():\n",
    "        word2index[voca]=len(word2index)\n",
    "print(word2index)"
   ]
  },
  {
   "cell_type": "code",
   "execution_count": 82,
   "metadata": {},
   "outputs": [],
   "source": [
    "def one_hot_encoding(word, word2index):\n",
    "       one_hot_vector = [0]*(len(word2index))\n",
    "       # 전체 단어길이만큰 0으로 채우고\n",
    "       index=word2index[word]\n",
    "       one_hot_vector[index]=1\n",
    "       #단어가 있는 인덱스에 1로 표현\n",
    "       return one_hot_vector"
   ]
  },
  {
   "cell_type": "code",
   "execution_count": 83,
   "metadata": {},
   "outputs": [
    {
     "data": {
      "text/plain": [
       "[0, 0, 1, 0, 0, 0]"
      ]
     },
     "execution_count": 83,
     "metadata": {},
     "output_type": "execute_result"
    }
   ],
   "source": [
    "one_hot_encoding(\"자연어\",word2index)"
   ]
  },
  {
   "cell_type": "code",
   "execution_count": 84,
   "metadata": {},
   "outputs": [],
   "source": [
    "text = \"닥터윌과 함께 하는 자연어처리 공부 재미있어요\""
   ]
  },
  {
   "cell_type": "code",
   "execution_count": 85,
   "metadata": {},
   "outputs": [
    {
     "name": "stdout",
     "output_type": "stream",
     "text": [
      "['닥터윌', '과', '함께', '하는', '자연어', '처리', '공부', '재미있어요']\n"
     ]
    }
   ],
   "source": [
    "okt=Okt()  \n",
    "token=okt.morphs(text)  \n",
    "print(token)"
   ]
  },
  {
   "cell_type": "code",
   "execution_count": 86,
   "metadata": {},
   "outputs": [
    {
     "name": "stdout",
     "output_type": "stream",
     "text": [
      "{'닥터윌': 0, '과': 1, '함께': 2, '하는': 3, '자연어': 4, '처리': 5, '공부': 6, '재미있어요': 7}\n"
     ]
    }
   ],
   "source": [
    "word2index={}\n",
    "for voca in token:\n",
    "     if voca not in word2index.keys():\n",
    "        word2index[voca]=len(word2index)\n",
    "print(word2index)"
   ]
  },
  {
   "cell_type": "markdown",
   "metadata": {},
   "source": [
    "- 새로 들어온 문장에 대해서 one-hot encoding 해보기"
   ]
  },
  {
   "cell_type": "code",
   "execution_count": 99,
   "metadata": {
    "scrolled": true
   },
   "outputs": [
    {
     "name": "stdout",
     "output_type": "stream",
     "text": [
      "문장을 입력하세요지금까지 봤던 코딩 강사 중 가장 섹시한 강사\n"
     ]
    },
    {
     "data": {
      "text/plain": [
       "['지금', '까지', '봤던', '코딩', '강사', '중', '가장', '섹시한', '강사']"
      ]
     },
     "execution_count": 99,
     "metadata": {},
     "output_type": "execute_result"
    }
   ],
   "source": [
    "s = input(\"문장을 입력하세요\")\n",
    "okt = Okt()\n",
    "token = okt.morphs(s)\n",
    "token"
   ]
  },
  {
   "cell_type": "code",
   "execution_count": 100,
   "metadata": {},
   "outputs": [
    {
     "name": "stdout",
     "output_type": "stream",
     "text": [
      "{'지금': 0, '까지': 1, '봤던': 2, '코딩': 3, '강사': 4, '중': 5, '가장': 6, '섹시한': 7}\n"
     ]
    }
   ],
   "source": [
    "word2index={}\n",
    "for voca in token:\n",
    "     if voca not in word2index.keys():\n",
    "        word2index[voca]=len(word2index)\n",
    "print(word2index)"
   ]
  },
  {
   "cell_type": "code",
   "execution_count": 101,
   "metadata": {},
   "outputs": [],
   "source": [
    "result=[]\n",
    "for word in token:\n",
    "    result.append(one_hot_encoding(word,word2index))"
   ]
  },
  {
   "cell_type": "code",
   "execution_count": 102,
   "metadata": {},
   "outputs": [
    {
     "data": {
      "text/plain": [
       "[[1, 0, 0, 0, 0, 0, 0, 0],\n",
       " [0, 1, 0, 0, 0, 0, 0, 0],\n",
       " [0, 0, 1, 0, 0, 0, 0, 0],\n",
       " [0, 0, 0, 1, 0, 0, 0, 0],\n",
       " [0, 0, 0, 0, 1, 0, 0, 0],\n",
       " [0, 0, 0, 0, 0, 1, 0, 0],\n",
       " [0, 0, 0, 0, 0, 0, 1, 0],\n",
       " [0, 0, 0, 0, 0, 0, 0, 1],\n",
       " [0, 0, 0, 0, 1, 0, 0, 0]]"
      ]
     },
     "execution_count": 102,
     "metadata": {},
     "output_type": "execute_result"
    }
   ],
   "source": [
    "result"
   ]
  },
  {
   "cell_type": "markdown",
   "metadata": {},
   "source": [
    "#### 케라스(Keras)를 이용한 원-핫 인코딩(One-Hot Encoding)"
   ]
  },
  {
   "cell_type": "code",
   "execution_count": 103,
   "metadata": {},
   "outputs": [],
   "source": [
    "text=\"나랑 점심 먹으러 갈래 점심 메뉴는 햄버거 갈래 갈래 햄버거 최고야\""
   ]
  },
  {
   "cell_type": "code",
   "execution_count": 104,
   "metadata": {},
   "outputs": [
    {
     "name": "stdout",
     "output_type": "stream",
     "text": [
      "{'갈래': 1, '점심': 2, '햄버거': 3, '나랑': 4, '먹으러': 5, '메뉴는': 6, '최고야': 7}\n"
     ]
    }
   ],
   "source": [
    "from tensorflow.keras.preprocessing.text import Tokenizer\n",
    "from tensorflow.keras.utils import to_categorical\n",
    "\n",
    "text=\"나랑 점심 먹으러 갈래 점심 메뉴는 햄버거 갈래 갈래 햄버거 최고야\"\n",
    "\n",
    "t = Tokenizer()\n",
    "t.fit_on_texts([text])\n",
    "print(t.word_index) \n",
    "# 각 단어에 대한 인코딩 결과 출력."
   ]
  },
  {
   "cell_type": "code",
   "execution_count": 105,
   "metadata": {},
   "outputs": [
    {
     "data": {
      "text/plain": [
       "OrderedDict([('나랑', 1),\n",
       "             ('점심', 2),\n",
       "             ('먹으러', 1),\n",
       "             ('갈래', 3),\n",
       "             ('메뉴는', 1),\n",
       "             ('햄버거', 2),\n",
       "             ('최고야', 1)])"
      ]
     },
     "execution_count": 105,
     "metadata": {},
     "output_type": "execute_result"
    }
   ],
   "source": [
    "t.word_counts"
   ]
  },
  {
   "cell_type": "code",
   "execution_count": 111,
   "metadata": {},
   "outputs": [
    {
     "name": "stdout",
     "output_type": "stream",
     "text": [
      "[2, 5, 1, 6, 3, 7]\n"
     ]
    }
   ],
   "source": [
    "sub_text=\"점심 먹으러 갈래 메뉴는 햄버거 최고야\"\n",
    "\n",
    "# 텍스트 >> 정수 시퀀스로 변환 \n",
    "encoded=t.texts_to_sequences([sub_text])[0]\n",
    "print(encoded)"
   ]
  },
  {
   "cell_type": "code",
   "execution_count": 112,
   "metadata": {},
   "outputs": [
    {
     "name": "stdout",
     "output_type": "stream",
     "text": [
      "[[0. 0. 1. 0. 0. 0. 0. 0.]\n",
      " [0. 0. 0. 0. 0. 1. 0. 0.]\n",
      " [0. 1. 0. 0. 0. 0. 0. 0.]\n",
      " [0. 0. 0. 0. 0. 0. 1. 0.]\n",
      " [0. 0. 0. 1. 0. 0. 0. 0.]\n",
      " [0. 0. 0. 0. 0. 0. 0. 1.]]\n"
     ]
    }
   ],
   "source": [
    "# ont-hot encoding 수행 (to_categorical())\n",
    "\n",
    "one_hot = to_categorical(encoded)\n",
    "print(one_hot)"
   ]
  },
  {
   "cell_type": "markdown",
   "metadata": {},
   "source": [
    "#### 데이터 분리(Spliting Data)"
   ]
  },
  {
   "cell_type": "code",
   "execution_count": 113,
   "metadata": {},
   "outputs": [
    {
     "name": "stdout",
     "output_type": "stream",
     "text": [
      "('a', 'b', 'c')\n",
      "(1, 2, 3)\n"
     ]
    }
   ],
   "source": [
    "# zip 함수 이용 분리 \n",
    "\n",
    "X,y = zip(['a', 1], ['b', 2], ['c', 3])\n",
    "print(X)\n",
    "print(y)"
   ]
  },
  {
   "cell_type": "code",
   "execution_count": 114,
   "metadata": {},
   "outputs": [
    {
     "name": "stdout",
     "output_type": "stream",
     "text": [
      "('a', 'b', 'c')\n",
      "(1, 2, 3)\n"
     ]
    }
   ],
   "source": [
    "sequences=[['a', 1], ['b', 2], ['c', 3]] \n",
    "# 리스트의 리스트 또는 행렬 또는 뒤에서 배울 개념인 2D 텐서.\n",
    "X,y = zip(*sequences) # *를 추가\n",
    "print(X)\n",
    "print(y)"
   ]
  },
  {
   "cell_type": "code",
   "execution_count": 115,
   "metadata": {},
   "outputs": [
    {
     "data": {
      "text/html": [
       "<div>\n",
       "<style scoped>\n",
       "    .dataframe tbody tr th:only-of-type {\n",
       "        vertical-align: middle;\n",
       "    }\n",
       "\n",
       "    .dataframe tbody tr th {\n",
       "        vertical-align: top;\n",
       "    }\n",
       "\n",
       "    .dataframe thead th {\n",
       "        text-align: right;\n",
       "    }\n",
       "</style>\n",
       "<table border=\"1\" class=\"dataframe\">\n",
       "  <thead>\n",
       "    <tr style=\"text-align: right;\">\n",
       "      <th></th>\n",
       "      <th>메일 본문</th>\n",
       "      <th>스팸 메일 유무</th>\n",
       "    </tr>\n",
       "  </thead>\n",
       "  <tbody>\n",
       "    <tr>\n",
       "      <th>0</th>\n",
       "      <td>당신에게 드리는 마지막 혜택!</td>\n",
       "      <td>1</td>\n",
       "    </tr>\n",
       "    <tr>\n",
       "      <th>1</th>\n",
       "      <td>내일 뵐 수 있을지 확인 부탁드...</td>\n",
       "      <td>0</td>\n",
       "    </tr>\n",
       "    <tr>\n",
       "      <th>2</th>\n",
       "      <td>진욱씨. 잘 지내시죠? 오랜만입...</td>\n",
       "      <td>0</td>\n",
       "    </tr>\n",
       "    <tr>\n",
       "      <th>3</th>\n",
       "      <td>(광고) AI로 주가를 예측할 수 있다!</td>\n",
       "      <td>1</td>\n",
       "    </tr>\n",
       "  </tbody>\n",
       "</table>\n",
       "</div>"
      ],
      "text/plain": [
       "                    메일 본문  스팸 메일 유무\n",
       "0        당신에게 드리는 마지막 혜택!         1\n",
       "1    내일 뵐 수 있을지 확인 부탁드...         0\n",
       "2    진욱씨. 잘 지내시죠? 오랜만입...         0\n",
       "3  (광고) AI로 주가를 예측할 수 있다!         1"
      ]
     },
     "execution_count": 115,
     "metadata": {},
     "output_type": "execute_result"
    }
   ],
   "source": [
    "# 데이터프레임 활용, 분리 \n",
    "\n",
    "import pandas as pd\n",
    "\n",
    "values = [['당신에게 드리는 마지막 혜택!', 1],\n",
    "['내일 뵐 수 있을지 확인 부탁드...', 0],\n",
    "['진욱씨. 잘 지내시죠? 오랜만입...', 0],\n",
    "['(광고) AI로 주가를 예측할 수 있다!', 1]]\n",
    "columns = ['메일 본문', '스팸 메일 유무']\n",
    "\n",
    "df = pd.DataFrame(values, columns=columns)\n",
    "df"
   ]
  },
  {
   "cell_type": "code",
   "execution_count": 116,
   "metadata": {},
   "outputs": [],
   "source": [
    "X=df['메일 본문']\n",
    "y=df['스팸 메일 유무']"
   ]
  },
  {
   "cell_type": "code",
   "execution_count": 117,
   "metadata": {},
   "outputs": [
    {
     "name": "stdout",
     "output_type": "stream",
     "text": [
      "0          당신에게 드리는 마지막 혜택!\n",
      "1      내일 뵐 수 있을지 확인 부탁드...\n",
      "2      진욱씨. 잘 지내시죠? 오랜만입...\n",
      "3    (광고) AI로 주가를 예측할 수 있다!\n",
      "Name: 메일 본문, dtype: object\n"
     ]
    }
   ],
   "source": [
    "print(X)"
   ]
  },
  {
   "cell_type": "code",
   "execution_count": 118,
   "metadata": {},
   "outputs": [
    {
     "name": "stdout",
     "output_type": "stream",
     "text": [
      "0    1\n",
      "1    0\n",
      "2    0\n",
      "3    1\n",
      "Name: 스팸 메일 유무, dtype: int64\n"
     ]
    }
   ],
   "source": [
    "print(y)"
   ]
  },
  {
   "cell_type": "code",
   "execution_count": 119,
   "metadata": {},
   "outputs": [
    {
     "name": "stdout",
     "output_type": "stream",
     "text": [
      "[[ 0  1  2  3]\n",
      " [ 4  5  6  7]\n",
      " [ 8  9 10 11]\n",
      " [12 13 14 15]]\n"
     ]
    }
   ],
   "source": [
    "# numpy 이용, 분리 \n",
    "\n",
    "import numpy as np\n",
    "ar = np.arange(0,16).reshape((4,4))\n",
    "print(ar)"
   ]
  },
  {
   "cell_type": "code",
   "execution_count": 120,
   "metadata": {},
   "outputs": [
    {
     "name": "stdout",
     "output_type": "stream",
     "text": [
      "[[ 0  1  2]\n",
      " [ 4  5  6]\n",
      " [ 8  9 10]\n",
      " [12 13 14]]\n"
     ]
    }
   ],
   "source": [
    "X=ar[:, :3]\n",
    "print(X)"
   ]
  },
  {
   "cell_type": "code",
   "execution_count": 121,
   "metadata": {},
   "outputs": [],
   "source": [
    "y=ar[:,3]"
   ]
  },
  {
   "cell_type": "code",
   "execution_count": 122,
   "metadata": {},
   "outputs": [
    {
     "data": {
      "text/plain": [
       "array([ 3,  7, 11, 15])"
      ]
     },
     "execution_count": 122,
     "metadata": {},
     "output_type": "execute_result"
    }
   ],
   "source": [
    "y"
   ]
  },
  {
   "cell_type": "markdown",
   "metadata": {},
   "source": [
    "- test data 분리하기"
   ]
  },
  {
   "cell_type": "code",
   "execution_count": 125,
   "metadata": {},
   "outputs": [],
   "source": [
    "from sklearn.model_selection import train_test_split\n",
    "X_train, X_test, y_train, y_test = train_test_split(X, y, test_size= 0.2, random_state=1234)\n",
    "# random_state : 난수 seed 값"
   ]
  },
  {
   "cell_type": "code",
   "execution_count": 126,
   "metadata": {},
   "outputs": [
    {
     "name": "stdout",
     "output_type": "stream",
     "text": [
      "[[0 1]\n",
      " [2 3]\n",
      " [4 5]\n",
      " [6 7]\n",
      " [8 9]]\n",
      "[0, 1, 2, 3, 4]\n"
     ]
    }
   ],
   "source": [
    "import numpy as np\n",
    "from sklearn.model_selection import train_test_split\n",
    "X, y = np.arange(10).reshape((5, 2)), range(5)\n",
    "# 실습을 위해 임의로 X와 y가 이미 분리 된 데이터를 생성\n",
    "print(X)\n",
    "print(list(y)) #레이블 데이터"
   ]
  },
  {
   "cell_type": "code",
   "execution_count": 127,
   "metadata": {},
   "outputs": [],
   "source": [
    "X_train, X_test, y_train, y_test = train_test_split(X, y, test_size=0.33, random_state=1234)"
   ]
  },
  {
   "cell_type": "code",
   "execution_count": 128,
   "metadata": {},
   "outputs": [],
   "source": [
    "X_train, X_test, y_train, y_test = train_test_split(X, y, test_size=0.33, random_state=1234)\n",
    "#3분의 1만 test 데이터로 지정.\n",
    "#random_state 지정으로 인해 순서가 섞인 채로 훈련 데이터와 테스트 데이터가 나눠진다."
   ]
  },
  {
   "cell_type": "code",
   "execution_count": 129,
   "metadata": {},
   "outputs": [
    {
     "name": "stdout",
     "output_type": "stream",
     "text": [
      "[[2 3]\n",
      " [4 5]\n",
      " [6 7]]\n",
      "[[8 9]\n",
      " [0 1]]\n"
     ]
    }
   ],
   "source": [
    "print(X_train)\n",
    "print(X_test)"
   ]
  },
  {
   "cell_type": "code",
   "execution_count": 130,
   "metadata": {},
   "outputs": [
    {
     "name": "stdout",
     "output_type": "stream",
     "text": [
      "[1, 2, 3]\n",
      "[4, 0]\n"
     ]
    }
   ],
   "source": [
    "print(y_train)\n",
    "print(y_test)"
   ]
  },
  {
   "cell_type": "markdown",
   "metadata": {},
   "source": [
    "#### 한국어 전처리 패키지\n",
    "- (Text Preprocessing Tools for Korean Text)"
   ]
  },
  {
   "cell_type": "markdown",
   "metadata": {},
   "source": [
    "1. PyKoSpacing"
   ]
  },
  {
   "cell_type": "code",
   "execution_count": null,
   "metadata": {},
   "outputs": [],
   "source": [
    "!pip install git+https://github.com/ssut/py-hanspell.git"
   ]
  },
  {
   "cell_type": "code",
   "execution_count": 134,
   "metadata": {},
   "outputs": [],
   "source": [
    "sent = '김철수는 극중 두 인격의 사나이 이광수 역을 맡았다. 철수는 한국 유일의 태권도 전승자를 가리는 결전의 날을 앞두고 10년간 함께 훈련한 사형인 유연재(김광수 분)를 찾으러 속세로 내려온 인물이다.'"
   ]
  },
  {
   "cell_type": "code",
   "execution_count": 135,
   "metadata": {},
   "outputs": [
    {
     "name": "stdout",
     "output_type": "stream",
     "text": [
      "김철수는극중두인격의사나이이광수역을맡았다.철수는한국유일의태권도전승자를가리는결전의날을앞두고10년간함께훈련한사형인유연재(김광수분)를찾으러속세로내려온인물이다.\n"
     ]
    }
   ],
   "source": [
    "new_sent = sent.replace(\" \", '') \n",
    "# 띄어쓰기가 없는 문장 임의로 만들기\n",
    "print(new_sent)"
   ]
  },
  {
   "cell_type": "code",
   "execution_count": 139,
   "metadata": {},
   "outputs": [
    {
     "name": "stdout",
     "output_type": "stream",
     "text": [
      "김철수는 극중 두 인격의 사나이 이광수 역을 맡았다. 철수는 한국 유일의 태권도 전승자를 가리는 결전의 날을 앞두고 10년간 함께 훈련한 사형인 유연재(김광수 분)를 찾으러 속세로 내려온 인물이다.\n",
      "김철수는 극중 두 인격의 사나이 이광수 역을 맡았다. 철수는 한국 유일의 태권도 전승자를 가리는 결전의 날을 앞두고 10년간 함께 훈련한 사형인 유연재(김광수 분)를 찾으러 속세로 내려온 인물이다.\n"
     ]
    }
   ],
   "source": [
    "#  한국어 띄어쓰기 패키지로 띄어쓰기가 되어있지 않은 문장을 띄어쓰기를 한 문장으로 변환해주는 패키지\n",
    "from pykospacing import spacing\n",
    "\n",
    "kospacing_sent = spacing(new_sent)\n",
    "\n",
    "# 원본과 비교, 띄어쓰기가 잘 되었는지 확인\n",
    "print(sent)\n",
    "print(kospacing_sent)"
   ]
  },
  {
   "cell_type": "markdown",
   "metadata": {},
   "source": [
    "2. Py-Hanspell\n",
    "-  네이버 한글 맞춤법 검사기를 바탕으로 만들어진 패키지"
   ]
  },
  {
   "cell_type": "code",
   "execution_count": 144,
   "metadata": {},
   "outputs": [
    {
     "name": "stdout",
     "output_type": "stream",
     "text": [
      "맞춤법 틀리면 왜 안돼? 쓰고 싶은 대로 쓰면 되지\n"
     ]
    }
   ],
   "source": [
    "from hanspell import spell_checker\n",
    "\n",
    "sent = \"맞춤법 틀리면 외 않되? 쓰고싶은대로쓰면돼지 \"\n",
    "spelled_sent = spell_checker.check(sent)\n",
    "\n",
    "hanspell_sent = spelled_sent.checked\n",
    "print(hanspell_sent)"
   ]
  },
  {
   "cell_type": "code",
   "execution_count": 145,
   "metadata": {},
   "outputs": [
    {
     "name": "stdout",
     "output_type": "stream",
     "text": [
      "김철수는 극 중 두 인격의 사나이 이광수 역을 맡았다. 철수는 한국 유일의 태권도 전승자를 가리는 결전의 날을 앞두고 10년간 함께 훈련한 사형인 유연제(김광수 분)를 찾으러 속세로 내려온 인물이다.\n",
      "김철수는 극중 두 인격의 사나이 이광수 역을 맡았다. 철수는 한국 유일의 태권도 전승자를 가리는 결전의 날을 앞두고 10년간 함께 훈련한 사형인 유연재(김광수 분)를 찾으러 속세로 내려온 인물이다.\n"
     ]
    }
   ],
   "source": [
    "spelled_sent = spell_checker.check(new_sent)\n",
    "\n",
    "hanspell_sent = spelled_sent.checked\n",
    "print(hanspell_sent)\n",
    "print(kospacing_sent) # 앞서 사용한 kospacing 패키지에서 얻은 결과"
   ]
  },
  {
   "cell_type": "code",
   "execution_count": 146,
   "metadata": {},
   "outputs": [
    {
     "name": "stdout",
     "output_type": "stream",
     "text": [
      "문장을 입력하세요닥터윌그는누구인가?사랑사랑내사랑이야\n",
      "닥터 윌 그는 누구인가? 사랑 사랑 내 사랑이야\n"
     ]
    }
   ],
   "source": [
    "sent = input(\"문장을 입력하세요\")\n",
    "spelled_sent = spell_checker.check(sent)\n",
    "hanspell_sent = spelled_sent.checked\n",
    "print(hanspell_sent)"
   ]
  },
  {
   "cell_type": "markdown",
   "metadata": {},
   "source": [
    "3. SOYNLP를 이용한 단어 토큰화\n",
    "- 품사 태깅, 단어 토큰화 등을 지원하는 단어 토크나이저\n",
    "- 학습기반의 단어 토크나이저\n",
    "- 학습과정: 전체 코퍼스로부터 응집 확률과 브랜칭 엔트로피 단어 점수표를 만드는 과정"
   ]
  },
  {
   "cell_type": "markdown",
   "metadata": {},
   "source": [
    "1) 신조어 문제"
   ]
  },
  {
   "cell_type": "code",
   "execution_count": 147,
   "metadata": {},
   "outputs": [
    {
     "name": "stdout",
     "output_type": "stream",
     "text": [
      "['에이', '비식스', '이대', '휘', '1월', '최애', '돌', '기부', '요정']\n"
     ]
    }
   ],
   "source": [
    "from konlpy.tag import Okt\n",
    "tokenizer = Okt()\n",
    "print(tokenizer.morphs('에이비식스 이대휘 1월 최애돌 기부 요정'))"
   ]
  },
  {
   "cell_type": "markdown",
   "metadata": {},
   "source": [
    "2) 학습하기"
   ]
  },
  {
   "cell_type": "code",
   "execution_count": 148,
   "metadata": {},
   "outputs": [],
   "source": [
    "import urllib.request\n",
    "from soynlp import DoublespaceLineCorpus\n",
    "from soynlp.word import WordExtractor"
   ]
  },
  {
   "cell_type": "code",
   "execution_count": 150,
   "metadata": {},
   "outputs": [
    {
     "data": {
      "text/plain": [
       "('2016-10-20.txt', <http.client.HTTPMessage at 0x212261b20a0>)"
      ]
     },
     "execution_count": 150,
     "metadata": {},
     "output_type": "execute_result"
    }
   ],
   "source": [
    "urllib.request.urlretrieve(\"https://raw.githubusercontent.com/lovit/soynlp/master/tutorials/2016-10-20.txt\", filename=\"2016-10-20.txt\")"
   ]
  },
  {
   "cell_type": "code",
   "execution_count": 151,
   "metadata": {
    "scrolled": true
   },
   "outputs": [
    {
     "data": {
      "text/plain": [
       "30091"
      ]
     },
     "execution_count": 151,
     "metadata": {},
     "output_type": "execute_result"
    }
   ],
   "source": [
    "# 훈련 데이터를 다수의 문서로 분리\n",
    "corpus = DoublespaceLineCorpus(\"2016-10-20.txt\")\n",
    "len(corpus) \n",
    "# 300091개의 문서 존재 "
   ]
  },
  {
   "cell_type": "code",
   "execution_count": 152,
   "metadata": {},
   "outputs": [
    {
     "name": "stdout",
     "output_type": "stream",
     "text": [
      "19  1990  52 1 22\n",
      "오패산터널 총격전 용의자 검거 서울 연합뉴스 경찰 관계자들이 19일 오후 서울 강북구 오패산 터널 인근에서 사제 총기를 발사해 경찰을 살해한 용의자 성모씨를 검거하고 있다 성씨는 검거 당시 서바이벌 게임에서 쓰는 방탄조끼에 헬멧까지 착용한 상태였다 독자제공 영상 캡처 연합뉴스  서울 연합뉴스 김은경 기자 사제 총기로 경찰을 살해한 범인 성모 46 씨는 주도면밀했다  경찰에 따르면 성씨는 19일 오후 강북경찰서 인근 부동산 업소 밖에서 부동산업자 이모 67 씨가 나오기를 기다렸다 이씨와는 평소에도 말다툼을 자주 한 것으로 알려졌다  이씨가 나와 걷기 시작하자 성씨는 따라가면서 미리 준비해온 사제 총기를 이씨에게 발사했다 총알이 빗나가면서 이씨는 도망갔다 그 빗나간 총알은 지나가던 행인 71 씨의 배를 스쳤다  성씨는 강북서 인근 치킨집까지 이씨 뒤를 쫓으며 실랑이하다 쓰러뜨린 후 총기와 함께 가져온 망치로 이씨 머리를 때렸다  이 과정에서 오후 6시 20분께 강북구 번동 길 위에서 사람들이 싸우고 있다 총소리가 났다 는 등의 신고가 여러건 들어왔다  5분 후에 성씨의 전자발찌가 훼손됐다는 신고가 보호관찰소 시스템을 통해 들어왔다 성범죄자로 전자발찌를 차고 있던 성씨는 부엌칼로 직접 자신의 발찌를 끊었다  용의자 소지 사제총기 2정 서울 연합뉴스 임헌정 기자 서울 시내에서 폭행 용의자가 현장 조사를 벌이던 경찰관에게 사제총기를 발사해 경찰관이 숨졌다 19일 오후 6시28분 강북구 번동에서 둔기로 맞았다 는 폭행 피해 신고가 접수돼 현장에서 조사하던 강북경찰서 번동파출소 소속 김모 54 경위가 폭행 용의자 성모 45 씨가 쏜 사제총기에 맞고 쓰러진 뒤 병원에 옮겨졌으나 숨졌다 사진은 용의자가 소지한 사제총기  신고를 받고 번동파출소에서 김창호 54 경위 등 경찰들이 오후 6시 29분께 현장으로 출동했다 성씨는 그사이 부동산 앞에 놓아뒀던 가방을 챙겨 오패산 쪽으로 도망간 후였다  김 경위는 오패산 터널 입구 오른쪽의 급경사에서 성씨에게 접근하다가 오후 6시 33분께 풀숲에 숨은 성씨가 허공에 난사한 10여발의 총알 중 일부를 왼쪽 어깨 뒷부분에 맞고 쓰러졌다  김 경위는 구급차가 도착했을 때 이미 의식이 없었고 심폐소생술을 하며 병원으로 옮겨졌으나 총알이 폐를 훼손해 오후 7시 40분께 사망했다  김 경위는 외근용 조끼를 입고 있었으나 총알을 막기에는 역부족이었다  머리에 부상을 입은 이씨도 함께 병원으로 이송됐으나 생명에는 지장이 없는 것으로 알려졌다  성씨는 오패산 터널 밑쪽 숲에서 오후 6시 45분께 잡혔다  총격현장 수색하는 경찰들 서울 연합뉴스 이효석 기자 19일 오후 서울 강북구 오패산 터널 인근에서 경찰들이 폭행 용의자가 사제총기를 발사해 경찰관이 사망한 사건을 조사 하고 있다  총 때문에 쫓던 경관들과 민간인들이 몸을 숨겼는데 인근 신발가게 직원 이모씨가 다가가 성씨를 덮쳤고 이어 현장에 있던 다른 상인들과 경찰이 가세해 체포했다  성씨는 경찰에 붙잡힌 직후 나 자살하려고 한 거다 맞아 죽어도 괜찮다 고 말한 것으로 전해졌다  성씨 자신도 경찰이 발사한 공포탄 1발 실탄 3발 중 실탄 1발을 배에 맞았으나 방탄조끼를 입은 상태여서 부상하지는 않았다  경찰은 인근을 수색해 성씨가 만든 사제총 16정과 칼 7개를 압수했다 실제 폭발할지는 알 수 없는 요구르트병에 무언가를 채워두고 심지를 꽂은 사제 폭탄도 발견됐다  일부는 숲에서 발견됐고 일부는 성씨가 소지한 가방 안에 있었다\n",
      "테헤란 연합뉴스 강훈상 특파원 이용 승객수 기준 세계 최대 공항인 아랍에미리트 두바이국제공항은 19일 현지시간 이 공항을 이륙하는 모든 항공기의 탑승객은 삼성전자의 갤럭시노트7을 휴대하면 안 된다고 밝혔다  두바이국제공항은 여러 항공 관련 기구의 권고에 따라 안전성에 우려가 있는 스마트폰 갤럭시노트7을 휴대하고 비행기를 타면 안 된다 며 탑승 전 검색 중 발견되면 압수할 계획 이라고 발표했다  공항 측은 갤럭시노트7의 배터리가 폭발 우려가 제기된 만큼 이 제품을 갖고 공항 안으로 들어오지 말라고 이용객에 당부했다  이런 조치는 두바이국제공항 뿐 아니라 신공항인 두바이월드센터에도 적용된다  배터리 폭발문제로 회수된 갤럭시노트7 연합뉴스자료사진\n"
     ]
    }
   ],
   "source": [
    "# 상위 3개의 문서만 출력\n",
    "\n",
    "i = 0\n",
    "for document in corpus:\n",
    "  if len(document) > 0:\n",
    "    print(document)\n",
    "    i = i+1\n",
    "  if i == 3:\n",
    "    break"
   ]
  },
  {
   "cell_type": "code",
   "execution_count": 154,
   "metadata": {
    "scrolled": true
   },
   "outputs": [
    {
     "name": "stdout",
     "output_type": "stream",
     "text": [
      "training was done. used memory 1.190 Gb\n",
      "all cohesion probabilities was computed. # words = 223348\n",
      "all branching entropies was computed # words = 361598\n",
      "all accessor variety was computed # words = 361598\n"
     ]
    }
   ],
   "source": [
    "# WordExtractor.extract()를 통해서 전체 코퍼스에 대해 단어 점수표를 계산\n",
    "\n",
    "word_extractor = WordExtractor()\n",
    "word_extractor.train(corpus) # corpus 학습 \n",
    "word_score_table = word_extractor.extract() \n",
    "# 추출한 단어로 점수표 생성 "
   ]
  },
  {
   "cell_type": "code",
   "execution_count": 155,
   "metadata": {},
   "outputs": [
    {
     "data": {
      "text/plain": [
       "{'융': Scores(cohesion_forward=0, cohesion_backward=0, left_branching_entropy=3.349666987865973, right_branching_entropy=3.158159196526056, left_accessor_variety=67, right_accessor_variety=65, leftside_frequency=485, rightside_frequency=529),\n",
       " '북': Scores(cohesion_forward=0, cohesion_backward=0, left_branching_entropy=4.153506994157559, right_branching_entropy=2.764881386087283, left_accessor_variety=216, right_accessor_variety=203, leftside_frequency=6464, rightside_frequency=2657),\n",
       " '릴': Scores(cohesion_forward=0, cohesion_backward=0, left_branching_entropy=2.8661246517414654, right_branching_entropy=2.799624131005387, left_accessor_variety=29, right_accessor_variety=71, leftside_frequency=78, rightside_frequency=1391),\n",
       " '짱': Scores(cohesion_forward=0, cohesion_backward=0, left_branching_entropy=1.1672864936177827, right_branching_entropy=1.0939547819577147, left_accessor_variety=4, right_accessor_variety=3, leftside_frequency=24, rightside_frequency=11),\n",
       " '읍': Scores(cohesion_forward=0, cohesion_backward=0, left_branching_entropy=2.7299288539073068, right_branching_entropy=3.4659766103245677, left_accessor_variety=32, right_accessor_variety=56, leftside_frequency=33, rightside_frequency=364),\n",
       " '챔': Scores(cohesion_forward=0, cohesion_backward=0, left_branching_entropy=2.7156878369328266, right_branching_entropy=0.5215909070057141, left_accessor_variety=25, right_accessor_variety=3, leftside_frequency=197, rightside_frequency=34),\n",
       " '맘': Scores(cohesion_forward=0, cohesion_backward=0, left_branching_entropy=2.9242646127811023, right_branching_entropy=2.361431846917409, left_accessor_variety=25, right_accessor_variety=15, leftside_frequency=100, rightside_frequency=22),\n",
       " '덜': Scores(cohesion_forward=0, cohesion_backward=0, left_branching_entropy=2.4182918514003355, right_branching_entropy=2.750179973002086, left_accessor_variety=21, right_accessor_variety=31, leftside_frequency=207, rightside_frequency=0),\n",
       " '짊': Scores(cohesion_forward=0, cohesion_backward=0, left_branching_entropy=1.2580481453641945, right_branching_entropy=-0.0, left_accessor_variety=4, right_accessor_variety=1, leftside_frequency=27, rightside_frequency=0),\n",
       " '럴': Scores(cohesion_forward=0, cohesion_backward=0, left_branching_entropy=1.1086310121914715, right_branching_entropy=2.6720578057462117, left_accessor_variety=5, right_accessor_variety=29, leftside_frequency=0, rightside_frequency=431),\n",
       " '텅': Scores(cohesion_forward=0, cohesion_backward=0, left_branching_entropy=1.8254508424001135, right_branching_entropy=0.7605392206974096, left_accessor_variety=10, right_accessor_variety=3, leftside_frequency=10, rightside_frequency=0),\n",
       " '뚱': Scores(cohesion_forward=0, cohesion_backward=0, left_branching_entropy=-0.0, right_branching_entropy=0.6791932659915256, left_accessor_variety=1, right_accessor_variety=2, leftside_frequency=12, rightside_frequency=17),\n",
       " '낫': Scores(cohesion_forward=0, cohesion_backward=0, left_branching_entropy=1.74920597662202, right_branching_entropy=0.8517401270448423, left_accessor_variety=8, right_accessor_variety=4, leftside_frequency=93, rightside_frequency=0),\n",
       " '넨': Scores(cohesion_forward=0, cohesion_backward=0, left_branching_entropy=0, right_branching_entropy=1.2711814802605796, left_accessor_variety=0, right_accessor_variety=4, leftside_frequency=0, rightside_frequency=28),\n",
       " '껑': Scores(cohesion_forward=0, cohesion_backward=0, left_branching_entropy=0.666278442414676, right_branching_entropy=1.0250939117917865, left_accessor_variety=2, right_accessor_variety=4, leftside_frequency=13, rightside_frequency=11),\n",
       " '쑤': Scores(cohesion_forward=0, cohesion_backward=0, left_branching_entropy=1.0789922078775833, right_branching_entropy=0.6210863745552451, left_accessor_variety=3, right_accessor_variety=2, leftside_frequency=23, rightside_frequency=9),\n",
       " '캐': Scores(cohesion_forward=0, cohesion_backward=0, left_branching_entropy=4.195519673681782, right_branching_entropy=1.7586481288936098, left_accessor_variety=166, right_accessor_variety=17, leftside_frequency=2565, rightside_frequency=0),\n",
       " '우': Scores(cohesion_forward=0, cohesion_backward=0, left_branching_entropy=4.519408979898744, right_branching_entropy=4.000997875933077, left_accessor_variety=405, right_accessor_variety=462, leftside_frequency=15874, rightside_frequency=10169),\n",
       " '선': Scores(cohesion_forward=0, cohesion_backward=0, left_branching_entropy=4.444022091252276, right_branching_entropy=4.6825418383521775, left_accessor_variety=433, right_accessor_variety=486, leftside_frequency=17617, rightside_frequency=10662),\n",
       " '박': Scores(cohesion_forward=0, cohesion_backward=0, left_branching_entropy=4.2280090683216365, right_branching_entropy=4.128252164217966, left_accessor_variety=349, right_accessor_variety=250, leftside_frequency=13473, rightside_frequency=937),\n",
       " '메': Scores(cohesion_forward=0, cohesion_backward=0, left_branching_entropy=4.319092209108635, right_branching_entropy=2.847557723474285, left_accessor_variety=213, right_accessor_variety=44, leftside_frequency=3601, rightside_frequency=22),\n",
       " '숏': Scores(cohesion_forward=0, cohesion_backward=0, left_branching_entropy=1.0608569471580214, right_branching_entropy=0.6108643020548935, left_accessor_variety=3, right_accessor_variety=2, leftside_frequency=12, rightside_frequency=0),\n",
       " '뿔': Scores(cohesion_forward=0, cohesion_backward=0, left_branching_entropy=1.5317780787913655, right_branching_entropy=0.9718487712358765, left_accessor_variety=5, right_accessor_variety=3, leftside_frequency=22, rightside_frequency=0),\n",
       " '샅': Scores(cohesion_forward=0, cohesion_backward=0, left_branching_entropy=1.0608569471580214, right_branching_entropy=-0.0, left_accessor_variety=3, right_accessor_variety=1, leftside_frequency=12, rightside_frequency=0),\n",
       " '츤': Scores(cohesion_forward=0, cohesion_backward=0, left_branching_entropy=0.6931471805599453, right_branching_entropy=-0.0, left_accessor_variety=2, right_accessor_variety=1, leftside_frequency=9, rightside_frequency=0),\n",
       " '놨': Scores(cohesion_forward=0, cohesion_backward=0, left_branching_entropy=1.6373588055554062, right_branching_entropy=-0.0, left_accessor_variety=6, right_accessor_variety=1, leftside_frequency=32, rightside_frequency=0),\n",
       " '엘': Scores(cohesion_forward=0, cohesion_backward=0, left_branching_entropy=3.8605046464006065, right_branching_entropy=2.76329889273046, left_accessor_variety=73, right_accessor_variety=51, leftside_frequency=487, rightside_frequency=196),\n",
       " '영': Scores(cohesion_forward=0, cohesion_backward=0, left_branching_entropy=4.555467113040518, right_branching_entropy=3.424158430363811, left_accessor_variety=428, right_accessor_variety=314, leftside_frequency=19149, rightside_frequency=5931),\n",
       " '넣': Scores(cohesion_forward=0, cohesion_backward=0, left_branching_entropy=2.1021205051162015, right_branching_entropy=1.8311418414720537, left_accessor_variety=27, right_accessor_variety=9, leftside_frequency=620, rightside_frequency=0),\n",
       " '접': Scores(cohesion_forward=0, cohesion_backward=0, left_branching_entropy=3.4818856332823334, right_branching_entropy=4.015017894861382, left_accessor_variety=126, right_accessor_variety=243, leftside_frequency=2831, rightside_frequency=2379),\n",
       " '잤': Scores(cohesion_forward=0, cohesion_backward=0, left_branching_entropy=1.4576423809473689, right_branching_entropy=-0.0, left_accessor_variety=5, right_accessor_variety=1, leftside_frequency=21, rightside_frequency=0),\n",
       " '족': Scores(cohesion_forward=0, cohesion_backward=0, left_branching_entropy=1.7354691839760858, right_branching_entropy=3.5220758647003776, left_accessor_variety=32, right_accessor_variety=127, leftside_frequency=537, rightside_frequency=888),\n",
       " '픈': Scores(cohesion_forward=0, cohesion_backward=0, left_branching_entropy=1.5565854124393397, right_branching_entropy=3.8709163255732095, left_accessor_variety=5, right_accessor_variety=62, leftside_frequency=0, rightside_frequency=378),\n",
       " '큐': Scores(cohesion_forward=0, cohesion_backward=0, left_branching_entropy=2.9099656481332574, right_branching_entropy=1.9429266198248982, left_accessor_variety=35, right_accessor_variety=14, leftside_frequency=239, rightside_frequency=60),\n",
       " '쌍': Scores(cohesion_forward=0, cohesion_backward=0, left_branching_entropy=3.2024114542223456, right_branching_entropy=2.0841244152321505, left_accessor_variety=37, right_accessor_variety=13, leftside_frequency=291, rightside_frequency=8),\n",
       " '싣': Scores(cohesion_forward=0, cohesion_backward=0, left_branching_entropy=1.6569035479979395, right_branching_entropy=0.48257756517701206, left_accessor_variety=6, right_accessor_variety=2, leftside_frequency=70, rightside_frequency=0),\n",
       " '붉': Scores(cohesion_forward=0, cohesion_backward=0, left_branching_entropy=3.1803308205415988, right_branching_entropy=0.9921395174320141, left_accessor_variety=32, right_accessor_variety=6, leftside_frequency=241, rightside_frequency=0),\n",
       " '밟': Scores(cohesion_forward=0, cohesion_backward=0, left_branching_entropy=0.9380014260102469, right_branching_entropy=2.0094443607226027, left_accessor_variety=5, right_accessor_variety=9, leftside_frequency=156, rightside_frequency=0),\n",
       " '겨': Scores(cohesion_forward=0, cohesion_backward=0, left_branching_entropy=2.951826870457281, right_branching_entropy=2.942063731972829, left_accessor_variety=53, right_accessor_variety=98, leftside_frequency=845, rightside_frequency=803),\n",
       " '룬': Scores(cohesion_forward=0, cohesion_backward=0, left_branching_entropy=-0.0, right_branching_entropy=3.340328005332897, left_accessor_variety=1, right_accessor_variety=35, leftside_frequency=0, rightside_frequency=216),\n",
       " '옅': Scores(cohesion_forward=0, cohesion_backward=0, left_branching_entropy=1.438882950216986, right_branching_entropy=0.6791932659915256, left_accessor_variety=5, right_accessor_variety=2, leftside_frequency=38, rightside_frequency=0),\n",
       " '닥': Scores(cohesion_forward=0, cohesion_backward=0, left_branching_entropy=2.1525598320010615, right_branching_entropy=2.6989351085967486, left_accessor_variety=40, right_accessor_variety=42, leftside_frequency=235, rightside_frequency=383),\n",
       " '속': Scores(cohesion_forward=0, cohesion_backward=0, left_branching_entropy=4.529320139238324, right_branching_entropy=4.682611678461495, left_accessor_variety=254, right_accessor_variety=355, leftside_frequency=3601, rightside_frequency=3916),\n",
       " '른': Scores(cohesion_forward=0, cohesion_backward=0, left_branching_entropy=1.6046655302449233, right_branching_entropy=5.100651024696411, left_accessor_variety=13, right_accessor_variety=347, leftside_frequency=0, rightside_frequency=8034),\n",
       " '랄': Scores(cohesion_forward=0, cohesion_backward=0, left_branching_entropy=1.1821502441987646, right_branching_entropy=2.8879115712210033, left_accessor_variety=5, right_accessor_variety=23, leftside_frequency=5, rightside_frequency=134),\n",
       " '쫑': Scores(cohesion_forward=0, cohesion_backward=0, left_branching_entropy=0.6931471805599453, right_branching_entropy=0, left_accessor_variety=2, right_accessor_variety=0, leftside_frequency=5, rightside_frequency=0),\n",
       " '띠': Scores(cohesion_forward=0, cohesion_backward=0, left_branching_entropy=2.0977642277578026, right_branching_entropy=2.7753494606333886, left_accessor_variety=10, right_accessor_variety=21, leftside_frequency=56, rightside_frequency=111),\n",
       " '펌': Scores(cohesion_forward=0, cohesion_backward=0, left_branching_entropy=1.3322449224385327, right_branching_entropy=1.4604258509545351, left_accessor_variety=4, right_accessor_variety=6, leftside_frequency=19, rightside_frequency=22),\n",
       " '누': Scores(cohesion_forward=0, cohesion_backward=0, left_branching_entropy=4.03893731902359, right_branching_entropy=2.4937554805331126, left_accessor_variety=162, right_accessor_variety=51, leftside_frequency=4032, rightside_frequency=88),\n",
       " '털': Scores(cohesion_forward=0, cohesion_backward=0, left_branching_entropy=2.298642548888405, right_branching_entropy=2.9445759707647556, left_accessor_variety=36, right_accessor_variety=81, leftside_frequency=680, rightside_frequency=982),\n",
       " '확': Scores(cohesion_forward=0, cohesion_backward=0, left_branching_entropy=3.7032739091473266, right_branching_entropy=2.0612277837332758, left_accessor_variety=238, right_accessor_variety=31, leftside_frequency=11670, rightside_frequency=21),\n",
       " '밤': Scores(cohesion_forward=0, cohesion_backward=0, left_branching_entropy=2.8512419457069833, right_branching_entropy=3.1159559900695317, left_accessor_variety=78, right_accessor_variety=83, leftside_frequency=730, rightside_frequency=113),\n",
       " '업': Scores(cohesion_forward=0, cohesion_backward=0, left_branching_entropy=4.350267705111967, right_branching_entropy=4.423684461941584, left_accessor_variety=287, right_accessor_variety=327, leftside_frequency=5309, rightside_frequency=8609),\n",
       " '택': Scores(cohesion_forward=0, cohesion_backward=0, left_branching_entropy=3.15385952586302, right_branching_entropy=4.3565619058012315, left_accessor_variety=67, right_accessor_variety=152, leftside_frequency=472, rightside_frequency=1379),\n",
       " '과': Scores(cohesion_forward=0, cohesion_backward=0, left_branching_entropy=5.430689295057269, right_branching_entropy=5.37819539841541, left_accessor_variety=774, right_accessor_variety=698, leftside_frequency=8050, rightside_frequency=45545),\n",
       " '빔': Scores(cohesion_forward=0, cohesion_backward=0, left_branching_entropy=1.6719415291178146, right_branching_entropy=0.9482980107415577, left_accessor_variety=7, right_accessor_variety=3, leftside_frequency=24, rightside_frequency=18),\n",
       " '라': Scores(cohesion_forward=0, cohesion_backward=0, left_branching_entropy=4.420159723023766, right_branching_entropy=4.380388461219589, left_accessor_variety=406, right_accessor_variety=546, leftside_frequency=13376, rightside_frequency=14975),\n",
       " '팔': Scores(cohesion_forward=0, cohesion_backward=0, left_branching_entropy=3.919372427694091, right_branching_entropy=3.569808051049009, left_accessor_variety=92, right_accessor_variety=53, leftside_frequency=978, rightside_frequency=90),\n",
       " '탑': Scores(cohesion_forward=0, cohesion_backward=0, left_branching_entropy=2.9177579425943914, right_branching_entropy=1.6501883319451112, left_accessor_variety=41, right_accessor_variety=27, leftside_frequency=540, rightside_frequency=99),\n",
       " '망': Scores(cohesion_forward=0, cohesion_backward=0, left_branching_entropy=4.093939199303723, right_branching_entropy=4.243118977714031, left_accessor_variety=97, right_accessor_variety=149, leftside_frequency=806, rightside_frequency=952),\n",
       " '역': Scores(cohesion_forward=0, cohesion_backward=0, left_branching_entropy=4.866800703802031, right_branching_entropy=4.113997922819042, left_accessor_variety=387, right_accessor_variety=311, leftside_frequency=7854, rightside_frequency=4694),\n",
       " '쳤': Scores(cohesion_forward=0, cohesion_backward=0, left_branching_entropy=1.0614455058318304, right_branching_entropy=0.8295983798333795, left_accessor_variety=4, right_accessor_variety=3, leftside_frequency=60, rightside_frequency=0),\n",
       " '읽': Scores(cohesion_forward=0, cohesion_backward=0, left_branching_entropy=2.5980096204422085, right_branching_entropy=2.2605514037353016, left_accessor_variety=33, right_accessor_variety=13, leftside_frequency=462, rightside_frequency=0),\n",
       " '7': Scores(cohesion_forward=0, cohesion_backward=0, left_branching_entropy=3.895104405755951, right_branching_entropy=3.988358490748388, left_accessor_variety=262, right_accessor_variety=284, leftside_frequency=12450, rightside_frequency=6537),\n",
       " '들': Scores(cohesion_forward=0, cohesion_backward=0, left_branching_entropy=3.8721025059786265, right_branching_entropy=3.7167755552965747, left_accessor_variety=252, right_accessor_variety=331, leftside_frequency=7319, rightside_frequency=4243),\n",
       " '챈': Scores(cohesion_forward=0, cohesion_backward=0, left_branching_entropy=0.2292845795405712, right_branching_entropy=1.6258251558042631, left_accessor_variety=4, right_accessor_variety=12, leftside_frequency=5, rightside_frequency=136),\n",
       " '뚝': Scores(cohesion_forward=0, cohesion_backward=0, left_branching_entropy=2.2594324953076756, right_branching_entropy=2.3825582908351706, left_accessor_variety=16, right_accessor_variety=16, leftside_frequency=86, rightside_frequency=82),\n",
       " '군': Scores(cohesion_forward=0, cohesion_backward=0, left_branching_entropy=4.600652245869703, right_branching_entropy=4.631705119528771, left_accessor_variety=216, right_accessor_variety=239, leftside_frequency=2214, rightside_frequency=2243),\n",
       " '녕': Scores(cohesion_forward=0, cohesion_backward=0, left_branching_entropy=-0.0, right_branching_entropy=3.08337717549292, left_accessor_variety=1, right_accessor_variety=24, leftside_frequency=0, rightside_frequency=116),\n",
       " '멤': Scores(cohesion_forward=0, cohesion_backward=0, left_branching_entropy=3.7411212247267276, right_branching_entropy=0.030334631974982613, left_accessor_variety=92, right_accessor_variety=2, leftside_frequency=1256, rightside_frequency=0),\n",
       " '컨': Scores(cohesion_forward=0, cohesion_backward=0, left_branching_entropy=4.095142853085928, right_branching_entropy=2.529502119721898, left_accessor_variety=110, right_accessor_variety=29, leftside_frequency=1259, rightside_frequency=59),\n",
       " '샛': Scores(cohesion_forward=0, cohesion_backward=0, left_branching_entropy=0.5623351446188083, right_branching_entropy=0.6829081047004717, left_accessor_variety=2, right_accessor_variety=2, leftside_frequency=16, rightside_frequency=0),\n",
       " '뭐': Scores(cohesion_forward=0, cohesion_backward=0, left_branching_entropy=3.0347687884507413, right_branching_entropy=2.5952144193306075, left_accessor_variety=34, right_accessor_variety=25, leftside_frequency=324, rightside_frequency=0),\n",
       " '의': Scores(cohesion_forward=0, cohesion_backward=0, left_branching_entropy=5.605240144687852, right_branching_entropy=5.647651515938392, left_accessor_variety=1040, right_accessor_variety=891, leftside_frequency=20706, rightside_frequency=136437),\n",
       " '불': Scores(cohesion_forward=0, cohesion_backward=0, left_branching_entropy=3.974560920958241, right_branching_entropy=3.7124510371072015, left_accessor_variety=266, right_accessor_variety=160, leftside_frequency=12895, rightside_frequency=245),\n",
       " '괄': Scores(cohesion_forward=0, cohesion_backward=0, left_branching_entropy=0.7392505078158033, right_branching_entropy=2.682547109278403, left_accessor_variety=5, right_accessor_variety=27, leftside_frequency=16, rightside_frequency=239),\n",
       " '땅': Scores(cohesion_forward=0, cohesion_backward=0, left_branching_entropy=3.3681647575048923, right_branching_entropy=2.644233615057953, left_accessor_variety=46, right_accessor_variety=28, leftside_frequency=223, rightside_frequency=28),\n",
       " '삼': Scores(cohesion_forward=0, cohesion_backward=0, left_branching_entropy=4.063613629159399, right_branching_entropy=1.8321813462134895, left_accessor_variety=196, right_accessor_variety=86, leftside_frequency=3909, rightside_frequency=191),\n",
       " '정': Scores(cohesion_forward=0, cohesion_backward=0, left_branching_entropy=4.943156795368388, right_branching_entropy=4.554741667159668, left_accessor_variety=551, right_accessor_variety=493, leftside_frequency=35310, rightside_frequency=10081),\n",
       " '녘': Scores(cohesion_forward=0, cohesion_backward=0, left_branching_entropy=0, right_branching_entropy=-0.0, left_accessor_variety=0, right_accessor_variety=1, leftside_frequency=0, rightside_frequency=6),\n",
       " '꼴': Scores(cohesion_forward=0, cohesion_backward=0, left_branching_entropy=2.4772703208189117, right_branching_entropy=1.8862782414710582, left_accessor_variety=19, right_accessor_variety=9, leftside_frequency=117, rightside_frequency=17),\n",
       " '케': Scores(cohesion_forward=0, cohesion_backward=0, left_branching_entropy=4.01108325498049, right_branching_entropy=2.0528617280106953, left_accessor_variety=145, right_accessor_variety=28, leftside_frequency=1696, rightside_frequency=303),\n",
       " '노': Scores(cohesion_forward=0, cohesion_backward=0, left_branching_entropy=4.613383806605646, right_branching_entropy=3.6209047506221075, left_accessor_variety=331, right_accessor_variety=210, leftside_frequency=9968, rightside_frequency=600),\n",
       " '꼼': Scores(cohesion_forward=0, cohesion_backward=0, left_branching_entropy=2.4972595929553014, right_branching_entropy=0.5001547925050311, left_accessor_variety=22, right_accessor_variety=3, leftside_frequency=182, rightside_frequency=0),\n",
       " '찐': Scores(cohesion_forward=0, cohesion_backward=0, left_branching_entropy=0.9839614460010255, right_branching_entropy=0.45056120886630463, left_accessor_variety=3, right_accessor_variety=2, leftside_frequency=15, rightside_frequency=0),\n",
       " '넓': Scores(cohesion_forward=0, cohesion_backward=0, left_branching_entropy=2.847579340285375, right_branching_entropy=2.0735262929685447, left_accessor_variety=35, right_accessor_variety=12, leftside_frequency=491, rightside_frequency=0),\n",
       " '관': Scores(cohesion_forward=0, cohesion_backward=0, left_branching_entropy=4.779324542644566, right_branching_entropy=3.381472498658652, left_accessor_variety=479, right_accessor_variety=337, leftside_frequency=23407, rightside_frequency=5973),\n",
       " '쌀': Scores(cohesion_forward=0, cohesion_backward=0, left_branching_entropy=3.4650121965643317, right_branching_entropy=2.407168490919269, left_accessor_variety=44, right_accessor_variety=28, leftside_frequency=247, rightside_frequency=43),\n",
       " '젝': Scores(cohesion_forward=0, cohesion_backward=0, left_branching_entropy=1.864443077555277, right_branching_entropy=-0.0, left_accessor_variety=7, right_accessor_variety=1, leftside_frequency=50, rightside_frequency=0),\n",
       " '촬': Scores(cohesion_forward=0, cohesion_backward=0, left_branching_entropy=3.89756594771978, right_branching_entropy=0.007206354046472892, left_accessor_variety=107, right_accessor_variety=2, leftside_frequency=2222, rightside_frequency=0),\n",
       " '마': Scores(cohesion_forward=0, cohesion_backward=0, left_branching_entropy=4.205240560161283, right_branching_entropy=4.03256772282719, left_accessor_variety=406, right_accessor_variety=397, leftside_frequency=19730, rightside_frequency=4601),\n",
       " '줴': Scores(cohesion_forward=0, cohesion_backward=0, left_branching_entropy=-0.0, right_branching_entropy=-0.0, left_accessor_variety=1, right_accessor_variety=1, leftside_frequency=7, rightside_frequency=0),\n",
       " '필': Scores(cohesion_forward=0, cohesion_backward=0, left_branching_entropy=3.763035680392061, right_branching_entropy=1.6271811814781705, left_accessor_variety=197, right_accessor_variety=61, leftside_frequency=5397, rightside_frequency=355),\n",
       " '셸': Scores(cohesion_forward=0, cohesion_backward=0, left_branching_entropy=0.9950269901795212, right_branching_entropy=1.3143738430069454, left_accessor_variety=3, right_accessor_variety=5, leftside_frequency=0, rightside_frequency=31),\n",
       " '옹': Scores(cohesion_forward=0, cohesion_backward=0, left_branching_entropy=2.4747048307010293, right_branching_entropy=1.002474436084688, left_accessor_variety=16, right_accessor_variety=5, leftside_frequency=96, rightside_frequency=19),\n",
       " '보': Scores(cohesion_forward=0, cohesion_backward=0, left_branching_entropy=3.837767981404787, right_branching_entropy=4.209620017927063, left_accessor_variety=431, right_accessor_variety=398, leftside_frequency=34802, rightside_frequency=9146),\n",
       " '떡': Scores(cohesion_forward=0, cohesion_backward=0, left_branching_entropy=2.9154091521402448, right_branching_entropy=2.6954619637728316, left_accessor_variety=23, right_accessor_variety=20, leftside_frequency=97, rightside_frequency=29),\n",
       " '봅': Scores(cohesion_forward=0, cohesion_backward=0, left_branching_entropy=1.71290966723926, right_branching_entropy=-0.0, left_accessor_variety=10, right_accessor_variety=1, leftside_frequency=71, rightside_frequency=0),\n",
       " '러': Scores(cohesion_forward=0, cohesion_backward=0, left_branching_entropy=3.7179837624340477, right_branching_entropy=4.5281050462700465, left_accessor_variety=139, right_accessor_variety=297, leftside_frequency=1442, rightside_frequency=4502),\n",
       " '걱': Scores(cohesion_forward=0, cohesion_backward=0, left_branching_entropy=3.5430246042148563, right_branching_entropy=-0.0, left_accessor_variety=54, right_accessor_variety=1, leftside_frequency=491, rightside_frequency=0),\n",
       " '옌': Scores(cohesion_forward=0, cohesion_backward=0, left_branching_entropy=1.6316114152390961, right_branching_entropy=1.6867131093625845, left_accessor_variety=7, right_accessor_variety=7, leftside_frequency=42, rightside_frequency=18),\n",
       " '훈': Scores(cohesion_forward=0, cohesion_backward=0, left_branching_entropy=3.91560504180807, right_branching_entropy=2.7965049413324055, left_accessor_variety=126, right_accessor_variety=106, leftside_frequency=945, rightside_frequency=1704),\n",
       " 'ㅣ': Scores(cohesion_forward=0, cohesion_backward=0, left_branching_entropy=0.6922017029622767, right_branching_entropy=0.6922017029622767, left_accessor_variety=2, right_accessor_variety=2, leftside_frequency=12, rightside_frequency=0),\n",
       " '검': Scores(cohesion_forward=0, cohesion_backward=0, left_branching_entropy=4.082299007458145, right_branching_entropy=2.4645734593332778, left_accessor_variety=218, right_accessor_variety=100, leftside_frequency=6384, rightside_frequency=819),\n",
       " '퀸': Scores(cohesion_forward=0, cohesion_backward=0, left_branching_entropy=2.1236489864127495, right_branching_entropy=2.2368144027204098, left_accessor_variety=13, right_accessor_variety=13, leftside_frequency=21, rightside_frequency=76),\n",
       " '띈': Scores(cohesion_forward=0, cohesion_backward=0, left_branching_entropy=0.5798086330156277, right_branching_entropy=-0.0, left_accessor_variety=4, right_accessor_variety=1, leftside_frequency=50, rightside_frequency=0),\n",
       " '넝': Scores(cohesion_forward=0, cohesion_backward=0, left_branching_entropy=0.7749927584562633, right_branching_entropy=-0.0, left_accessor_variety=3, right_accessor_variety=1, leftside_frequency=25, rightside_frequency=0),\n",
       " '얹': Scores(cohesion_forward=0, cohesion_backward=0, left_branching_entropy=1.4303720839366463, right_branching_entropy=1.175416017598579, left_accessor_variety=7, right_accessor_variety=5, leftside_frequency=85, rightside_frequency=0),\n",
       " '웅': Scores(cohesion_forward=0, cohesion_backward=0, left_branching_entropy=2.7032022464255276, right_branching_entropy=2.325540373452197, left_accessor_variety=39, right_accessor_variety=37, leftside_frequency=87, rightside_frequency=489),\n",
       " '촛': Scores(cohesion_forward=0, cohesion_backward=0, left_branching_entropy=2.427868070551626, right_branching_entropy=-0.0, left_accessor_variety=14, right_accessor_variety=1, leftside_frequency=57, rightside_frequency=0),\n",
       " '밉': Scores(cohesion_forward=0, cohesion_backward=0, left_branching_entropy=1.3624973163234995, right_branching_entropy=-0.0, left_accessor_variety=6, right_accessor_variety=1, leftside_frequency=60, rightside_frequency=0),\n",
       " '윳': Scores(cohesion_forward=0, cohesion_backward=0, left_branching_entropy=-0.0, right_branching_entropy=-0.0, left_accessor_variety=1, right_accessor_variety=1, leftside_frequency=0, rightside_frequency=5),\n",
       " '랴': Scores(cohesion_forward=0, cohesion_backward=0, left_branching_entropy=1.2823855431161975, right_branching_entropy=0.813111017499334, left_accessor_variety=5, right_accessor_variety=4, leftside_frequency=23, rightside_frequency=26),\n",
       " '곁': Scores(cohesion_forward=0, cohesion_backward=0, left_branching_entropy=2.4915147990379847, right_branching_entropy=1.3583885356997878, left_accessor_variety=19, right_accessor_variety=6, leftside_frequency=204, rightside_frequency=0),\n",
       " '인': Scores(cohesion_forward=0, cohesion_backward=0, left_branching_entropy=4.936816850414975, right_branching_entropy=5.375353587277838, left_accessor_variety=726, right_accessor_variety=743, leftside_frequency=27741, rightside_frequency=40137),\n",
       " '봉': Scores(cohesion_forward=0, cohesion_backward=0, left_branching_entropy=4.151106338523548, right_branching_entropy=3.0584698767670746, left_accessor_variety=103, right_accessor_variety=80, leftside_frequency=873, rightside_frequency=950),\n",
       " '봇': Scores(cohesion_forward=0, cohesion_backward=0, left_branching_entropy=1.7314831169335037, right_branching_entropy=2.6563542985185364, left_accessor_variety=7, right_accessor_variety=42, leftside_frequency=42, rightside_frequency=405),\n",
       " '환': Scores(cohesion_forward=0, cohesion_backward=0, left_branching_entropy=4.736570100009488, right_branching_entropy=3.410098003818694, left_accessor_variety=240, right_accessor_variety=209, leftside_frequency=4489, rightside_frequency=2285),\n",
       " '첸': Scores(cohesion_forward=0, cohesion_backward=0, left_branching_entropy=1.330013842689523, right_branching_entropy=2.0993177692694096, left_accessor_variety=5, right_accessor_variety=9, leftside_frequency=8, rightside_frequency=18),\n",
       " '가': Scores(cohesion_forward=0, cohesion_backward=0, left_branching_entropy=5.148845456204455, right_branching_entropy=5.535584050622248, left_accessor_variety=758, right_accessor_variety=955, leftside_frequency=40088, rightside_frequency=86478),\n",
       " '홀': Scores(cohesion_forward=0, cohesion_backward=0, left_branching_entropy=3.6906514362156786, right_branching_entropy=2.488859002318762, left_accessor_variety=56, right_accessor_variety=38, leftside_frequency=410, rightside_frequency=117),\n",
       " '꿋': Scores(cohesion_forward=0, cohesion_backward=0, left_branching_entropy=0.5623351446188083, right_branching_entropy=-0.0, left_accessor_variety=2, right_accessor_variety=1, leftside_frequency=16, rightside_frequency=0),\n",
       " '짰': Scores(cohesion_forward=0, cohesion_backward=0, left_branching_entropy=0.5623351446188083, right_branching_entropy=-0.0, left_accessor_variety=2, right_accessor_variety=1, leftside_frequency=9, rightside_frequency=0),\n",
       " '커': Scores(cohesion_forward=0, cohesion_backward=0, left_branching_entropy=4.185102778386501, right_branching_entropy=3.774253420059916, left_accessor_variety=184, right_accessor_variety=165, leftside_frequency=2651, rightside_frequency=1370),\n",
       " '줘': Scores(cohesion_forward=0, cohesion_backward=0, left_branching_entropy=2.1305378171269167, right_branching_entropy=3.1692255420814623, left_accessor_variety=13, right_accessor_variety=40, leftside_frequency=68, rightside_frequency=131),\n",
       " '경': Scores(cohesion_forward=0, cohesion_backward=0, left_branching_entropy=4.624096325482246, right_branching_entropy=3.2335123750353323, left_accessor_variety=474, right_accessor_variety=309, leftside_frequency=34488, rightside_frequency=3173),\n",
       " '뻣': Scores(cohesion_forward=0, cohesion_backward=0, left_branching_entropy=-0.0, right_branching_entropy=-0.0, left_accessor_variety=1, right_accessor_variety=1, leftside_frequency=5, rightside_frequency=0),\n",
       " '배': Scores(cohesion_forward=0, cohesion_backward=0, left_branching_entropy=4.437788413071186, right_branching_entropy=3.4261226350607705, left_accessor_variety=352, right_accessor_variety=255, leftside_frequency=12280, rightside_frequency=1409),\n",
       " '텃': Scores(cohesion_forward=0, cohesion_backward=0, left_branching_entropy=2.0724394350326207, right_branching_entropy=-0.0, left_accessor_variety=9, right_accessor_variety=1, leftside_frequency=41, rightside_frequency=0),\n",
       " '촉': Scores(cohesion_forward=0, cohesion_backward=0, left_branching_entropy=2.6034602991485034, right_branching_entropy=1.3152926251471535, left_accessor_variety=57, right_accessor_variety=19, leftside_frequency=1170, rightside_frequency=52),\n",
       " '맑': Scores(cohesion_forward=0, cohesion_backward=0, left_branching_entropy=2.2647410664641874, right_branching_entropy=1.2674204490068233, left_accessor_variety=19, right_accessor_variety=5, leftside_frequency=197, rightside_frequency=0),\n",
       " '밴': Scores(cohesion_forward=0, cohesion_backward=0, left_branching_entropy=3.4107654994134124, right_branching_entropy=0.5421350200808047, left_accessor_variety=39, right_accessor_variety=3, leftside_frequency=194, rightside_frequency=0),\n",
       " '빼': Scores(cohesion_forward=0, cohesion_backward=0, left_branching_entropy=2.6043359288277976, right_branching_entropy=2.4541323391827756, left_accessor_variety=39, right_accessor_variety=21, leftside_frequency=540, rightside_frequency=0),\n",
       " '힐': Scores(cohesion_forward=0, cohesion_backward=0, left_branching_entropy=3.5415329702225025, right_branching_entropy=1.8587138019600133, left_accessor_variety=110, right_accessor_variety=45, leftside_frequency=2041, rightside_frequency=268),\n",
       " '략': Scores(cohesion_forward=0, cohesion_backward=0, left_branching_entropy=-0.0, right_branching_entropy=3.871461690726014, left_accessor_variety=1, right_accessor_variety=69, leftside_frequency=0, rightside_frequency=565),\n",
       " '뚫': Scores(cohesion_forward=0, cohesion_backward=0, left_branching_entropy=2.106296218770361, right_branching_entropy=1.8489951238093716, left_accessor_variety=15, right_accessor_variety=8, leftside_frequency=167, rightside_frequency=0),\n",
       " '룩': Scores(cohesion_forward=0, cohesion_backward=0, left_branching_entropy=2.787200063205708, right_branching_entropy=1.9785800905800748, left_accessor_variety=22, right_accessor_variety=14, leftside_frequency=143, rightside_frequency=38),\n",
       " '으': Scores(cohesion_forward=0, cohesion_backward=0, left_branching_entropy=4.876317727027191, right_branching_entropy=0.1735717363274763, left_accessor_variety=202, right_accessor_variety=5, leftside_frequency=1714, rightside_frequency=6),\n",
       " '륵': Scores(cohesion_forward=0, cohesion_backward=0, left_branching_entropy=0, right_branching_entropy=-0.0, left_accessor_variety=0, right_accessor_variety=1, leftside_frequency=0, rightside_frequency=7),\n",
       " '귓': Scores(cohesion_forward=0, cohesion_backward=0, left_branching_entropy=0.6365141682948128, right_branching_entropy=0.6901856760188042, left_accessor_variety=2, right_accessor_variety=2, leftside_frequency=14, rightside_frequency=0),\n",
       " '닮': Scores(cohesion_forward=0, cohesion_backward=0, left_branching_entropy=2.4520493552966593, right_branching_entropy=1.1132792449045887, left_accessor_variety=19, right_accessor_variety=4, leftside_frequency=171, rightside_frequency=0),\n",
       " '린': Scores(cohesion_forward=0, cohesion_backward=0, left_branching_entropy=3.272816792217114, right_branching_entropy=4.374301946415952, left_accessor_variety=58, right_accessor_variety=343, leftside_frequency=90, rightside_frequency=10898),\n",
       " '권': Scores(cohesion_forward=0, cohesion_backward=0, left_branching_entropy=4.300750596511474, right_branching_entropy=4.706423586763309, left_accessor_variety=254, right_accessor_variety=314, leftside_frequency=4180, rightside_frequency=5419),\n",
       " '랙': Scores(cohesion_forward=0, cohesion_backward=0, left_branching_entropy=0.6911927820032008, right_branching_entropy=3.6737359731186547, left_accessor_variety=2, right_accessor_variety=55, leftside_frequency=0, rightside_frequency=381),\n",
       " '텍': Scores(cohesion_forward=0, cohesion_backward=0, left_branching_entropy=3.0890716874914914, right_branching_entropy=3.0233334639577016, left_accessor_variety=29, right_accessor_variety=38, leftside_frequency=103, rightside_frequency=214),\n",
       " '죄': Scores(cohesion_forward=0, cohesion_backward=0, left_branching_entropy=3.246511610952457, right_branching_entropy=3.6852263454195913, left_accessor_variety=52, right_accessor_variety=76, leftside_frequency=291, rightside_frequency=563),\n",
       " '녀': Scores(cohesion_forward=0, cohesion_backward=0, left_branching_entropy=2.181234006192167, right_branching_entropy=4.2120556774187925, left_accessor_variety=15, right_accessor_variety=113, leftside_frequency=9, rightside_frequency=991),\n",
       " '애': Scores(cohesion_forward=0, cohesion_backward=0, left_branching_entropy=4.1831769108193235, right_branching_entropy=3.8666355529209024, left_accessor_variety=182, right_accessor_variety=155, leftside_frequency=3440, rightside_frequency=1533),\n",
       " '씩': Scores(cohesion_forward=0, cohesion_backward=0, left_branching_entropy=2.9663475557230474, right_branching_entropy=4.59746588190447, left_accessor_variety=43, right_accessor_variety=147, leftside_frequency=11, rightside_frequency=859),\n",
       " '쟤': Scores(cohesion_forward=0, cohesion_backward=0, left_branching_entropy=1.0397207708399179, right_branching_entropy=-0.0, left_accessor_variety=3, right_accessor_variety=1, leftside_frequency=7, rightside_frequency=0),\n",
       " '국': Scores(cohesion_forward=0, cohesion_backward=0, left_branching_entropy=4.660385785741402, right_branching_entropy=4.117450954568264, left_accessor_variety=440, right_accessor_variety=456, leftside_frequency=29541, rightside_frequency=15722),\n",
       " '튀': Scores(cohesion_forward=0, cohesion_backward=0, left_branching_entropy=2.5855693123364314, right_branching_entropy=1.6851402826539927, left_accessor_variety=23, right_accessor_variety=10, leftside_frequency=207, rightside_frequency=13),\n",
       " '멱': Scores(cohesion_forward=0, cohesion_backward=0, left_branching_entropy=0.6365141682948128, right_branching_entropy=-0.0, left_accessor_variety=2, right_accessor_variety=1, leftside_frequency=14, rightside_frequency=0),\n",
       " '파': Scores(cohesion_forward=0, cohesion_backward=0, left_branching_entropy=4.548810833007498, right_branching_entropy=3.9268171510882057, left_accessor_variety=298, right_accessor_variety=204, leftside_frequency=6708, rightside_frequency=1261),\n",
       " '링': Scores(cohesion_forward=0, cohesion_backward=0, left_branching_entropy=2.710241651657354, right_branching_entropy=3.2554458605281966, left_accessor_variety=35, right_accessor_variety=115, leftside_frequency=101, rightside_frequency=1317),\n",
       " '쎄': Scores(cohesion_forward=0, cohesion_backward=0, left_branching_entropy=0.39830711380528416, right_branching_entropy=0.46203690946645704, left_accessor_variety=2, right_accessor_variety=2, leftside_frequency=19, rightside_frequency=67),\n",
       " '쳐': Scores(cohesion_forward=0, cohesion_backward=0, left_branching_entropy=2.9476308263789224, right_branching_entropy=4.823504327483253, left_accessor_variety=23, right_accessor_variety=202, leftside_frequency=96, rightside_frequency=2040),\n",
       " '톱': Scores(cohesion_forward=0, cohesion_backward=0, left_branching_entropy=2.5485591425599954, right_branching_entropy=2.9188874854536624, left_accessor_variety=25, right_accessor_variety=26, leftside_frequency=87, rightside_frequency=96),\n",
       " '홉': Scores(cohesion_forward=0, cohesion_backward=0, left_branching_entropy=0.8945510979978214, right_branching_entropy=1.5468228468569332, left_accessor_variety=3, right_accessor_variety=5, leftside_frequency=0, rightside_frequency=49),\n",
       " '햅': Scores(cohesion_forward=0, cohesion_backward=0, left_branching_entropy=1.3041538760466869, right_branching_entropy=-0.0, left_accessor_variety=5, right_accessor_variety=1, leftside_frequency=24, rightside_frequency=0),\n",
       " '갔': Scores(cohesion_forward=0, cohesion_backward=0, left_branching_entropy=2.798268276241358, right_branching_entropy=1.7335806776346383, left_accessor_variety=29, right_accessor_variety=10, leftside_frequency=334, rightside_frequency=0),\n",
       " '긋': Scores(cohesion_forward=0, cohesion_backward=0, left_branching_entropy=0.9719549721204945, right_branching_entropy=1.760452131916402, left_accessor_variety=3, right_accessor_variety=7, leftside_frequency=32, rightside_frequency=37),\n",
       " '늬': Scores(cohesion_forward=0, cohesion_backward=0, left_branching_entropy=0.6911086741443572, right_branching_entropy=1.640564677821156, left_accessor_variety=2, right_accessor_variety=7, leftside_frequency=0, rightside_frequency=60),\n",
       " '끓': Scores(cohesion_forward=0, cohesion_backward=0, left_branching_entropy=2.69106055042975, right_branching_entropy=1.463484805221945, left_accessor_variety=17, right_accessor_variety=5, leftside_frequency=87, rightside_frequency=0),\n",
       " '붙': Scores(cohesion_forward=0, cohesion_backward=0, left_branching_entropy=2.6169068566988227, right_branching_entropy=2.0291613986226777, left_accessor_variety=46, right_accessor_variety=17, leftside_frequency=1381, rightside_frequency=0),\n",
       " '뻐': Scores(cohesion_forward=0, cohesion_backward=0, left_branching_entropy=0.6931471805599453, right_branching_entropy=0.5623351446188083, left_accessor_variety=2, right_accessor_variety=2, leftside_frequency=15, rightside_frequency=7),\n",
       " '놀': Scores(cohesion_forward=0, cohesion_backward=0, left_branching_entropy=3.6584517165380643, right_branching_entropy=2.033825698998948, left_accessor_variety=83, right_accessor_variety=22, leftside_frequency=1201, rightside_frequency=15),\n",
       " '양': Scores(cohesion_forward=0, cohesion_backward=0, left_branching_entropy=4.497963894377363, right_branching_entropy=4.512094009733763, left_accessor_variety=280, right_accessor_variety=275, leftside_frequency=6262, rightside_frequency=1667),\n",
       " '낯': Scores(cohesion_forward=0, cohesion_backward=0, left_branching_entropy=2.675218390993847, right_branching_entropy=1.547471422332464, left_accessor_variety=17, right_accessor_variety=6, leftside_frequency=120, rightside_frequency=5),\n",
       " '엔': Scores(cohesion_forward=0, cohesion_backward=0, left_branching_entropy=4.232379153394946, right_branching_entropy=3.457736478725519, left_accessor_variety=186, right_accessor_variety=217, leftside_frequency=1870, rightside_frequency=1760),\n",
       " '열': Scores(cohesion_forward=0, cohesion_backward=0, left_branching_entropy=2.7495421175592196, right_branching_entropy=2.556439834656657, left_accessor_variety=226, right_accessor_variety=179, leftside_frequency=16004, rightside_frequency=807),\n",
       " '은': Scores(cohesion_forward=0, cohesion_backward=0, left_branching_entropy=5.095567542092186, right_branching_entropy=5.412078704825194, left_accessor_variety=829, right_accessor_variety=880, leftside_frequency=2513, rightside_frequency=114963),\n",
       " '사': Scores(cohesion_forward=0, cohesion_backward=0, left_branching_entropy=4.888428742867745, right_branching_entropy=4.164264684384077, left_accessor_variety=693, right_accessor_variety=596, leftside_frequency=70011, rightside_frequency=19655),\n",
       " '셜': Scores(cohesion_forward=0, cohesion_backward=0, left_branching_entropy=1.0619675482086433, right_branching_entropy=3.4546985470960574, left_accessor_variety=6, right_accessor_variety=46, leftside_frequency=8, rightside_frequency=305),\n",
       " '홋': Scores(cohesion_forward=0, cohesion_backward=0, left_branching_entropy=0.6365141682948128, right_branching_entropy=-0.0, left_accessor_variety=2, right_accessor_variety=1, leftside_frequency=17, rightside_frequency=0),\n",
       " '괜': Scores(cohesion_forward=0, cohesion_backward=0, left_branching_entropy=2.6878319699202557, right_branching_entropy=0.4728127545380583, left_accessor_variety=31, right_accessor_variety=3, leftside_frequency=257, rightside_frequency=0),\n",
       " '함': Scores(cohesion_forward=0, cohesion_backward=0, left_branching_entropy=2.8488619347798814, right_branching_entropy=1.088454850129536, left_accessor_variety=155, right_accessor_variety=118, leftside_frequency=8717, rightside_frequency=748),\n",
       " '뢰': Scores(cohesion_forward=0, cohesion_backward=0, left_branching_entropy=0.6615632381579821, right_branching_entropy=2.7273929048944896, left_accessor_variety=2, right_accessor_variety=23, leftside_frequency=7, rightside_frequency=178),\n",
       " '떼': Scores(cohesion_forward=0, cohesion_backward=0, left_branching_entropy=2.1057494000866543, right_branching_entropy=2.126248427007411, left_accessor_variety=20, right_accessor_variety=15, leftside_frequency=181, rightside_frequency=40),\n",
       " '맹': Scores(cohesion_forward=0, cohesion_backward=0, left_branching_entropy=2.437339090487446, right_branching_entropy=3.500304942106467, left_accessor_variety=26, right_accessor_variety=45, leftside_frequency=206, rightside_frequency=280),\n",
       " '곤': Scores(cohesion_forward=0, cohesion_backward=0, left_branching_entropy=3.2850003254907887, right_branching_entropy=3.4699141263799036, left_accessor_variety=49, right_accessor_variety=61, leftside_frequency=220, rightside_frequency=492),\n",
       " '될': Scores(cohesion_forward=0, cohesion_backward=0, left_branching_entropy=3.6041443232208143, right_branching_entropy=2.539421868419843, left_accessor_variety=133, right_accessor_variety=122, leftside_frequency=239, rightside_frequency=3492),\n",
       " '얇': Scores(cohesion_forward=0, cohesion_backward=0, left_branching_entropy=2.6300819388009735, right_branching_entropy=1.1547720044979257, left_accessor_variety=17, right_accessor_variety=4, leftside_frequency=98, rightside_frequency=0),\n",
       " '깡': Scores(cohesion_forward=0, cohesion_backward=0, left_branching_entropy=1.63331149832903, right_branching_entropy=1.2069777321644193, left_accessor_variety=6, right_accessor_variety=4, leftside_frequency=22, rightside_frequency=12),\n",
       " '푼': Scores(cohesion_forward=0, cohesion_backward=0, left_branching_entropy=1.2461446952384572, right_branching_entropy=1.2733256871159515, left_accessor_variety=6, right_accessor_variety=4, leftside_frequency=25, rightside_frequency=11),\n",
       " '겁': Scores(cohesion_forward=0, cohesion_backward=0, left_branching_entropy=2.8233853012172823, right_branching_entropy=0.5041668105208865, left_accessor_variety=50, right_accessor_variety=9, leftside_frequency=619, rightside_frequency=7),\n",
       " '계': Scores(cohesion_forward=0, cohesion_backward=0, left_branching_entropy=4.400276795089421, right_branching_entropy=3.802688592414875, left_accessor_variety=324, right_accessor_variety=315, leftside_frequency=10146, rightside_frequency=6663),\n",
       " '컸': Scores(cohesion_forward=0, cohesion_backward=0, left_branching_entropy=1.6039733157794134, right_branching_entropy=1.2317345647711186, left_accessor_variety=12, right_accessor_variety=6, leftside_frequency=209, rightside_frequency=0),\n",
       " '잡': Scores(cohesion_forward=0, cohesion_backward=0, left_branching_entropy=3.0582024372671643, right_branching_entropy=2.908170566900186, left_accessor_variety=94, right_accessor_variety=35, leftside_frequency=1659, rightside_frequency=65),\n",
       " '산': Scores(cohesion_forward=0, cohesion_backward=0, left_branching_entropy=4.715848247208662, right_branching_entropy=4.809120810296052, left_accessor_variety=319, right_accessor_variety=411, leftside_frequency=5471, rightside_frequency=7614),\n",
       " '뒤': Scores(cohesion_forward=0, cohesion_backward=0, left_branching_entropy=3.5432469032207314, right_branching_entropy=4.84928723811984, left_accessor_variety=171, right_accessor_variety=307, leftside_frequency=1875, rightside_frequency=48),\n",
       " '좋': Scores(cohesion_forward=0, cohesion_backward=0, left_branching_entropy=3.5349208797240124, right_branching_entropy=1.9068441964580234, left_accessor_variety=128, right_accessor_variety=15, leftside_frequency=4824, rightside_frequency=0),\n",
       " '압': Scores(cohesion_forward=0, cohesion_backward=0, left_branching_entropy=3.525752437454372, right_branching_entropy=2.0055523224248097, left_accessor_variety=107, right_accessor_variety=40, leftside_frequency=2491, rightside_frequency=150),\n",
       " '훼': Scores(cohesion_forward=0, cohesion_backward=0, left_branching_entropy=2.307713504029082, right_branching_entropy=0.07874344192149704, left_accessor_variety=26, right_accessor_variety=3, leftside_frequency=306, rightside_frequency=6),\n",
       " '딧': Scores(cohesion_forward=0, cohesion_backward=0, left_branching_entropy=0.5799151714181009, right_branching_entropy=-0.0, left_accessor_variety=2, right_accessor_variety=1, leftside_frequency=0, rightside_frequency=11),\n",
       " '직': Scores(cohesion_forward=0, cohesion_backward=0, left_branching_entropy=4.449395160206866, right_branching_entropy=3.551794190189873, left_accessor_variety=279, right_accessor_variety=274, leftside_frequency=7513, rightside_frequency=2641),\n",
       " '띤': Scores(cohesion_forward=0, cohesion_backward=0, left_branching_entropy=0.9832739442463889, right_branching_entropy=1.962893983379079, left_accessor_variety=3, right_accessor_variety=9, leftside_frequency=6, rightside_frequency=65),\n",
       " '팸': Scores(cohesion_forward=0, cohesion_backward=0, left_branching_entropy=1.519382664642301, right_branching_entropy=0.6365141682948128, left_accessor_variety=5, right_accessor_variety=2, leftside_frequency=16, rightside_frequency=0),\n",
       " '볕': Scores(cohesion_forward=0, cohesion_backward=0, left_branching_entropy=0, right_branching_entropy=0.6829081047004717, left_accessor_variety=0, right_accessor_variety=2, leftside_frequency=0, rightside_frequency=8),\n",
       " '란': Scores(cohesion_forward=0, cohesion_backward=0, left_branching_entropy=2.7593206630065943, right_branching_entropy=4.859876491455257, left_accessor_variety=74, right_accessor_variety=220, leftside_frequency=22, rightside_frequency=2085),\n",
       " '뼛': Scores(cohesion_forward=0, cohesion_backward=0, left_branching_entropy=1.0608569471580214, right_branching_entropy=1.0733942812811266, left_accessor_variety=3, right_accessor_variety=3, leftside_frequency=10, rightside_frequency=0),\n",
       " '퉁': Scores(cohesion_forward=0, cohesion_backward=0, left_branching_entropy=-0.0, right_branching_entropy=1.7782333057997073, left_accessor_variety=1, right_accessor_variety=6, leftside_frequency=7, rightside_frequency=28),\n",
       " '낡': Scores(cohesion_forward=0, cohesion_backward=0, left_branching_entropy=2.2113910814345936, right_branching_entropy=0.5653960819457478, left_accessor_variety=12, right_accessor_variety=3, leftside_frequency=67, rightside_frequency=0),\n",
       " '또': Scores(cohesion_forward=0, cohesion_backward=0, left_branching_entropy=2.659263959115573, right_branching_entropy=3.713640999639147, left_accessor_variety=237, right_accessor_variety=335, leftside_frequency=4949, rightside_frequency=61),\n",
       " '착': Scores(cohesion_forward=0, cohesion_backward=0, left_branching_entropy=3.622289706275464, right_branching_entropy=2.5450082135840475, left_accessor_variety=93, right_accessor_variety=62, leftside_frequency=1728, rightside_frequency=309),\n",
       " '듯': Scores(cohesion_forward=0, cohesion_backward=0, left_branching_entropy=2.9307302141067364, right_branching_entropy=4.0504222856366345, left_accessor_variety=55, right_accessor_variety=152, leftside_frequency=433, rightside_frequency=459),\n",
       " '갹': Scores(cohesion_forward=0, cohesion_backward=0, left_branching_entropy=0.6730116670092565, right_branching_entropy=-0.0, left_accessor_variety=2, right_accessor_variety=1, leftside_frequency=8, rightside_frequency=0),\n",
       " '먹': Scores(cohesion_forward=0, cohesion_backward=0, left_branching_entropy=3.897830619059234, right_branching_entropy=2.672290547981191, left_accessor_variety=111, right_accessor_variety=28, leftside_frequency=1628, rightside_frequency=13),\n",
       " '숱': Scores(cohesion_forward=0, cohesion_backward=0, left_branching_entropy=2.240214388027364, right_branching_entropy=-0.0, left_accessor_variety=10, right_accessor_variety=1, leftside_frequency=37, rightside_frequency=0),\n",
       " '뛰': Scores(cohesion_forward=0, cohesion_backward=0, left_branching_entropy=3.2412905492116617, right_branching_entropy=0.7486003279608763, left_accessor_variety=63, right_accessor_variety=12, leftside_frequency=1116, rightside_frequency=0),\n",
       " '귄': Scores(cohesion_forward=0, cohesion_backward=0, left_branching_entropy=0, right_branching_entropy=1.0888999753452238, left_accessor_variety=0, right_accessor_variety=3, leftside_frequency=0, rightside_frequency=16),\n",
       " '축': Scores(cohesion_forward=0, cohesion_backward=0, left_branching_entropy=4.150306428145457, right_branching_entropy=3.3080464039687807, left_accessor_variety=155, right_accessor_variety=128, leftside_frequency=2199, rightside_frequency=897),\n",
       " '탄': Scores(cohesion_forward=0, cohesion_backward=0, left_branching_entropy=3.8778700864797995, right_branching_entropy=3.5103845295065854, left_accessor_variety=115, right_accessor_variety=119, leftside_frequency=1604, rightside_frequency=742),\n",
       " '쐈': Scores(cohesion_forward=0, cohesion_backward=0, left_branching_entropy=0.6336816397516665, right_branching_entropy=1.4204218047714092, left_accessor_variety=6, right_accessor_variety=5, leftside_frequency=96, rightside_frequency=0),\n",
       " '작': Scores(cohesion_forward=0, cohesion_backward=0, left_branching_entropy=4.53787095689988, right_branching_entropy=3.416633423656028, left_accessor_variety=304, right_accessor_variety=222, leftside_frequency=7562, rightside_frequency=2267),\n",
       " '랍': Scores(cohesion_forward=0, cohesion_backward=0, left_branching_entropy=1.0986122886681096, right_branching_entropy=1.0980560910559418, left_accessor_variety=3, right_accessor_variety=4, leftside_frequency=18, rightside_frequency=25),\n",
       " '헹': Scores(cohesion_forward=0, cohesion_backward=0, left_branching_entropy=1.1124565824765003, right_branching_entropy=-0.0, left_accessor_variety=4, right_accessor_variety=1, leftside_frequency=19, rightside_frequency=0),\n",
       " '끝': Scores(cohesion_forward=0, cohesion_backward=0, left_branching_entropy=3.6548383885476294, right_branching_entropy=2.884388997100304, left_accessor_variety=127, right_accessor_variety=76, leftside_frequency=2231, rightside_frequency=31),\n",
       " '싹': Scores(cohesion_forward=0, cohesion_backward=0, left_branching_entropy=2.266430442564339, right_branching_entropy=1.6950866149748023, left_accessor_variety=11, right_accessor_variety=8, leftside_frequency=50, rightside_frequency=29),\n",
       " '쇄': Scores(cohesion_forward=0, cohesion_backward=0, left_branching_entropy=2.0800232452130456, right_branching_entropy=2.411202635657673, left_accessor_variety=10, right_accessor_variety=18, leftside_frequency=58, rightside_frequency=80),\n",
       " '긁': Scores(cohesion_forward=0, cohesion_backward=0, left_branching_entropy=1.3796491369985453, right_branching_entropy=1.052922565938695, left_accessor_variety=5, right_accessor_variety=3, leftside_frequency=33, rightside_frequency=0),\n",
       " '쏜': Scores(cohesion_forward=0, cohesion_backward=0, left_branching_entropy=1.3229393161641219, right_branching_entropy=1.7413324361208349, left_accessor_variety=11, right_accessor_variety=20, leftside_frequency=11, rightside_frequency=0),\n",
       " 'ㅇ': Scores(cohesion_forward=0, cohesion_backward=0, left_branching_entropy=0, right_branching_entropy=0, left_accessor_variety=0, right_accessor_variety=0, leftside_frequency=10, rightside_frequency=0),\n",
       " '낚': Scores(cohesion_forward=0, cohesion_backward=0, left_branching_entropy=3.078808603851023, right_branching_entropy=0.34528069192663746, left_accessor_variety=29, right_accessor_variety=3, leftside_frequency=169, rightside_frequency=0),\n",
       " '텐': Scores(cohesion_forward=0, cohesion_backward=0, left_branching_entropy=2.5140239233162855, right_branching_entropy=1.2133240305479756, left_accessor_variety=34, right_accessor_variety=17, leftside_frequency=698, rightside_frequency=59),\n",
       " '한': Scores(cohesion_forward=0, cohesion_backward=0, left_branching_entropy=5.421967233191575, right_branching_entropy=5.37182235093888, left_accessor_variety=863, right_accessor_variety=890, leftside_frequency=34689, rightside_frequency=93875),\n",
       " '코': Scores(cohesion_forward=0, cohesion_backward=0, left_branching_entropy=4.482331288052687, right_branching_entropy=3.3280907571264517, left_accessor_variety=264, right_accessor_variety=188, leftside_frequency=5373, rightside_frequency=1063),\n",
       " '셀': Scores(cohesion_forward=0, cohesion_backward=0, left_branching_entropy=3.4775576801186063, right_branching_entropy=2.067311083881271, left_accessor_variety=56, right_accessor_variety=24, leftside_frequency=541, rightside_frequency=94),\n",
       " '미': Scores(cohesion_forward=0, cohesion_backward=0, left_branching_entropy=4.614913724563358, right_branching_entropy=3.9233954752053415, left_accessor_variety=428, right_accessor_variety=437, leftside_frequency=21790, rightside_frequency=5049),\n",
       " '콜': Scores(cohesion_forward=0, cohesion_backward=0, left_branching_entropy=3.8109657500631138, right_branching_entropy=2.7785233492998973, left_accessor_variety=79, right_accessor_variety=53, leftside_frequency=642, rightside_frequency=279),\n",
       " '갱': Scores(cohesion_forward=0, cohesion_backward=0, left_branching_entropy=2.666371729263472, right_branching_entropy=1.1758582107857134, left_accessor_variety=17, right_accessor_variety=6, leftside_frequency=71, rightside_frequency=16),\n",
       " '넬': Scores(cohesion_forward=0, cohesion_backward=0, left_branching_entropy=0.8921178708188161, right_branching_entropy=1.7410506456818882, left_accessor_variety=3, right_accessor_variety=7, leftside_frequency=0, rightside_frequency=33),\n",
       " '샹': Scores(cohesion_forward=0, cohesion_backward=0, left_branching_entropy=0.6931471805599453, right_branching_entropy=-0.0, left_accessor_variety=2, right_accessor_variety=1, leftside_frequency=8, rightside_frequency=0),\n",
       " '벤': Scores(cohesion_forward=0, cohesion_backward=0, left_branching_entropy=3.3374901763902405, right_branching_entropy=1.4284632413665772, left_accessor_variety=50, right_accessor_variety=11, leftside_frequency=374, rightside_frequency=13),\n",
       " '쿤': Scores(cohesion_forward=0, cohesion_backward=0, left_branching_entropy=-0.0, right_branching_entropy=0.4293230219306162, left_accessor_variety=1, right_accessor_variety=2, leftside_frequency=13, rightside_frequency=0),\n",
       " '늙': Scores(cohesion_forward=0, cohesion_backward=0, left_branching_entropy=2.1160942561089704, right_branching_entropy=0.6145033203107282, left_accessor_variety=9, right_accessor_variety=2, leftside_frequency=35, rightside_frequency=0),\n",
       " '갓': Scores(cohesion_forward=0, cohesion_backward=0, left_branching_entropy=2.602814783612309, right_branching_entropy=1.6105704839198223, left_accessor_variety=19, right_accessor_variety=9, leftside_frequency=94, rightside_frequency=5),\n",
       " '칙': Scores(cohesion_forward=0, cohesion_backward=0, left_branching_entropy=1.6434436917911674, right_branching_entropy=1.665219466358187, left_accessor_variety=10, right_accessor_variety=27, leftside_frequency=19, rightside_frequency=570),\n",
       " '윽': Scores(cohesion_forward=0, cohesion_backward=0, left_branching_entropy=0.6931471805599453, right_branching_entropy=-0.0, left_accessor_variety=2, right_accessor_variety=1, leftside_frequency=6, rightside_frequency=0),\n",
       " '뻗': Scores(cohesion_forward=0, cohesion_backward=0, left_branching_entropy=1.7205498380200264, right_branching_entropy=0.5004024235381879, left_accessor_variety=8, right_accessor_variety=2, leftside_frequency=44, rightside_frequency=0),\n",
       " '피': Scores(cohesion_forward=0, cohesion_backward=0, left_branching_entropy=4.528564678291706, right_branching_entropy=3.385141656095195, left_accessor_variety=277, right_accessor_variety=201, leftside_frequency=6322, rightside_frequency=749),\n",
       " '켜': Scores(cohesion_forward=0, cohesion_backward=0, left_branching_entropy=1.095631544934633, right_branching_entropy=4.191648792589679, left_accessor_variety=12, right_accessor_variety=100, leftside_frequency=91, rightside_frequency=593),\n",
       " '렐': Scores(cohesion_forward=0, cohesion_backward=0, left_branching_entropy=0, right_branching_entropy=0.31449220128141064, left_accessor_variety=0, right_accessor_variety=2, leftside_frequency=0, rightside_frequency=30),\n",
       " '땡': Scores(cohesion_forward=0, cohesion_backward=0, left_branching_entropy=1.0986122886681096, right_branching_entropy=-0.0, left_accessor_variety=3, right_accessor_variety=1, leftside_frequency=12, rightside_frequency=0),\n",
       " '휠': Scores(cohesion_forward=0, cohesion_backward=0, left_branching_entropy=3.2423885061157267, right_branching_entropy=0.8186249373394614, left_accessor_variety=30, right_accessor_variety=5, leftside_frequency=131, rightside_frequency=0),\n",
       " '텀': Scores(cohesion_forward=0, cohesion_backward=0, left_branching_entropy=2.2984166668509936, right_branching_entropy=0.8007929376652316, left_accessor_variety=11, right_accessor_variety=4, leftside_frequency=35, rightside_frequency=20),\n",
       " '톈': Scores(cohesion_forward=0, cohesion_backward=0, left_branching_entropy=1.6035681031705153, right_branching_entropy=-0.0, left_accessor_variety=6, right_accessor_variety=1, leftside_frequency=24, rightside_frequency=0),\n",
       " '딛': Scores(cohesion_forward=0, cohesion_backward=0, left_branching_entropy=0.6460905050608089, right_branching_entropy=-0.0, left_accessor_variety=2, right_accessor_variety=1, leftside_frequency=26, rightside_frequency=0),\n",
       " '빠': Scores(cohesion_forward=0, cohesion_backward=0, left_branching_entropy=3.2293415586795042, right_branching_entropy=2.247035103961718, left_accessor_variety=83, right_accessor_variety=44, leftside_frequency=2117, rightside_frequency=603),\n",
       " '뻥': Scores(cohesion_forward=0, cohesion_backward=0, left_branching_entropy=1.4151390801119226, right_branching_entropy=0.7589367727620595, left_accessor_variety=5, right_accessor_variety=3, leftside_frequency=10, rightside_frequency=0),\n",
       " '상': Scores(cohesion_forward=0, cohesion_backward=0, left_branching_entropy=4.898584985808374, right_branching_entropy=4.609279575010049, left_accessor_variety=485, right_accessor_variety=529, leftside_frequency=22847, rightside_frequency=12918),\n",
       " '첫': Scores(cohesion_forward=0, cohesion_backward=0, left_branching_entropy=3.6439025999245556, right_branching_entropy=3.795771616579116, left_accessor_variety=140, right_accessor_variety=165, leftside_frequency=806, rightside_frequency=0),\n",
       " '콧': Scores(cohesion_forward=0, cohesion_backward=0, left_branching_entropy=0.9791019190315775, right_branching_entropy=2.562225499701443, left_accessor_variety=6, right_accessor_variety=15, leftside_frequency=17, rightside_frequency=62),\n",
       " '멘': Scores(cohesion_forward=0, cohesion_backward=0, left_branching_entropy=2.7608368845308022, right_branching_entropy=1.2120506430416411, left_accessor_variety=39, right_accessor_variety=9, leftside_frequency=359, rightside_frequency=17),\n",
       " '깜': Scores(cohesion_forward=0, cohesion_backward=0, left_branching_entropy=3.0001731518323593, right_branching_entropy=0.7565080811412158, left_accessor_variety=31, right_accessor_variety=5, leftside_frequency=396, rightside_frequency=0),\n",
       " '규': Scores(cohesion_forward=0, cohesion_backward=0, left_branching_entropy=4.337035552857458, right_branching_entropy=3.0536004450091516, left_accessor_variety=247, right_accessor_variety=177, leftside_frequency=5308, rightside_frequency=3416),\n",
       " '팟': Scores(cohesion_forward=0, cohesion_backward=0, left_branching_entropy=1.448316229498506, right_branching_entropy=1.167070670241199, left_accessor_variety=5, right_accessor_variety=4, leftside_frequency=20, rightside_frequency=46),\n",
       " '럿': Scores(cohesion_forward=0, cohesion_backward=0, left_branching_entropy=0.877977796482132, right_branching_entropy=2.4059331078749873, left_accessor_variety=4, right_accessor_variety=15, leftside_frequency=21, rightside_frequency=72),\n",
       " '핼': Scores(cohesion_forward=0, cohesion_backward=0, left_branching_entropy=0.6730116670092565, right_branching_entropy=-0.0, left_accessor_variety=2, right_accessor_variety=1, leftside_frequency=21, rightside_frequency=0),\n",
       " '잿': Scores(cohesion_forward=0, cohesion_backward=0, left_branching_entropy=0.5982695885852573, right_branching_entropy=-0.0, left_accessor_variety=2, right_accessor_variety=1, leftside_frequency=11, rightside_frequency=0),\n",
       " '9': Scores(cohesion_forward=0, cohesion_backward=0, left_branching_entropy=4.413439984175353, right_branching_entropy=3.9079520291509335, left_accessor_variety=256, right_accessor_variety=227, leftside_frequency=7429, rightside_frequency=5031),\n",
       " '빚': Scores(cohesion_forward=0, cohesion_backward=0, left_branching_entropy=2.4789427801641346, right_branching_entropy=2.2119754253580903, left_accessor_variety=31, right_accessor_variety=17, leftside_frequency=382, rightside_frequency=0),\n",
       " '펩': Scores(cohesion_forward=0, cohesion_backward=0, left_branching_entropy=1.8617021065270274, right_branching_entropy=0.8378972277814775, left_accessor_variety=7, right_accessor_variety=3, leftside_frequency=44, rightside_frequency=0),\n",
       " '흰': Scores(cohesion_forward=0, cohesion_backward=0, left_branching_entropy=2.851926782770111, right_branching_entropy=1.7727141312599728, left_accessor_variety=24, right_accessor_variety=11, leftside_frequency=94, rightside_frequency=0),\n",
       " '카': Scores(cohesion_forward=0, cohesion_backward=0, left_branching_entropy=4.588979731647801, right_branching_entropy=3.6957563919113343, left_accessor_variety=267, right_accessor_variety=164, leftside_frequency=4082, rightside_frequency=979),\n",
       " '페': Scores(cohesion_forward=0, cohesion_backward=0, left_branching_entropy=4.241799356058962, right_branching_entropy=2.3988302014565677, left_accessor_variety=175, right_accessor_variety=84, leftside_frequency=2359, rightside_frequency=393),\n",
       " '퍼': Scores(cohesion_forward=0, cohesion_backward=0, left_branching_entropy=4.008964619602384, right_branching_entropy=3.748020818218094, left_accessor_variety=96, right_accessor_variety=91, leftside_frequency=886, rightside_frequency=568),\n",
       " '디': Scores(cohesion_forward=0, cohesion_backward=0, left_branching_entropy=4.335381626596728, right_branching_entropy=2.68517802819071, left_accessor_variety=262, right_accessor_variety=183, leftside_frequency=6292, rightside_frequency=1665),\n",
       " '낄': Scores(cohesion_forward=0, cohesion_backward=0, left_branching_entropy=0.6730116670092565, right_branching_entropy=0.6035812046513235, left_accessor_variety=2, right_accessor_variety=7, leftside_frequency=0, rightside_frequency=305),\n",
       " '숟': Scores(cohesion_forward=0, cohesion_backward=0, left_branching_entropy=2.379120975540097, right_branching_entropy=-0.0, left_accessor_variety=14, right_accessor_variety=1, leftside_frequency=93, rightside_frequency=0),\n",
       " 'ㄴ': Scores(cohesion_forward=0, cohesion_backward=0, left_branching_entropy=2.111216545811636, right_branching_entropy=0.7047252954476639, left_accessor_variety=9, right_accessor_variety=4, leftside_frequency=36, rightside_frequency=0),\n",
       " '첩': Scores(cohesion_forward=0, cohesion_backward=0, left_branching_entropy=2.332796443546033, right_branching_entropy=1.688318412003283, left_accessor_variety=20, right_accessor_variety=16, leftside_frequency=106, rightside_frequency=113),\n",
       " '쓰': Scores(cohesion_forward=0, cohesion_backward=0, left_branching_entropy=3.4143571447606296, right_branching_entropy=2.8615776382598583, left_accessor_variety=93, right_accessor_variety=35, leftside_frequency=1951, rightside_frequency=41),\n",
       " '륜': Scores(cohesion_forward=0, cohesion_backward=0, left_branching_entropy=0, right_branching_entropy=1.5641315026219946, left_accessor_variety=0, right_accessor_variety=5, leftside_frequency=0, rightside_frequency=28),\n",
       " '왈': Scores(cohesion_forward=0, cohesion_backward=0, left_branching_entropy=0.4584565761117292, right_branching_entropy=0.5354297243461882, left_accessor_variety=5, right_accessor_variety=5, leftside_frequency=148, rightside_frequency=0),\n",
       " '꼽': Scores(cohesion_forward=0, cohesion_backward=0, left_branching_entropy=1.2010951137797272, right_branching_entropy=2.1289905061754992, left_accessor_variety=12, right_accessor_variety=14, leftside_frequency=878, rightside_frequency=0),\n",
       " '말': Scores(cohesion_forward=0, cohesion_backward=0, left_branching_entropy=2.458104025660862, right_branching_entropy=2.899588163206563, left_accessor_variety=208, right_accessor_variety=301, leftside_frequency=16737, rightside_frequency=1594),\n",
       " '촨': Scores(cohesion_forward=0, cohesion_backward=0, left_branching_entropy=-0.0, right_branching_entropy=0.6365141682948128, left_accessor_variety=1, right_accessor_variety=2, leftside_frequency=0, rightside_frequency=7),\n",
       " '언': Scores(cohesion_forward=0, cohesion_backward=0, left_branching_entropy=4.215954531994497, right_branching_entropy=2.8622383520453654, left_accessor_variety=187, right_accessor_variety=124, leftside_frequency=3759, rightside_frequency=937),\n",
       " '팀': Scores(cohesion_forward=0, cohesion_backward=0, left_branching_entropy=3.9881444180546817, right_branching_entropy=4.182334787594166, left_accessor_variety=150, right_accessor_variety=161, leftside_frequency=854, rightside_frequency=1626),\n",
       " '율': Scores(cohesion_forward=0, cohesion_backward=0, left_branching_entropy=2.945875440262622, right_branching_entropy=4.2003469908449675, left_accessor_variety=42, right_accessor_variety=111, leftside_frequency=85, rightside_frequency=1020),\n",
       " '적': Scores(cohesion_forward=0, cohesion_backward=0, left_branching_entropy=4.555000566743389, right_branching_entropy=4.684909074582164, left_accessor_variety=345, right_accessor_variety=400, leftside_frequency=8991, rightside_frequency=10202),\n",
       " '윰': Scores(cohesion_forward=0, cohesion_backward=0, left_branching_entropy=0.6829081047004717, right_branching_entropy=-0.0, left_accessor_variety=2, right_accessor_variety=1, leftside_frequency=18, rightside_frequency=0),\n",
       " '깊': Scores(cohesion_forward=0, cohesion_backward=0, left_branching_entropy=3.631564925041731, right_branching_entropy=1.5943868358520126, left_accessor_variety=62, right_accessor_variety=8, leftside_frequency=846, rightside_frequency=0),\n",
       " '옳': Scores(cohesion_forward=0, cohesion_backward=0, left_branching_entropy=2.2652561202618875, right_branching_entropy=1.498342591291627, left_accessor_variety=16, right_accessor_variety=5, leftside_frequency=180, rightside_frequency=0),\n",
       " '끙': Scores(cohesion_forward=0, cohesion_backward=0, left_branching_entropy=0.45056120886630463, right_branching_entropy=0.6890092384766586, left_accessor_variety=2, right_accessor_variety=2, leftside_frequency=12, rightside_frequency=11),\n",
       " '총': Scores(cohesion_forward=0, cohesion_backward=0, left_branching_entropy=4.4741303903195595, right_branching_entropy=3.5080438743453883, left_accessor_variety=278, right_accessor_variety=166, leftside_frequency=8033, rightside_frequency=347),\n",
       " '맞': Scores(cohesion_forward=0, cohesion_backward=0, left_branching_entropy=2.6205452650159864, right_branching_entropy=3.038837323926207, left_accessor_variety=123, right_accessor_variety=41, leftside_frequency=6215, rightside_frequency=0),\n",
       " '첼': Scores(cohesion_forward=0, cohesion_backward=0, left_branching_entropy=2.05474554492409, right_branching_entropy=1.4397455852759047, left_accessor_variety=10, right_accessor_variety=6, leftside_frequency=46, rightside_frequency=12),\n",
       " '넥': Scores(cohesion_forward=0, cohesion_backward=0, left_branching_entropy=3.4538748953789318, right_branching_entropy=1.2524779885362833, left_accessor_variety=45, right_accessor_variety=7, leftside_frequency=277, rightside_frequency=19),\n",
       " '톨': Scores(cohesion_forward=0, cohesion_backward=0, left_branching_entropy=0.2509548043576197, right_branching_entropy=0.5455945739691843, left_accessor_variety=2, right_accessor_variety=2, leftside_frequency=38, rightside_frequency=0),\n",
       " '것': Scores(cohesion_forward=0, cohesion_backward=0, left_branching_entropy=2.8478530351072306, right_branching_entropy=2.4201427816856134, left_accessor_variety=132, right_accessor_variety=208, leftside_frequency=30450, rightside_frequency=100),\n",
       " '갤': Scores(cohesion_forward=0, cohesion_backward=0, left_branching_entropy=3.7732913946408493, right_branching_entropy=1.0106135134985064, left_accessor_variety=83, right_accessor_variety=7, leftside_frequency=992, rightside_frequency=0),\n",
       " '팬': Scores(cohesion_forward=0, cohesion_backward=0, left_branching_entropy=4.230579421231822, right_branching_entropy=2.1858307888339215, left_accessor_variety=135, right_accessor_variety=47, leftside_frequency=1595, rightside_frequency=54),\n",
       " '텟': Scores(cohesion_forward=0, cohesion_backward=0, left_branching_entropy=-0.0, right_branching_entropy=-0.0, left_accessor_variety=1, right_accessor_variety=1, leftside_frequency=0, rightside_frequency=5),\n",
       " '헛': Scores(cohesion_forward=0, cohesion_backward=0, left_branching_entropy=2.9299948199107946, right_branching_entropy=1.1394471548372276, left_accessor_variety=25, right_accessor_variety=7, leftside_frequency=234, rightside_frequency=0),\n",
       " '번': Scores(cohesion_forward=0, cohesion_backward=0, left_branching_entropy=2.9955845505706447, right_branching_entropy=4.868068540005042, left_accessor_variety=104, right_accessor_variety=376, leftside_frequency=2620, rightside_frequency=6740),\n",
       " '훅': Scores(cohesion_forward=0, cohesion_backward=0, left_branching_entropy=1.9217150457160537, right_branching_entropy=1.580351101872914, left_accessor_variety=9, right_accessor_variety=6, leftside_frequency=25, rightside_frequency=0),\n",
       " '썹': Scores(cohesion_forward=0, cohesion_backward=0, left_branching_entropy=-0.0, right_branching_entropy=1.5607104090414063, left_accessor_variety=1, right_accessor_variety=5, leftside_frequency=0, rightside_frequency=24),\n",
       " '풍': Scores(cohesion_forward=0, cohesion_backward=0, left_branching_entropy=3.926104355279827, right_branching_entropy=3.39757486355272, left_accessor_variety=109, right_accessor_variety=95, leftside_frequency=1493, rightside_frequency=641),\n",
       " '샜': Scores(cohesion_forward=0, cohesion_backward=0, left_branching_entropy=-0.0, right_branching_entropy=-0.0, left_accessor_variety=1, right_accessor_variety=1, leftside_frequency=8, rightside_frequency=0),\n",
       " '팍': Scores(cohesion_forward=0, cohesion_backward=0, left_branching_entropy=1.7328679513998633, right_branching_entropy=0.6730116670092565, left_accessor_variety=6, right_accessor_variety=2, leftside_frequency=20, rightside_frequency=0),\n",
       " '측': Scores(cohesion_forward=0, cohesion_backward=0, left_branching_entropy=4.440534873006599, right_branching_entropy=2.5764155143629157, left_accessor_variety=177, right_accessor_variety=79, leftside_frequency=2935, rightside_frequency=329),\n",
       " '밑': Scores(cohesion_forward=0, cohesion_backward=0, left_branching_entropy=3.235474681147768, right_branching_entropy=2.31482617061357, left_accessor_variety=43, right_accessor_variety=15, leftside_frequency=276, rightside_frequency=17),\n",
       " '훨': Scores(cohesion_forward=0, cohesion_backward=0, left_branching_entropy=2.192095593246261, right_branching_entropy=0.17310279361489644, left_accessor_variety=23, right_accessor_variety=3, leftside_frequency=344, rightside_frequency=6),\n",
       " '킷': Scores(cohesion_forward=0, cohesion_backward=0, left_branching_entropy=-0.0, right_branching_entropy=2.8267503060668595, left_accessor_variety=1, right_accessor_variety=23, leftside_frequency=0, rightside_frequency=162),\n",
       " '덧': Scores(cohesion_forward=0, cohesion_backward=0, left_branching_entropy=0.9530866719011932, right_branching_entropy=0.43113339542131635, left_accessor_variety=19, right_accessor_variety=13, leftside_frequency=1366, rightside_frequency=67),\n",
       " '좌': Scores(cohesion_forward=0, cohesion_backward=0, left_branching_entropy=3.423951838416668, right_branching_entropy=3.3076905979084676, left_accessor_variety=51, right_accessor_variety=53, leftside_frequency=408, rightside_frequency=183),\n",
       " '맛': Scores(cohesion_forward=0, cohesion_backward=0, left_branching_entropy=3.6944053294748582, right_branching_entropy=2.787861543406029, left_accessor_variety=81, right_accessor_variety=38, leftside_frequency=884, rightside_frequency=72),\n",
       " '뱀': Scores(cohesion_forward=0, cohesion_backward=0, left_branching_entropy=2.0458538157364217, right_branching_entropy=1.1551258225445797, left_accessor_variety=9, right_accessor_variety=5, leftside_frequency=61, rightside_frequency=5),\n",
       " '짤': Scores(cohesion_forward=0, cohesion_backward=0, left_branching_entropy=1.564957250242801, right_branching_entropy=0.8921178708188161, left_accessor_variety=5, right_accessor_variety=3, leftside_frequency=14, rightside_frequency=0),\n",
       " '훌': Scores(cohesion_forward=0, cohesion_backward=0, left_branching_entropy=2.6040750912942534, right_branching_entropy=0.7804958476377705, left_accessor_variety=23, right_accessor_variety=4, leftside_frequency=244, rightside_frequency=0),\n",
       " '뤄': Scores(cohesion_forward=0, cohesion_backward=0, left_branching_entropy=0, right_branching_entropy=2.697926992714136, left_accessor_variety=0, right_accessor_variety=19, leftside_frequency=0, rightside_frequency=113),\n",
       " '조': Scores(cohesion_forward=0, cohesion_backward=0, left_branching_entropy=4.763622681791006, right_branching_entropy=4.149193525125146, left_accessor_variety=441, right_accessor_variety=351, leftside_frequency=22129, rightside_frequency=2542),\n",
       " '돔': Scores(cohesion_forward=0, cohesion_backward=0, left_branching_entropy=2.1517697097088817, right_branching_entropy=2.1139316089636973, left_accessor_variety=10, right_accessor_variety=9, leftside_frequency=17, rightside_frequency=24),\n",
       " '띕': Scores(cohesion_forward=0, cohesion_backward=0, left_branching_entropy=-0.0, right_branching_entropy=-0.0, left_accessor_variety=1, right_accessor_variety=1, leftside_frequency=5, rightside_frequency=0),\n",
       " '켐': Scores(cohesion_forward=0, cohesion_backward=0, left_branching_entropy=1.3321790402101223, right_branching_entropy=1.0296530140645737, left_accessor_variety=4, right_accessor_variety=3, leftside_frequency=16, rightside_frequency=5),\n",
       " '텔': Scores(cohesion_forward=0, cohesion_backward=0, left_branching_entropy=2.9279760426769337, right_branching_entropy=3.3126162393069407, left_accessor_variety=64, right_accessor_variety=114, leftside_frequency=512, rightside_frequency=779),\n",
       " '저': Scores(cohesion_forward=0, cohesion_backward=0, left_branching_entropy=3.7184439344968934, right_branching_entropy=3.2057783779495694, left_accessor_variety=274, right_accessor_variety=359, leftside_frequency=14247, rightside_frequency=2323),\n",
       " '꽂': Scores(cohesion_forward=0, cohesion_backward=0, left_branching_entropy=1.7049838022495345, right_branching_entropy=1.9090097005068012, left_accessor_variety=7, right_accessor_variety=7, leftside_frequency=51, rightside_frequency=0),\n",
       " '훑': Scores(cohesion_forward=0, cohesion_backward=0, left_branching_entropy=0.6365141682948128, right_branching_entropy=0, left_accessor_variety=2, right_accessor_variety=0, leftside_frequency=7, rightside_frequency=0),\n",
       " '솜': Scores(cohesion_forward=0, cohesion_backward=0, left_branching_entropy=2.644923270050158, right_branching_entropy=1.302048601229707, left_accessor_variety=16, right_accessor_variety=5, leftside_frequency=70, rightside_frequency=0),\n",
       " '엿': Scores(cohesion_forward=0, cohesion_backward=0, left_branching_entropy=1.8198444099769018, right_branching_entropy=0.9964629432068404, left_accessor_variety=10, right_accessor_variety=4, leftside_frequency=170, rightside_frequency=0),\n",
       " '탠': Scores(cohesion_forward=0, cohesion_backward=0, left_branching_entropy=0, right_branching_entropy=0.6365141682948128, left_accessor_variety=0, right_accessor_variety=2, leftside_frequency=0, rightside_frequency=12),\n",
       " '둔': Scores(cohesion_forward=0, cohesion_backward=0, left_branching_entropy=3.087569234244745, right_branching_entropy=3.873001964325764, left_accessor_variety=50, right_accessor_variety=123, leftside_frequency=356, rightside_frequency=611),\n",
       " '잇': Scores(cohesion_forward=0, cohesion_backward=0, left_branching_entropy=2.77729027251591, right_branching_entropy=1.7160357179422916, left_accessor_variety=36, right_accessor_variety=18, leftside_frequency=694, rightside_frequency=51),\n",
       " '준': Scores(cohesion_forward=0, cohesion_backward=0, left_branching_entropy=4.212052803565467, right_branching_entropy=3.9844254356545865, left_accessor_variety=196, right_accessor_variety=276, leftside_frequency=2717, rightside_frequency=3723),\n",
       " '촌': Scores(cohesion_forward=0, cohesion_backward=0, left_branching_entropy=2.8100092284099043, right_branching_entropy=3.7400379843591507, left_accessor_variety=24, right_accessor_variety=60, leftside_frequency=61, rightside_frequency=362),\n",
       " '켠': Scores(cohesion_forward=0, cohesion_backward=0, left_branching_entropy=0.6931471805599453, right_branching_entropy=-0.0, left_accessor_variety=2, right_accessor_variety=1, leftside_frequency=7, rightside_frequency=0),\n",
       " '앤': Scores(cohesion_forward=0, cohesion_backward=0, left_branching_entropy=3.3076574756972255, right_branching_entropy=3.236264919415687, left_accessor_variety=39, right_accessor_variety=38, leftside_frequency=99, rightside_frequency=85),\n",
       " '색': Scores(cohesion_forward=0, cohesion_backward=0, left_branching_entropy=4.067952824710005, right_branching_entropy=3.9212533328234254, left_accessor_variety=113, right_accessor_variety=168, leftside_frequency=930, rightside_frequency=1087),\n",
       " '뉜': Scores(cohesion_forward=0, cohesion_backward=0, left_branching_entropy=0, right_branching_entropy=-0.0, left_accessor_variety=0, right_accessor_variety=1, leftside_frequency=0, rightside_frequency=5),\n",
       " '꽁': Scores(cohesion_forward=0, cohesion_backward=0, left_branching_entropy=2.025483221463867, right_branching_entropy=1.4181724138495406, left_accessor_variety=9, right_accessor_variety=6, leftside_frequency=67, rightside_frequency=22),\n",
       " '묻': Scores(cohesion_forward=0, cohesion_backward=0, left_branching_entropy=2.4696222475413836, right_branching_entropy=2.04433029512792, left_accessor_variety=41, right_accessor_variety=16, leftside_frequency=984, rightside_frequency=0),\n",
       " '듀': Scores(cohesion_forward=0, cohesion_backward=0, left_branching_entropy=3.3131358158232946, right_branching_entropy=1.5261843537299997, left_accessor_variety=39, right_accessor_variety=11, leftside_frequency=274, rightside_frequency=14),\n",
       " '평': Scores(cohesion_forward=0, cohesion_backward=0, left_branching_entropy=4.153484747665957, right_branching_entropy=2.4960855340665162, left_accessor_variety=235, right_accessor_variety=89, leftside_frequency=7596, rightside_frequency=301),\n",
       " '갈': Scores(cohesion_forward=0, cohesion_backward=0, left_branching_entropy=3.7328536475213983, right_branching_entropy=3.1252993754397274, left_accessor_variety=123, right_accessor_variety=96, leftside_frequency=1652, rightside_frequency=1462),\n",
       " '췌': Scores(cohesion_forward=0, cohesion_backward=0, left_branching_entropy=0.6931471805599453, right_branching_entropy=-0.0, left_accessor_variety=2, right_accessor_variety=1, leftside_frequency=9, rightside_frequency=0),\n",
       " '큽': Scores(cohesion_forward=0, cohesion_backward=0, left_branching_entropy=0.5623351446188083, right_branching_entropy=-0.0, left_accessor_variety=2, right_accessor_variety=1, leftside_frequency=18, rightside_frequency=0),\n",
       " '료': Scores(cohesion_forward=0, cohesion_backward=0, left_branching_entropy=2.1682205454668675, right_branching_entropy=4.271677410400215, left_accessor_variety=30, right_accessor_variety=225, leftside_frequency=39, rightside_frequency=3428),\n",
       " '싶': Scores(cohesion_forward=0, cohesion_backward=0, left_branching_entropy=0.546705331083999, right_branching_entropy=1.8489667650505703, left_accessor_variety=9, right_accessor_variety=17, leftside_frequency=2314, rightside_frequency=0),\n",
       " '옷': Scores(cohesion_forward=0, cohesion_backward=0, left_branching_entropy=3.111849527066072, right_branching_entropy=2.364765373302861, left_accessor_variety=45, right_accessor_variety=28, leftside_frequency=424, rightside_frequency=19),\n",
       " '뜬': Scores(cohesion_forward=0, cohesion_backward=0, left_branching_entropy=1.9374131391364668, right_branching_entropy=1.9051014569694718, left_accessor_variety=10, right_accessor_variety=10, leftside_frequency=34, rightside_frequency=16),\n",
       " '약': Scores(cohesion_forward=0, cohesion_backward=0, left_branching_entropy=4.259252189225738, right_branching_entropy=4.304943117733714, left_accessor_variety=198, right_accessor_variety=229, leftside_frequency=2065, rightside_frequency=2272),\n",
       " '즙': Scores(cohesion_forward=0, cohesion_backward=0, left_branching_entropy=-0.0, right_branching_entropy=0.6931471805599453, left_accessor_variety=1, right_accessor_variety=2, leftside_frequency=0, rightside_frequency=15),\n",
       " '체': Scores(cohesion_forward=0, cohesion_backward=0, left_branching_entropy=4.30390696128246, right_branching_entropy=4.522484832286171, left_accessor_variety=264, right_accessor_variety=339, leftside_frequency=5221, rightside_frequency=5229),\n",
       " '핵': Scores(cohesion_forward=0, cohesion_backward=0, left_branching_entropy=3.3125530970939123, right_branching_entropy=2.546021044318482, left_accessor_variety=118, right_accessor_variety=68, leftside_frequency=2184, rightside_frequency=159),\n",
       " '텝': Scores(cohesion_forward=0, cohesion_backward=0, left_branching_entropy=0.9949236325717751, right_branching_entropy=1.38494337369854, left_accessor_variety=3, right_accessor_variety=6, leftside_frequency=9, rightside_frequency=30),\n",
       " '깨': Scores(cohesion_forward=0, cohesion_backward=0, left_branching_entropy=2.8420351089627074, right_branching_entropy=2.879024250000571, left_accessor_variety=45, right_accessor_variety=33, leftside_frequency=611, rightside_frequency=103),\n",
       " '닝': Scores(cohesion_forward=0, cohesion_backward=0, left_branching_entropy=2.0682007999082646, right_branching_entropy=3.266145034237695, left_accessor_variety=12, right_accessor_variety=37, leftside_frequency=45, rightside_frequency=215),\n",
       " '패': Scores(cohesion_forward=0, cohesion_backward=0, left_branching_entropy=4.467186647865204, right_branching_entropy=2.307937370599901, left_accessor_variety=208, right_accessor_variety=89, leftside_frequency=3835, rightside_frequency=300),\n",
       " '얘': Scores(cohesion_forward=0, cohesion_backward=0, left_branching_entropy=3.2442573923117486, right_branching_entropy=0.12287565530193048, left_accessor_variety=78, right_accessor_variety=5, leftside_frequency=1193, rightside_frequency=0),\n",
       " '며': Scores(cohesion_forward=0, cohesion_backward=0, left_branching_entropy=2.39441290739964, right_branching_entropy=5.425491931584892, left_accessor_variety=75, right_accessor_variety=636, leftside_frequency=154, rightside_frequency=25102),\n",
       " '뭄': Scores(cohesion_forward=0, cohesion_backward=0, left_branching_entropy=0, right_branching_entropy=0.5004024235381879, left_accessor_variety=0, right_accessor_variety=2, leftside_frequency=8, rightside_frequency=5),\n",
       " '뜯': Scores(cohesion_forward=0, cohesion_backward=0, left_branching_entropy=1.4231371345268764, right_branching_entropy=0.23032354087587759, left_accessor_variety=10, right_accessor_variety=2, leftside_frequency=125, rightside_frequency=0),\n",
       " '랜': Scores(cohesion_forward=0, cohesion_backward=0, left_branching_entropy=2.878008343666608, right_branching_entropy=3.0135252606128504, left_accessor_variety=29, right_accessor_variety=51, leftside_frequency=236, rightside_frequency=395),\n",
       " '힉': Scores(cohesion_forward=0, cohesion_backward=0, left_branching_entropy=0.5982695885852573, right_branching_entropy=-0.0, left_accessor_variety=2, right_accessor_variety=1, leftside_frequency=17, rightside_frequency=0),\n",
       " '솥': Scores(cohesion_forward=0, cohesion_backward=0, left_branching_entropy=0.6896709283570267, right_branching_entropy=1.3194222729952845, left_accessor_variety=2, right_accessor_variety=4, leftside_frequency=0, rightside_frequency=25),\n",
       " '종': Scores(cohesion_forward=0, cohesion_backward=0, left_branching_entropy=4.83734087324173, right_branching_entropy=4.32167200827628, left_accessor_variety=290, right_accessor_variety=289, leftside_frequency=4945, rightside_frequency=3666),\n",
       " '눈': Scores(cohesion_forward=0, cohesion_backward=0, left_branching_entropy=3.19261126276259, right_branching_entropy=2.814577503603357, left_accessor_variety=122, right_accessor_variety=82, leftside_frequency=3479, rightside_frequency=122),\n",
       " '톡': Scores(cohesion_forward=0, cohesion_backward=0, left_branching_entropy=2.0863728630991014, right_branching_entropy=2.399660319343291, left_accessor_variety=27, right_accessor_variety=34, leftside_frequency=163, rightside_frequency=545),\n",
       " '쩜': Scores(cohesion_forward=0, cohesion_backward=0, left_branching_entropy=0, right_branching_entropy=0.6730116670092565, left_accessor_variety=0, right_accessor_variety=2, leftside_frequency=0, rightside_frequency=7),\n",
       " '량': Scores(cohesion_forward=0, cohesion_backward=0, left_branching_entropy=2.696643969682644, right_branching_entropy=4.7847767332585045, left_accessor_variety=28, right_accessor_variety=201, leftside_frequency=5, rightside_frequency=2364),\n",
       " '공': Scores(cohesion_forward=0, cohesion_backward=0, left_branching_entropy=4.521931577754722, right_branching_entropy=4.014790456930513, left_accessor_variety=462, right_accessor_variety=394, leftside_frequency=34541, rightside_frequency=5423),\n",
       " '쿱': Scores(cohesion_forward=0, cohesion_backward=0, left_branching_entropy=-0.0, right_branching_entropy=-0.0, left_accessor_variety=1, right_accessor_variety=1, leftside_frequency=0, rightside_frequency=6),\n",
       " '섰': Scores(cohesion_forward=0, cohesion_backward=0, left_branching_entropy=0.8420532118309714, right_branching_entropy=0.7499242273867269, left_accessor_variety=7, right_accessor_variety=3, leftside_frequency=168, rightside_frequency=0),\n",
       " '꿰': Scores(cohesion_forward=0, cohesion_backward=0, left_branching_entropy=1.1297739581781119, right_branching_entropy=1.5540354473991147, left_accessor_variety=5, right_accessor_variety=5, leftside_frequency=56, rightside_frequency=0),\n",
       " '밝': Scores(cohesion_forward=0, cohesion_backward=0, left_branching_entropy=1.792382248235827, right_branching_entropy=0.8990676640736698, left_accessor_variety=64, right_accessor_variety=15, leftside_frequency=11970, rightside_frequency=0),\n",
       " '냅': Scores(cohesion_forward=0, cohesion_backward=0, left_branching_entropy=0.7251804619593594, right_branching_entropy=0.6425668400189826, left_accessor_variety=3, right_accessor_variety=3, leftside_frequency=15, rightside_frequency=34),\n",
       " '흑': Scores(cohesion_forward=0, cohesion_backward=0, left_branching_entropy=3.4136859905159507, right_branching_entropy=1.5779029894458925, left_accessor_variety=47, right_accessor_variety=10, leftside_frequency=380, rightside_frequency=0),\n",
       " '훔': Scores(cohesion_forward=0, cohesion_backward=0, left_branching_entropy=1.7481774574015048, right_branching_entropy=1.2963123270119183, left_accessor_variety=13, right_accessor_variety=4, leftside_frequency=125, rightside_frequency=0),\n",
       " '밧': Scores(cohesion_forward=0, cohesion_backward=0, left_branching_entropy=1.0986122886681096, right_branching_entropy=-0.0, left_accessor_variety=3, right_accessor_variety=1, leftside_frequency=13, rightside_frequency=0),\n",
       " '1': Scores(cohesion_forward=0, cohesion_backward=0, left_branching_entropy=4.559793554415731, right_branching_entropy=3.575478059973849, left_accessor_variety=526, right_accessor_variety=394, leftside_frequency=71085, rightside_frequency=10733),\n",
       " '딸': Scores(cohesion_forward=0, cohesion_backward=0, left_branching_entropy=3.245875269275488, right_branching_entropy=3.2099383945584727, left_accessor_variety=76, right_accessor_variety=65, leftside_frequency=574, rightside_frequency=32),\n",
       " '트': Scores(cohesion_forward=0, cohesion_backward=0, left_branching_entropy=4.119342870656743, right_branching_entropy=4.726545060620588, left_accessor_variety=329, right_accessor_variety=467, leftside_frequency=7023, rightside_frequency=12875),\n",
       " '뷔': Scores(cohesion_forward=0, cohesion_backward=0, left_branching_entropy=1.1035578599174531, right_branching_entropy=2.3924659717852435, left_accessor_variety=5, right_accessor_variety=32, leftside_frequency=25, rightside_frequency=949),\n",
       " '뎃': Scores(cohesion_forward=0, cohesion_backward=0, left_branching_entropy=-0.0, right_branching_entropy=0.6869615765973234, left_accessor_variety=1, right_accessor_variety=2, leftside_frequency=0, rightside_frequency=9),\n",
       " '쏠': Scores(cohesion_forward=0, cohesion_backward=0, left_branching_entropy=1.6050558417689376, right_branching_entropy=1.7926584611310048, left_accessor_variety=20, right_accessor_variety=12, leftside_frequency=287, rightside_frequency=0),\n",
       " '럽': Scores(cohesion_forward=0, cohesion_backward=0, left_branching_entropy=0.43932781849352504, right_branching_entropy=3.9949269909713783, left_accessor_variety=2, right_accessor_variety=88, leftside_frequency=0, rightside_frequency=865),\n",
       " '뽀': Scores(cohesion_forward=0, cohesion_backward=0, left_branching_entropy=2.55243571821447, right_branching_entropy=1.2045652207446214, left_accessor_variety=19, right_accessor_variety=5, leftside_frequency=153, rightside_frequency=11),\n",
       " '쩍': Scores(cohesion_forward=0, cohesion_backward=0, left_branching_entropy=-0.0, right_branching_entropy=2.113712914727078, left_accessor_variety=1, right_accessor_variety=17, leftside_frequency=6, rightside_frequency=149),\n",
       " '깍': Scores(cohesion_forward=0, cohesion_backward=0, left_branching_entropy=1.5317780787913653, right_branching_entropy=-0.0, left_accessor_variety=5, right_accessor_variety=1, leftside_frequency=20, rightside_frequency=0),\n",
       " '뭔': Scores(cohesion_forward=0, cohesion_backward=0, left_branching_entropy=2.7885890366573216, right_branching_entropy=0.64281234740109, left_accessor_variety=23, right_accessor_variety=5, leftside_frequency=160, rightside_frequency=0),\n",
       " '펠': Scores(cohesion_forward=0, cohesion_backward=0, left_branching_entropy=1.847410762973004, right_branching_entropy=0.9568415005776374, left_accessor_variety=10, right_accessor_variety=5, leftside_frequency=77, rightside_frequency=12),\n",
       " '웁': Scores(cohesion_forward=0, cohesion_backward=0, left_branching_entropy=-0.0, right_branching_entropy=-0.0, left_accessor_variety=1, right_accessor_variety=1, leftside_frequency=18, rightside_frequency=0),\n",
       " '찡': Scores(cohesion_forward=0, cohesion_backward=0, left_branching_entropy=0.9949236325717751, right_branching_entropy=-0.0, left_accessor_variety=3, right_accessor_variety=1, leftside_frequency=13, rightside_frequency=0),\n",
       " '퀼': Scores(cohesion_forward=0, cohesion_backward=0, left_branching_entropy=2.2052236275961636, right_branching_entropy=-0.0, left_accessor_variety=10, right_accessor_variety=1, leftside_frequency=47, rightside_frequency=0),\n",
       " '툼': Scores(cohesion_forward=0, cohesion_backward=0, left_branching_entropy=-0.0, right_branching_entropy=1.519382664642301, left_accessor_variety=1, right_accessor_variety=5, leftside_frequency=0, rightside_frequency=22),\n",
       " '션': Scores(cohesion_forward=0, cohesion_backward=0, left_branching_entropy=2.0089411905709595, right_branching_entropy=4.804245416615696, left_accessor_variety=20, right_accessor_variety=217, leftside_frequency=10, rightside_frequency=2569),\n",
       " '뱉': Scores(cohesion_forward=0, cohesion_backward=0, left_branching_entropy=0.6730116670092565, right_branching_entropy=-0.0, left_accessor_variety=2, right_accessor_variety=1, leftside_frequency=14, rightside_frequency=0),\n",
       " '육': Scores(cohesion_forward=0, cohesion_backward=0, left_branching_entropy=3.314980087853477, right_branching_entropy=3.8971397722256262, left_accessor_variety=103, right_accessor_variety=151, leftside_frequency=1437, rightside_frequency=1754),\n",
       " '댑': Scores(cohesion_forward=0, cohesion_backward=0, left_branching_entropy=-0.0, right_branching_entropy=-0.0, left_accessor_variety=1, right_accessor_variety=1, leftside_frequency=6, rightside_frequency=0),\n",
       " '뉘': Scores(cohesion_forward=0, cohesion_backward=0, left_branching_entropy=1.7504416966364251, right_branching_entropy=0.5954002839805336, left_accessor_variety=7, right_accessor_variety=2, leftside_frequency=50, rightside_frequency=0),\n",
       " '먼': Scores(cohesion_forward=0, cohesion_backward=0, left_branching_entropy=3.155515290737338, right_branching_entropy=1.5021249978867752, left_accessor_variety=59, right_accessor_variety=45, leftside_frequency=1231, rightside_frequency=288),\n",
       " '격': Scores(cohesion_forward=0, cohesion_backward=0, left_branching_entropy=3.822502697720247, right_branching_entropy=4.577990280685077, left_accessor_variety=91, right_accessor_variety=207, leftside_frequency=989, rightside_frequency=1829),\n",
       " '완': Scores(cohesion_forward=0, cohesion_backward=0, left_branching_entropy=3.8684964432235067, right_branching_entropy=2.7650864796286707, left_accessor_variety=164, right_accessor_variety=76, leftside_frequency=3681, rightside_frequency=575),\n",
       " '봄': Scores(cohesion_forward=0, cohesion_backward=0, left_branching_entropy=2.4548716384628535, right_branching_entropy=2.364629755690726, left_accessor_variety=20, right_accessor_variety=21, leftside_frequency=135, rightside_frequency=37),\n",
       " '쾌': Scores(cohesion_forward=0, cohesion_backward=0, left_branching_entropy=2.8705837616726635, right_branching_entropy=1.5717943007756556, left_accessor_variety=27, right_accessor_variety=10, leftside_frequency=252, rightside_frequency=0),\n",
       " '월': Scores(cohesion_forward=0, cohesion_backward=0, left_branching_entropy=2.8658828620286876, right_branching_entropy=4.465495566189176, left_accessor_variety=162, right_accessor_variety=354, leftside_frequency=2286, rightside_frequency=12603),\n",
       " '턴': Scores(cohesion_forward=0, cohesion_backward=0, left_branching_entropy=1.4340412117202102, right_branching_entropy=3.6376032788330153, left_accessor_variety=18, right_accessor_variety=107, leftside_frequency=22, rightside_frequency=1778),\n",
       " '갑': Scores(cohesion_forward=0, cohesion_backward=0, left_branching_entropy=3.241757816336815, right_branching_entropy=2.1586799864835085, left_accessor_variety=69, right_accessor_variety=48, leftside_frequency=1128, rightside_frequency=173),\n",
       " '뭣': Scores(cohesion_forward=0, cohesion_backward=0, left_branching_entropy=0.6931471805599453, right_branching_entropy=-0.0, left_accessor_variety=2, right_accessor_variety=1, leftside_frequency=8, rightside_frequency=0),\n",
       " '릭': Scores(cohesion_forward=0, cohesion_backward=0, left_branching_entropy=1.2433810116671173, right_branching_entropy=3.1202647094245184, left_accessor_variety=6, right_accessor_variety=38, leftside_frequency=0, rightside_frequency=243),\n",
       " '답': Scores(cohesion_forward=0, cohesion_backward=0, left_branching_entropy=2.908853150688512, right_branching_entropy=2.3500961928354767, left_accessor_variety=79, right_accessor_variety=49, leftside_frequency=2050, rightside_frequency=169),\n",
       " '팜': Scores(cohesion_forward=0, cohesion_backward=0, left_branching_entropy=2.6319693163871953, right_branching_entropy=0.9526283598698889, left_accessor_variety=20, right_accessor_variety=6, leftside_frequency=135, rightside_frequency=23),\n",
       " '길': Scores(cohesion_forward=0, cohesion_backward=0, left_branching_entropy=3.896702193715592, right_branching_entropy=3.8989292296712557, left_accessor_variety=171, right_accessor_variety=203, leftside_frequency=1371, rightside_frequency=2915),\n",
       " '테': Scores(cohesion_forward=0, cohesion_backward=0, left_branching_entropy=4.229758251120615, right_branching_entropy=2.9811831020533464, left_accessor_variety=203, right_accessor_variety=89, leftside_frequency=2326, rightside_frequency=699),\n",
       " '둑': Scores(cohesion_forward=0, cohesion_backward=0, left_branching_entropy=1.1217853135747708, right_branching_entropy=1.7432560874178025, left_accessor_variety=4, right_accessor_variety=8, leftside_frequency=22, rightside_frequency=25),\n",
       " '퐁': Scores(cohesion_forward=0, cohesion_backward=0, left_branching_entropy=1.15374194270109, right_branching_entropy=0.5982695885852573, left_accessor_variety=4, right_accessor_variety=2, leftside_frequency=8, rightside_frequency=9),\n",
       " '찾': Scores(cohesion_forward=0, cohesion_backward=0, left_branching_entropy=2.129029243982545, right_branching_entropy=1.7808211856904763, left_accessor_variety=90, right_accessor_variety=16, leftside_frequency=4156, rightside_frequency=0),\n",
       " '실': Scores(cohesion_forward=0, cohesion_backward=0, left_branching_entropy=4.484461319116033, right_branching_entropy=4.170682483732901, left_accessor_variety=378, right_accessor_variety=349, leftside_frequency=13164, rightside_frequency=4911),\n",
       " '짙': Scores(cohesion_forward=0, cohesion_backward=0, left_branching_entropy=2.431299445096434, right_branching_entropy=1.1478683312013354, left_accessor_variety=21, right_accessor_variety=5, leftside_frequency=261, rightside_frequency=0),\n",
       " '툇': Scores(cohesion_forward=0, cohesion_backward=0, left_branching_entropy=0.5004024235381879, right_branching_entropy=-0.0, left_accessor_variety=2, right_accessor_variety=1, leftside_frequency=15, rightside_frequency=0),\n",
       " '붓': Scores(cohesion_forward=0, cohesion_backward=0, left_branching_entropy=1.9186648025447774, right_branching_entropy=1.0217278604945916, left_accessor_variety=8, right_accessor_variety=3, leftside_frequency=46, rightside_frequency=0),\n",
       " '설': Scores(cohesion_forward=0, cohesion_backward=0, left_branching_entropy=3.837813284556568, right_branching_entropy=3.2409818585959713, left_accessor_variety=255, right_accessor_variety=249, leftside_frequency=8959, rightside_frequency=2706),\n",
       " '동': Scores(cohesion_forward=0, cohesion_backward=0, left_branching_entropy=4.67482344346373, right_branching_entropy=4.498774782798983, left_accessor_variety=445, right_accessor_variety=415, leftside_frequency=18571, rightside_frequency=6833),\n",
       " '악': Scores(cohesion_forward=0, cohesion_backward=0, left_branching_entropy=4.035168771620875, right_branching_entropy=3.697743866282835, left_accessor_variety=126, right_accessor_variety=106, leftside_frequency=1686, rightside_frequency=568),\n",
       " '찬': Scores(cohesion_forward=0, cohesion_backward=0, left_branching_entropy=3.8332891673310865, right_branching_entropy=3.6105137769663807, left_accessor_variety=88, right_accessor_variety=113, leftside_frequency=737, rightside_frequency=610),\n",
       " '져': Scores(cohesion_forward=0, cohesion_backward=0, left_branching_entropy=2.416482302717246, right_branching_entropy=3.9365328716651597, left_accessor_variety=25, right_accessor_variety=201, leftside_frequency=33, rightside_frequency=2569),\n",
       " '쇳': Scores(cohesion_forward=0, cohesion_backward=0, left_branching_entropy=0.6365141682948128, right_branching_entropy=-0.0, left_accessor_variety=2, right_accessor_variety=1, leftside_frequency=12, rightside_frequency=0),\n",
       " '4': Scores(cohesion_forward=0, cohesion_backward=0, left_branching_entropy=4.653755254216081, right_branching_entropy=4.288409708423021, left_accessor_variety=366, right_accessor_variety=307, leftside_frequency=15214, rightside_frequency=4893),\n",
       " '벨': Scores(cohesion_forward=0, cohesion_backward=0, left_branching_entropy=3.310771650500934, right_branching_entropy=3.378437012195048, left_accessor_variety=40, right_accessor_variety=48, leftside_frequency=178, rightside_frequency=206),\n",
       " '굿': Scores(cohesion_forward=0, cohesion_backward=0, left_branching_entropy=2.73392228887967, right_branching_entropy=1.9365527951718948, left_accessor_variety=18, right_accessor_variety=10, leftside_frequency=79, rightside_frequency=10),\n",
       " '쪽': Scores(cohesion_forward=0, cohesion_backward=0, left_branching_entropy=3.2382969683406535, right_branching_entropy=3.9621268351963286, left_accessor_variety=97, right_accessor_variety=140, leftside_frequency=612, rightside_frequency=1472),\n",
       " '폐': Scores(cohesion_forward=0, cohesion_backward=0, left_branching_entropy=4.197915279517627, right_branching_entropy=2.8966148578241797, left_accessor_variety=114, right_accessor_variety=48, leftside_frequency=1094, rightside_frequency=89),\n",
       " '참': Scores(cohesion_forward=0, cohesion_backward=0, left_branching_entropy=2.79207530375995, right_branching_entropy=1.7198090941431088, left_accessor_variety=208, right_accessor_variety=86, leftside_frequency=12587, rightside_frequency=135),\n",
       " '덤': Scores(cohesion_forward=0, cohesion_backward=0, left_branching_entropy=2.394155552849728, right_branching_entropy=2.6462313996978897, left_accessor_variety=13, right_accessor_variety=21, leftside_frequency=73, rightside_frequency=59),\n",
       " '손': Scores(cohesion_forward=0, cohesion_backward=0, left_branching_entropy=4.110111016525879, right_branching_entropy=3.2738288392999304, left_accessor_variety=241, right_accessor_variety=132, leftside_frequency=5529, rightside_frequency=249),\n",
       " '교': Scores(cohesion_forward=0, cohesion_backward=0, left_branching_entropy=4.663185891948859, right_branching_entropy=3.5026155127227128, left_accessor_variety=374, right_accessor_variety=284, leftside_frequency=11154, rightside_frequency=3856),\n",
       " '굶': Scores(cohesion_forward=0, cohesion_backward=0, left_branching_entropy=1.9274066713290796, right_branching_entropy=1.0006175255190992, left_accessor_variety=8, right_accessor_variety=3, leftside_frequency=43, rightside_frequency=0),\n",
       " '화': Scores(cohesion_forward=0, cohesion_backward=0, left_branching_entropy=4.623569355577031, right_branching_entropy=4.517902467261302, left_accessor_variety=404, right_accessor_variety=423, leftside_frequency=10144, rightside_frequency=9706),\n",
       " '왠': Scores(cohesion_forward=0, cohesion_backward=0, left_branching_entropy=1.5607104090414063, right_branching_entropy=-0.0, left_accessor_variety=5, right_accessor_variety=1, leftside_frequency=22, rightside_frequency=0),\n",
       " '깎': Scores(cohesion_forward=0, cohesion_backward=0, left_branching_entropy=1.894683897516393, right_branching_entropy=0.3165489716094417, left_accessor_variety=9, right_accessor_variety=2, leftside_frequency=77, rightside_frequency=0),\n",
       " '덟': Scores(cohesion_forward=0, cohesion_backward=0, left_branching_entropy=0, right_branching_entropy=1.6076694682412223, left_accessor_variety=0, right_accessor_variety=6, leftside_frequency=0, rightside_frequency=35),\n",
       " '멈': Scores(cohesion_forward=0, cohesion_backward=0, left_branching_entropy=2.794911323760622, right_branching_entropy=1.5988922408469257, left_accessor_variety=30, right_accessor_variety=6, leftside_frequency=290, rightside_frequency=0),\n",
       " '늑': Scores(cohesion_forward=0, cohesion_backward=0, left_branching_entropy=2.0725239149922294, right_branching_entropy=1.077513464358952, left_accessor_variety=10, right_accessor_variety=3, leftside_frequency=67, rightside_frequency=0),\n",
       " '갇': Scores(cohesion_forward=0, cohesion_backward=0, left_branching_entropy=0.5720006643989887, right_branching_entropy=1.3191944066361652, left_accessor_variety=5, right_accessor_variety=4, leftside_frequency=116, rightside_frequency=0),\n",
       " '센': Scores(cohesion_forward=0, cohesion_backward=0, left_branching_entropy=4.226066811825234, right_branching_entropy=1.8903311175780846, left_accessor_variety=110, right_accessor_variety=30, leftside_frequency=1014, rightside_frequency=126),\n",
       " '얕': Scores(cohesion_forward=0, cohesion_backward=0, left_branching_entropy=1.9072709391394818, right_branching_entropy=-0.0, left_accessor_variety=7, right_accessor_variety=1, leftside_frequency=29, rightside_frequency=0),\n",
       " '웃': Scores(cohesion_forward=0, cohesion_backward=0, left_branching_entropy=3.678312255997248, right_branching_entropy=1.927218807077616, left_accessor_variety=98, right_accessor_variety=39, leftside_frequency=2156, rightside_frequency=138),\n",
       " '갸': Scores(cohesion_forward=0, cohesion_backward=0, left_branching_entropy=0.47413931305783735, right_branching_entropy=-0.0, left_accessor_variety=2, right_accessor_variety=1, leftside_frequency=16, rightside_frequency=0),\n",
       " '얼': Scores(cohesion_forward=0, cohesion_backward=0, left_branching_entropy=3.709341625650706, right_branching_entropy=2.1420887625415195, left_accessor_variety=98, right_accessor_variety=77, leftside_frequency=1845, rightside_frequency=418),\n",
       " '침': Scores(cohesion_forward=0, cohesion_backward=0, left_branching_entropy=3.963646671238297, right_branching_entropy=3.4762224838315943, left_accessor_variety=114, right_accessor_variety=97, leftside_frequency=1536, rightside_frequency=572),\n",
       " '햇': Scores(cohesion_forward=0, cohesion_backward=0, left_branching_entropy=2.8537322566035304, right_branching_entropy=1.427921099763013, left_accessor_variety=24, right_accessor_variety=6, leftside_frequency=203, rightside_frequency=6),\n",
       " '품': Scores(cohesion_forward=0, cohesion_backward=0, left_branching_entropy=3.5076912106762097, right_branching_entropy=4.691505474577825, left_accessor_variety=118, right_accessor_variety=258, leftside_frequency=1145, rightside_frequency=4166),\n",
       " '딩': Scores(cohesion_forward=0, cohesion_backward=0, left_branching_entropy=2.074862025443262, right_branching_entropy=4.196977883862855, left_accessor_variety=12, right_accessor_variety=103, leftside_frequency=9, rightside_frequency=793),\n",
       " '걸': Scores(cohesion_forward=0, cohesion_backward=0, left_branching_entropy=3.3906281188320806, right_branching_entropy=3.459232377887463, left_accessor_variety=130, right_accessor_variety=171, leftside_frequency=3926, rightside_frequency=333),\n",
       " '물': Scores(cohesion_forward=0, cohesion_backward=0, left_branching_entropy=4.174039641557479, right_branching_entropy=4.346157563481207, left_accessor_variety=271, right_accessor_variety=322, leftside_frequency=6809, rightside_frequency=3012),\n",
       " '휀': Scores(cohesion_forward=0, cohesion_backward=0, left_branching_entropy=0.6931471805599453, right_branching_entropy=0, left_accessor_variety=2, right_accessor_variety=0, leftside_frequency=5, rightside_frequency=0),\n",
       " '돛': Scores(cohesion_forward=0, cohesion_backward=0, left_branching_entropy=-0.0, right_branching_entropy=0, left_accessor_variety=1, right_accessor_variety=0, leftside_frequency=5, rightside_frequency=0),\n",
       " '섹': Scores(cohesion_forward=0, cohesion_backward=0, left_branching_entropy=2.9924872579806765, right_branching_entropy=0.8788947371590308, left_accessor_variety=32, right_accessor_variety=4, leftside_frequency=386, rightside_frequency=0),\n",
       " '쁘': Scores(cohesion_forward=0, cohesion_backward=0, left_branching_entropy=1.519382664642301, right_branching_entropy=-0.0, left_accessor_variety=5, right_accessor_variety=1, leftside_frequency=14, rightside_frequency=0),\n",
       " '눠': Scores(cohesion_forward=0, cohesion_backward=0, left_branching_entropy=0, right_branching_entropy=3.389398784052171, left_accessor_variety=0, right_accessor_variety=39, leftside_frequency=0, rightside_frequency=221),\n",
       " '슝': Scores(cohesion_forward=0, cohesion_backward=0, left_branching_entropy=-0.0, right_branching_entropy=0.5982695885852573, left_accessor_variety=1, right_accessor_variety=2, leftside_frequency=0, rightside_frequency=11),\n",
       " '률': Scores(cohesion_forward=0, cohesion_backward=0, left_branching_entropy=2.259189062394721, right_branching_entropy=3.8268017531485494, left_accessor_variety=21, right_accessor_variety=97, leftside_frequency=0, rightside_frequency=1400),\n",
       " '깻': Scores(cohesion_forward=0, cohesion_backward=0, left_branching_entropy=0.47413931305783735, right_branching_entropy=-0.0, left_accessor_variety=2, right_accessor_variety=1, leftside_frequency=19, rightside_frequency=0),\n",
       " '섣': Scores(cohesion_forward=0, cohesion_backward=0, left_branching_entropy=2.3451059141743924, right_branching_entropy=0.6645284386549151, left_accessor_variety=11, right_accessor_variety=2, leftside_frequency=42, rightside_frequency=0),\n",
       " '강': Scores(cohesion_forward=0, cohesion_backward=0, left_branching_entropy=4.24228383254578, right_branching_entropy=3.708816193705747, left_accessor_variety=369, right_accessor_variety=244, leftside_frequency=19071, rightside_frequency=1006),\n",
       " '닫': Scores(cohesion_forward=0, cohesion_backward=0, left_branching_entropy=2.597608432937913, right_branching_entropy=2.180256508181921, left_accessor_variety=31, right_accessor_variety=13, leftside_frequency=359, rightside_frequency=0),\n",
       " '받': Scores(cohesion_forward=0, cohesion_backward=0, left_branching_entropy=1.9504954587636365, right_branching_entropy=2.1752444987105135, left_accessor_variety=146, right_accessor_variety=21, leftside_frequency=10897, rightside_frequency=0),\n",
       " '짭': Scores(cohesion_forward=0, cohesion_backward=0, left_branching_entropy=0.6931471805599453, right_branching_entropy=-0.0, left_accessor_variety=2, right_accessor_variety=1, leftside_frequency=7, rightside_frequency=0),\n",
       " '셋': Scores(cohesion_forward=0, cohesion_backward=0, left_branching_entropy=3.0207572240694027, right_branching_entropy=1.6756010042668954, left_accessor_variety=27, right_accessor_variety=14, leftside_frequency=173, rightside_frequency=60),\n",
       " '핥': Scores(cohesion_forward=0, cohesion_backward=0, left_branching_entropy=-0.0, right_branching_entropy=0, left_accessor_variety=1, right_accessor_variety=0, leftside_frequency=5, rightside_frequency=0),\n",
       " '려': Scores(cohesion_forward=0, cohesion_backward=0, left_branching_entropy=2.6284931030600247, right_branching_entropy=4.954014058442026, left_accessor_variety=37, right_accessor_variety=299, leftside_frequency=0, rightside_frequency=3886),\n",
       " '나': Scores(cohesion_forward=0, cohesion_backward=0, left_branching_entropy=4.18470460045603, right_branching_entropy=5.204744456286171, left_accessor_variety=465, right_accessor_variety=720, leftside_frequency=22214, rightside_frequency=18529),\n",
       " '핍': Scores(cohesion_forward=0, cohesion_backward=0, left_branching_entropy=0, right_branching_entropy=0.6931471805599453, left_accessor_variety=0, right_accessor_variety=2, leftside_frequency=0, rightside_frequency=9),\n",
       " '늄': Scores(cohesion_forward=0, cohesion_backward=0, left_branching_entropy=0.8832020462449786, right_branching_entropy=2.0237752895099956, left_accessor_variety=3, right_accessor_variety=8, leftside_frequency=0, rightside_frequency=35),\n",
       " '칫': Scores(cohesion_forward=0, cohesion_backward=0, left_branching_entropy=0, right_branching_entropy=2.847435971760307, left_accessor_variety=0, right_accessor_variety=19, leftside_frequency=7, rightside_frequency=86),\n",
       " '요': Scores(cohesion_forward=0, cohesion_backward=0, left_branching_entropy=4.0406329930308695, right_branching_entropy=4.816214911453993, left_accessor_variety=279, right_accessor_variety=475, leftside_frequency=5424, rightside_frequency=10464),\n",
       " '괌': Scores(cohesion_forward=0, cohesion_backward=0, left_branching_entropy=1.8364299221020812, right_branching_entropy=0.8828275435751075, left_accessor_variety=8, right_accessor_variety=3, leftside_frequency=31, rightside_frequency=0),\n",
       " '층': Scores(cohesion_forward=0, cohesion_backward=0, left_branching_entropy=3.3001343159425542, right_branching_entropy=4.4293513818155565, left_accessor_variety=50, right_accessor_variety=156, leftside_frequency=142, rightside_frequency=1856),\n",
       " '낀': Scores(cohesion_forward=0, cohesion_backward=0, left_branching_entropy=1.642582732698203, right_branching_entropy=2.595188835244782, left_accessor_variety=6, right_accessor_variety=17, leftside_frequency=0, rightside_frequency=59),\n",
       " '땐': Scores(cohesion_forward=0, cohesion_backward=0, left_branching_entropy=1.6471695066052783, right_branching_entropy=3.1014798196291724, left_accessor_variety=11, right_accessor_variety=27, leftside_frequency=0, rightside_frequency=36),\n",
       " '된': Scores(cohesion_forward=0, cohesion_backward=0, left_branching_entropy=4.099848495612567, right_branching_entropy=4.833464170224857, left_accessor_variety=221, right_accessor_variety=459, leftside_frequency=2730, rightside_frequency=16465),\n",
       " '부': Scores(cohesion_forward=0, cohesion_backward=0, left_branching_entropy=5.057226036624211, right_branching_entropy=4.742283493440775, left_accessor_variety=539, right_accessor_variety=487, leftside_frequency=24885, rightside_frequency=12983),\n",
       " '옐': Scores(cohesion_forward=0, cohesion_backward=0, left_branching_entropy=2.0278701686722105, right_branching_entropy=0.6806294878916634, left_accessor_variety=9, right_accessor_variety=2, leftside_frequency=40, rightside_frequency=0),\n",
       " '예': Scores(cohesion_forward=0, cohesion_backward=0, left_branching_entropy=4.313814898965261, right_branching_entropy=2.8112501216843144, left_accessor_variety=359, right_accessor_variety=183, leftside_frequency=16000, rightside_frequency=767),\n",
       " '잰': Scores(cohesion_forward=0, cohesion_backward=0, left_branching_entropy=1.0986122886681096, right_branching_entropy=0.6931471805599453, left_accessor_variety=3, right_accessor_variety=2, leftside_frequency=6, rightside_frequency=0),\n",
       " '긍': Scores(cohesion_forward=0, cohesion_backward=0, left_branching_entropy=2.9725870567207493, right_branching_entropy=0.06941989041669758, left_accessor_variety=31, right_accessor_variety=2, leftside_frequency=540, rightside_frequency=0),\n",
       " '흘': Scores(cohesion_forward=0, cohesion_backward=0, left_branching_entropy=2.393003934326057, right_branching_entropy=2.2485201974096785, left_accessor_variety=23, right_accessor_variety=19, leftside_frequency=391, rightside_frequency=135),\n",
       " '뮤': Scores(cohesion_forward=0, cohesion_backward=0, left_branching_entropy=3.9272627107122298, right_branching_entropy=0.8572653036019706, left_accessor_variety=99, right_accessor_variety=5, leftside_frequency=1294, rightside_frequency=0),\n",
       " '꽈': Scores(cohesion_forward=0, cohesion_backward=0, left_branching_entropy=-0.0, right_branching_entropy=0, left_accessor_variety=1, right_accessor_variety=0, leftside_frequency=5, rightside_frequency=0),\n",
       " '틀': Scores(cohesion_forward=0, cohesion_backward=0, left_branching_entropy=2.6424462931834976, right_branching_entropy=3.4175785654414272, left_accessor_variety=32, right_accessor_variety=56, leftside_frequency=295, rightside_frequency=447),\n",
       " '똬': Scores(cohesion_forward=0, cohesion_backward=0, left_branching_entropy=0.6931471805599453, right_branching_entropy=-0.0, left_accessor_variety=2, right_accessor_variety=1, leftside_frequency=5, rightside_frequency=0),\n",
       " '바': Scores(cohesion_forward=0, cohesion_backward=0, left_branching_entropy=4.065269506537424, right_branching_entropy=3.6149604380873552, left_accessor_variety=283, right_accessor_variety=203, leftside_frequency=9572, rightside_frequency=735),\n",
       " '솔': Scores(cohesion_forward=0, cohesion_backward=0, left_branching_entropy=4.074336618244883, right_branching_entropy=1.8039716935750327, left_accessor_variety=102, right_accessor_variety=21, leftside_frequency=1021, rightside_frequency=79),\n",
       " '뵈': Scores(cohesion_forward=0, cohesion_backward=0, left_branching_entropy=-0.0, right_branching_entropy=-0.0, left_accessor_variety=1, right_accessor_variety=1, leftside_frequency=17, rightside_frequency=0),\n",
       " '머': Scores(cohesion_forward=0, cohesion_backward=0, left_branching_entropy=2.8495099073833368, right_branching_entropy=1.7799996294692606, left_accessor_variety=95, right_accessor_variety=55, leftside_frequency=3328, rightside_frequency=205),\n",
       " '밥': Scores(cohesion_forward=0, cohesion_backward=0, left_branching_entropy=3.5317791288372944, right_branching_entropy=3.0730708898003716, left_accessor_variety=55, right_accessor_variety=48, leftside_frequency=318, rightside_frequency=150),\n",
       " '횃': Scores(cohesion_forward=0, cohesion_backward=0, left_branching_entropy=-0.0, right_branching_entropy=-0.0, left_accessor_variety=1, right_accessor_variety=1, leftside_frequency=10, rightside_frequency=0),\n",
       " '더': Scores(cohesion_forward=0, cohesion_backward=0, left_branching_entropy=4.048251832981263, right_branching_entropy=3.9918371194703757, left_accessor_variety=260, right_accessor_variety=370, leftside_frequency=7388, rightside_frequency=642),\n",
       " '벰': Scores(cohesion_forward=0, cohesion_backward=0, left_branching_entropy=0, right_branching_entropy=0, left_accessor_variety=0, right_accessor_variety=0, leftside_frequency=5, rightside_frequency=0),\n",
       " '올': Scores(cohesion_forward=0, cohesion_backward=0, left_branching_entropy=3.6921684479304178, right_branching_entropy=2.6206048569727445, left_accessor_variety=203, right_accessor_variety=115, leftside_frequency=8700, rightside_frequency=661),\n",
       " '중': Scores(cohesion_forward=0, cohesion_backward=0, left_branching_entropy=4.938639994611941, right_branching_entropy=4.0610695533075996, left_accessor_variety=463, right_accessor_variety=410, leftside_frequency=23248, rightside_frequency=2260),\n",
       " '렙': Scores(cohesion_forward=0, cohesion_backward=0, left_branching_entropy=1.185875219569766, right_branching_entropy=0.5146531654289292, left_accessor_variety=4, right_accessor_variety=2, leftside_frequency=16, rightside_frequency=14),\n",
       " '룀': Scores(cohesion_forward=0, cohesion_backward=0, left_branching_entropy=-0.0, right_branching_entropy=-0.0, left_accessor_variety=1, right_accessor_variety=1, leftside_frequency=0, rightside_frequency=8),\n",
       " '민': Scores(cohesion_forward=0, cohesion_backward=0, left_branching_entropy=4.496095135311363, right_branching_entropy=3.95569162034365, left_accessor_variety=275, right_accessor_variety=300, leftside_frequency=6582, rightside_frequency=4427),\n",
       " '콕': Scores(cohesion_forward=0, cohesion_backward=0, left_branching_entropy=0.3478228457017152, right_branching_entropy=0.9053018344185246, left_accessor_variety=6, right_accessor_variety=7, leftside_frequency=163, rightside_frequency=171),\n",
       " '뱅': Scores(cohesion_forward=0, cohesion_backward=0, left_branching_entropy=1.0143043035998405, right_branching_entropy=1.1126420133376964, left_accessor_variety=11, right_accessor_variety=10, leftside_frequency=170, rightside_frequency=43),\n",
       " '값': Scores(cohesion_forward=0, cohesion_backward=0, left_branching_entropy=3.1244011926726243, right_branching_entropy=3.2484093970594157, left_accessor_variety=30, right_accessor_variety=40, leftside_frequency=133, rightside_frequency=257),\n",
       " '팩': Scores(cohesion_forward=0, cohesion_backward=0, left_branching_entropy=3.2237688289721547, right_branching_entropy=1.6936719769712536, left_accessor_variety=30, right_accessor_variety=12, leftside_frequency=133, rightside_frequency=39),\n",
       " '기': Scores(cohesion_forward=0, cohesion_backward=0, left_branching_entropy=5.218208729667631, right_branching_entropy=3.9480987666149123, left_accessor_variety=757, right_accessor_variety=642, leftside_frequency=77367, rightside_frequency=33914),\n",
       " '달': Scores(cohesion_forward=0, cohesion_backward=0, left_branching_entropy=3.7073202565884986, right_branching_entropy=3.921135064448449, left_accessor_variety=184, right_accessor_variety=227, leftside_frequency=6743, rightside_frequency=3199),\n",
       " '뛴': Scores(cohesion_forward=0, cohesion_backward=0, left_branching_entropy=1.803296380735047, right_branching_entropy=1.5725027762229353, left_accessor_variety=7, right_accessor_variety=5, leftside_frequency=5, rightside_frequency=0),\n",
       " '빨': Scores(cohesion_forward=0, cohesion_backward=0, left_branching_entropy=3.6477246397104777, right_branching_entropy=1.60192212521249, left_accessor_variety=69, right_accessor_variety=12, leftside_frequency=812, rightside_frequency=7),\n",
       " '릎': Scores(cohesion_forward=0, cohesion_backward=0, left_branching_entropy=0, right_branching_entropy=1.9602708238644115, left_accessor_variety=0, right_accessor_variety=8, leftside_frequency=0, rightside_frequency=38),\n",
       " '칠': Scores(cohesion_forward=0, cohesion_backward=0, left_branching_entropy=3.168336214449196, right_branching_entropy=2.666946634239559, left_accessor_variety=44, right_accessor_variety=39, leftside_frequency=218, rightside_frequency=726),\n",
       " '컵': Scores(cohesion_forward=0, cohesion_backward=0, left_branching_entropy=2.2478418016812984, right_branching_entropy=2.3813430835514633, left_accessor_variety=13, right_accessor_variety=17, leftside_frequency=70, rightside_frequency=60),\n",
       " '만': Scores(cohesion_forward=0, cohesion_backward=0, left_branching_entropy=3.6950441113219985, right_branching_entropy=4.963389398519163, left_accessor_variety=492, right_accessor_variety=656, leftside_frequency=16510, rightside_frequency=23026),\n",
       " '넘': Scores(cohesion_forward=0, cohesion_backward=0, left_branching_entropy=2.8683173846096275, right_branching_entropy=2.3750900126387737, left_accessor_variety=104, right_accessor_variety=30, leftside_frequency=3913, rightside_frequency=15),\n",
       " '아': Scores(cohesion_forward=0, cohesion_backward=0, left_branching_entropy=4.47697103332597, right_branching_entropy=4.476673404616061, left_accessor_variety=544, right_accessor_variety=615, leftside_frequency=33052, rightside_frequency=16004),\n",
       " '몰': Scores(cohesion_forward=0, cohesion_backward=0, left_branching_entropy=3.2175586352682823, right_branching_entropy=2.980849764696245, left_accessor_variety=76, right_accessor_variety=63, leftside_frequency=1776, rightside_frequency=237),\n",
       " '룸': Scores(cohesion_forward=0, cohesion_backward=0, left_branching_entropy=2.1242342025454977, right_branching_entropy=3.3472874509058124, left_accessor_variety=14, right_accessor_variety=37, leftside_frequency=22, rightside_frequency=200),\n",
       " '즌': Scores(cohesion_forward=0, cohesion_backward=0, left_branching_entropy=0.671588715399869, right_branching_entropy=3.869131480732406, left_accessor_variety=2, right_accessor_variety=57, leftside_frequency=0, rightside_frequency=232),\n",
       " '섀': Scores(cohesion_forward=0, cohesion_backward=0, left_branching_entropy=1.0986122886681096, right_branching_entropy=-0.0, left_accessor_variety=3, right_accessor_variety=1, leftside_frequency=14, rightside_frequency=0),\n",
       " '긴': Scores(cohesion_forward=0, cohesion_backward=0, left_branching_entropy=4.012257576966216, right_branching_entropy=3.843626660577318, left_accessor_variety=102, right_accessor_variety=189, leftside_frequency=989, rightside_frequency=1900),\n",
       " '낼': Scores(cohesion_forward=0, cohesion_backward=0, left_branching_entropy=2.5291415768952223, right_branching_entropy=2.112362417211846, left_accessor_variety=24, right_accessor_variety=31, leftside_frequency=6, rightside_frequency=489),\n",
       " '신': Scores(cohesion_forward=0, cohesion_backward=0, left_branching_entropy=4.7196032741681115, right_branching_entropy=4.90681251444569, left_accessor_variety=438, right_accessor_variety=472, leftside_frequency=18294, rightside_frequency=5535),\n",
       " '황': Scores(cohesion_forward=0, cohesion_backward=0, left_branching_entropy=3.81672202298041, right_branching_entropy=4.250673487500445, left_accessor_variety=125, right_accessor_variety=161, leftside_frequency=1773, rightside_frequency=875),\n",
       " '게': Scores(cohesion_forward=0, cohesion_backward=0, left_branching_entropy=2.95109139889784, right_branching_entropy=5.351451095019152, left_accessor_variety=296, right_accessor_variety=661, leftside_frequency=3246, rightside_frequency=36093),\n",
       " '뀔': Scores(cohesion_forward=0, cohesion_backward=0, left_branching_entropy=0, right_branching_entropy=1.1078758665006603, left_accessor_variety=0, right_accessor_variety=4, leftside_frequency=0, rightside_frequency=42),\n",
       " '구': Scores(cohesion_forward=0, cohesion_backward=0, left_branching_entropy=4.696005097358957, right_branching_entropy=4.825696704895604, left_accessor_variety=442, right_accessor_variety=459, leftside_frequency=15083, rightside_frequency=12112),\n",
       " '얻': Scores(cohesion_forward=0, cohesion_backward=0, left_branching_entropy=1.6482135990690014, right_branching_entropy=2.1285416777144333, left_accessor_variety=28, right_accessor_variety=12, leftside_frequency=1453, rightside_frequency=0),\n",
       " '암': Scores(cohesion_forward=0, cohesion_backward=0, left_branching_entropy=3.896193073730775, right_branching_entropy=4.024655296730309, left_accessor_variety=76, right_accessor_variety=99, leftside_frequency=660, rightside_frequency=340),\n",
       " '쥔': Scores(cohesion_forward=0, cohesion_backward=0, left_branching_entropy=1.3211643880367676, right_branching_entropy=1.5890269151739727, left_accessor_variety=4, right_accessor_variety=5, leftside_frequency=0, rightside_frequency=9),\n",
       " '껴': Scores(cohesion_forward=0, cohesion_backward=0, left_branching_entropy=1.5276363315207027, right_branching_entropy=1.8481060154430864, left_accessor_variety=6, right_accessor_variety=11, leftside_frequency=34, rightside_frequency=40),\n",
       " '충': Scores(cohesion_forward=0, cohesion_backward=0, left_branching_entropy=4.260377027793479, right_branching_entropy=2.630349004081482, left_accessor_variety=180, right_accessor_variety=42, leftside_frequency=4103, rightside_frequency=161),\n",
       " '헐': Scores(cohesion_forward=0, cohesion_backward=0, left_branching_entropy=1.9845415565918731, right_branching_entropy=1.003690367837568, left_accessor_variety=9, right_accessor_variety=3, leftside_frequency=54, rightside_frequency=0),\n",
       " '홧': Scores(cohesion_forward=0, cohesion_backward=0, left_branching_entropy=1.0789922078775833, right_branching_entropy=-0.0, left_accessor_variety=3, right_accessor_variety=1, leftside_frequency=13, rightside_frequency=0),\n",
       " '훙': Scores(cohesion_forward=0, cohesion_backward=0, left_branching_entropy=0.6730116670092565, right_branching_entropy=2.04942938093195, left_accessor_variety=2, right_accessor_variety=9, leftside_frequency=14, rightside_frequency=31),\n",
       " '깼': Scores(cohesion_forward=0, cohesion_backward=0, left_branching_entropy=-0.0, right_branching_entropy=-0.0, left_accessor_variety=1, right_accessor_variety=1, leftside_frequency=9, rightside_frequency=0),\n",
       " '롱': Scores(cohesion_forward=0, cohesion_backward=0, left_branching_entropy=3.1615556276879184, right_branching_entropy=2.7345275569115075, left_accessor_variety=32, right_accessor_variety=26, leftside_frequency=153, rightside_frequency=75),\n",
       " '굽': Scores(cohesion_forward=0, cohesion_backward=0, left_branching_entropy=2.643974008091423, right_branching_entropy=1.4067824860546925, left_accessor_variety=20, right_accessor_variety=6, leftside_frequency=121, rightside_frequency=0),\n",
       " '별': Scores(cohesion_forward=0, cohesion_backward=0, left_branching_entropy=4.232842624745563, right_branching_entropy=4.367465230210789, left_accessor_variety=149, right_accessor_variety=215, leftside_frequency=1636, rightside_frequency=1911),\n",
       " '냉': Scores(cohesion_forward=0, cohesion_backward=0, left_branching_entropy=3.6146100442032405, right_branching_entropy=2.1167140815889183, left_accessor_variety=57, right_accessor_variety=18, leftside_frequency=638, rightside_frequency=0),\n",
       " '임': Scores(cohesion_forward=0, cohesion_backward=0, left_branching_entropy=4.249320576808339, right_branching_entropy=4.445382415982254, left_accessor_variety=266, right_accessor_variety=276, leftside_frequency=5965, rightside_frequency=3767),\n",
       " '제': Scores(cohesion_forward=0, cohesion_backward=0, left_branching_entropy=4.468329288803853, right_branching_entropy=4.2584194561932875, left_accessor_variety=550, right_accessor_variety=505, leftside_frequency=37778, rightside_frequency=17831),\n",
       " '앰': Scores(cohesion_forward=0, cohesion_backward=0, left_branching_entropy=1.366158847569202, right_branching_entropy=-0.0, left_accessor_variety=4, right_accessor_variety=1, leftside_frequency=20, rightside_frequency=0),\n",
       " '곶': Scores(cohesion_forward=0, cohesion_backward=0, left_branching_entropy=0.9075352941050092, right_branching_entropy=1.2112465729695872, left_accessor_variety=3, right_accessor_variety=4, leftside_frequency=16, rightside_frequency=6),\n",
       " '겐': Scores(cohesion_forward=0, cohesion_backward=0, left_branching_entropy=1.2049389384933378, right_branching_entropy=3.696248215465171, left_accessor_variety=10, right_accessor_variety=66, leftside_frequency=16, rightside_frequency=463),\n",
       " '됐': Scores(cohesion_forward=0, cohesion_backward=0, left_branching_entropy=1.4608913376743882, right_branching_entropy=1.1115690495884576, left_accessor_variety=44, right_accessor_variety=15, leftside_frequency=2959, rightside_frequency=0),\n",
       " '닷': Scores(cohesion_forward=0, cohesion_backward=0, left_branching_entropy=2.605043024663944, right_branching_entropy=0.8416674780198213, left_accessor_variety=16, right_accessor_variety=3, leftside_frequency=100, rightside_frequency=6),\n",
       " '롭': Scores(cohesion_forward=0, cohesion_backward=0, left_branching_entropy=-0.0, right_branching_entropy=1.0361987848192837, left_accessor_variety=1, right_accessor_variety=3, leftside_frequency=0, rightside_frequency=17),\n",
       " '댕': Scores(cohesion_forward=0, cohesion_backward=0, left_branching_entropy=0, right_branching_entropy=1.3862943611198906, left_accessor_variety=0, right_accessor_variety=4, leftside_frequency=0, rightside_frequency=10),\n",
       " '되': Scores(cohesion_forward=0, cohesion_backward=0, left_branching_entropy=2.3883568911355013, right_branching_entropy=2.890454372011199, left_accessor_variety=99, right_accessor_variety=74, leftside_frequency=6692, rightside_frequency=141),\n",
       " '잉': Scores(cohesion_forward=0, cohesion_backward=0, left_branching_entropy=2.7744603816409192, right_branching_entropy=3.0730193249137825, left_accessor_variety=24, right_accessor_variety=35, leftside_frequency=98, rightside_frequency=184),\n",
       " '투': Scores(cohesion_forward=0, cohesion_backward=0, left_branching_entropy=4.448325982774902, right_branching_entropy=1.8049767894271314, left_accessor_variety=274, right_accessor_variety=88, leftside_frequency=7218, rightside_frequency=199),\n",
       " '발': Scores(cohesion_forward=0, cohesion_backward=0, left_branching_entropy=4.223458756919811, right_branching_entropy=3.650136499499944, left_accessor_variety=349, right_accessor_variety=299, leftside_frequency=18506, rightside_frequency=2651),\n",
       " '폴': Scores(cohesion_forward=0, cohesion_backward=0, left_branching_entropy=3.5691616394957113, right_branching_entropy=2.2949822463408798, left_accessor_variety=50, right_accessor_variety=28, leftside_frequency=309, rightside_frequency=44),\n",
       " '셔': Scores(cohesion_forward=0, cohesion_backward=0, left_branching_entropy=3.0718911192323937, right_branching_entropy=1.7023256053734561, left_accessor_variety=30, right_accessor_variety=13, leftside_frequency=208, rightside_frequency=49),\n",
       " '쫓': Scores(cohesion_forward=0, cohesion_backward=0, left_branching_entropy=2.5664290774738983, right_branching_entropy=1.717408032038399, left_accessor_variety=25, right_accessor_variety=8, leftside_frequency=307, rightside_frequency=0),\n",
       " '섬': Scores(cohesion_forward=0, cohesion_backward=0, left_branching_entropy=3.7186584610637645, right_branching_entropy=2.916656141166096, left_accessor_variety=76, right_accessor_variety=54, leftside_frequency=540, rightside_frequency=183),\n",
       " '효': Scores(cohesion_forward=0, cohesion_backward=0, left_branching_entropy=4.335104556047247, right_branching_entropy=1.9653096204611356, left_accessor_variety=155, right_accessor_variety=54, leftside_frequency=2516, rightside_frequency=227),\n",
       " '떳': Scores(cohesion_forward=0, cohesion_backward=0, left_branching_entropy=1.903686688337618, right_branching_entropy=-0.0, left_accessor_variety=7, right_accessor_variety=1, leftside_frequency=31, rightside_frequency=0),\n",
       " '일': Scores(cohesion_forward=0, cohesion_backward=0, left_branching_entropy=3.547193711819799, right_branching_entropy=4.762822295308015, left_accessor_variety=487, right_accessor_variety=626, leftside_frequency=21585, rightside_frequency=48104),\n",
       " '몸': Scores(cohesion_forward=0, cohesion_backward=0, left_branching_entropy=3.3505312948850974, right_branching_entropy=2.665955626296349, left_accessor_variety=75, right_accessor_variety=40, leftside_frequency=1305, rightside_frequency=17),\n",
       " '큼': Scores(cohesion_forward=0, cohesion_backward=0, left_branching_entropy=0.03903900333086888, right_branching_entropy=5.056656001663813, left_accessor_variety=2, right_accessor_variety=232, leftside_frequency=11, rightside_frequency=2058),\n",
       " '퓨': Scores(cohesion_forward=0, cohesion_backward=0, left_branching_entropy=2.8199972777389735, right_branching_entropy=1.0573520528977132, left_accessor_variety=18, right_accessor_variety=4, leftside_frequency=74, rightside_frequency=0),\n",
       " '튼': Scores(cohesion_forward=0, cohesion_backward=0, left_branching_entropy=1.5351161272956984, right_branching_entropy=2.3466231148444896, left_accessor_variety=20, right_accessor_variety=40, leftside_frequency=60, rightside_frequency=396),\n",
       " '현': Scores(cohesion_forward=0, cohesion_backward=0, left_branching_entropy=4.552916339375582, right_branching_entropy=3.116665956092161, left_accessor_variety=409, right_accessor_variety=236, leftside_frequency=16694, rightside_frequency=4133),\n",
       " '윤': Scores(cohesion_forward=0, cohesion_backward=0, left_branching_entropy=4.027009530586113, right_branching_entropy=3.986398406613826, left_accessor_variety=170, right_accessor_variety=128, leftside_frequency=2738, rightside_frequency=601),\n",
       " '를': Scores(cohesion_forward=0, cohesion_backward=0, left_branching_entropy=4.542240827017184, right_branching_entropy=5.296019791592505, left_accessor_variety=463, right_accessor_variety=743, leftside_frequency=0, rightside_frequency=112313),\n",
       " '지': Scores(cohesion_forward=0, cohesion_backward=0, left_branching_entropy=4.490640899776924, right_branching_entropy=4.76210221309925, left_accessor_variety=695, right_accessor_variety=880, leftside_frequency=52452, rightside_frequency=68752),\n",
       " '칸': Scores(cohesion_forward=0, cohesion_backward=0, left_branching_entropy=2.8801339092241265, right_branching_entropy=2.9671744711012913, left_accessor_variety=25, right_accessor_variety=27, leftside_frequency=106, rightside_frequency=66),\n",
       " '룡': Scores(cohesion_forward=0, cohesion_backward=0, left_branching_entropy=0.9870594928218845, right_branching_entropy=2.009468883404426, left_accessor_variety=5, right_accessor_variety=27, leftside_frequency=0, rightside_frequency=287),\n",
       " '혁': Scores(cohesion_forward=0, cohesion_backward=0, left_branching_entropy=3.487886826800146, right_branching_entropy=2.7793676454436262, left_accessor_variety=98, right_accessor_variety=84, leftside_frequency=789, rightside_frequency=1185),\n",
       " '즈': Scores(cohesion_forward=0, cohesion_backward=0, left_branching_entropy=2.518143473903427, right_branching_entropy=4.659544941204968, left_accessor_variety=38, right_accessor_variety=197, leftside_frequency=50, rightside_frequency=2177),\n",
       " '혐': Scores(cohesion_forward=0, cohesion_backward=0, left_branching_entropy=3.300291631589809, right_branching_entropy=0.20433140910179845, left_accessor_variety=87, right_accessor_variety=5, leftside_frequency=2451, rightside_frequency=23),\n",
       " '꺾': Scores(cohesion_forward=0, cohesion_backward=0, left_branching_entropy=1.6607233897975113, right_branching_entropy=2.1390992158181845, left_accessor_variety=7, right_accessor_variety=9, leftside_frequency=102, rightside_frequency=0),\n",
       " '됨': Scores(cohesion_forward=0, cohesion_backward=0, left_branching_entropy=0.9293278083950873, right_branching_entropy=1.0449565210660352, left_accessor_variety=4, right_accessor_variety=5, leftside_frequency=18, rightside_frequency=44),\n",
       " '잔': Scores(cohesion_forward=0, cohesion_backward=0, left_branching_entropy=3.795204967722497, right_branching_entropy=2.9999642430529776, left_accessor_variety=82, right_accessor_variety=35, leftside_frequency=701, rightside_frequency=45),\n",
       " '빕': Scores(cohesion_forward=0, cohesion_backward=0, left_branching_entropy=-0.0, right_branching_entropy=-0.0, left_accessor_variety=1, right_accessor_variety=1, leftside_frequency=12, rightside_frequency=0),\n",
       " '윌': Scores(cohesion_forward=0, cohesion_backward=0, left_branching_entropy=2.6186072480875255, right_branching_entropy=0.8419651586287994, left_accessor_variety=15, right_accessor_variety=5, leftside_frequency=73, rightside_frequency=5),\n",
       " '휩': Scores(cohesion_forward=0, cohesion_backward=0, left_branching_entropy=0.871819654980601, right_branching_entropy=0.717888022498077, left_accessor_variety=6, right_accessor_variety=3, leftside_frequency=242, rightside_frequency=0),\n",
       " '궁': Scores(cohesion_forward=0, cohesion_backward=0, left_branching_entropy=3.276724873632513, right_branching_entropy=1.9209247908672102, left_accessor_variety=59, right_accessor_variety=46, leftside_frequency=834, rightside_frequency=180),\n",
       " '술': Scores(cohesion_forward=0, cohesion_backward=0, left_branching_entropy=3.150513225235743, right_branching_entropy=4.625794171791169, left_accessor_variety=74, right_accessor_variety=195, leftside_frequency=641, rightside_frequency=2008),\n",
       " '딴': Scores(cohesion_forward=0, cohesion_backward=0, left_branching_entropy=1.658200177632816, right_branching_entropy=2.3395679024037714, left_accessor_variety=9, right_accessor_variety=13, leftside_frequency=9, rightside_frequency=10),\n",
       " '립': Scores(cohesion_forward=0, cohesion_backward=0, left_branching_entropy=2.618066827442446, right_branching_entropy=4.217464208042034, left_accessor_variety=20, right_accessor_variety=123, leftside_frequency=56, rightside_frequency=1289),\n",
       " '싱': Scores(cohesion_forward=0, cohesion_backward=0, left_branching_entropy=3.6328350766654434, right_branching_entropy=2.0358035281485383, left_accessor_variety=79, right_accessor_variety=37, leftside_frequency=927, rightside_frequency=225),\n",
       " '슈': Scores(cohesion_forward=0, cohesion_backward=0, left_branching_entropy=3.828425791781268, right_branching_entropy=2.221664761942699, left_accessor_variety=79, right_accessor_variety=48, leftside_frequency=678, rightside_frequency=171),\n",
       " '앱': Scores(cohesion_forward=0, cohesion_backward=0, left_branching_entropy=3.4646614694325746, right_branching_entropy=3.3081583893937894, left_accessor_variety=73, right_accessor_variety=62, leftside_frequency=491, rightside_frequency=161),\n",
       " '옵': Scores(cohesion_forward=0, cohesion_backward=0, left_branching_entropy=2.7108749141209882, right_branching_entropy=0.5402672913429375, left_accessor_variety=20, right_accessor_variety=3, leftside_frequency=127, rightside_frequency=0),\n",
       " '홍': Scores(cohesion_forward=0, cohesion_backward=0, left_branching_entropy=4.171638368631723, right_branching_entropy=3.3037358346232226, left_accessor_variety=225, right_accessor_variety=110, leftside_frequency=4155, rightside_frequency=1076),\n",
       " '앵': Scores(cohesion_forward=0, cohesion_backward=0, left_branching_entropy=2.2431335090539752, right_branching_entropy=0.2498551017564145, left_accessor_variety=57, right_accessor_variety=5, leftside_frequency=1328, rightside_frequency=0),\n",
       " '젤': Scores(cohesion_forward=0, cohesion_backward=0, left_branching_entropy=2.321386255082378, right_branching_entropy=2.6751176259322462, left_accessor_variety=13, right_accessor_variety=21, leftside_frequency=59, rightside_frequency=126),\n",
       " '딕': Scores(cohesion_forward=0, cohesion_backward=0, left_branching_entropy=-0.0, right_branching_entropy=-0.0, left_accessor_variety=1, right_accessor_variety=1, leftside_frequency=0, rightside_frequency=11),\n",
       " '푹': Scores(cohesion_forward=0, cohesion_backward=0, left_branching_entropy=1.200744562250008, right_branching_entropy=1.1707800365125565, left_accessor_variety=5, right_accessor_variety=5, leftside_frequency=7, rightside_frequency=15),\n",
       " '쪼': Scores(cohesion_forward=0, cohesion_backward=0, left_branching_entropy=1.8651649104676509, right_branching_entropy=1.1128917986949127, left_accessor_variety=9, right_accessor_variety=4, leftside_frequency=53, rightside_frequency=0),\n",
       " '틸': Scores(cohesion_forward=0, cohesion_backward=0, left_branching_entropy=1.6687033327550642, right_branching_entropy=2.465090080514692, left_accessor_variety=6, right_accessor_variety=18, leftside_frequency=24, rightside_frequency=135),\n",
       " '팝': Scores(cohesion_forward=0, cohesion_backward=0, left_branching_entropy=3.600148558448552, right_branching_entropy=2.8322677099786318, left_accessor_variety=52, right_accessor_variety=27, leftside_frequency=218, rightside_frequency=53),\n",
       " '땔': Scores(cohesion_forward=0, cohesion_backward=0, left_branching_entropy=0.6931471805599453, right_branching_entropy=0.5004024235381879, left_accessor_variety=2, right_accessor_variety=2, leftside_frequency=8, rightside_frequency=0),\n",
       " '꿔': Scores(cohesion_forward=0, cohesion_backward=0, left_branching_entropy=1.0986122886681096, right_branching_entropy=2.5825770800649095, left_accessor_variety=3, right_accessor_variety=14, leftside_frequency=6, rightside_frequency=72),\n",
       " '쉼': Scores(cohesion_forward=0, cohesion_backward=0, left_branching_entropy=2.017807238354768, right_branching_entropy=0.8533473664281028, left_accessor_variety=8, right_accessor_variety=3, leftside_frequency=40, rightside_frequency=0),\n",
       " '슘': Scores(cohesion_forward=0, cohesion_backward=0, left_branching_entropy=0, right_branching_entropy=1.913177293211589, left_accessor_variety=0, right_accessor_variety=8, leftside_frequency=0, rightside_frequency=36),\n",
       " '객': Scores(cohesion_forward=0, cohesion_backward=0, left_branching_entropy=3.192386862434418, right_branching_entropy=3.9734113893346428, left_accessor_variety=61, right_accessor_variety=114, leftside_frequency=385, rightside_frequency=1097),\n",
       " '읊': Scores(cohesion_forward=0, cohesion_backward=0, left_branching_entropy=1.612343738151216, right_branching_entropy=0.4253282933732617, left_accessor_variety=7, right_accessor_variety=2, leftside_frequency=40, rightside_frequency=0),\n",
       " '덮': Scores(cohesion_forward=0, cohesion_backward=0, left_branching_entropy=2.443454967086346, right_branching_entropy=2.580548195574793, left_accessor_variety=24, right_accessor_variety=16, leftside_frequency=235, rightside_frequency=0),\n",
       " '겠': Scores(cohesion_forward=0, cohesion_backward=0, left_branching_entropy=-0.0, right_branching_entropy=0, left_accessor_variety=1, right_accessor_variety=0, leftside_frequency=10, rightside_frequency=0),\n",
       " '줬': Scores(cohesion_forward=0, cohesion_backward=0, left_branching_entropy=1.485976623762424, right_branching_entropy=0.49508142160019913, left_accessor_variety=12, right_accessor_variety=5, leftside_frequency=233, rightside_frequency=0),\n",
       " '됩': Scores(cohesion_forward=0, cohesion_backward=0, left_branching_entropy=1.94036312973396, right_branching_entropy=-0.0, left_accessor_variety=9, right_accessor_variety=1, leftside_frequency=264, rightside_frequency=0),\n",
       " '향': Scores(cohesion_forward=0, cohesion_backward=0, left_branching_entropy=3.472155886111299, right_branching_entropy=3.106825921100544, left_accessor_variety=117, right_accessor_variety=137, leftside_frequency=3124, rightside_frequency=1066),\n",
       " '남': Scores(cohesion_forward=0, cohesion_backward=0, left_branching_entropy=4.155248493569812, right_branching_entropy=4.0642231355607095, left_accessor_variety=304, right_accessor_variety=277, leftside_frequency=11550, rightside_frequency=3405),\n",
       " '찻': Scores(cohesion_forward=0, cohesion_backward=0, left_branching_entropy=1.1926405762243972, right_branching_entropy=0.605797499372304, left_accessor_variety=5, right_accessor_variety=2, leftside_frequency=23, rightside_frequency=0),\n",
       " '버': Scores(cohesion_forward=0, cohesion_backward=0, left_branching_entropy=3.642721432565834, right_branching_entropy=4.37862915204453, left_accessor_variety=170, right_accessor_variety=209, leftside_frequency=2215, rightside_frequency=1973),\n",
       " '로': Scores(cohesion_forward=0, cohesion_backward=0, left_branching_entropy=3.0579829532236324, right_branching_entropy=5.515706954529061, left_accessor_variety=555, right_accessor_variety=894, leftside_frequency=4025, rightside_frequency=115740),\n",
       " '궤': Scores(cohesion_forward=0, cohesion_backward=0, left_branching_entropy=2.654684208526636, right_branching_entropy=0.8123505873951785, left_accessor_variety=19, right_accessor_variety=5, leftside_frequency=122, rightside_frequency=0),\n",
       " '댄': Scores(cohesion_forward=0, cohesion_backward=0, left_branching_entropy=3.4564209860514516, right_branching_entropy=1.428771500707809, left_accessor_variety=41, right_accessor_variety=11, leftside_frequency=247, rightside_frequency=54),\n",
       " '넌': Scores(cohesion_forward=0, cohesion_backward=0, left_branching_entropy=2.3287129980646664, right_branching_entropy=1.5861207497697163, left_accessor_variety=15, right_accessor_variety=12, leftside_frequency=12, rightside_frequency=12),\n",
       " 'ㅠ': Scores(cohesion_forward=0, cohesion_backward=0, left_branching_entropy=-0.0, right_branching_entropy=1.0986122886681096, left_accessor_variety=1, right_accessor_variety=3, leftside_frequency=0, rightside_frequency=10),\n",
       " 'ㅋ': Scores(cohesion_forward=0, cohesion_backward=0, left_branching_entropy=-0.0, right_branching_entropy=0.6890092384766586, left_accessor_variety=1, right_accessor_variety=2, leftside_frequency=5, rightside_frequency=13),\n",
       " '휼': Scores(cohesion_forward=0, cohesion_backward=0, left_branching_entropy=0, right_branching_entropy=-0.0, left_accessor_variety=0, right_accessor_variety=1, leftside_frequency=0, rightside_frequency=7),\n",
       " '존': Scores(cohesion_forward=0, cohesion_backward=0, left_branching_entropy=3.7270061501821155, right_branching_entropy=4.05200210391963, left_accessor_variety=107, right_accessor_variety=219, leftside_frequency=1429, rightside_frequency=1893),\n",
       " '야': Scores(cohesion_forward=0, cohesion_backward=0, left_branching_entropy=3.62391729154009, right_branching_entropy=3.3381941244742546, left_accessor_variety=236, right_accessor_variety=311, leftside_frequency=2994, rightside_frequency=11039),\n",
       " '냄': Scores(cohesion_forward=0, cohesion_backward=0, left_branching_entropy=2.45182337711385, right_branching_entropy=1.0853759999071764, left_accessor_variety=14, right_accessor_variety=4, leftside_frequency=86, rightside_frequency=34),\n",
       " '잎': Scores(cohesion_forward=0, cohesion_backward=0, left_branching_entropy=1.7369859994643584, right_branching_entropy=1.432130700870712, left_accessor_variety=11, right_accessor_variety=8, leftside_frequency=38, rightside_frequency=79),\n",
       " '매': Scores(cohesion_forward=0, cohesion_backward=0, left_branching_entropy=4.4865725798346485, right_branching_entropy=3.7141719829580855, left_accessor_variety=346, right_accessor_variety=253, leftside_frequency=12953, rightside_frequency=2388),\n",
       " '탔': Scores(cohesion_forward=0, cohesion_backward=0, left_branching_entropy=0.8144496646195546, right_branching_entropy=0.44004365688022673, left_accessor_variety=5, right_accessor_variety=3, leftside_frequency=99, rightside_frequency=0),\n",
       " '잘': Scores(cohesion_forward=0, cohesion_backward=0, left_branching_entropy=3.673467874442142, right_branching_entropy=4.073500568058653, left_accessor_variety=137, right_accessor_variety=171, leftside_frequency=1280, rightside_frequency=11),\n",
       " '오': Scores(cohesion_forward=0, cohesion_backward=0, left_branching_entropy=3.7083224124461798, right_branching_entropy=3.457229068014071, left_accessor_variety=428, right_accessor_variety=358, leftside_frequency=32830, rightside_frequency=2382),\n",
       " '딥': Scores(cohesion_forward=0, cohesion_backward=0, left_branching_entropy=1.5808185358593017, right_branching_entropy=1.182323923910242, left_accessor_variety=5, right_accessor_variety=4, leftside_frequency=21, rightside_frequency=0),\n",
       " '씁': Scores(cohesion_forward=0, cohesion_backward=0, left_branching_entropy=2.309132501841918, right_branching_entropy=0.5106886688599794, left_accessor_variety=12, right_accessor_variety=2, leftside_frequency=53, rightside_frequency=0),\n",
       " '빗': Scores(cohesion_forward=0, cohesion_backward=0, left_branching_entropy=2.8927473158664405, right_branching_entropy=2.091385581583413, left_accessor_variety=26, right_accessor_variety=12, leftside_frequency=143, rightside_frequency=30),\n",
       " '딘': Scores(cohesion_forward=0, cohesion_backward=0, left_branching_entropy=1.8779719077827193, right_branching_entropy=2.5051518333952543, left_accessor_variety=8, right_accessor_variety=15, leftside_frequency=23, rightside_frequency=61),\n",
       " 'ㅎ': Scores(cohesion_forward=0, cohesion_backward=0, left_branching_entropy=0, right_branching_entropy=0, left_accessor_variety=0, right_accessor_variety=0, leftside_frequency=0, rightside_frequency=6),\n",
       " '꽃': Scores(cohesion_forward=0, cohesion_backward=0, left_branching_entropy=3.3968547365401576, right_branching_entropy=3.252984018167941, left_accessor_variety=64, right_accessor_variety=50, leftside_frequency=584, rightside_frequency=88),\n",
       " '폰': Scores(cohesion_forward=0, cohesion_backward=0, left_branching_entropy=1.9479873727765824, right_branching_entropy=4.215520784815735, left_accessor_variety=26, right_accessor_variety=114, leftside_frequency=57, rightside_frequency=1094),\n",
       " '쑥': Scores(cohesion_forward=0, cohesion_backward=0, left_branching_entropy=1.9273921261392744, right_branching_entropy=1.557123096889186, left_accessor_variety=7, right_accessor_variety=6, leftside_frequency=29, rightside_frequency=20),\n",
       " '빈': Scores(cohesion_forward=0, cohesion_backward=0, left_branching_entropy=3.525040950971352, right_branching_entropy=3.362919620888704, left_accessor_variety=94, right_accessor_variety=96, leftside_frequency=909, rightside_frequency=459),\n",
       " '뜨': Scores(cohesion_forward=0, cohesion_backward=0, left_branching_entropy=3.314304078458888, right_branching_entropy=1.3615423722309197, left_accessor_variety=51, right_accessor_variety=11, leftside_frequency=736, rightside_frequency=7),\n",
       " '꽤': Scores(cohesion_forward=0, cohesion_backward=0, left_branching_entropy=2.1046387570676695, right_branching_entropy=2.25937353483508, left_accessor_variety=13, right_accessor_variety=15, leftside_frequency=11, rightside_frequency=0),\n",
       " '욕': Scores(cohesion_forward=0, cohesion_backward=0, left_branching_entropy=3.612249341536986, right_branching_entropy=3.4280040645681025, left_accessor_variety=60, right_accessor_variety=73, leftside_frequency=480, rightside_frequency=437),\n",
       " '쇼': Scores(cohesion_forward=0, cohesion_backward=0, left_branching_entropy=3.9055925913697656, right_branching_entropy=2.7148749936763035, left_accessor_variety=138, right_accessor_variety=90, leftside_frequency=1852, rightside_frequency=890),\n",
       " '겟': Scores(cohesion_forward=0, cohesion_backward=0, left_branching_entropy=-0.0, right_branching_entropy=-0.0, left_accessor_variety=1, right_accessor_variety=1, leftside_frequency=8, rightside_frequency=0),\n",
       " '런': Scores(cohesion_forward=0, cohesion_backward=0, left_branching_entropy=3.1496944688954365, right_branching_entropy=4.814650008606062, left_accessor_variety=58, right_accessor_variety=281, leftside_frequency=439, rightside_frequency=4620),\n",
       " '뮐': Scores(cohesion_forward=0, cohesion_backward=0, left_branching_entropy=1.0986122886681096, right_branching_entropy=-0.0, left_accessor_variety=3, right_accessor_variety=1, leftside_frequency=7, rightside_frequency=0),\n",
       " '쿄': Scores(cohesion_forward=0, cohesion_backward=0, left_branching_entropy=0, right_branching_entropy=2.763769724814837, left_accessor_variety=0, right_accessor_variety=23, leftside_frequency=0, rightside_frequency=180),\n",
       " '쬐': Scores(cohesion_forward=0, cohesion_backward=0, left_branching_entropy=1.8475344105647664, right_branching_entropy=0.410116318288409, left_accessor_variety=7, right_accessor_variety=2, leftside_frequency=30, rightside_frequency=0),\n",
       " '캘': Scores(cohesion_forward=0, cohesion_backward=0, left_branching_entropy=2.4697331685012913, right_branching_entropy=0.7222663142246859, left_accessor_variety=21, right_accessor_variety=3, leftside_frequency=144, rightside_frequency=0),\n",
       " '걀': Scores(cohesion_forward=0, cohesion_backward=0, left_branching_entropy=0, right_branching_entropy=0.6931471805599453, left_accessor_variety=0, right_accessor_variety=2, leftside_frequency=0, rightside_frequency=12),\n",
       " '춰': Scores(cohesion_forward=0, cohesion_backward=0, left_branching_entropy=0.7595473914748635, right_branching_entropy=4.434179333105161, left_accessor_variety=3, right_accessor_variety=115, leftside_frequency=0, rightside_frequency=679),\n",
       " '뽐': Scores(cohesion_forward=0, cohesion_backward=0, left_branching_entropy=1.0114881455477427, right_branching_entropy=1.0965736964669357, left_accessor_variety=8, right_accessor_variety=4, leftside_frequency=415, rightside_frequency=0),\n",
       " '울': Scores(cohesion_forward=0, cohesion_backward=0, left_branching_entropy=3.9396578834647364, right_branching_entropy=3.6577240273391696, left_accessor_variety=162, right_accessor_variety=236, leftside_frequency=2117, rightside_frequency=17584),\n",
       " '졌': Scores(cohesion_forward=0, cohesion_backward=0, left_branching_entropy=1.6339410018277607, right_branching_entropy=1.2524321077769451, left_accessor_variety=6, right_accessor_variety=4, leftside_frequency=48, rightside_frequency=0),\n",
       " '뗐': Scores(cohesion_forward=0, cohesion_backward=0, left_branching_entropy=-0.0, right_branching_entropy=-0.0, left_accessor_variety=1, right_accessor_variety=1, leftside_frequency=62, rightside_frequency=0),\n",
       " '줌': Scores(cohesion_forward=0, cohesion_backward=0, left_branching_entropy=1.9080368345090655, right_branching_entropy=1.0296530140645737, left_accessor_variety=7, right_accessor_variety=3, leftside_frequency=20, rightside_frequency=8),\n",
       " '씽': Scores(cohesion_forward=0, cohesion_backward=0, left_branching_entropy=1.2563299681655054, right_branching_entropy=0.3350396185203728, left_accessor_variety=7, right_accessor_variety=3, leftside_frequency=201, rightside_frequency=24),\n",
       " '항': Scores(cohesion_forward=0, cohesion_backward=0, left_branching_entropy=4.424213661891955, right_branching_entropy=3.454421592213807, left_accessor_variety=196, right_accessor_variety=164, leftside_frequency=2987, rightside_frequency=1213),\n",
       " '꼬': Scores(cohesion_forward=0, cohesion_backward=0, left_branching_entropy=1.8439740133563158, right_branching_entropy=1.6370767810392495, left_accessor_variety=32, right_accessor_variety=15, leftside_frequency=819, rightside_frequency=81),\n",
       " '밋': Scores(cohesion_forward=0, cohesion_backward=0, left_branching_entropy=1.0608569471580214, right_branching_entropy=1.5473824076063531, left_accessor_variety=3, right_accessor_variety=7, leftside_frequency=15, rightside_frequency=32),\n",
       " '넋': Scores(cohesion_forward=0, cohesion_backward=0, left_branching_entropy=-0.0, right_branching_entropy=-0.0, left_accessor_variety=1, right_accessor_variety=1, leftside_frequency=10, rightside_frequency=0),\n",
       " '다': Scores(cohesion_forward=0, cohesion_backward=0, left_branching_entropy=3.53599736942039, right_branching_entropy=5.082272387471424, left_accessor_variety=595, right_accessor_variety=1051, leftside_frequency=22828, rightside_frequency=289209),\n",
       " '철': Scores(cohesion_forward=0, cohesion_backward=0, left_branching_entropy=4.445186936260098, right_branching_entropy=3.709056725120085, left_accessor_variety=220, right_accessor_variety=181, leftside_frequency=2529, rightside_frequency=1962),\n",
       " '쫴': Scores(cohesion_forward=0, cohesion_backward=0, left_branching_entropy=-0.0, right_branching_entropy=-0.0, left_accessor_variety=1, right_accessor_variety=1, leftside_frequency=7, rightside_frequency=0),\n",
       " '랑': Scores(cohesion_forward=0, cohesion_backward=0, left_branching_entropy=2.405323529874346, right_branching_entropy=4.530181791171692, left_accessor_variety=26, right_accessor_variety=153, leftside_frequency=21, rightside_frequency=1238),\n",
       " '놔': Scores(cohesion_forward=0, cohesion_backward=0, left_branching_entropy=2.158038867458229, right_branching_entropy=1.6959596808771844, left_accessor_variety=12, right_accessor_variety=8, leftside_frequency=56, rightside_frequency=39),\n",
       " '싸': Scores(cohesion_forward=0, cohesion_backward=0, left_branching_entropy=3.4970971094074774, right_branching_entropy=2.555390782097399, left_accessor_variety=55, right_accessor_variety=23, leftside_frequency=553, rightside_frequency=18),\n",
       " '웡': Scores(cohesion_forward=0, cohesion_backward=0, left_branching_entropy=1.2914167691452025, right_branching_entropy=1.0281838593329258, left_accessor_variety=4, right_accessor_variety=3, leftside_frequency=12, rightside_frequency=0),\n",
       " '럼': Scores(cohesion_forward=0, cohesion_backward=0, left_branching_entropy=0.30944296415558703, right_branching_entropy=5.047381122351108, left_accessor_variety=6, right_accessor_variety=321, leftside_frequency=0, rightside_frequency=3565),\n",
       " '냐': Scores(cohesion_forward=0, cohesion_backward=0, left_branching_entropy=1.9605912388263411, right_branching_entropy=2.9649761882989183, left_accessor_variety=23, right_accessor_variety=106, leftside_frequency=5, rightside_frequency=1939),\n",
       " '앓': Scores(cohesion_forward=0, cohesion_backward=0, left_branching_entropy=0.8467566743298073, right_branching_entropy=1.330375376713307, left_accessor_variety=7, right_accessor_variety=6, leftside_frequency=213, rightside_frequency=0),\n",
       " '쿡': Scores(cohesion_forward=0, cohesion_backward=0, left_branching_entropy=1.8358438772796093, right_branching_entropy=1.6905436834694256, left_accessor_variety=7, right_accessor_variety=7, leftside_frequency=18, rightside_frequency=19),\n",
       " '깥': Scores(cohesion_forward=0, cohesion_backward=0, left_branching_entropy=0, right_branching_entropy=1.0789922078775833, left_accessor_variety=0, right_accessor_variety=3, leftside_frequency=0, rightside_frequency=14),\n",
       " '균': Scores(cohesion_forward=0, cohesion_backward=0, left_branching_entropy=2.9874279953526406, right_branching_entropy=4.062386439965943, left_accessor_variety=59, right_accessor_variety=123, leftside_frequency=289, rightside_frequency=1655),\n",
       " '씹': Scores(cohesion_forward=0, cohesion_backward=0, left_branching_entropy=1.9257904650586823, right_branching_entropy=1.7728598089508285, left_accessor_variety=8, right_accessor_variety=6, leftside_frequency=45, rightside_frequency=0),\n",
       " '특': Scores(cohesion_forward=0, cohesion_backward=0, left_branching_entropy=3.9369359113731615, right_branching_entropy=2.47944373478045, left_accessor_variety=298, right_accessor_variety=43, leftside_frequency=11835, rightside_frequency=0),\n",
       " '없': Scores(cohesion_forward=0, cohesion_backward=0, left_branching_entropy=3.0169283111030785, right_branching_entropy=2.224668324512431, left_accessor_variety=221, right_accessor_variety=33, leftside_frequency=13357, rightside_frequency=0),\n",
       " '벚': Scores(cohesion_forward=0, cohesion_backward=0, left_branching_entropy=-0.0, right_branching_entropy=-0.0, left_accessor_variety=1, right_accessor_variety=1, leftside_frequency=7, rightside_frequency=0),\n",
       " '방': Scores(cohesion_forward=0, cohesion_backward=0, left_branching_entropy=4.4749671236450315, right_branching_entropy=3.15607898653446, left_accessor_variety=407, right_accessor_variety=273, leftside_frequency=20132, rightside_frequency=1750),\n",
       " '땄': Scores(cohesion_forward=0, cohesion_backward=0, left_branching_entropy=0.6365141682948128, right_branching_entropy=0, left_accessor_variety=2, right_accessor_variety=0, leftside_frequency=7, rightside_frequency=0),\n",
       " '봬': Scores(cohesion_forward=0, cohesion_backward=0, left_branching_entropy=0, right_branching_entropy=0.6730116670092565, left_accessor_variety=0, right_accessor_variety=2, leftside_frequency=0, rightside_frequency=15),\n",
       " '채': Scores(cohesion_forward=0, cohesion_backward=0, left_branching_entropy=4.427239470157001, right_branching_entropy=3.997939252514245, left_accessor_variety=235, right_accessor_variety=225, leftside_frequency=3346, rightside_frequency=1034),\n",
       " '룹': Scores(cohesion_forward=0, cohesion_backward=0, left_branching_entropy=-0.0, right_branching_entropy=4.100104526952683, left_accessor_variety=1, right_accessor_variety=158, leftside_frequency=0, rightside_frequency=2924),\n",
       " '람': Scores(cohesion_forward=0, cohesion_backward=0, left_branching_entropy=1.93679343875455, right_branching_entropy=4.303001561943123, left_accessor_variety=11, right_accessor_variety=135, leftside_frequency=24, rightside_frequency=1113),\n",
       " '법': Scores(cohesion_forward=0, cohesion_backward=0, left_branching_entropy=4.462347395000692, right_branching_entropy=4.052699810340646, left_accessor_variety=244, right_accessor_variety=213, leftside_frequency=3904, rightside_frequency=3747),\n",
       " '즐': Scores(cohesion_forward=0, cohesion_backward=0, left_branching_entropy=2.9392693565381407, right_branching_entropy=1.6448028197061222, left_accessor_variety=67, right_accessor_variety=11, leftside_frequency=2269, rightside_frequency=18),\n",
       " '츠': Scores(cohesion_forward=0, cohesion_backward=0, left_branching_entropy=0.8667697137704343, right_branching_entropy=3.679030434386326, left_accessor_variety=15, right_accessor_variety=150, leftside_frequency=0, rightside_frequency=3208),\n",
       " '닌': Scores(cohesion_forward=0, cohesion_backward=0, left_branching_entropy=2.0212655645353332, right_branching_entropy=4.771818099209322, left_accessor_variety=11, right_accessor_variety=196, leftside_frequency=43, rightside_frequency=1561),\n",
       " '챗': Scores(cohesion_forward=0, cohesion_backward=0, left_branching_entropy=1.4934105992200841, right_branching_entropy=1.4845345141243658, left_accessor_variety=5, right_accessor_variety=7, leftside_frequency=21, rightside_frequency=24),\n",
       " '친': Scores(cohesion_forward=0, cohesion_backward=0, left_branching_entropy=3.804671801678171, right_branching_entropy=3.6998604126339107, left_accessor_variety=165, right_accessor_variety=213, leftside_frequency=3494, rightside_frequency=1658),\n",
       " '흉': Scores(cohesion_forward=0, cohesion_backward=0, left_branching_entropy=3.3772727946346475, right_branching_entropy=1.3235545650479092, left_accessor_variety=41, right_accessor_variety=9, leftside_frequency=370, rightside_frequency=0),\n",
       " '독': Scores(cohesion_forward=0, cohesion_backward=0, left_branching_entropy=3.3578889159151903, right_branching_entropy=3.2218152855105777, left_accessor_variety=174, right_accessor_variety=186, leftside_frequency=5641, rightside_frequency=2126),\n",
       " '잃': Scores(cohesion_forward=0, cohesion_backward=0, left_branching_entropy=1.3177496153943487, right_branching_entropy=1.9125149613694354, left_accessor_variety=28, right_accessor_variety=9, leftside_frequency=728, rightside_frequency=0),\n",
       " '숭': Scores(cohesion_forward=0, cohesion_backward=0, left_branching_entropy=2.094357195990088, right_branching_entropy=1.2980509016891126, left_accessor_variety=9, right_accessor_variety=4, leftside_frequency=45, rightside_frequency=0),\n",
       " '빅': Scores(cohesion_forward=0, cohesion_backward=0, left_branching_entropy=3.7814146820315093, right_branching_entropy=2.1698398480954295, left_accessor_variety=74, right_accessor_variety=20, leftside_frequency=606, rightside_frequency=31),\n",
       " '쏘': Scores(cohesion_forward=0, cohesion_backward=0, left_branching_entropy=2.5302159509464786, right_branching_entropy=2.15173719269211, left_accessor_variety=32, right_accessor_variety=12, leftside_frequency=379, rightside_frequency=8),\n",
       " '엉': Scores(cohesion_forward=0, cohesion_backward=0, left_branching_entropy=2.949272447852699, right_branching_entropy=1.447522255467986, left_accessor_variety=26, right_accessor_variety=7, leftside_frequency=200, rightside_frequency=28),\n",
       " '렁': Scores(cohesion_forward=0, cohesion_backward=0, left_branching_entropy=0, right_branching_entropy=0, left_accessor_variety=0, right_accessor_variety=0, leftside_frequency=0, rightside_frequency=15),\n",
       " '팎': Scores(cohesion_forward=0, cohesion_backward=0, left_branching_entropy=0, right_branching_entropy=1.0789922078775833, left_accessor_variety=0, right_accessor_variety=3, leftside_frequency=0, rightside_frequency=17),\n",
       " '젊': Scores(cohesion_forward=0, cohesion_backward=0, left_branching_entropy=3.4517137572459102, right_branching_entropy=0.41876687482363356, left_accessor_variety=61, right_accessor_variety=5, leftside_frequency=660, rightside_frequency=0),\n",
       " '있': Scores(cohesion_forward=0, cohesion_backward=0, left_branching_entropy=1.8610564168601147, right_branching_entropy=1.7426156617276558, left_accessor_variety=170, right_accessor_variety=31, leftside_frequency=82215, rightside_frequency=0),\n",
       " '즉': Scores(cohesion_forward=0, cohesion_backward=0, left_branching_entropy=3.513257750869082, right_branching_entropy=2.511117272403658, left_accessor_variety=74, right_accessor_variety=61, leftside_frequency=524, rightside_frequency=0),\n",
       " '뜸': Scores(cohesion_forward=0, cohesion_backward=0, left_branching_entropy=1.3321790402101223, right_branching_entropy=0.5982695885852573, left_accessor_variety=4, right_accessor_variety=2, leftside_frequency=14, rightside_frequency=11),\n",
       " '처': Scores(cohesion_forward=0, cohesion_backward=0, left_branching_entropy=4.19856947611831, right_branching_entropy=3.250809242819554, left_accessor_variety=217, right_accessor_variety=212, leftside_frequency=5122, rightside_frequency=1994),\n",
       " '쿼': Scores(cohesion_forward=0, cohesion_backward=0, left_branching_entropy=2.042316124449607, right_branching_entropy=1.0283941667143721, left_accessor_variety=8, right_accessor_variety=3, leftside_frequency=36, rightside_frequency=0),\n",
       " '췄': Scores(cohesion_forward=0, cohesion_backward=0, left_branching_entropy=1.3545810752131697, right_branching_entropy=-0.0, left_accessor_variety=4, right_accessor_variety=1, leftside_frequency=20, rightside_frequency=0),\n",
       " '워': Scores(cohesion_forward=0, cohesion_backward=0, left_branching_entropy=3.8430135797748304, right_branching_entropy=3.7384690207186537, left_accessor_variety=121, right_accessor_variety=171, leftside_frequency=1338, rightside_frequency=1157),\n",
       " '쭈': Scores(cohesion_forward=0, cohesion_backward=0, left_branching_entropy=-0.0, right_branching_entropy=-0.0, left_accessor_variety=1, right_accessor_variety=1, leftside_frequency=11, rightside_frequency=0),\n",
       " '잊': Scores(cohesion_forward=0, cohesion_backward=0, left_branching_entropy=2.6890438042466114, right_branching_entropy=1.545465661337347, left_accessor_variety=25, right_accessor_variety=7, leftside_frequency=234, rightside_frequency=0),\n",
       " '째': Scores(cohesion_forward=0, cohesion_backward=0, left_branching_entropy=1.6497349798420191, right_branching_entropy=4.665645250676689, left_accessor_variety=21, right_accessor_variety=216, leftside_frequency=14, rightside_frequency=2227),\n",
       " '뺨': Scores(cohesion_forward=0, cohesion_backward=0, left_branching_entropy=1.304153876046687, right_branching_entropy=1.46508439655568, left_accessor_variety=5, right_accessor_variety=5, leftside_frequency=29, rightside_frequency=0),\n",
       " 'ㄷ': Scores(cohesion_forward=0, cohesion_backward=0, left_branching_entropy=0.6365141682948128, right_branching_entropy=0.5982695885852573, left_accessor_variety=2, right_accessor_variety=2, leftside_frequency=13, rightside_frequency=0),\n",
       " '쉰': Scores(cohesion_forward=0, cohesion_backward=0, left_branching_entropy=0.6931471805599453, right_branching_entropy=-0.0, left_accessor_variety=2, right_accessor_variety=1, leftside_frequency=5, rightside_frequency=0),\n",
       " '찔': Scores(cohesion_forward=0, cohesion_backward=0, left_branching_entropy=1.8020848516589267, right_branching_entropy=1.1293707237456698, left_accessor_variety=8, right_accessor_variety=5, leftside_frequency=81, rightside_frequency=5),\n",
       " '새': Scores(cohesion_forward=0, cohesion_backward=0, left_branching_entropy=4.1303938232520245, right_branching_entropy=2.7785160449608646, left_accessor_variety=239, right_accessor_variety=191, leftside_frequency=6992, rightside_frequency=338),\n",
       " '슴': Scores(cohesion_forward=0, cohesion_backward=0, left_branching_entropy=0.6365141682948128, right_branching_entropy=2.6173540473611863, left_accessor_variety=2, right_accessor_variety=20, leftside_frequency=11, rightside_frequency=132),\n",
       " '둠': Scores(cohesion_forward=0, cohesion_backward=0, left_branching_entropy=0, right_branching_entropy=0.47413931305783735, left_accessor_variety=0, right_accessor_variety=2, leftside_frequency=0, rightside_frequency=12),\n",
       " '릉': Scores(cohesion_forward=0, cohesion_backward=0, left_branching_entropy=0, right_branching_entropy=2.895623320067536, left_accessor_variety=0, right_accessor_variety=26, leftside_frequency=0, rightside_frequency=144),\n",
       " '따': Scores(cohesion_forward=0, cohesion_backward=0, left_branching_entropy=1.429105679870236, right_branching_entropy=1.6527502754161896, left_accessor_variety=102, right_accessor_variety=43, leftside_frequency=10012, rightside_frequency=29),\n",
       " '돌': Scores(cohesion_forward=0, cohesion_backward=0, left_branching_entropy=3.2961983223010236, right_branching_entropy=2.816208577846163, left_accessor_variety=141, right_accessor_variety=102, leftside_frequency=3728, rightside_frequency=502),\n",
       " '밸': Scores(cohesion_forward=0, cohesion_backward=0, left_branching_entropy=3.11303356977898, right_branching_entropy=1.392194385513057, left_accessor_variety=27, right_accessor_variety=5, leftside_frequency=114, rightside_frequency=0),\n",
       " '떠': Scores(cohesion_forward=0, cohesion_backward=0, left_branching_entropy=2.4039643906903985, right_branching_entropy=2.29116463887135, left_accessor_variety=50, right_accessor_variety=27, leftside_frequency=1686, rightside_frequency=9),\n",
       " '왕': Scores(cohesion_forward=0, cohesion_backward=0, left_branching_entropy=3.3899641072375224, right_branching_entropy=3.5795122624287945, left_accessor_variety=105, right_accessor_variety=109, leftside_frequency=1083, rightside_frequency=1260),\n",
       " '펀': Scores(cohesion_forward=0, cohesion_backward=0, left_branching_entropy=3.657141817045327, right_branching_entropy=0.7277434231334543, left_accessor_variety=74, right_accessor_variety=7, leftside_frequency=656, rightside_frequency=0),\n",
       " '블': Scores(cohesion_forward=0, cohesion_backward=0, left_branching_entropy=4.153791832907275, right_branching_entropy=2.9278641742693474, left_accessor_variety=141, right_accessor_variety=98, leftside_frequency=1869, rightside_frequency=541),\n",
       " '드': Scores(cohesion_forward=0, cohesion_backward=0, left_branching_entropy=4.19509119890045, right_branching_entropy=4.433562882910891, left_accessor_variety=298, right_accessor_variety=413, leftside_frequency=6396, rightside_frequency=10261),\n",
       " '진': Scores(cohesion_forward=0, cohesion_backward=0, left_branching_entropy=4.475788606717417, right_branching_entropy=4.521022605903836, left_accessor_variety=386, right_accessor_variety=560, leftside_frequency=15731, rightside_frequency=22226),\n",
       " '탁': Scores(cohesion_forward=0, cohesion_backward=0, left_branching_entropy=3.3009324014003876, right_branching_entropy=3.3243518873476625, left_accessor_variety=41, right_accessor_variety=67, leftside_frequency=293, rightside_frequency=349),\n",
       " '액': Scores(cohesion_forward=0, cohesion_backward=0, left_branching_entropy=3.481864758059752, right_branching_entropy=3.8819459145992647, left_accessor_variety=86, right_accessor_variety=104, leftside_frequency=549, rightside_frequency=1037),\n",
       " '닿': Scores(cohesion_forward=0, cohesion_backward=0, left_branching_entropy=1.640601034999095, right_branching_entropy=1.4832402108829783, left_accessor_variety=9, right_accessor_variety=5, leftside_frequency=101, rightside_frequency=0),\n",
       " '얄': Scores(cohesion_forward=0, cohesion_backward=0, left_branching_entropy=1.0296530140645737, right_branching_entropy=0.45056120886630463, left_accessor_variety=3, right_accessor_variety=2, leftside_frequency=21, rightside_frequency=10),\n",
       " '성': Scores(cohesion_forward=0, cohesion_backward=0, left_branching_entropy=4.953709232498269, right_branching_entropy=4.621407535347256, left_accessor_variety=487, right_accessor_variety=478, leftside_frequency=15840, rightside_frequency=8246),\n",
       " '쌉': Scores(cohesion_forward=0, cohesion_backward=0, left_branching_entropy=-0.0, right_branching_entropy=-0.0, left_accessor_variety=1, right_accessor_variety=1, leftside_frequency=11, rightside_frequency=0),\n",
       " '모': Scores(cohesion_forward=0, cohesion_backward=0, left_branching_entropy=4.284335943631254, right_branching_entropy=3.586990989284671, left_accessor_variety=423, right_accessor_variety=316, leftside_frequency=23387, rightside_frequency=2975),\n",
       " '푸': Scores(cohesion_forward=0, cohesion_backward=0, left_branching_entropy=3.5896131379535063, right_branching_entropy=2.333409602225386, left_accessor_variety=84, right_accessor_variety=26, leftside_frequency=934, rightside_frequency=45),\n",
       " '튬': Scores(cohesion_forward=0, cohesion_backward=0, left_branching_entropy=-0.0, right_branching_entropy=1.282710651855798, left_accessor_variety=1, right_accessor_variety=4, leftside_frequency=0, rightside_frequency=27),\n",
       " '혀': Scores(cohesion_forward=0, cohesion_backward=0, left_branching_entropy=1.6934449658569768, right_branching_entropy=3.959341704691131, left_accessor_variety=7, right_accessor_variety=113, leftside_frequency=35, rightside_frequency=1061),\n",
       " '허': Scores(cohesion_forward=0, cohesion_backward=0, left_branching_entropy=4.159161893874021, right_branching_entropy=3.514426327632856, left_accessor_variety=166, right_accessor_variety=106, leftside_frequency=2883, rightside_frequency=207),\n",
       " '께': Scores(cohesion_forward=0, cohesion_backward=0, left_branching_entropy=1.8550034304264524, right_branching_entropy=5.187116280323478, left_accessor_variety=18, right_accessor_variety=392, leftside_frequency=0, rightside_frequency=8156),\n",
       " '쌓': Scores(cohesion_forward=0, cohesion_backward=0, left_branching_entropy=2.334021328566409, right_branching_entropy=2.2262673464183713, left_accessor_variety=32, right_accessor_variety=15, leftside_frequency=616, rightside_frequency=0),\n",
       " '돼': Scores(cohesion_forward=0, cohesion_backward=0, left_branching_entropy=4.223507152140958, right_branching_entropy=4.135001523112267, left_accessor_variety=148, right_accessor_variety=279, leftside_frequency=436, rightside_frequency=3383),\n",
       " '둥': Scores(cohesion_forward=0, cohesion_backward=0, left_branching_entropy=2.3561328975478943, right_branching_entropy=1.7814397180031483, left_accessor_variety=13, right_accessor_variety=8, leftside_frequency=58, rightside_frequency=46),\n",
       " '샐': Scores(cohesion_forward=0, cohesion_backward=0, left_branching_entropy=2.390205932223849, right_branching_entropy=0.6903624772966789, left_accessor_variety=12, right_accessor_variety=4, leftside_frequency=49, rightside_frequency=0),\n",
       " '넴': Scores(cohesion_forward=0, cohesion_backward=0, left_branching_entropy=-0.0, right_branching_entropy=-0.0, left_accessor_variety=1, right_accessor_variety=1, leftside_frequency=0, rightside_frequency=8),\n",
       " '논': Scores(cohesion_forward=0, cohesion_backward=0, left_branching_entropy=4.35708926681063, right_branching_entropy=1.5568810180585984, left_accessor_variety=216, right_accessor_variety=28, leftside_frequency=4087, rightside_frequency=78),\n",
       " '입': Scores(cohesion_forward=0, cohesion_backward=0, left_branching_entropy=4.257566152834744, right_branching_entropy=3.8866174777529006, left_accessor_variety=305, right_accessor_variety=226, leftside_frequency=9144, rightside_frequency=1595),\n",
       " '곡': Scores(cohesion_forward=0, cohesion_backward=0, left_branching_entropy=3.47374276223512, right_branching_entropy=4.067436080172978, left_accessor_variety=88, right_accessor_variety=128, leftside_frequency=833, rightside_frequency=1164),\n",
       " '앉': Scores(cohesion_forward=0, cohesion_backward=0, left_branching_entropy=1.9820937268853331, right_branching_entropy=1.7639443943217716, left_accessor_variety=27, right_accessor_variety=12, leftside_frequency=451, rightside_frequency=0),\n",
       " '흠': Scores(cohesion_forward=0, cohesion_backward=0, left_branching_entropy=3.10069319553729, right_branching_entropy=2.192666989532571, left_accessor_variety=31, right_accessor_variety=21, leftside_frequency=121, rightside_frequency=85),\n",
       " '훤': Scores(cohesion_forward=0, cohesion_backward=0, left_branching_entropy=1.2181950724180413, right_branching_entropy=0.6829081047004717, left_accessor_variety=4, right_accessor_variety=2, leftside_frequency=28, rightside_frequency=0),\n",
       " '츰': Scores(cohesion_forward=0, cohesion_backward=0, left_branching_entropy=0, right_branching_entropy=1.491419446850779, left_accessor_variety=0, right_accessor_variety=5, leftside_frequency=0, rightside_frequency=33),\n",
       " '떴': Scores(cohesion_forward=0, cohesion_backward=0, left_branching_entropy=1.5606637380679027, right_branching_entropy=-0.0, left_accessor_variety=5, right_accessor_variety=1, leftside_frequency=46, rightside_frequency=0),\n",
       " '네': Scores(cohesion_forward=0, cohesion_backward=0, left_branching_entropy=4.376043685896764, right_branching_entropy=2.9199209345413286, left_accessor_variety=214, right_accessor_variety=141, leftside_frequency=3341, rightside_frequency=577),\n",
       " '판': Scores(cohesion_forward=0, cohesion_backward=0, left_branching_entropy=3.870914528415746, right_branching_entropy=2.4143142961424586, left_accessor_variety=264, right_accessor_variety=168, leftside_frequency=7593, rightside_frequency=997),\n",
       " '쉐': Scores(cohesion_forward=0, cohesion_backward=0, left_branching_entropy=2.6930573121923467, right_branching_entropy=1.0597955401078993, left_accessor_variety=20, right_accessor_variety=6, leftside_frequency=155, rightside_frequency=6),\n",
       " '뗄': Scores(cohesion_forward=0, cohesion_backward=0, left_branching_entropy=1.0318495120384898, right_branching_entropy=0.45056120886630463, left_accessor_variety=3, right_accessor_variety=2, leftside_frequency=8, rightside_frequency=0),\n",
       " '웜': Scores(cohesion_forward=0, cohesion_backward=0, left_branching_entropy=1.3321790402101223, right_branching_entropy=0.6365141682948128, left_accessor_variety=4, right_accessor_variety=2, leftside_frequency=9, rightside_frequency=0),\n",
       " '줄': Scores(cohesion_forward=0, cohesion_backward=0, left_branching_entropy=3.8376960249734515, right_branching_entropy=3.3672987826935206, left_accessor_variety=158, right_accessor_variety=120, leftside_frequency=2692, rightside_frequency=892),\n",
       " '땀': Scores(cohesion_forward=0, cohesion_backward=0, left_branching_entropy=1.2520822287899038, right_branching_entropy=1.1412270252518713, left_accessor_variety=18, right_accessor_variety=11, leftside_frequency=67, rightside_frequency=17),\n",
       " '쓴': Scores(cohesion_forward=0, cohesion_backward=0, left_branching_entropy=2.663441942725051, right_branching_entropy=3.177140534553703, left_accessor_variety=34, right_accessor_variety=63, leftside_frequency=95, rightside_frequency=44),\n",
       " '듣': Scores(cohesion_forward=0, cohesion_backward=0, left_branching_entropy=2.4289771168342935, right_branching_entropy=1.5537238380955622, left_accessor_variety=44, right_accessor_variety=10, leftside_frequency=748, rightside_frequency=0),\n",
       " '컷': Scores(cohesion_forward=0, cohesion_backward=0, left_branching_entropy=2.5475566653600414, right_branching_entropy=3.28089539461545, left_accessor_variety=22, right_accessor_variety=37, leftside_frequency=105, rightside_frequency=163),\n",
       " '끌': Scores(cohesion_forward=0, cohesion_backward=0, left_branching_entropy=1.5370517912090855, right_branching_entropy=1.6827721132329554, left_accessor_variety=33, right_accessor_variety=21, leftside_frequency=1480, rightside_frequency=62),\n",
       " '초': Scores(cohesion_forward=0, cohesion_backward=0, left_branching_entropy=4.4485984900563675, right_branching_entropy=4.457970500717379, left_accessor_variety=245, right_accessor_variety=284, leftside_frequency=4972, rightside_frequency=1510),\n",
       " '퓸': Scores(cohesion_forward=0, cohesion_backward=0, left_branching_entropy=0, right_branching_entropy=0.9949236325717752, left_accessor_variety=0, right_accessor_variety=3, leftside_frequency=0, rightside_frequency=12),\n",
       " '널': Scores(cohesion_forward=0, cohesion_backward=0, left_branching_entropy=2.2399598248916917, right_branching_entropy=3.7852017482321645, left_accessor_variety=27, right_accessor_variety=129, leftside_frequency=180, rightside_frequency=1789),\n",
       " '쯔': Scores(cohesion_forward=0, cohesion_backward=0, left_branching_entropy=1.956767002102549, right_branching_entropy=0.7671772508522116, left_accessor_variety=10, right_accessor_variety=5, leftside_frequency=83, rightside_frequency=8),\n",
       " '퉈': Scores(cohesion_forward=0, cohesion_backward=0, left_branching_entropy=-0.0, right_branching_entropy=0.9949236325717752, left_accessor_variety=1, right_accessor_variety=3, leftside_frequency=0, rightside_frequency=26),\n",
       " '벡': Scores(cohesion_forward=0, cohesion_backward=0, left_branching_entropy=1.771690670209995, right_branching_entropy=-0.0, left_accessor_variety=9, right_accessor_variety=1, leftside_frequency=57, rightside_frequency=0),\n",
       " '끊': Scores(cohesion_forward=0, cohesion_backward=0, left_branching_entropy=2.408591564657272, right_branching_entropy=2.078254439597235, left_accessor_variety=36, right_accessor_variety=15, leftside_frequency=1049, rightside_frequency=0),\n",
       " '광': Scores(cohesion_forward=0, cohesion_backward=0, left_branching_entropy=4.312607610732127, right_branching_entropy=3.209693055314841, left_accessor_variety=235, right_accessor_variety=130, leftside_frequency=4310, rightside_frequency=1401),\n",
       " '듬': Scores(cohesion_forward=0, cohesion_backward=0, left_branching_entropy=2.507516369049851, right_branching_entropy=0.6851299049297308, left_accessor_variety=18, right_accessor_variety=4, leftside_frequency=135, rightside_frequency=11),\n",
       " '핫': Scores(cohesion_forward=0, cohesion_backward=0, left_branching_entropy=2.543898351359744, right_branching_entropy=1.7487855919837123, left_accessor_variety=22, right_accessor_variety=10, leftside_frequency=155, rightside_frequency=0),\n",
       " '팁': Scores(cohesion_forward=0, cohesion_backward=0, left_branching_entropy=2.4748966639558203, right_branching_entropy=1.8844411571347017, left_accessor_variety=16, right_accessor_variety=12, leftside_frequency=93, rightside_frequency=14),\n",
       " '럭': Scores(cohesion_forward=0, cohesion_backward=0, left_branching_entropy=3.0931118553731327, right_branching_entropy=1.7587843234465759, left_accessor_variety=41, right_accessor_variety=25, leftside_frequency=252, rightside_frequency=116),\n",
       " '걔': Scores(cohesion_forward=0, cohesion_backward=0, left_branching_entropy=1.5740973368489728, right_branching_entropy=-0.0, left_accessor_variety=5, right_accessor_variety=1, leftside_frequency=16, rightside_frequency=0),\n",
       " '쥐': Scores(cohesion_forward=0, cohesion_backward=0, left_branching_entropy=2.7682625852627063, right_branching_entropy=2.6581690750830185, left_accessor_variety=27, right_accessor_variety=18, leftside_frequency=221, rightside_frequency=41),\n",
       " '뼈': Scores(cohesion_forward=0, cohesion_backward=0, left_branching_entropy=3.2255316470702136, right_branching_entropy=2.6812083276192156, left_accessor_variety=32, right_accessor_variety=21, leftside_frequency=137, rightside_frequency=20),\n",
       " '틱': Scores(cohesion_forward=0, cohesion_backward=0, left_branching_entropy=1.0449347893123995, right_branching_entropy=2.463760455544085, left_accessor_variety=7, right_accessor_variety=54, leftside_frequency=0, rightside_frequency=577),\n",
       " '꿍': Scores(cohesion_forward=0, cohesion_backward=0, left_branching_entropy=0.8374712547857914, right_branching_entropy=-0.0, left_accessor_variety=3, right_accessor_variety=1, leftside_frequency=49, rightside_frequency=0),\n",
       " '곳': Scores(cohesion_forward=0, cohesion_backward=0, left_branching_entropy=3.4149247925997077, right_branching_entropy=2.8770923324721505, left_accessor_variety=117, right_accessor_variety=100, leftside_frequency=2220, rightside_frequency=395),\n",
       " '천': Scores(cohesion_forward=0, cohesion_backward=0, left_branching_entropy=4.397583891847846, right_branching_entropy=4.733994724661288, left_accessor_variety=156, right_accessor_variety=231, leftside_frequency=1707, rightside_frequency=2191),\n",
       " '플': Scores(cohesion_forward=0, cohesion_backward=0, left_branching_entropy=4.558053564643605, right_branching_entropy=2.9019132307962185, left_accessor_variety=181, right_accessor_variety=82, leftside_frequency=1849, rightside_frequency=516),\n",
       " '쏟': Scores(cohesion_forward=0, cohesion_backward=0, left_branching_entropy=1.8899895431577094, right_branching_entropy=0.8448872967632006, left_accessor_variety=23, right_accessor_variety=8, leftside_frequency=658, rightside_frequency=0),\n",
       " '범': Scores(cohesion_forward=0, cohesion_backward=0, left_branching_entropy=4.344279646468196, right_branching_entropy=3.4451434556392906, left_accessor_variety=186, right_accessor_variety=165, leftside_frequency=2845, rightside_frequency=2118),\n",
       " '앗': Scores(cohesion_forward=0, cohesion_backward=0, left_branching_entropy=-0.0, right_branching_entropy=1.1464631760614805, left_accessor_variety=1, right_accessor_variety=7, leftside_frequency=34, rightside_frequency=17),\n",
       " '명': Scores(cohesion_forward=0, cohesion_backward=0, left_branching_entropy=4.267627385353943, right_branching_entropy=4.877159559945277, left_accessor_variety=259, right_accessor_variety=367, leftside_frequency=5297, rightside_frequency=4966),\n",
       " '넛': Scores(cohesion_forward=0, cohesion_backward=0, left_branching_entropy=0.6931471805599453, right_branching_entropy=1.5941666991180168, left_accessor_variety=2, right_accessor_variety=5, leftside_frequency=0, rightside_frequency=21),\n",
       " '흙': Scores(cohesion_forward=0, cohesion_backward=0, left_branching_entropy=2.6297577030464607, right_branching_entropy=1.8908287922697387, left_accessor_variety=17, right_accessor_variety=10, leftside_frequency=117, rightside_frequency=9),\n",
       " '묘': Scores(cohesion_forward=0, cohesion_backward=0, left_branching_entropy=2.974745048776896, right_branching_entropy=2.0997359235997557, left_accessor_variety=30, right_accessor_variety=15, leftside_frequency=265, rightside_frequency=20),\n",
       " '숫': Scores(cohesion_forward=0, cohesion_backward=0, left_branching_entropy=2.66864904536735, right_branching_entropy=-0.0, left_accessor_variety=23, right_accessor_variety=1, leftside_frequency=184, rightside_frequency=0),\n",
       " '험': Scores(cohesion_forward=0, cohesion_backward=0, left_branching_entropy=1.9829067129716396, right_branching_entropy=4.53748671302131, left_accessor_variety=23, right_accessor_variety=185, leftside_frequency=111, rightside_frequency=1843),\n",
       " '컹': Scores(cohesion_forward=0, cohesion_backward=0, left_branching_entropy=0, right_branching_entropy=-0.0, left_accessor_variety=0, right_accessor_variety=1, leftside_frequency=0, rightside_frequency=10),\n",
       " '앨': Scores(cohesion_forward=0, cohesion_backward=0, left_branching_entropy=3.2800722635967245, right_branching_entropy=0.33167497974149934, left_accessor_variety=69, right_accessor_variety=5, leftside_frequency=1190, rightside_frequency=11),\n",
       " '창': Scores(cohesion_forward=0, cohesion_backward=0, left_branching_entropy=4.075805746575697, right_branching_entropy=3.2064930689698525, left_accessor_variety=218, right_accessor_variety=129, leftside_frequency=3904, rightside_frequency=855),\n",
       " '꾼': Scores(cohesion_forward=0, cohesion_backward=0, left_branching_entropy=1.79563853749921, right_branching_entropy=3.2289920406199157, left_accessor_variety=10, right_accessor_variety=32, leftside_frequency=8, rightside_frequency=181),\n",
       " '븐': Scores(cohesion_forward=0, cohesion_backward=0, left_branching_entropy=0.8393412249978635, right_branching_entropy=2.7988915720255068, left_accessor_variety=3, right_accessor_variety=23, leftside_frequency=0, rightside_frequency=169),\n",
       " '멸': Scores(cohesion_forward=0, cohesion_backward=0, left_branching_entropy=2.8591562747718067, right_branching_entropy=1.6578113669846246, left_accessor_variety=21, right_accessor_variety=10, leftside_frequency=90, rightside_frequency=37),\n",
       " '핑': Scores(cohesion_forward=0, cohesion_backward=0, left_branching_entropy=2.5576711959642293, right_branching_entropy=3.5225254054684716, left_accessor_variety=39, right_accessor_variety=86, leftside_frequency=272, rightside_frequency=709),\n",
       " '근': Scores(cohesion_forward=0, cohesion_backward=0, left_branching_entropy=4.448728269631854, right_branching_entropy=4.848819545161547, left_accessor_variety=204, right_accessor_variety=347, leftside_frequency=3216, rightside_frequency=5955),\n",
       " '쉽': Scores(cohesion_forward=0, cohesion_backward=0, left_branching_entropy=3.1646914766540273, right_branching_entropy=1.2846022948583524, left_accessor_variety=54, right_accessor_variety=10, leftside_frequency=1312, rightside_frequency=8),\n",
       " '왼': Scores(cohesion_forward=0, cohesion_backward=0, left_branching_entropy=3.7148581782742043, right_branching_entropy=0.1636448580182942, left_accessor_variety=94, right_accessor_variety=3, leftside_frequency=1079, rightside_frequency=0),\n",
       " '름': Scores(cohesion_forward=0, cohesion_backward=0, left_branching_entropy=1.6133808655057025, right_branching_entropy=4.008426435902917, left_accessor_variety=10, right_accessor_variety=104, leftside_frequency=0, rightside_frequency=891),\n",
       " '운': Scores(cohesion_forward=0, cohesion_backward=0, left_branching_entropy=3.9985107374855517, right_branching_entropy=4.340030929745308, left_accessor_variety=283, right_accessor_variety=426, leftside_frequency=7665, rightside_frequency=9614),\n",
       " '숍': Scores(cohesion_forward=0, cohesion_backward=0, left_branching_entropy=1.223600564100693, right_branching_entropy=2.4260639608241354, left_accessor_variety=6, right_accessor_variety=16, leftside_frequency=10, rightside_frequency=127),\n",
       " '날': Scores(cohesion_forward=0, cohesion_backward=0, left_branching_entropy=3.641535270284003, right_branching_entropy=4.83283148956836, left_accessor_variety=127, right_accessor_variety=383, leftside_frequency=2074, rightside_frequency=8337),\n",
       " '쥘': Scores(cohesion_forward=0, cohesion_backward=0, left_branching_entropy=0.5982695885852573, right_branching_entropy=-0.0, left_accessor_variety=2, right_accessor_variety=1, leftside_frequency=0, rightside_frequency=5),\n",
       " '엑': Scores(cohesion_forward=0, cohesion_backward=0, left_branching_entropy=3.398428062534026, right_branching_entropy=0.6846249416233277, left_accessor_variety=74, right_accessor_variety=6, leftside_frequency=1120, rightside_frequency=0),\n",
       " '는': Scores(cohesion_forward=0, cohesion_backward=0, left_branching_entropy=4.020761321560399, right_branching_entropy=5.338319520045778, left_accessor_variety=485, right_accessor_variety=912, leftside_frequency=15, rightside_frequency=221627),\n",
       " '멀': Scores(cohesion_forward=0, cohesion_backward=0, left_branching_entropy=3.328810384211833, right_branching_entropy=1.9924168833870322, left_accessor_variety=46, right_accessor_variety=14, leftside_frequency=532, rightside_frequency=19),\n",
       " '섞': Scores(cohesion_forward=0, cohesion_backward=0, left_branching_entropy=2.5359905882658125, right_branching_entropy=1.6068300571001373, left_accessor_variety=19, right_accessor_variety=6, leftside_frequency=133, rightside_frequency=0),\n",
       " '춘': Scores(cohesion_forward=0, cohesion_backward=0, left_branching_entropy=3.5202186749788362, right_branching_entropy=3.6047001222868227, left_accessor_variety=60, right_accessor_variety=132, leftside_frequency=549, rightside_frequency=818),\n",
       " '치': Scores(cohesion_forward=0, cohesion_backward=0, left_branching_entropy=4.708756808566989, right_branching_entropy=4.831122312001916, left_accessor_variety=270, right_accessor_variety=346, leftside_frequency=3751, rightside_frequency=4909),\n",
       " '갖': Scores(cohesion_forward=0, cohesion_backward=0, left_branching_entropy=1.5374207926944576, right_branching_entropy=1.7946912522171088, left_accessor_variety=45, right_accessor_variety=27, leftside_frequency=3298, rightside_frequency=65),\n",
       " '뽕': Scores(cohesion_forward=0, cohesion_backward=0, left_branching_entropy=0.38721237518636065, right_branching_entropy=2.0330917220418416, left_accessor_variety=2, right_accessor_variety=10, leftside_frequency=7, rightside_frequency=54),\n",
       " '쥬': Scores(cohesion_forward=0, cohesion_backward=0, left_branching_entropy=2.1258727803203423, right_branching_entropy=1.3589306217108126, left_accessor_variety=13, right_accessor_variety=7, leftside_frequency=89, rightside_frequency=16),\n",
       " '튕': Scores(cohesion_forward=0, cohesion_backward=0, left_branching_entropy=1.445874413892315, right_branching_entropy=-0.0, left_accessor_variety=6, right_accessor_variety=1, leftside_frequency=48, rightside_frequency=0),\n",
       " '0': Scores(cohesion_forward=0, cohesion_backward=0, left_branching_entropy=3.59378588442739, right_branching_entropy=3.788955188641906, left_accessor_variety=202, right_accessor_variety=339, leftside_frequency=7785, rightside_frequency=26952),\n",
       " '순': Scores(cohesion_forward=0, cohesion_backward=0, left_branching_entropy=4.222788637320982, right_branching_entropy=3.542581074974634, left_accessor_variety=244, right_accessor_variety=159, leftside_frequency=4741, rightside_frequency=1601),\n",
       " '승': Scores(cohesion_forward=0, cohesion_backward=0, left_branching_entropy=4.27735689445599, right_branching_entropy=3.5302137010765007, left_accessor_variety=184, right_accessor_variety=127, leftside_frequency=3292, rightside_frequency=982),\n",
       " '갚': Scores(cohesion_forward=0, cohesion_backward=0, left_branching_entropy=2.230648205383485, right_branching_entropy=2.0250270609379544, left_accessor_variety=17, right_accessor_variety=10, leftside_frequency=174, rightside_frequency=0),\n",
       " '콩': Scores(cohesion_forward=0, cohesion_backward=0, left_branching_entropy=3.0132153673254063, right_branching_entropy=3.2477609429291916, left_accessor_variety=23, right_accessor_variety=40, leftside_frequency=93, rightside_frequency=253),\n",
       " '팽': Scores(cohesion_forward=0, cohesion_backward=0, left_branching_entropy=2.6083812361121796, right_branching_entropy=1.362528421358171, left_accessor_variety=19, right_accessor_variety=7, leftside_frequency=113, rightside_frequency=7),\n",
       " '펙': Scores(cohesion_forward=0, cohesion_backward=0, left_branching_entropy=-0.0, right_branching_entropy=1.5472867333409475, left_accessor_variety=1, right_accessor_variety=5, leftside_frequency=0, rightside_frequency=24),\n",
       " '김': Scores(cohesion_forward=0, cohesion_backward=0, left_branching_entropy=4.223069061866314, right_branching_entropy=4.347284442056579, left_accessor_variety=375, right_accessor_variety=235, leftside_frequency=26563, rightside_frequency=105),\n",
       " '댔': Scores(cohesion_forward=0, cohesion_backward=0, left_branching_entropy=-0.0, right_branching_entropy=-0.0, left_accessor_variety=1, right_accessor_variety=1, leftside_frequency=13, rightside_frequency=0),\n",
       " '잭': Scores(cohesion_forward=0, cohesion_backward=0, left_branching_entropy=2.9264824835554712, right_branching_entropy=0.9213601354667627, left_accessor_variety=31, right_accessor_variety=5, leftside_frequency=75, rightside_frequency=0),\n",
       " '쁜': Scores(cohesion_forward=0, cohesion_backward=0, left_branching_entropy=0, right_branching_entropy=3.381424938861313, left_accessor_variety=0, right_accessor_variety=49, leftside_frequency=0, rightside_frequency=475),\n",
       " '뇌': Scores(cohesion_forward=0, cohesion_backward=0, left_branching_entropy=3.761079060270162, right_branching_entropy=2.1138020980021834, left_accessor_variety=64, right_accessor_variety=27, leftside_frequency=543, rightside_frequency=29),\n",
       " '눔': Scores(cohesion_forward=0, cohesion_backward=0, left_branching_entropy=-0.0, right_branching_entropy=2.8837133561822332, left_accessor_variety=1, right_accessor_variety=23, leftside_frequency=0, rightside_frequency=147),\n",
       " '촘': Scores(cohesion_forward=0, cohesion_backward=0, left_branching_entropy=1.5740973368489728, right_branching_entropy=-0.0, left_accessor_variety=5, right_accessor_variety=1, leftside_frequency=21, rightside_frequency=0),\n",
       " '풀': Scores(cohesion_forward=0, cohesion_backward=0, left_branching_entropy=3.019815244188438, right_branching_entropy=2.553006933250153, left_accessor_variety=82, right_accessor_variety=52, leftside_frequency=1197, rightside_frequency=202),\n",
       " '욱': Scores(cohesion_forward=0, cohesion_backward=0, left_branching_entropy=2.853943690439132, right_branching_entropy=4.390471125277928, left_accessor_variety=34, right_accessor_variety=204, leftside_frequency=22, rightside_frequency=3000),\n",
       " '눌': Scores(cohesion_forward=0, cohesion_backward=0, left_branching_entropy=1.5866832038342675, right_branching_entropy=1.7552645156329696, left_accessor_variety=9, right_accessor_variety=11, leftside_frequency=112, rightside_frequency=64),\n",
       " '뎀': Scores(cohesion_forward=0, cohesion_backward=0, left_branching_entropy=0, right_branching_entropy=1.59671844554477, left_accessor_variety=0, right_accessor_variety=6, leftside_frequency=0, rightside_frequency=37),\n",
       " '앞': Scores(cohesion_forward=0, cohesion_backward=0, left_branching_entropy=3.6164431491464044, right_branching_entropy=2.235045353009949, left_accessor_variety=182, right_accessor_variety=74, leftside_frequency=7590, rightside_frequency=9),\n",
       " '헤': Scores(cohesion_forward=0, cohesion_backward=0, left_branching_entropy=2.5884432855981143, right_branching_entropy=1.4126818501889284, left_accessor_variety=148, right_accessor_variety=22, leftside_frequency=5427, rightside_frequency=0),\n",
       " '쐐': Scores(cohesion_forward=0, cohesion_backward=0, left_branching_entropy=0.6829081047004717, right_branching_entropy=-0.0, left_accessor_variety=2, right_accessor_variety=1, leftside_frequency=12, rightside_frequency=0),\n",
       " '뉴': Scores(cohesion_forward=0, cohesion_backward=0, left_branching_entropy=3.0259859364235306, right_branching_entropy=1.083693663250162, left_accessor_variety=220, right_accessor_variety=50, leftside_frequency=23270, rightside_frequency=151),\n",
       " '안': Scores(cohesion_forward=0, cohesion_backward=0, left_branching_entropy=4.603684773228646, right_branching_entropy=4.923443490893544, left_accessor_variety=404, right_accessor_variety=508, leftside_frequency=11569, rightside_frequency=6382),\n",
       " '써': Scores(cohesion_forward=0, cohesion_backward=0, left_branching_entropy=1.6336988278016462, right_branching_entropy=4.593279261109542, left_accessor_variety=39, right_accessor_variety=159, leftside_frequency=362, rightside_frequency=892),\n",
       " '알': Scores(cohesion_forward=0, cohesion_backward=0, left_branching_entropy=3.4209036987525505, right_branching_entropy=2.910331595126216, left_accessor_variety=206, right_accessor_variety=106, leftside_frequency=7457, rightside_frequency=167),\n",
       " '뫼': Scores(cohesion_forward=0, cohesion_backward=0, left_branching_entropy=0, right_branching_entropy=0.6931471805599453, left_accessor_variety=0, right_accessor_variety=2, leftside_frequency=0, rightside_frequency=5),\n",
       " '감': Scores(cohesion_forward=0, cohesion_backward=0, left_branching_entropy=4.6198167045439025, right_branching_entropy=3.55144900493404, left_accessor_variety=348, right_accessor_variety=237, leftside_frequency=10154, rightside_frequency=1639),\n",
       " '핸': Scores(cohesion_forward=0, cohesion_backward=0, left_branching_entropy=3.293147618401967, right_branching_entropy=0.8676590357289853, left_accessor_variety=36, right_accessor_variety=4, leftside_frequency=255, rightside_frequency=8),\n",
       " '혈': Scores(cohesion_forward=0, cohesion_backward=0, left_branching_entropy=3.5749146705185084, right_branching_entropy=3.0713814447927947, left_accessor_variety=58, right_accessor_variety=35, leftside_frequency=435, rightside_frequency=244),\n",
       " '륨': Scores(cohesion_forward=0, cohesion_backward=0, left_branching_entropy=-0.0, right_branching_entropy=2.134356682630404, left_accessor_variety=1, right_accessor_variety=9, leftside_frequency=0, rightside_frequency=32),\n",
       " '델': Scores(cohesion_forward=0, cohesion_backward=0, left_branching_entropy=1.807200089457584, right_branching_entropy=3.990269797556251, left_accessor_variety=22, right_accessor_variety=89, leftside_frequency=53, rightside_frequency=664),\n",
       " '높': Scores(cohesion_forward=0, cohesion_backward=0, left_branching_entropy=3.176561615971837, right_branching_entropy=2.239481059386804, left_accessor_variety=117, right_accessor_variety=20, leftside_frequency=6478, rightside_frequency=0),\n",
       " '뻑': Scores(cohesion_forward=0, cohesion_backward=0, left_branching_entropy=0, right_branching_entropy=0.5004024235381879, left_accessor_variety=0, right_accessor_variety=2, leftside_frequency=0, rightside_frequency=18),\n",
       " '할': Scores(cohesion_forward=0, cohesion_backward=0, left_branching_entropy=5.095767813312889, right_branching_entropy=2.7597302857725072, left_accessor_variety=474, right_accessor_variety=257, leftside_frequency=1995, rightside_frequency=22723),\n",
       " '썼': Scores(cohesion_forward=0, cohesion_backward=0, left_branching_entropy=2.2395765779367274, right_branching_entropy=1.0353920404256944, left_accessor_variety=20, right_accessor_variety=8, leftside_frequency=323, rightside_frequency=0),\n",
       " '련': Scores(cohesion_forward=0, cohesion_backward=0, left_branching_entropy=1.6085738252699575, right_branching_entropy=4.763388621051442, left_accessor_variety=9, right_accessor_variety=244, leftside_frequency=0, rightside_frequency=4465),\n",
       " '닻': Scores(cohesion_forward=0, cohesion_backward=0, left_branching_entropy=-0.0, right_branching_entropy=-0.0, left_accessor_variety=1, right_accessor_variety=1, leftside_frequency=5, rightside_frequency=0),\n",
       " '키': Scores(cohesion_forward=0, cohesion_backward=0, left_branching_entropy=3.926228197360046, right_branching_entropy=3.42364924119416, left_accessor_variety=130, right_accessor_variety=114, leftside_frequency=1906, rightside_frequency=578),\n",
       " '썩': Scores(cohesion_forward=0, cohesion_backward=0, left_branching_entropy=1.8718316115508995, right_branching_entropy=1.422127789947383, left_accessor_variety=9, right_accessor_variety=5, leftside_frequency=70, rightside_frequency=6),\n",
       " '력': Scores(cohesion_forward=0, cohesion_backward=0, left_branching_entropy=3.026162433505175, right_branching_entropy=4.770495837010516, left_accessor_variety=43, right_accessor_variety=230, leftside_frequency=0, rightside_frequency=3502),\n",
       " '곰': Scores(cohesion_forward=0, cohesion_backward=0, left_branching_entropy=2.5339560701668224, right_branching_entropy=1.3003942461348876, left_accessor_variety=14, right_accessor_variety=5, leftside_frequency=64, rightside_frequency=0),\n",
       " '샴': Scores(cohesion_forward=0, cohesion_backward=0, left_branching_entropy=2.545240660297457, right_branching_entropy=0.7664750392297743, left_accessor_variety=15, right_accessor_variety=3, leftside_frequency=70, rightside_frequency=0),\n",
       " '껍': Scores(cohesion_forward=0, cohesion_backward=0, left_branching_entropy=1.8988060114989598, right_branching_entropy=0.6751425885789244, left_accessor_variety=14, right_accessor_variety=2, leftside_frequency=112, rightside_frequency=0),\n",
       " '껏': Scores(cohesion_forward=0, cohesion_backward=0, left_branching_entropy=1.294556589016347, right_branching_entropy=3.7864483995313125, left_accessor_variety=6, right_accessor_variety=57, leftside_frequency=0, rightside_frequency=401),\n",
       " '멜': Scores(cohesion_forward=0, cohesion_backward=0, left_branching_entropy=3.65054265851086, right_branching_entropy=1.6967975741769574, left_accessor_variety=56, right_accessor_variety=13, leftside_frequency=389, rightside_frequency=23),\n",
       " '옥': Scores(cohesion_forward=0, cohesion_backward=0, left_branching_entropy=4.130967647642166, right_branching_entropy=3.5742411517547694, left_accessor_variety=100, right_accessor_variety=78, leftside_frequency=846, rightside_frequency=308),\n",
       " '하': Scores(cohesion_forward=0, cohesion_backward=0, left_branching_entropy=4.0079081870895905, right_branching_entropy=3.5578947313454248, left_accessor_variety=438, right_accessor_variety=319, leftside_frequency=30656, rightside_frequency=2633),\n",
       " '3': Scores(cohesion_forward=0, cohesion_backward=0, left_branching_entropy=4.788349410602981, right_branching_entropy=4.09786464583047, left_accessor_variety=401, right_accessor_variety=331, leftside_frequency=22656, rightside_frequency=4204),\n",
       " '콤': Scores(cohesion_forward=0, cohesion_backward=0, left_branching_entropy=1.710078959254716, right_branching_entropy=2.4919853856029874, left_accessor_variety=17, right_accessor_variety=45, leftside_frequency=336, rightside_frequency=291),\n",
       " '스': Scores(cohesion_forward=0, cohesion_backward=0, left_branching_entropy=4.422347589296232, right_branching_entropy=4.756420136328804, left_accessor_variety=560, right_accessor_variety=559, leftside_frequency=18646, rightside_frequency=31944),\n",
       " '퓰': Scores(cohesion_forward=0, cohesion_backward=0, left_branching_entropy=-0.0, right_branching_entropy=-0.0, left_accessor_variety=1, right_accessor_variety=1, leftside_frequency=8, rightside_frequency=0),\n",
       " '샌': Scores(cohesion_forward=0, cohesion_backward=0, left_branching_entropy=3.018499162040394, right_branching_entropy=1.1526012142117201, left_accessor_variety=23, right_accessor_variety=4, leftside_frequency=111, rightside_frequency=0),\n",
       " '농': Scores(cohesion_forward=0, cohesion_backward=0, left_branching_entropy=4.36504167817366, right_branching_entropy=3.1444522691452867, left_accessor_variety=183, right_accessor_variety=62, leftside_frequency=3090, rightside_frequency=159),\n",
       " '용': Scores(cohesion_forward=0, cohesion_backward=0, left_branching_entropy=4.883041855523343, right_branching_entropy=4.980797116674875, left_accessor_variety=279, right_accessor_variety=360, leftside_frequency=2614, rightside_frequency=5922),\n",
       " '했': Scores(cohesion_forward=0, cohesion_backward=0, left_branching_entropy=2.6639265032085704, right_branching_entropy=1.3473235441021998, left_accessor_variety=116, right_accessor_variety=20, leftside_frequency=10261, rightside_frequency=0),\n",
       " '캄': Scores(cohesion_forward=0, cohesion_backward=0, left_branching_entropy=2.321947658183326, right_branching_entropy=1.2412481223908, left_accessor_variety=12, right_accessor_variety=5, leftside_frequency=62, rightside_frequency=0),\n",
       " '겪': Scores(cohesion_forward=0, cohesion_backward=0, left_branching_entropy=1.3739529131468176, right_branching_entropy=2.057582720563486, left_accessor_variety=19, right_accessor_variety=11, leftside_frequency=782, rightside_frequency=0),\n",
       " '닳': Scores(cohesion_forward=0, cohesion_backward=0, left_branching_entropy=0.6108643020548935, right_branching_entropy=-0.0, left_accessor_variety=2, right_accessor_variety=1, leftside_frequency=13, rightside_frequency=0),\n",
       " '몬': Scores(cohesion_forward=0, cohesion_backward=0, left_branching_entropy=3.3072922620360337, right_branching_entropy=1.5790728091408175, left_accessor_variety=39, right_accessor_variety=27, leftside_frequency=280, rightside_frequency=125),\n",
       " '릿': Scores(cohesion_forward=0, cohesion_backward=0, left_branching_entropy=1.9313071951746892, right_branching_entropy=3.013295599848297, left_accessor_variety=9, right_accessor_variety=25, leftside_frequency=15, rightside_frequency=151),\n",
       " '곽': Scores(cohesion_forward=0, cohesion_backward=0, left_branching_entropy=2.4430697171019, right_branching_entropy=2.3894109875831524, left_accessor_variety=44, right_accessor_variety=28, leftside_frequency=593, rightside_frequency=51),\n",
       " '형': Scores(cohesion_forward=0, cohesion_backward=0, left_branching_entropy=4.783930032561497, right_branching_entropy=4.504947506678082, left_accessor_variety=341, right_accessor_variety=316, leftside_frequency=3524, rightside_frequency=5769),\n",
       " '녁': Scores(cohesion_forward=0, cohesion_backward=0, left_branching_entropy=-0.0, right_branching_entropy=3.151343842454701, left_accessor_variety=1, right_accessor_variety=44, leftside_frequency=0, rightside_frequency=421),\n",
       " '쿠': Scores(cohesion_forward=0, cohesion_backward=0, left_branching_entropy=3.893737235939918, right_branching_entropy=2.798873143949859, left_accessor_variety=74, right_accessor_variety=30, leftside_frequency=580, rightside_frequency=46),\n",
       " '뿜': Scores(cohesion_forward=0, cohesion_backward=0, left_branching_entropy=1.5832437177643264, right_branching_entropy=0.3156311865497606, left_accessor_variety=8, right_accessor_variety=2, leftside_frequency=103, rightside_frequency=0),\n",
       " '횟': Scores(cohesion_forward=0, cohesion_backward=0, left_branching_entropy=2.6085711693477687, right_branching_entropy=-0.0, left_accessor_variety=15, right_accessor_variety=1, leftside_frequency=71, rightside_frequency=0),\n",
       " '둬': Scores(cohesion_forward=0, cohesion_backward=0, left_branching_entropy=1.5340265284387788, right_branching_entropy=1.1048429582711154, left_accessor_variety=6, right_accessor_variety=5, leftside_frequency=26, rightside_frequency=22),\n",
       " '숯': Scores(cohesion_forward=0, cohesion_backward=0, left_branching_entropy=-0.0, right_branching_entropy=0, left_accessor_variety=1, right_accessor_variety=0, leftside_frequency=7, rightside_frequency=0),\n",
       " '닉': Scores(cohesion_forward=0, cohesion_backward=0, left_branching_entropy=2.2511911430767073, right_branching_entropy=3.110140697227694, left_accessor_variety=16, right_accessor_variety=33, leftside_frequency=50, rightside_frequency=212),\n",
       " '을': Scores(cohesion_forward=0, cohesion_backward=0, left_branching_entropy=5.290676413089728, right_branching_entropy=5.425005803779664, left_accessor_variety=927, right_accessor_variety=837, leftside_frequency=719, rightside_frequency=203217),\n",
       " '껌': Scores(cohesion_forward=0, cohesion_backward=0, left_branching_entropy=1.0986122886681096, right_branching_entropy=0, left_accessor_variety=3, right_accessor_variety=0, leftside_frequency=7, rightside_frequency=0),\n",
       " '병': Scores(cohesion_forward=0, cohesion_backward=0, left_branching_entropy=4.337584540703065, right_branching_entropy=2.988779072657648, left_accessor_variety=157, right_accessor_variety=126, leftside_frequency=2142, rightside_frequency=632),\n",
       " '극': Scores(cohesion_forward=0, cohesion_backward=0, left_branching_entropy=3.940198841956231, right_branching_entropy=3.1462945460548264, left_accessor_variety=145, right_accessor_variety=140, leftside_frequency=2491, rightside_frequency=2566),\n",
       " '궂': Scores(cohesion_forward=0, cohesion_backward=0, left_branching_entropy=0.6365141682948128, right_branching_entropy=-0.0, left_accessor_variety=2, right_accessor_variety=1, leftside_frequency=10, rightside_frequency=0),\n",
       " '켈': Scores(cohesion_forward=0, cohesion_backward=0, left_branching_entropy=1.6540948935617488, right_branching_entropy=1.7477427366100906, left_accessor_variety=10, right_accessor_variety=6, leftside_frequency=64, rightside_frequency=70),\n",
       " '씻': Scores(cohesion_forward=0, cohesion_backward=0, left_branching_entropy=2.337424291171737, right_branching_entropy=1.0125430986265451, left_accessor_variety=13, right_accessor_variety=5, leftside_frequency=88, rightside_frequency=0),\n",
       " '웹': Scores(cohesion_forward=0, cohesion_backward=0, left_branching_entropy=2.814678788231896, right_branching_entropy=1.190184669136238, left_accessor_variety=56, right_accessor_variety=19, leftside_frequency=705, rightside_frequency=0),\n",
       " '슨': Scores(cohesion_forward=0, cohesion_backward=0, left_branching_entropy=1.558330257002598, right_branching_entropy=3.780508536190847, left_accessor_variety=6, right_accessor_variety=81, leftside_frequency=0, rightside_frequency=637),\n",
       " '엎': Scores(cohesion_forward=0, cohesion_backward=0, left_branching_entropy=1.8347505070928416, right_branching_entropy=1.013261884144225, left_accessor_variety=7, right_accessor_variety=3, leftside_frequency=33, rightside_frequency=0),\n",
       " '쥴': Scores(cohesion_forward=0, cohesion_backward=0, left_branching_entropy=0.992281974852574, right_branching_entropy=0.45056120886630463, left_accessor_variety=3, right_accessor_variety=2, leftside_frequency=10, rightside_frequency=5),\n",
       " '꾀': Scores(cohesion_forward=0, cohesion_backward=0, left_branching_entropy=1.0939426930671767, right_branching_entropy=1.1991504370759016, left_accessor_variety=5, right_accessor_variety=4, leftside_frequency=88, rightside_frequency=0),\n",
       " '샘': Scores(cohesion_forward=0, cohesion_backward=0, left_branching_entropy=2.2853975242452926, right_branching_entropy=2.292427981273331, left_accessor_variety=17, right_accessor_variety=17, leftside_frequency=55, rightside_frequency=116),\n",
       " '붕': Scores(cohesion_forward=0, cohesion_backward=0, left_branching_entropy=2.2465529802141617, right_branching_entropy=1.5904721535977342, left_accessor_variety=13, right_accessor_variety=10, leftside_frequency=104, rightside_frequency=65),\n",
       " '납': Scores(cohesion_forward=0, cohesion_backward=0, left_branching_entropy=3.7159620083222835, right_branching_entropy=2.2723052707540017, left_accessor_variety=63, right_accessor_variety=23, leftside_frequency=604, rightside_frequency=73),\n",
       " '든': Scores(cohesion_forward=0, cohesion_backward=0, left_branching_entropy=3.130382973104776, right_branching_entropy=4.647823302034715, left_accessor_variety=53, right_accessor_variety=332, leftside_frequency=229, rightside_frequency=5625),\n",
       " '벙': Scores(cohesion_forward=0, cohesion_backward=0, left_branching_entropy=2.421628279754696, right_branching_entropy=-0.0, left_accessor_variety=12, right_accessor_variety=1, leftside_frequency=50, rightside_frequency=0),\n",
       " '셈': Scores(cohesion_forward=0, cohesion_backward=0, left_branching_entropy=2.1860765095397547, right_branching_entropy=0.8612140423523578, left_accessor_variety=21, right_accessor_variety=12, leftside_frequency=424, rightside_frequency=18),\n",
       " '찜': Scores(cohesion_forward=0, cohesion_backward=0, left_branching_entropy=1.6640943790998326, right_branching_entropy=0.7603741834880299, left_accessor_variety=7, right_accessor_variety=3, leftside_frequency=44, rightside_frequency=7),\n",
       " '웰': Scores(cohesion_forward=0, cohesion_backward=0, left_branching_entropy=3.0595454675862586, right_branching_entropy=2.102806026367822, left_accessor_variety=30, right_accessor_variety=11, leftside_frequency=226, rightside_frequency=26),\n",
       " '엮': Scores(cohesion_forward=0, cohesion_backward=0, left_branching_entropy=1.4812232248022905, right_branching_entropy=1.0982873330376035, left_accessor_variety=6, right_accessor_variety=4, leftside_frequency=84, rightside_frequency=0),\n",
       " '칩': Scores(cohesion_forward=0, cohesion_backward=0, left_branching_entropy=2.491950221866857, right_branching_entropy=1.6135496309453439, left_accessor_variety=24, right_accessor_variety=20, leftside_frequency=207, rightside_frequency=79),\n",
       " '핏': Scores(cohesion_forward=0, cohesion_backward=0, left_branching_entropy=2.2279861887503802, right_branching_entropy=2.6000511308620844, left_accessor_variety=11, right_accessor_variety=16, leftside_frequency=63, rightside_frequency=30),\n",
       " '취': Scores(cohesion_forward=0, cohesion_backward=0, left_branching_entropy=3.685156818069401, right_branching_entropy=2.7712557846291497, left_accessor_variety=198, right_accessor_variety=88, leftside_frequency=6134, rightside_frequency=360),\n",
       " '이': Scores(cohesion_forward=0, cohesion_backward=0, left_branching_entropy=5.297642345598471, right_branching_entropy=5.656735423765108, left_accessor_variety=1202, right_accessor_variety=1206, leftside_frequency=117086, rightside_frequency=141193),\n",
       " '램': Scores(cohesion_forward=0, cohesion_backward=0, left_branching_entropy=1.3540961787015326, right_branching_entropy=4.535228553261967, left_accessor_variety=37, right_accessor_variety=162, leftside_frequency=350, rightside_frequency=1324),\n",
       " '호': Scores(cohesion_forward=0, cohesion_backward=0, left_branching_entropy=4.645262673495136, right_branching_entropy=4.347884448160475, left_accessor_variety=319, right_accessor_variety=302, leftside_frequency=4914, rightside_frequency=5507),\n",
       " '펫': Scores(cohesion_forward=0, cohesion_backward=0, left_branching_entropy=1.8320275342901315, right_branching_entropy=1.989975630666442, left_accessor_variety=9, right_accessor_variety=9, leftside_frequency=35, rightside_frequency=32),\n",
       " '짧': Scores(cohesion_forward=0, cohesion_backward=0, left_branching_entropy=3.2892543804231846, right_branching_entropy=1.5907577032106837, left_accessor_variety=44, right_accessor_variety=7, leftside_frequency=346, rightside_frequency=0),\n",
       " '복': Scores(cohesion_forward=0, cohesion_backward=0, left_branching_entropy=4.4132826559017, right_branching_entropy=3.8035964463805256, left_accessor_variety=229, right_accessor_variety=196, leftside_frequency=4252, rightside_frequency=1564),\n",
       " '루': Scores(cohesion_forward=0, cohesion_backward=0, left_branching_entropy=3.5883625565104933, right_branching_entropy=3.3533317646543974, left_accessor_variety=113, right_accessor_variety=175, leftside_frequency=1727, rightside_frequency=1477),\n",
       " '않': Scores(cohesion_forward=0, cohesion_backward=0, left_branching_entropy=0.481067902961136, right_branching_entropy=2.4448187939124884, left_accessor_variety=21, right_accessor_variety=24, leftside_frequency=14902, rightside_frequency=0),\n",
       " '획': Scores(cohesion_forward=0, cohesion_backward=0, left_branching_entropy=2.2095213694450844, right_branching_entropy=3.2962319762473156, left_accessor_variety=32, right_accessor_variety=102, leftside_frequency=346, rightside_frequency=1228),\n",
       " '롯': Scores(cohesion_forward=0, cohesion_backward=0, left_branching_entropy=3.9041280763780613, right_branching_entropy=0.3156687890259886, left_accessor_variety=127, right_accessor_variety=23, leftside_frequency=1975, rightside_frequency=131),\n",
       " '같': Scores(cohesion_forward=0, cohesion_backward=0, left_branching_entropy=3.409670279894517, right_branching_entropy=1.409657710210831, left_accessor_variety=251, right_accessor_variety=17, leftside_frequency=7804, rightside_frequency=0),\n",
       " '윙': Scores(cohesion_forward=0, cohesion_backward=0, left_branching_entropy=1.8929615531682882, right_branching_entropy=1.3800852205867375, left_accessor_variety=10, right_accessor_variety=8, leftside_frequency=67, rightside_frequency=30),\n",
       " '괴': Scores(cohesion_forward=0, cohesion_backward=0, left_branching_entropy=3.2375665824785718, right_branching_entropy=2.5203412544207957, left_accessor_variety=39, right_accessor_variety=21, leftside_frequency=308, rightside_frequency=50),\n",
       " '엊': Scores(cohesion_forward=0, cohesion_backward=0, left_branching_entropy=0, right_branching_entropy=-0.0, left_accessor_variety=0, right_accessor_variety=1, leftside_frequency=9, rightside_frequency=0),\n",
       " '슷': Scores(cohesion_forward=0, cohesion_backward=0, left_branching_entropy=0, right_branching_entropy=0, left_accessor_variety=0, right_accessor_variety=0, leftside_frequency=0, rightside_frequency=5),\n",
       " '견': Scores(cohesion_forward=0, cohesion_backward=0, left_branching_entropy=3.1852210944420496, right_branching_entropy=3.9079786652501722, left_accessor_variety=77, right_accessor_variety=114, leftside_frequency=881, rightside_frequency=936),\n",
       " '뻔': Scores(cohesion_forward=0, cohesion_backward=0, left_branching_entropy=2.8445143612854067, right_branching_entropy=1.7070792337835645, left_accessor_variety=22, right_accessor_variety=9, leftside_frequency=154, rightside_frequency=0),\n",
       " '툭': Scores(cohesion_forward=0, cohesion_backward=0, left_branching_entropy=1.7917594692280547, right_branching_entropy=1.3086053872534493, left_accessor_variety=6, right_accessor_variety=4, leftside_frequency=9, rightside_frequency=5),\n",
       " '터': Scores(cohesion_forward=0, cohesion_backward=0, left_branching_entropy=1.7119196718145524, right_branching_entropy=5.232231288327644, left_accessor_variety=132, right_accessor_variety=521, leftside_frequency=1472, rightside_frequency=16679),\n",
       " '뵙': Scores(cohesion_forward=0, cohesion_backward=0, left_branching_entropy=1.3421131789144003, right_branching_entropy=0.6517565611726531, left_accessor_variety=4, right_accessor_variety=2, leftside_frequency=15, rightside_frequency=0),\n",
       " '휘': Scores(cohesion_forward=0, cohesion_backward=0, left_branching_entropy=3.3198491127004828, right_branching_entropy=2.9392191718542047, left_accessor_variety=48, right_accessor_variety=32, leftside_frequency=488, rightside_frequency=97),\n",
       " '베': Scores(cohesion_forward=0, cohesion_backward=0, left_branching_entropy=4.292518159500382, right_branching_entropy=2.5432651323199935, left_accessor_variety=167, right_accessor_variety=41, leftside_frequency=2401, rightside_frequency=104),\n",
       " '샷': Scores(cohesion_forward=0, cohesion_backward=0, left_branching_entropy=1.0949797342037142, right_branching_entropy=1.7460929019843046, left_accessor_variety=4, right_accessor_variety=6, leftside_frequency=15, rightside_frequency=24),\n",
       " '벵': Scores(cohesion_forward=0, cohesion_backward=0, left_branching_entropy=1.4553330351928317, right_branching_entropy=0.6853142072764582, left_accessor_variety=5, right_accessor_variety=2, leftside_frequency=23, rightside_frequency=0),\n",
       " '건': Scores(cohesion_forward=0, cohesion_backward=0, left_branching_entropy=4.637735584654975, right_branching_entropy=4.1364898237417185, left_accessor_variety=313, right_accessor_variety=321, leftside_frequency=6043, rightside_frequency=2755),\n",
       " '슐': Scores(cohesion_forward=0, cohesion_backward=0, left_branching_entropy=1.0986122886681096, right_branching_entropy=0.5799151714181009, left_accessor_variety=3, right_accessor_variety=2, leftside_frequency=12, rightside_frequency=7),\n",
       " '낌': Scores(cohesion_forward=0, cohesion_backward=0, left_branching_entropy=0.6615632381579821, right_branching_entropy=1.7163316357961729, left_accessor_variety=2, right_accessor_variety=7, leftside_frequency=0, rightside_frequency=51),\n",
       " '꺼': Scores(cohesion_forward=0, cohesion_backward=0, left_branching_entropy=2.370470381812809, right_branching_entropy=1.92223338884526, left_accessor_variety=28, right_accessor_variety=11, leftside_frequency=426, rightside_frequency=0),\n",
       " '맙': Scores(cohesion_forward=0, cohesion_backward=0, left_branching_entropy=-0.0, right_branching_entropy=-0.0, left_accessor_variety=1, right_accessor_variety=1, leftside_frequency=5, rightside_frequency=0),\n",
       " '므': Scores(cohesion_forward=0, cohesion_backward=0, left_branching_entropy=0, right_branching_entropy=0.17884491271684755, left_accessor_variety=0, right_accessor_variety=2, leftside_frequency=0, rightside_frequency=49),\n",
       " '뇨': Scores(cohesion_forward=0, cohesion_backward=0, left_branching_entropy=0.6581099875431143, right_branching_entropy=2.028479126545233, left_accessor_variety=2, right_accessor_variety=9, leftside_frequency=0, rightside_frequency=59),\n",
       " '춤': Scores(cohesion_forward=0, cohesion_backward=0, left_branching_entropy=3.321954343866717, right_branching_entropy=2.7720139738370766, left_accessor_variety=35, right_accessor_variety=29, leftside_frequency=135, rightside_frequency=96),\n",
       " '맡': Scores(cohesion_forward=0, cohesion_backward=0, left_branching_entropy=1.3979200284651232, right_branching_entropy=2.052369408180981, left_accessor_variety=34, right_accessor_variety=14, leftside_frequency=2164, rightside_frequency=0),\n",
       " '흐': Scores(cohesion_forward=0, cohesion_backward=0, left_branching_entropy=3.5544767540098614, right_branching_entropy=1.979207356186778, left_accessor_variety=74, right_accessor_variety=25, leftside_frequency=850, rightside_frequency=56),\n",
       " '칵': Scores(cohesion_forward=0, cohesion_backward=0, left_branching_entropy=2.6657637856513743, right_branching_entropy=1.009780247644639, left_accessor_variety=16, right_accessor_variety=4, leftside_frequency=77, rightside_frequency=14),\n",
       " '탕': Scores(cohesion_forward=0, cohesion_backward=0, left_branching_entropy=2.6400228447724614, right_branching_entropy=3.457480635907568, left_accessor_variety=22, right_accessor_variety=44, leftside_frequency=60, rightside_frequency=231),\n",
       " '외': Scores(cohesion_forward=0, cohesion_backward=0, left_branching_entropy=4.490673129609127, right_branching_entropy=3.540253631702153, left_accessor_variety=271, right_accessor_variety=256, leftside_frequency=7691, rightside_frequency=2019),\n",
       " '편': Scores(cohesion_forward=0, cohesion_backward=0, left_branching_entropy=4.312296362840648, right_branching_entropy=4.576941229614376, left_accessor_variety=209, right_accessor_variety=333, leftside_frequency=3879, rightside_frequency=4009),\n",
       " '념': Scores(cohesion_forward=0, cohesion_backward=0, left_branching_entropy=0.6182523970693317, right_branching_entropy=3.311104107658011, left_accessor_variety=2, right_accessor_variety=66, leftside_frequency=0, rightside_frequency=633),\n",
       " '벅': Scores(cohesion_forward=0, cohesion_backward=0, left_branching_entropy=1.6225272035993974, right_branching_entropy=1.7522792126991196, left_accessor_variety=10, right_accessor_variety=7, leftside_frequency=52, rightside_frequency=55),\n",
       " '론': Scores(cohesion_forward=0, cohesion_backward=0, left_branching_entropy=1.180540063123084, right_branching_entropy=3.0154306920010803, left_accessor_variety=61, right_accessor_variety=295, leftside_frequency=455, rightside_frequency=8050),\n",
       " '좇': Scores(cohesion_forward=0, cohesion_backward=0, left_branching_entropy=0.5004024235381879, right_branching_entropy=0.6365141682948128, left_accessor_variety=2, right_accessor_variety=2, leftside_frequency=29, rightside_frequency=0),\n",
       " '캔': Scores(cohesion_forward=0, cohesion_backward=0, left_branching_entropy=2.9481511834820617, right_branching_entropy=1.0990149743912232, left_accessor_variety=43, right_accessor_variety=12, leftside_frequency=630, rightside_frequency=8),\n",
       " '헨': Scores(cohesion_forward=0, cohesion_backward=0, left_branching_entropy=1.5086597717181076, right_branching_entropy=0.8982308258698813, left_accessor_variety=6, right_accessor_variety=3, leftside_frequency=39, rightside_frequency=5),\n",
       " '숲': Scores(cohesion_forward=0, cohesion_backward=0, left_branching_entropy=3.272598053788186, right_branching_entropy=3.06760286475027, left_accessor_variety=46, right_accessor_variety=33, leftside_frequency=199, rightside_frequency=114),\n",
       " '낱': Scores(cohesion_forward=0, cohesion_backward=0, left_branching_entropy=1.8130990180764117, right_branching_entropy=0.8548286398639261, left_accessor_variety=7, right_accessor_variety=3, leftside_frequency=30, rightside_frequency=0),\n",
       " '릇': Scores(cohesion_forward=0, cohesion_backward=0, left_branching_entropy=0, right_branching_entropy=1.6996989093371107, left_accessor_variety=0, right_accessor_variety=7, leftside_frequency=0, rightside_frequency=47),\n",
       " '킬': Scores(cohesion_forward=0, cohesion_backward=0, left_branching_entropy=1.6175089738046886, right_branching_entropy=2.2161702222227073, left_accessor_variety=26, right_accessor_variety=38, leftside_frequency=117, rightside_frequency=547),\n",
       " '류': Scores(cohesion_forward=0, cohesion_backward=0, left_branching_entropy=3.629429171237337, right_branching_entropy=4.718969327318339, left_accessor_variety=77, right_accessor_variety=182, leftside_frequency=518, rightside_frequency=1527),\n",
       " '곧': Scores(cohesion_forward=0, cohesion_backward=0, left_branching_entropy=2.989016331301613, right_branching_entropy=3.261754566553703, left_accessor_variety=37, right_accessor_variety=78, leftside_frequency=266, rightside_frequency=98),\n",
       " '댓': Scores(cohesion_forward=0, cohesion_backward=0, left_branching_entropy=2.9162518445227295, right_branching_entropy=0.1133649868760616, left_accessor_variety=27, right_accessor_variety=2, leftside_frequency=209, rightside_frequency=0),\n",
       " '묵': Scores(cohesion_forward=0, cohesion_backward=0, left_branching_entropy=3.313199757494247, right_branching_entropy=2.483357594301234, left_accessor_variety=38, right_accessor_variety=23, leftside_frequency=322, rightside_frequency=87),\n",
       " '멍': Scores(cohesion_forward=0, cohesion_backward=0, left_branching_entropy=2.420095419069516, right_branching_entropy=1.860957094749208, left_accessor_variety=14, right_accessor_variety=9, leftside_frequency=70, rightside_frequency=19),\n",
       " '딱': Scores(cohesion_forward=0, cohesion_backward=0, left_branching_entropy=2.454502477709327, right_branching_entropy=2.294709903279894, left_accessor_variety=37, right_accessor_variety=36, leftside_frequency=299, rightside_frequency=23),\n",
       " '륭': Scores(cohesion_forward=0, cohesion_backward=0, left_branching_entropy=-0.0, right_branching_entropy=-0.0, left_accessor_variety=1, right_accessor_variety=1, leftside_frequency=0, rightside_frequency=5),\n",
       " '젯': Scores(cohesion_forward=0, cohesion_backward=0, left_branching_entropy=0.6920129648318738, right_branching_entropy=1.7127324378491742, left_accessor_variety=2, right_accessor_variety=6, leftside_frequency=0, rightside_frequency=25),\n",
       " '였': Scores(cohesion_forward=0, cohesion_backward=0, left_branching_entropy=3.191149894803107, right_branching_entropy=1.2942436830847708, left_accessor_variety=39, right_accessor_variety=8, leftside_frequency=334, rightside_frequency=0),\n",
       " '꿇': Scores(cohesion_forward=0, cohesion_backward=0, left_branching_entropy=0.5982695885852573, right_branching_entropy=0.6931471805599453, left_accessor_variety=2, right_accessor_variety=2, leftside_frequency=15, rightside_frequency=0),\n",
       " '자': Scores(cohesion_forward=0, cohesion_backward=0, left_branching_entropy=4.507663308502377, right_branching_entropy=5.077530223789471, left_accessor_variety=588, right_accessor_variety=723, leftside_frequency=27549, rightside_frequency=60324),\n",
       " '쿵': Scores(cohesion_forward=0, cohesion_backward=0, left_branching_entropy=2.6385045436664067, right_branching_entropy=1.9366441876578633, left_accessor_variety=19, right_accessor_variety=11, leftside_frequency=97, rightside_frequency=80),\n",
       " '개': Scores(cohesion_forward=0, cohesion_backward=0, left_branching_entropy=4.675205603731746, right_branching_entropy=4.123919137339089, left_accessor_variety=384, right_accessor_variety=382, leftside_frequency=17216, rightside_frequency=6603),\n",
       " '샀': Scores(cohesion_forward=0, cohesion_backward=0, left_branching_entropy=1.1995549320735432, right_branching_entropy=0.7256666415476831, left_accessor_variety=9, right_accessor_variety=4, leftside_frequency=123, rightside_frequency=0),\n",
       " '골': Scores(cohesion_forward=0, cohesion_backward=0, left_branching_entropy=4.259679110161603, right_branching_entropy=3.2470589482615844, left_accessor_variety=140, right_accessor_variety=77, leftside_frequency=1531, rightside_frequency=296),\n",
       " '숨': Scores(cohesion_forward=0, cohesion_backward=0, left_branching_entropy=3.4273739196208926, right_branching_entropy=2.3977449434524956, left_accessor_variety=83, right_accessor_variety=38, leftside_frequency=2139, rightside_frequency=60),\n",
       " '짠': Scores(cohesion_forward=0, cohesion_backward=0, left_branching_entropy=2.4892003043604225, right_branching_entropy=1.5527108299421897, left_accessor_variety=14, right_accessor_variety=6, leftside_frequency=45, rightside_frequency=0),\n",
       " '샤': Scores(cohesion_forward=0, cohesion_backward=0, left_branching_entropy=3.8453274673031492, right_branching_entropy=2.0795385835483775, left_accessor_variety=78, right_accessor_variety=22, leftside_frequency=625, rightside_frequency=235),\n",
       " '뭇': Scores(cohesion_forward=0, cohesion_backward=0, left_branching_entropy=0.6837389058487535, right_branching_entropy=1.0591434127615207, left_accessor_variety=3, right_accessor_variety=4, leftside_frequency=20, rightside_frequency=22),\n",
       " '쩐': Scores(cohesion_forward=0, cohesion_backward=0, left_branching_entropy=0, right_branching_entropy=0, left_accessor_variety=0, right_accessor_variety=0, leftside_frequency=5, rightside_frequency=0),\n",
       " '껄': Scores(cohesion_forward=0, cohesion_backward=0, left_branching_entropy=-0.0, right_branching_entropy=-0.0, left_accessor_variety=1, right_accessor_variety=1, leftside_frequency=5, rightside_frequency=0),\n",
       " '꿀': Scores(cohesion_forward=0, cohesion_backward=0, left_branching_entropy=2.6719280612401497, right_branching_entropy=2.4372456217060927, left_accessor_variety=24, right_accessor_variety=23, leftside_frequency=204, rightside_frequency=88),\n",
       " '폼': Scores(cohesion_forward=0, cohesion_backward=0, left_branching_entropy=0.05338403027678455, right_branching_entropy=3.240163044364944, left_accessor_variety=2, right_accessor_variety=34, leftside_frequency=6, rightside_frequency=219),\n",
       " '쁨': Scores(cohesion_forward=0, cohesion_backward=0, left_branching_entropy=0, right_branching_entropy=2.0274614762383703, left_accessor_variety=0, right_accessor_variety=13, leftside_frequency=0, rightside_frequency=113),\n",
       " '찌': Scores(cohesion_forward=0, cohesion_backward=0, left_branching_entropy=1.6454111616550213, right_branching_entropy=2.9073253724598875, left_accessor_variety=21, right_accessor_variety=36, leftside_frequency=157, rightside_frequency=307),\n",
       " '셰': Scores(cohesion_forward=0, cohesion_backward=0, left_branching_entropy=3.1894722258962926, right_branching_entropy=1.789993938514315, left_accessor_variety=29, right_accessor_variety=7, leftside_frequency=197, rightside_frequency=6),\n",
       " '위': Scores(cohesion_forward=0, cohesion_backward=0, left_branching_entropy=3.4656239827072923, right_branching_entropy=3.2380822208293356, left_accessor_variety=408, right_accessor_variety=332, leftside_frequency=24212, rightside_frequency=4377),\n",
       " '금': Scores(cohesion_forward=0, cohesion_backward=0, left_branching_entropy=2.229591431478081, right_branching_entropy=2.2871286532245616, left_accessor_variety=321, right_accessor_variety=353, leftside_frequency=26859, rightside_frequency=5699),\n",
       " '끄': Scores(cohesion_forward=0, cohesion_backward=0, left_branching_entropy=1.1815517131887932, right_branching_entropy=1.3276834805933133, left_accessor_variety=8, right_accessor_variety=6, leftside_frequency=159, rightside_frequency=7),\n",
       " '돕': Scores(cohesion_forward=0, cohesion_backward=0, left_branching_entropy=1.5228821284555543, right_branching_entropy=1.1196494598471982, left_accessor_variety=14, right_accessor_variety=4, leftside_frequency=459, rightside_frequency=0),\n",
       " '낸': Scores(cohesion_forward=0, cohesion_backward=0, left_branching_entropy=2.968492402976497, right_branching_entropy=4.28768109056925, left_accessor_variety=49, right_accessor_variety=162, leftside_frequency=83, rightside_frequency=1172),\n",
       " '원': Scores(cohesion_forward=0, cohesion_backward=0, left_branching_entropy=4.55788657056681, right_branching_entropy=5.146945281337783, left_accessor_variety=427, right_accessor_variety=536, leftside_frequency=12220, rightside_frequency=20391),\n",
       " '햄': Scores(cohesion_forward=0, cohesion_backward=0, left_branching_entropy=2.637743951616528, right_branching_entropy=1.314398428430111, left_accessor_variety=17, right_accessor_variety=5, leftside_frequency=48, rightside_frequency=13),\n",
       " '덩': Scores(cohesion_forward=0, cohesion_backward=0, left_branching_entropy=2.553378313633433, right_branching_entropy=1.4149643971485488, left_accessor_variety=15, right_accessor_variety=5, leftside_frequency=68, rightside_frequency=0),\n",
       " '펄': Scores(cohesion_forward=0, cohesion_backward=0, left_branching_entropy=1.3199101094893373, right_branching_entropy=0.6931471805599453, left_accessor_variety=5, right_accessor_variety=2, leftside_frequency=20, rightside_frequency=0),\n",
       " '룰': Scores(cohesion_forward=0, cohesion_backward=0, left_branching_entropy=2.796814445432224, right_branching_entropy=2.2818022370695417, left_accessor_variety=21, right_accessor_variety=18, leftside_frequency=104, rightside_frequency=95),\n",
       " '섯': Scores(cohesion_forward=0, cohesion_backward=0, left_branching_entropy=0.5341593666871499, right_branching_entropy=2.5740775944713903, left_accessor_variety=2, right_accessor_variety=34, leftside_frequency=0, rightside_frequency=339),\n",
       " '펼': Scores(cohesion_forward=0, cohesion_backward=0, left_branching_entropy=1.9489115816606613, right_branching_entropy=1.4558826519222858, left_accessor_variety=35, right_accessor_variety=9, leftside_frequency=2070, rightside_frequency=0),\n",
       " '십': Scores(cohesion_forward=0, cohesion_backward=0, left_branching_entropy=2.6788348836816986, right_branching_entropy=3.4263924063129556, left_accessor_variety=36, right_accessor_variety=51, leftside_frequency=154, rightside_frequency=470),\n",
       " '뭘': Scores(cohesion_forward=0, cohesion_backward=0, left_branching_entropy=2.6547315398180995, right_branching_entropy=2.444702578341821, left_accessor_variety=20, right_accessor_variety=19, leftside_frequency=40, rightside_frequency=0),\n",
       " '틈': Scores(cohesion_forward=0, cohesion_backward=0, left_branching_entropy=2.9479146142396546, right_branching_entropy=2.220829937463043, left_accessor_variety=27, right_accessor_variety=11, leftside_frequency=148, rightside_frequency=0),\n",
       " '송': Scores(cohesion_forward=0, cohesion_backward=0, left_branching_entropy=4.161164710202492, right_branching_entropy=4.265767920339279, left_accessor_variety=211, right_accessor_variety=224, leftside_frequency=3535, rightside_frequency=2170),\n",
       " '좁': Scores(cohesion_forward=0, cohesion_backward=0, left_branching_entropy=2.6713583877016407, right_branching_entropy=1.7263163145812668, left_accessor_variety=23, right_accessor_variety=9, leftside_frequency=219, rightside_frequency=0),\n",
       " '행': Scores(cohesion_forward=0, cohesion_backward=0, left_branching_entropy=4.445568392913443, right_branching_entropy=3.7889586242048154, left_accessor_variety=294, right_accessor_variety=280, leftside_frequency=7910, rightside_frequency=5359),\n",
       " '뭉': Scores(cohesion_forward=0, cohesion_backward=0, left_branching_entropy=2.5212129701356503, right_branching_entropy=1.8544487724251195, left_accessor_variety=20, right_accessor_variety=8, leftside_frequency=171, rightside_frequency=0),\n",
       " '퀄': Scores(cohesion_forward=0, cohesion_backward=0, left_branching_entropy=2.549908733443306, right_branching_entropy=0.4783203281153531, left_accessor_variety=21, right_accessor_variety=2, leftside_frequency=130, rightside_frequency=0),\n",
       " '뱃': Scores(cohesion_forward=0, cohesion_backward=0, left_branching_entropy=2.062069541300165, right_branching_entropy=0.6914160776171183, left_accessor_variety=8, right_accessor_variety=2, leftside_frequency=25, rightside_frequency=0),\n",
       " '컬': Scores(cohesion_forward=0, cohesion_backward=0, left_branching_entropy=3.5956670505095043, right_branching_entropy=1.7760465560057772, left_accessor_variety=104, right_accessor_variety=67, leftside_frequency=2270, rightside_frequency=409),\n",
       " '굵': Scores(cohesion_forward=0, cohesion_backward=0, left_branching_entropy=2.3308306907785323, right_branching_entropy=0.9549403493005753, left_accessor_variety=14, right_accessor_variety=3, leftside_frequency=100, rightside_frequency=0),\n",
       " '여': Scores(cohesion_forward=0, cohesion_backward=0, left_branching_entropy=4.4910917685911755, right_branching_entropy=4.123579425124972, left_accessor_variety=426, right_accessor_variety=412, leftside_frequency=19018, rightside_frequency=6237),\n",
       " '봤': Scores(cohesion_forward=0, cohesion_backward=0, left_branching_entropy=2.589302649788396, right_branching_entropy=1.7070968382443283, left_accessor_variety=26, right_accessor_variety=11, leftside_frequency=487, rightside_frequency=0),\n",
       " '캣': Scores(cohesion_forward=0, cohesion_backward=0, left_branching_entropy=0.37677016125643675, right_branching_entropy=1.598368627819744, left_accessor_variety=2, right_accessor_variety=5, leftside_frequency=11, rightside_frequency=8),\n",
       " '던': Scores(cohesion_forward=0, cohesion_backward=0, left_branching_entropy=3.0779378659343597, right_branching_entropy=5.118880084916906, left_accessor_variety=106, right_accessor_variety=429, leftside_frequency=526, rightside_frequency=12255),\n",
       " ...}"
      ]
     },
     "execution_count": 155,
     "metadata": {},
     "output_type": "execute_result"
    }
   ],
   "source": [
    "word_score_table"
   ]
  },
  {
   "cell_type": "markdown",
   "metadata": {},
   "source": [
    "3) SOYNLP의 응집 확률(cohesion probability)\n",
    "- 응집 확률은 내부 문자열(substring)이 얼마나 응집하여 자주 등장하는지를 판단하는 척도"
   ]
  },
  {
   "cell_type": "code",
   "execution_count": 156,
   "metadata": {},
   "outputs": [
    {
     "data": {
      "text/plain": [
       "0.08838002913645132"
      ]
     },
     "execution_count": 156,
     "metadata": {},
     "output_type": "execute_result"
    }
   ],
   "source": [
    "word_score_table[\"반포한\"].cohesion_forward"
   ]
  },
  {
   "cell_type": "code",
   "execution_count": 157,
   "metadata": {},
   "outputs": [
    {
     "data": {
      "text/plain": [
       "0.19841268168224552"
      ]
     },
     "execution_count": 157,
     "metadata": {},
     "output_type": "execute_result"
    }
   ],
   "source": [
    "word_score_table[\"반포한강\"].cohesion_forward\n",
    "# '반포한강'은 '반포한'보다 응집 확률이 높음"
   ]
  },
  {
   "cell_type": "code",
   "execution_count": 158,
   "metadata": {},
   "outputs": [
    {
     "data": {
      "text/plain": [
       "0.2972877884078849"
      ]
     },
     "execution_count": 158,
     "metadata": {},
     "output_type": "execute_result"
    }
   ],
   "source": [
    "word_score_table[\"반포한강공\"].cohesion_forward"
   ]
  },
  {
   "cell_type": "code",
   "execution_count": 159,
   "metadata": {},
   "outputs": [
    {
     "data": {
      "text/plain": [
       "0.37891487632839754"
      ]
     },
     "execution_count": 159,
     "metadata": {},
     "output_type": "execute_result"
    }
   ],
   "source": [
    "word_score_table[\"반포한강공원\"].cohesion_forward"
   ]
  },
  {
   "cell_type": "code",
   "execution_count": 160,
   "metadata": {},
   "outputs": [
    {
     "data": {
      "text/plain": [
       "0.33492963377557666"
      ]
     },
     "execution_count": 160,
     "metadata": {},
     "output_type": "execute_result"
    }
   ],
   "source": [
    "word_score_table[\"반포한강공원에\"].cohesion_forward"
   ]
  },
  {
   "cell_type": "markdown",
   "metadata": {},
   "source": [
    "- 해석\n",
    " - 결합도는 '반포한강공원'일 때가 가장 높음\n",
    " - 응집도를 통해 판단, 하나의 단어로 판단하기 적합한 문자열은 '반포한강공원'"
   ]
  },
  {
   "cell_type": "markdown",
   "metadata": {},
   "source": [
    "4) SOYNLP의 브랜칭 엔트로피(branching entropy)\n",
    "- Branching Entropy는 확률 분포의 엔트로피값을 사용\n",
    "- 브랜칭 엔트로피의 값은 하나의 완성된 단어에 가까워질수록 문맥으로 인해 점점 정확히 예측할 수 있게 되면서 점점 줄어드는 양상"
   ]
  },
  {
   "cell_type": "code",
   "execution_count": 161,
   "metadata": {},
   "outputs": [
    {
     "data": {
      "text/plain": [
       "1.6371694761537934"
      ]
     },
     "execution_count": 161,
     "metadata": {},
     "output_type": "execute_result"
    }
   ],
   "source": [
    "word_score_table[\"디스\"].right_branching_entropy"
   ]
  },
  {
   "cell_type": "code",
   "execution_count": 162,
   "metadata": {},
   "outputs": [
    {
     "data": {
      "text/plain": [
       "-0.0"
      ]
     },
     "execution_count": 162,
     "metadata": {},
     "output_type": "execute_result"
    }
   ],
   "source": [
    "word_score_table[\"디스플\"].right_branching_entropy"
   ]
  },
  {
   "cell_type": "code",
   "execution_count": 163,
   "metadata": {},
   "outputs": [
    {
     "data": {
      "text/plain": [
       "-0.0"
      ]
     },
     "execution_count": 163,
     "metadata": {},
     "output_type": "execute_result"
    }
   ],
   "source": [
    "word_score_table[\"디스플레\"].right_branching_entropy"
   ]
  },
  {
   "cell_type": "code",
   "execution_count": 164,
   "metadata": {},
   "outputs": [
    {
     "data": {
      "text/plain": [
       "3.1400392861792916"
      ]
     },
     "execution_count": 164,
     "metadata": {},
     "output_type": "execute_result"
    }
   ],
   "source": [
    "word_score_table[\"디스플레이\"].right_branching_entropy"
   ]
  },
  {
   "cell_type": "markdown",
   "metadata": {},
   "source": [
    "- 해석\n",
    " -  문자 시퀀스 '디스플레이'라는 문자 시퀀스 다음에는 조사나 다른 단어와 같은 다양한 경우가 있을 수 있기 때문"
   ]
  },
  {
   "cell_type": "markdown",
   "metadata": {},
   "source": [
    "5) SOYNLP의 L tokenizer\n",
    "-  L 토크나이저는 L 토큰 + R 토큰으로 나누되, 분리 기준을 점수가 가장 높은 L 토큰을 찾아내는 원리"
   ]
  },
  {
   "cell_type": "code",
   "execution_count": 166,
   "metadata": {},
   "outputs": [
    {
     "data": {
      "text/plain": [
       "{'융': Scores(cohesion_forward=0, cohesion_backward=0, left_branching_entropy=3.349666987865973, right_branching_entropy=3.158159196526056, left_accessor_variety=67, right_accessor_variety=65, leftside_frequency=485, rightside_frequency=529),\n",
       " '북': Scores(cohesion_forward=0, cohesion_backward=0, left_branching_entropy=4.153506994157559, right_branching_entropy=2.764881386087283, left_accessor_variety=216, right_accessor_variety=203, leftside_frequency=6464, rightside_frequency=2657),\n",
       " '릴': Scores(cohesion_forward=0, cohesion_backward=0, left_branching_entropy=2.8661246517414654, right_branching_entropy=2.799624131005387, left_accessor_variety=29, right_accessor_variety=71, leftside_frequency=78, rightside_frequency=1391),\n",
       " '짱': Scores(cohesion_forward=0, cohesion_backward=0, left_branching_entropy=1.1672864936177827, right_branching_entropy=1.0939547819577147, left_accessor_variety=4, right_accessor_variety=3, leftside_frequency=24, rightside_frequency=11),\n",
       " '읍': Scores(cohesion_forward=0, cohesion_backward=0, left_branching_entropy=2.7299288539073068, right_branching_entropy=3.4659766103245677, left_accessor_variety=32, right_accessor_variety=56, leftside_frequency=33, rightside_frequency=364),\n",
       " '챔': Scores(cohesion_forward=0, cohesion_backward=0, left_branching_entropy=2.7156878369328266, right_branching_entropy=0.5215909070057141, left_accessor_variety=25, right_accessor_variety=3, leftside_frequency=197, rightside_frequency=34),\n",
       " '맘': Scores(cohesion_forward=0, cohesion_backward=0, left_branching_entropy=2.9242646127811023, right_branching_entropy=2.361431846917409, left_accessor_variety=25, right_accessor_variety=15, leftside_frequency=100, rightside_frequency=22),\n",
       " '덜': Scores(cohesion_forward=0, cohesion_backward=0, left_branching_entropy=2.4182918514003355, right_branching_entropy=2.750179973002086, left_accessor_variety=21, right_accessor_variety=31, leftside_frequency=207, rightside_frequency=0),\n",
       " '짊': Scores(cohesion_forward=0, cohesion_backward=0, left_branching_entropy=1.2580481453641945, right_branching_entropy=-0.0, left_accessor_variety=4, right_accessor_variety=1, leftside_frequency=27, rightside_frequency=0),\n",
       " '럴': Scores(cohesion_forward=0, cohesion_backward=0, left_branching_entropy=1.1086310121914715, right_branching_entropy=2.6720578057462117, left_accessor_variety=5, right_accessor_variety=29, leftside_frequency=0, rightside_frequency=431),\n",
       " '텅': Scores(cohesion_forward=0, cohesion_backward=0, left_branching_entropy=1.8254508424001135, right_branching_entropy=0.7605392206974096, left_accessor_variety=10, right_accessor_variety=3, leftside_frequency=10, rightside_frequency=0),\n",
       " '뚱': Scores(cohesion_forward=0, cohesion_backward=0, left_branching_entropy=-0.0, right_branching_entropy=0.6791932659915256, left_accessor_variety=1, right_accessor_variety=2, leftside_frequency=12, rightside_frequency=17),\n",
       " '낫': Scores(cohesion_forward=0, cohesion_backward=0, left_branching_entropy=1.74920597662202, right_branching_entropy=0.8517401270448423, left_accessor_variety=8, right_accessor_variety=4, leftside_frequency=93, rightside_frequency=0),\n",
       " '넨': Scores(cohesion_forward=0, cohesion_backward=0, left_branching_entropy=0, right_branching_entropy=1.2711814802605796, left_accessor_variety=0, right_accessor_variety=4, leftside_frequency=0, rightside_frequency=28),\n",
       " '껑': Scores(cohesion_forward=0, cohesion_backward=0, left_branching_entropy=0.666278442414676, right_branching_entropy=1.0250939117917865, left_accessor_variety=2, right_accessor_variety=4, leftside_frequency=13, rightside_frequency=11),\n",
       " '쑤': Scores(cohesion_forward=0, cohesion_backward=0, left_branching_entropy=1.0789922078775833, right_branching_entropy=0.6210863745552451, left_accessor_variety=3, right_accessor_variety=2, leftside_frequency=23, rightside_frequency=9),\n",
       " '캐': Scores(cohesion_forward=0, cohesion_backward=0, left_branching_entropy=4.195519673681782, right_branching_entropy=1.7586481288936098, left_accessor_variety=166, right_accessor_variety=17, leftside_frequency=2565, rightside_frequency=0),\n",
       " '우': Scores(cohesion_forward=0, cohesion_backward=0, left_branching_entropy=4.519408979898744, right_branching_entropy=4.000997875933077, left_accessor_variety=405, right_accessor_variety=462, leftside_frequency=15874, rightside_frequency=10169),\n",
       " '선': Scores(cohesion_forward=0, cohesion_backward=0, left_branching_entropy=4.444022091252276, right_branching_entropy=4.6825418383521775, left_accessor_variety=433, right_accessor_variety=486, leftside_frequency=17617, rightside_frequency=10662),\n",
       " '박': Scores(cohesion_forward=0, cohesion_backward=0, left_branching_entropy=4.2280090683216365, right_branching_entropy=4.128252164217966, left_accessor_variety=349, right_accessor_variety=250, leftside_frequency=13473, rightside_frequency=937),\n",
       " '메': Scores(cohesion_forward=0, cohesion_backward=0, left_branching_entropy=4.319092209108635, right_branching_entropy=2.847557723474285, left_accessor_variety=213, right_accessor_variety=44, leftside_frequency=3601, rightside_frequency=22),\n",
       " '숏': Scores(cohesion_forward=0, cohesion_backward=0, left_branching_entropy=1.0608569471580214, right_branching_entropy=0.6108643020548935, left_accessor_variety=3, right_accessor_variety=2, leftside_frequency=12, rightside_frequency=0),\n",
       " '뿔': Scores(cohesion_forward=0, cohesion_backward=0, left_branching_entropy=1.5317780787913655, right_branching_entropy=0.9718487712358765, left_accessor_variety=5, right_accessor_variety=3, leftside_frequency=22, rightside_frequency=0),\n",
       " '샅': Scores(cohesion_forward=0, cohesion_backward=0, left_branching_entropy=1.0608569471580214, right_branching_entropy=-0.0, left_accessor_variety=3, right_accessor_variety=1, leftside_frequency=12, rightside_frequency=0),\n",
       " '츤': Scores(cohesion_forward=0, cohesion_backward=0, left_branching_entropy=0.6931471805599453, right_branching_entropy=-0.0, left_accessor_variety=2, right_accessor_variety=1, leftside_frequency=9, rightside_frequency=0),\n",
       " '놨': Scores(cohesion_forward=0, cohesion_backward=0, left_branching_entropy=1.6373588055554062, right_branching_entropy=-0.0, left_accessor_variety=6, right_accessor_variety=1, leftside_frequency=32, rightside_frequency=0),\n",
       " '엘': Scores(cohesion_forward=0, cohesion_backward=0, left_branching_entropy=3.8605046464006065, right_branching_entropy=2.76329889273046, left_accessor_variety=73, right_accessor_variety=51, leftside_frequency=487, rightside_frequency=196),\n",
       " '영': Scores(cohesion_forward=0, cohesion_backward=0, left_branching_entropy=4.555467113040518, right_branching_entropy=3.424158430363811, left_accessor_variety=428, right_accessor_variety=314, leftside_frequency=19149, rightside_frequency=5931),\n",
       " '넣': Scores(cohesion_forward=0, cohesion_backward=0, left_branching_entropy=2.1021205051162015, right_branching_entropy=1.8311418414720537, left_accessor_variety=27, right_accessor_variety=9, leftside_frequency=620, rightside_frequency=0),\n",
       " '접': Scores(cohesion_forward=0, cohesion_backward=0, left_branching_entropy=3.4818856332823334, right_branching_entropy=4.015017894861382, left_accessor_variety=126, right_accessor_variety=243, leftside_frequency=2831, rightside_frequency=2379),\n",
       " '잤': Scores(cohesion_forward=0, cohesion_backward=0, left_branching_entropy=1.4576423809473689, right_branching_entropy=-0.0, left_accessor_variety=5, right_accessor_variety=1, leftside_frequency=21, rightside_frequency=0),\n",
       " '족': Scores(cohesion_forward=0, cohesion_backward=0, left_branching_entropy=1.7354691839760858, right_branching_entropy=3.5220758647003776, left_accessor_variety=32, right_accessor_variety=127, leftside_frequency=537, rightside_frequency=888),\n",
       " '픈': Scores(cohesion_forward=0, cohesion_backward=0, left_branching_entropy=1.5565854124393397, right_branching_entropy=3.8709163255732095, left_accessor_variety=5, right_accessor_variety=62, leftside_frequency=0, rightside_frequency=378),\n",
       " '큐': Scores(cohesion_forward=0, cohesion_backward=0, left_branching_entropy=2.9099656481332574, right_branching_entropy=1.9429266198248982, left_accessor_variety=35, right_accessor_variety=14, leftside_frequency=239, rightside_frequency=60),\n",
       " '쌍': Scores(cohesion_forward=0, cohesion_backward=0, left_branching_entropy=3.2024114542223456, right_branching_entropy=2.0841244152321505, left_accessor_variety=37, right_accessor_variety=13, leftside_frequency=291, rightside_frequency=8),\n",
       " '싣': Scores(cohesion_forward=0, cohesion_backward=0, left_branching_entropy=1.6569035479979395, right_branching_entropy=0.48257756517701206, left_accessor_variety=6, right_accessor_variety=2, leftside_frequency=70, rightside_frequency=0),\n",
       " '붉': Scores(cohesion_forward=0, cohesion_backward=0, left_branching_entropy=3.1803308205415988, right_branching_entropy=0.9921395174320141, left_accessor_variety=32, right_accessor_variety=6, leftside_frequency=241, rightside_frequency=0),\n",
       " '밟': Scores(cohesion_forward=0, cohesion_backward=0, left_branching_entropy=0.9380014260102469, right_branching_entropy=2.0094443607226027, left_accessor_variety=5, right_accessor_variety=9, leftside_frequency=156, rightside_frequency=0),\n",
       " '겨': Scores(cohesion_forward=0, cohesion_backward=0, left_branching_entropy=2.951826870457281, right_branching_entropy=2.942063731972829, left_accessor_variety=53, right_accessor_variety=98, leftside_frequency=845, rightside_frequency=803),\n",
       " '룬': Scores(cohesion_forward=0, cohesion_backward=0, left_branching_entropy=-0.0, right_branching_entropy=3.340328005332897, left_accessor_variety=1, right_accessor_variety=35, leftside_frequency=0, rightside_frequency=216),\n",
       " '옅': Scores(cohesion_forward=0, cohesion_backward=0, left_branching_entropy=1.438882950216986, right_branching_entropy=0.6791932659915256, left_accessor_variety=5, right_accessor_variety=2, leftside_frequency=38, rightside_frequency=0),\n",
       " '닥': Scores(cohesion_forward=0, cohesion_backward=0, left_branching_entropy=2.1525598320010615, right_branching_entropy=2.6989351085967486, left_accessor_variety=40, right_accessor_variety=42, leftside_frequency=235, rightside_frequency=383),\n",
       " '속': Scores(cohesion_forward=0, cohesion_backward=0, left_branching_entropy=4.529320139238324, right_branching_entropy=4.682611678461495, left_accessor_variety=254, right_accessor_variety=355, leftside_frequency=3601, rightside_frequency=3916),\n",
       " '른': Scores(cohesion_forward=0, cohesion_backward=0, left_branching_entropy=1.6046655302449233, right_branching_entropy=5.100651024696411, left_accessor_variety=13, right_accessor_variety=347, leftside_frequency=0, rightside_frequency=8034),\n",
       " '랄': Scores(cohesion_forward=0, cohesion_backward=0, left_branching_entropy=1.1821502441987646, right_branching_entropy=2.8879115712210033, left_accessor_variety=5, right_accessor_variety=23, leftside_frequency=5, rightside_frequency=134),\n",
       " '쫑': Scores(cohesion_forward=0, cohesion_backward=0, left_branching_entropy=0.6931471805599453, right_branching_entropy=0, left_accessor_variety=2, right_accessor_variety=0, leftside_frequency=5, rightside_frequency=0),\n",
       " '띠': Scores(cohesion_forward=0, cohesion_backward=0, left_branching_entropy=2.0977642277578026, right_branching_entropy=2.7753494606333886, left_accessor_variety=10, right_accessor_variety=21, leftside_frequency=56, rightside_frequency=111),\n",
       " '펌': Scores(cohesion_forward=0, cohesion_backward=0, left_branching_entropy=1.3322449224385327, right_branching_entropy=1.4604258509545351, left_accessor_variety=4, right_accessor_variety=6, leftside_frequency=19, rightside_frequency=22),\n",
       " '누': Scores(cohesion_forward=0, cohesion_backward=0, left_branching_entropy=4.03893731902359, right_branching_entropy=2.4937554805331126, left_accessor_variety=162, right_accessor_variety=51, leftside_frequency=4032, rightside_frequency=88),\n",
       " '털': Scores(cohesion_forward=0, cohesion_backward=0, left_branching_entropy=2.298642548888405, right_branching_entropy=2.9445759707647556, left_accessor_variety=36, right_accessor_variety=81, leftside_frequency=680, rightside_frequency=982),\n",
       " '확': Scores(cohesion_forward=0, cohesion_backward=0, left_branching_entropy=3.7032739091473266, right_branching_entropy=2.0612277837332758, left_accessor_variety=238, right_accessor_variety=31, leftside_frequency=11670, rightside_frequency=21),\n",
       " '밤': Scores(cohesion_forward=0, cohesion_backward=0, left_branching_entropy=2.8512419457069833, right_branching_entropy=3.1159559900695317, left_accessor_variety=78, right_accessor_variety=83, leftside_frequency=730, rightside_frequency=113),\n",
       " '업': Scores(cohesion_forward=0, cohesion_backward=0, left_branching_entropy=4.350267705111967, right_branching_entropy=4.423684461941584, left_accessor_variety=287, right_accessor_variety=327, leftside_frequency=5309, rightside_frequency=8609),\n",
       " '택': Scores(cohesion_forward=0, cohesion_backward=0, left_branching_entropy=3.15385952586302, right_branching_entropy=4.3565619058012315, left_accessor_variety=67, right_accessor_variety=152, leftside_frequency=472, rightside_frequency=1379),\n",
       " '과': Scores(cohesion_forward=0, cohesion_backward=0, left_branching_entropy=5.430689295057269, right_branching_entropy=5.37819539841541, left_accessor_variety=774, right_accessor_variety=698, leftside_frequency=8050, rightside_frequency=45545),\n",
       " '빔': Scores(cohesion_forward=0, cohesion_backward=0, left_branching_entropy=1.6719415291178146, right_branching_entropy=0.9482980107415577, left_accessor_variety=7, right_accessor_variety=3, leftside_frequency=24, rightside_frequency=18),\n",
       " '라': Scores(cohesion_forward=0, cohesion_backward=0, left_branching_entropy=4.420159723023766, right_branching_entropy=4.380388461219589, left_accessor_variety=406, right_accessor_variety=546, leftside_frequency=13376, rightside_frequency=14975),\n",
       " '팔': Scores(cohesion_forward=0, cohesion_backward=0, left_branching_entropy=3.919372427694091, right_branching_entropy=3.569808051049009, left_accessor_variety=92, right_accessor_variety=53, leftside_frequency=978, rightside_frequency=90),\n",
       " '탑': Scores(cohesion_forward=0, cohesion_backward=0, left_branching_entropy=2.9177579425943914, right_branching_entropy=1.6501883319451112, left_accessor_variety=41, right_accessor_variety=27, leftside_frequency=540, rightside_frequency=99),\n",
       " '망': Scores(cohesion_forward=0, cohesion_backward=0, left_branching_entropy=4.093939199303723, right_branching_entropy=4.243118977714031, left_accessor_variety=97, right_accessor_variety=149, leftside_frequency=806, rightside_frequency=952),\n",
       " '역': Scores(cohesion_forward=0, cohesion_backward=0, left_branching_entropy=4.866800703802031, right_branching_entropy=4.113997922819042, left_accessor_variety=387, right_accessor_variety=311, leftside_frequency=7854, rightside_frequency=4694),\n",
       " '쳤': Scores(cohesion_forward=0, cohesion_backward=0, left_branching_entropy=1.0614455058318304, right_branching_entropy=0.8295983798333795, left_accessor_variety=4, right_accessor_variety=3, leftside_frequency=60, rightside_frequency=0),\n",
       " '읽': Scores(cohesion_forward=0, cohesion_backward=0, left_branching_entropy=2.5980096204422085, right_branching_entropy=2.2605514037353016, left_accessor_variety=33, right_accessor_variety=13, leftside_frequency=462, rightside_frequency=0),\n",
       " '7': Scores(cohesion_forward=0, cohesion_backward=0, left_branching_entropy=3.895104405755951, right_branching_entropy=3.988358490748388, left_accessor_variety=262, right_accessor_variety=284, leftside_frequency=12450, rightside_frequency=6537),\n",
       " '들': Scores(cohesion_forward=0, cohesion_backward=0, left_branching_entropy=3.8721025059786265, right_branching_entropy=3.7167755552965747, left_accessor_variety=252, right_accessor_variety=331, leftside_frequency=7319, rightside_frequency=4243),\n",
       " '챈': Scores(cohesion_forward=0, cohesion_backward=0, left_branching_entropy=0.2292845795405712, right_branching_entropy=1.6258251558042631, left_accessor_variety=4, right_accessor_variety=12, leftside_frequency=5, rightside_frequency=136),\n",
       " '뚝': Scores(cohesion_forward=0, cohesion_backward=0, left_branching_entropy=2.2594324953076756, right_branching_entropy=2.3825582908351706, left_accessor_variety=16, right_accessor_variety=16, leftside_frequency=86, rightside_frequency=82),\n",
       " '군': Scores(cohesion_forward=0, cohesion_backward=0, left_branching_entropy=4.600652245869703, right_branching_entropy=4.631705119528771, left_accessor_variety=216, right_accessor_variety=239, leftside_frequency=2214, rightside_frequency=2243),\n",
       " '녕': Scores(cohesion_forward=0, cohesion_backward=0, left_branching_entropy=-0.0, right_branching_entropy=3.08337717549292, left_accessor_variety=1, right_accessor_variety=24, leftside_frequency=0, rightside_frequency=116),\n",
       " '멤': Scores(cohesion_forward=0, cohesion_backward=0, left_branching_entropy=3.7411212247267276, right_branching_entropy=0.030334631974982613, left_accessor_variety=92, right_accessor_variety=2, leftside_frequency=1256, rightside_frequency=0),\n",
       " '컨': Scores(cohesion_forward=0, cohesion_backward=0, left_branching_entropy=4.095142853085928, right_branching_entropy=2.529502119721898, left_accessor_variety=110, right_accessor_variety=29, leftside_frequency=1259, rightside_frequency=59),\n",
       " '샛': Scores(cohesion_forward=0, cohesion_backward=0, left_branching_entropy=0.5623351446188083, right_branching_entropy=0.6829081047004717, left_accessor_variety=2, right_accessor_variety=2, leftside_frequency=16, rightside_frequency=0),\n",
       " '뭐': Scores(cohesion_forward=0, cohesion_backward=0, left_branching_entropy=3.0347687884507413, right_branching_entropy=2.5952144193306075, left_accessor_variety=34, right_accessor_variety=25, leftside_frequency=324, rightside_frequency=0),\n",
       " '의': Scores(cohesion_forward=0, cohesion_backward=0, left_branching_entropy=5.605240144687852, right_branching_entropy=5.647651515938392, left_accessor_variety=1040, right_accessor_variety=891, leftside_frequency=20706, rightside_frequency=136437),\n",
       " '불': Scores(cohesion_forward=0, cohesion_backward=0, left_branching_entropy=3.974560920958241, right_branching_entropy=3.7124510371072015, left_accessor_variety=266, right_accessor_variety=160, leftside_frequency=12895, rightside_frequency=245),\n",
       " '괄': Scores(cohesion_forward=0, cohesion_backward=0, left_branching_entropy=0.7392505078158033, right_branching_entropy=2.682547109278403, left_accessor_variety=5, right_accessor_variety=27, leftside_frequency=16, rightside_frequency=239),\n",
       " '땅': Scores(cohesion_forward=0, cohesion_backward=0, left_branching_entropy=3.3681647575048923, right_branching_entropy=2.644233615057953, left_accessor_variety=46, right_accessor_variety=28, leftside_frequency=223, rightside_frequency=28),\n",
       " '삼': Scores(cohesion_forward=0, cohesion_backward=0, left_branching_entropy=4.063613629159399, right_branching_entropy=1.8321813462134895, left_accessor_variety=196, right_accessor_variety=86, leftside_frequency=3909, rightside_frequency=191),\n",
       " '정': Scores(cohesion_forward=0, cohesion_backward=0, left_branching_entropy=4.943156795368388, right_branching_entropy=4.554741667159668, left_accessor_variety=551, right_accessor_variety=493, leftside_frequency=35310, rightside_frequency=10081),\n",
       " '녘': Scores(cohesion_forward=0, cohesion_backward=0, left_branching_entropy=0, right_branching_entropy=-0.0, left_accessor_variety=0, right_accessor_variety=1, leftside_frequency=0, rightside_frequency=6),\n",
       " '꼴': Scores(cohesion_forward=0, cohesion_backward=0, left_branching_entropy=2.4772703208189117, right_branching_entropy=1.8862782414710582, left_accessor_variety=19, right_accessor_variety=9, leftside_frequency=117, rightside_frequency=17),\n",
       " '케': Scores(cohesion_forward=0, cohesion_backward=0, left_branching_entropy=4.01108325498049, right_branching_entropy=2.0528617280106953, left_accessor_variety=145, right_accessor_variety=28, leftside_frequency=1696, rightside_frequency=303),\n",
       " '노': Scores(cohesion_forward=0, cohesion_backward=0, left_branching_entropy=4.613383806605646, right_branching_entropy=3.6209047506221075, left_accessor_variety=331, right_accessor_variety=210, leftside_frequency=9968, rightside_frequency=600),\n",
       " '꼼': Scores(cohesion_forward=0, cohesion_backward=0, left_branching_entropy=2.4972595929553014, right_branching_entropy=0.5001547925050311, left_accessor_variety=22, right_accessor_variety=3, leftside_frequency=182, rightside_frequency=0),\n",
       " '찐': Scores(cohesion_forward=0, cohesion_backward=0, left_branching_entropy=0.9839614460010255, right_branching_entropy=0.45056120886630463, left_accessor_variety=3, right_accessor_variety=2, leftside_frequency=15, rightside_frequency=0),\n",
       " '넓': Scores(cohesion_forward=0, cohesion_backward=0, left_branching_entropy=2.847579340285375, right_branching_entropy=2.0735262929685447, left_accessor_variety=35, right_accessor_variety=12, leftside_frequency=491, rightside_frequency=0),\n",
       " '관': Scores(cohesion_forward=0, cohesion_backward=0, left_branching_entropy=4.779324542644566, right_branching_entropy=3.381472498658652, left_accessor_variety=479, right_accessor_variety=337, leftside_frequency=23407, rightside_frequency=5973),\n",
       " '쌀': Scores(cohesion_forward=0, cohesion_backward=0, left_branching_entropy=3.4650121965643317, right_branching_entropy=2.407168490919269, left_accessor_variety=44, right_accessor_variety=28, leftside_frequency=247, rightside_frequency=43),\n",
       " '젝': Scores(cohesion_forward=0, cohesion_backward=0, left_branching_entropy=1.864443077555277, right_branching_entropy=-0.0, left_accessor_variety=7, right_accessor_variety=1, leftside_frequency=50, rightside_frequency=0),\n",
       " '촬': Scores(cohesion_forward=0, cohesion_backward=0, left_branching_entropy=3.89756594771978, right_branching_entropy=0.007206354046472892, left_accessor_variety=107, right_accessor_variety=2, leftside_frequency=2222, rightside_frequency=0),\n",
       " '마': Scores(cohesion_forward=0, cohesion_backward=0, left_branching_entropy=4.205240560161283, right_branching_entropy=4.03256772282719, left_accessor_variety=406, right_accessor_variety=397, leftside_frequency=19730, rightside_frequency=4601),\n",
       " '줴': Scores(cohesion_forward=0, cohesion_backward=0, left_branching_entropy=-0.0, right_branching_entropy=-0.0, left_accessor_variety=1, right_accessor_variety=1, leftside_frequency=7, rightside_frequency=0),\n",
       " '필': Scores(cohesion_forward=0, cohesion_backward=0, left_branching_entropy=3.763035680392061, right_branching_entropy=1.6271811814781705, left_accessor_variety=197, right_accessor_variety=61, leftside_frequency=5397, rightside_frequency=355),\n",
       " '셸': Scores(cohesion_forward=0, cohesion_backward=0, left_branching_entropy=0.9950269901795212, right_branching_entropy=1.3143738430069454, left_accessor_variety=3, right_accessor_variety=5, leftside_frequency=0, rightside_frequency=31),\n",
       " '옹': Scores(cohesion_forward=0, cohesion_backward=0, left_branching_entropy=2.4747048307010293, right_branching_entropy=1.002474436084688, left_accessor_variety=16, right_accessor_variety=5, leftside_frequency=96, rightside_frequency=19),\n",
       " '보': Scores(cohesion_forward=0, cohesion_backward=0, left_branching_entropy=3.837767981404787, right_branching_entropy=4.209620017927063, left_accessor_variety=431, right_accessor_variety=398, leftside_frequency=34802, rightside_frequency=9146),\n",
       " '떡': Scores(cohesion_forward=0, cohesion_backward=0, left_branching_entropy=2.9154091521402448, right_branching_entropy=2.6954619637728316, left_accessor_variety=23, right_accessor_variety=20, leftside_frequency=97, rightside_frequency=29),\n",
       " '봅': Scores(cohesion_forward=0, cohesion_backward=0, left_branching_entropy=1.71290966723926, right_branching_entropy=-0.0, left_accessor_variety=10, right_accessor_variety=1, leftside_frequency=71, rightside_frequency=0),\n",
       " '러': Scores(cohesion_forward=0, cohesion_backward=0, left_branching_entropy=3.7179837624340477, right_branching_entropy=4.5281050462700465, left_accessor_variety=139, right_accessor_variety=297, leftside_frequency=1442, rightside_frequency=4502),\n",
       " '걱': Scores(cohesion_forward=0, cohesion_backward=0, left_branching_entropy=3.5430246042148563, right_branching_entropy=-0.0, left_accessor_variety=54, right_accessor_variety=1, leftside_frequency=491, rightside_frequency=0),\n",
       " '옌': Scores(cohesion_forward=0, cohesion_backward=0, left_branching_entropy=1.6316114152390961, right_branching_entropy=1.6867131093625845, left_accessor_variety=7, right_accessor_variety=7, leftside_frequency=42, rightside_frequency=18),\n",
       " '훈': Scores(cohesion_forward=0, cohesion_backward=0, left_branching_entropy=3.91560504180807, right_branching_entropy=2.7965049413324055, left_accessor_variety=126, right_accessor_variety=106, leftside_frequency=945, rightside_frequency=1704),\n",
       " 'ㅣ': Scores(cohesion_forward=0, cohesion_backward=0, left_branching_entropy=0.6922017029622767, right_branching_entropy=0.6922017029622767, left_accessor_variety=2, right_accessor_variety=2, leftside_frequency=12, rightside_frequency=0),\n",
       " '검': Scores(cohesion_forward=0, cohesion_backward=0, left_branching_entropy=4.082299007458145, right_branching_entropy=2.4645734593332778, left_accessor_variety=218, right_accessor_variety=100, leftside_frequency=6384, rightside_frequency=819),\n",
       " '퀸': Scores(cohesion_forward=0, cohesion_backward=0, left_branching_entropy=2.1236489864127495, right_branching_entropy=2.2368144027204098, left_accessor_variety=13, right_accessor_variety=13, leftside_frequency=21, rightside_frequency=76),\n",
       " '띈': Scores(cohesion_forward=0, cohesion_backward=0, left_branching_entropy=0.5798086330156277, right_branching_entropy=-0.0, left_accessor_variety=4, right_accessor_variety=1, leftside_frequency=50, rightside_frequency=0),\n",
       " '넝': Scores(cohesion_forward=0, cohesion_backward=0, left_branching_entropy=0.7749927584562633, right_branching_entropy=-0.0, left_accessor_variety=3, right_accessor_variety=1, leftside_frequency=25, rightside_frequency=0),\n",
       " '얹': Scores(cohesion_forward=0, cohesion_backward=0, left_branching_entropy=1.4303720839366463, right_branching_entropy=1.175416017598579, left_accessor_variety=7, right_accessor_variety=5, leftside_frequency=85, rightside_frequency=0),\n",
       " '웅': Scores(cohesion_forward=0, cohesion_backward=0, left_branching_entropy=2.7032022464255276, right_branching_entropy=2.325540373452197, left_accessor_variety=39, right_accessor_variety=37, leftside_frequency=87, rightside_frequency=489),\n",
       " '촛': Scores(cohesion_forward=0, cohesion_backward=0, left_branching_entropy=2.427868070551626, right_branching_entropy=-0.0, left_accessor_variety=14, right_accessor_variety=1, leftside_frequency=57, rightside_frequency=0),\n",
       " '밉': Scores(cohesion_forward=0, cohesion_backward=0, left_branching_entropy=1.3624973163234995, right_branching_entropy=-0.0, left_accessor_variety=6, right_accessor_variety=1, leftside_frequency=60, rightside_frequency=0),\n",
       " '윳': Scores(cohesion_forward=0, cohesion_backward=0, left_branching_entropy=-0.0, right_branching_entropy=-0.0, left_accessor_variety=1, right_accessor_variety=1, leftside_frequency=0, rightside_frequency=5),\n",
       " '랴': Scores(cohesion_forward=0, cohesion_backward=0, left_branching_entropy=1.2823855431161975, right_branching_entropy=0.813111017499334, left_accessor_variety=5, right_accessor_variety=4, leftside_frequency=23, rightside_frequency=26),\n",
       " '곁': Scores(cohesion_forward=0, cohesion_backward=0, left_branching_entropy=2.4915147990379847, right_branching_entropy=1.3583885356997878, left_accessor_variety=19, right_accessor_variety=6, leftside_frequency=204, rightside_frequency=0),\n",
       " '인': Scores(cohesion_forward=0, cohesion_backward=0, left_branching_entropy=4.936816850414975, right_branching_entropy=5.375353587277838, left_accessor_variety=726, right_accessor_variety=743, leftside_frequency=27741, rightside_frequency=40137),\n",
       " '봉': Scores(cohesion_forward=0, cohesion_backward=0, left_branching_entropy=4.151106338523548, right_branching_entropy=3.0584698767670746, left_accessor_variety=103, right_accessor_variety=80, leftside_frequency=873, rightside_frequency=950),\n",
       " '봇': Scores(cohesion_forward=0, cohesion_backward=0, left_branching_entropy=1.7314831169335037, right_branching_entropy=2.6563542985185364, left_accessor_variety=7, right_accessor_variety=42, leftside_frequency=42, rightside_frequency=405),\n",
       " '환': Scores(cohesion_forward=0, cohesion_backward=0, left_branching_entropy=4.736570100009488, right_branching_entropy=3.410098003818694, left_accessor_variety=240, right_accessor_variety=209, leftside_frequency=4489, rightside_frequency=2285),\n",
       " '첸': Scores(cohesion_forward=0, cohesion_backward=0, left_branching_entropy=1.330013842689523, right_branching_entropy=2.0993177692694096, left_accessor_variety=5, right_accessor_variety=9, leftside_frequency=8, rightside_frequency=18),\n",
       " '가': Scores(cohesion_forward=0, cohesion_backward=0, left_branching_entropy=5.148845456204455, right_branching_entropy=5.535584050622248, left_accessor_variety=758, right_accessor_variety=955, leftside_frequency=40088, rightside_frequency=86478),\n",
       " '홀': Scores(cohesion_forward=0, cohesion_backward=0, left_branching_entropy=3.6906514362156786, right_branching_entropy=2.488859002318762, left_accessor_variety=56, right_accessor_variety=38, leftside_frequency=410, rightside_frequency=117),\n",
       " '꿋': Scores(cohesion_forward=0, cohesion_backward=0, left_branching_entropy=0.5623351446188083, right_branching_entropy=-0.0, left_accessor_variety=2, right_accessor_variety=1, leftside_frequency=16, rightside_frequency=0),\n",
       " '짰': Scores(cohesion_forward=0, cohesion_backward=0, left_branching_entropy=0.5623351446188083, right_branching_entropy=-0.0, left_accessor_variety=2, right_accessor_variety=1, leftside_frequency=9, rightside_frequency=0),\n",
       " '커': Scores(cohesion_forward=0, cohesion_backward=0, left_branching_entropy=4.185102778386501, right_branching_entropy=3.774253420059916, left_accessor_variety=184, right_accessor_variety=165, leftside_frequency=2651, rightside_frequency=1370),\n",
       " '줘': Scores(cohesion_forward=0, cohesion_backward=0, left_branching_entropy=2.1305378171269167, right_branching_entropy=3.1692255420814623, left_accessor_variety=13, right_accessor_variety=40, leftside_frequency=68, rightside_frequency=131),\n",
       " '경': Scores(cohesion_forward=0, cohesion_backward=0, left_branching_entropy=4.624096325482246, right_branching_entropy=3.2335123750353323, left_accessor_variety=474, right_accessor_variety=309, leftside_frequency=34488, rightside_frequency=3173),\n",
       " '뻣': Scores(cohesion_forward=0, cohesion_backward=0, left_branching_entropy=-0.0, right_branching_entropy=-0.0, left_accessor_variety=1, right_accessor_variety=1, leftside_frequency=5, rightside_frequency=0),\n",
       " '배': Scores(cohesion_forward=0, cohesion_backward=0, left_branching_entropy=4.437788413071186, right_branching_entropy=3.4261226350607705, left_accessor_variety=352, right_accessor_variety=255, leftside_frequency=12280, rightside_frequency=1409),\n",
       " '텃': Scores(cohesion_forward=0, cohesion_backward=0, left_branching_entropy=2.0724394350326207, right_branching_entropy=-0.0, left_accessor_variety=9, right_accessor_variety=1, leftside_frequency=41, rightside_frequency=0),\n",
       " '촉': Scores(cohesion_forward=0, cohesion_backward=0, left_branching_entropy=2.6034602991485034, right_branching_entropy=1.3152926251471535, left_accessor_variety=57, right_accessor_variety=19, leftside_frequency=1170, rightside_frequency=52),\n",
       " '맑': Scores(cohesion_forward=0, cohesion_backward=0, left_branching_entropy=2.2647410664641874, right_branching_entropy=1.2674204490068233, left_accessor_variety=19, right_accessor_variety=5, leftside_frequency=197, rightside_frequency=0),\n",
       " '밴': Scores(cohesion_forward=0, cohesion_backward=0, left_branching_entropy=3.4107654994134124, right_branching_entropy=0.5421350200808047, left_accessor_variety=39, right_accessor_variety=3, leftside_frequency=194, rightside_frequency=0),\n",
       " '빼': Scores(cohesion_forward=0, cohesion_backward=0, left_branching_entropy=2.6043359288277976, right_branching_entropy=2.4541323391827756, left_accessor_variety=39, right_accessor_variety=21, leftside_frequency=540, rightside_frequency=0),\n",
       " '힐': Scores(cohesion_forward=0, cohesion_backward=0, left_branching_entropy=3.5415329702225025, right_branching_entropy=1.8587138019600133, left_accessor_variety=110, right_accessor_variety=45, leftside_frequency=2041, rightside_frequency=268),\n",
       " '략': Scores(cohesion_forward=0, cohesion_backward=0, left_branching_entropy=-0.0, right_branching_entropy=3.871461690726014, left_accessor_variety=1, right_accessor_variety=69, leftside_frequency=0, rightside_frequency=565),\n",
       " '뚫': Scores(cohesion_forward=0, cohesion_backward=0, left_branching_entropy=2.106296218770361, right_branching_entropy=1.8489951238093716, left_accessor_variety=15, right_accessor_variety=8, leftside_frequency=167, rightside_frequency=0),\n",
       " '룩': Scores(cohesion_forward=0, cohesion_backward=0, left_branching_entropy=2.787200063205708, right_branching_entropy=1.9785800905800748, left_accessor_variety=22, right_accessor_variety=14, leftside_frequency=143, rightside_frequency=38),\n",
       " '으': Scores(cohesion_forward=0, cohesion_backward=0, left_branching_entropy=4.876317727027191, right_branching_entropy=0.1735717363274763, left_accessor_variety=202, right_accessor_variety=5, leftside_frequency=1714, rightside_frequency=6),\n",
       " '륵': Scores(cohesion_forward=0, cohesion_backward=0, left_branching_entropy=0, right_branching_entropy=-0.0, left_accessor_variety=0, right_accessor_variety=1, leftside_frequency=0, rightside_frequency=7),\n",
       " '귓': Scores(cohesion_forward=0, cohesion_backward=0, left_branching_entropy=0.6365141682948128, right_branching_entropy=0.6901856760188042, left_accessor_variety=2, right_accessor_variety=2, leftside_frequency=14, rightside_frequency=0),\n",
       " '닮': Scores(cohesion_forward=0, cohesion_backward=0, left_branching_entropy=2.4520493552966593, right_branching_entropy=1.1132792449045887, left_accessor_variety=19, right_accessor_variety=4, leftside_frequency=171, rightside_frequency=0),\n",
       " '린': Scores(cohesion_forward=0, cohesion_backward=0, left_branching_entropy=3.272816792217114, right_branching_entropy=4.374301946415952, left_accessor_variety=58, right_accessor_variety=343, leftside_frequency=90, rightside_frequency=10898),\n",
       " '권': Scores(cohesion_forward=0, cohesion_backward=0, left_branching_entropy=4.300750596511474, right_branching_entropy=4.706423586763309, left_accessor_variety=254, right_accessor_variety=314, leftside_frequency=4180, rightside_frequency=5419),\n",
       " '랙': Scores(cohesion_forward=0, cohesion_backward=0, left_branching_entropy=0.6911927820032008, right_branching_entropy=3.6737359731186547, left_accessor_variety=2, right_accessor_variety=55, leftside_frequency=0, rightside_frequency=381),\n",
       " '텍': Scores(cohesion_forward=0, cohesion_backward=0, left_branching_entropy=3.0890716874914914, right_branching_entropy=3.0233334639577016, left_accessor_variety=29, right_accessor_variety=38, leftside_frequency=103, rightside_frequency=214),\n",
       " '죄': Scores(cohesion_forward=0, cohesion_backward=0, left_branching_entropy=3.246511610952457, right_branching_entropy=3.6852263454195913, left_accessor_variety=52, right_accessor_variety=76, leftside_frequency=291, rightside_frequency=563),\n",
       " '녀': Scores(cohesion_forward=0, cohesion_backward=0, left_branching_entropy=2.181234006192167, right_branching_entropy=4.2120556774187925, left_accessor_variety=15, right_accessor_variety=113, leftside_frequency=9, rightside_frequency=991),\n",
       " '애': Scores(cohesion_forward=0, cohesion_backward=0, left_branching_entropy=4.1831769108193235, right_branching_entropy=3.8666355529209024, left_accessor_variety=182, right_accessor_variety=155, leftside_frequency=3440, rightside_frequency=1533),\n",
       " '씩': Scores(cohesion_forward=0, cohesion_backward=0, left_branching_entropy=2.9663475557230474, right_branching_entropy=4.59746588190447, left_accessor_variety=43, right_accessor_variety=147, leftside_frequency=11, rightside_frequency=859),\n",
       " '쟤': Scores(cohesion_forward=0, cohesion_backward=0, left_branching_entropy=1.0397207708399179, right_branching_entropy=-0.0, left_accessor_variety=3, right_accessor_variety=1, leftside_frequency=7, rightside_frequency=0),\n",
       " '국': Scores(cohesion_forward=0, cohesion_backward=0, left_branching_entropy=4.660385785741402, right_branching_entropy=4.117450954568264, left_accessor_variety=440, right_accessor_variety=456, leftside_frequency=29541, rightside_frequency=15722),\n",
       " '튀': Scores(cohesion_forward=0, cohesion_backward=0, left_branching_entropy=2.5855693123364314, right_branching_entropy=1.6851402826539927, left_accessor_variety=23, right_accessor_variety=10, leftside_frequency=207, rightside_frequency=13),\n",
       " '멱': Scores(cohesion_forward=0, cohesion_backward=0, left_branching_entropy=0.6365141682948128, right_branching_entropy=-0.0, left_accessor_variety=2, right_accessor_variety=1, leftside_frequency=14, rightside_frequency=0),\n",
       " '파': Scores(cohesion_forward=0, cohesion_backward=0, left_branching_entropy=4.548810833007498, right_branching_entropy=3.9268171510882057, left_accessor_variety=298, right_accessor_variety=204, leftside_frequency=6708, rightside_frequency=1261),\n",
       " '링': Scores(cohesion_forward=0, cohesion_backward=0, left_branching_entropy=2.710241651657354, right_branching_entropy=3.2554458605281966, left_accessor_variety=35, right_accessor_variety=115, leftside_frequency=101, rightside_frequency=1317),\n",
       " '쎄': Scores(cohesion_forward=0, cohesion_backward=0, left_branching_entropy=0.39830711380528416, right_branching_entropy=0.46203690946645704, left_accessor_variety=2, right_accessor_variety=2, leftside_frequency=19, rightside_frequency=67),\n",
       " '쳐': Scores(cohesion_forward=0, cohesion_backward=0, left_branching_entropy=2.9476308263789224, right_branching_entropy=4.823504327483253, left_accessor_variety=23, right_accessor_variety=202, leftside_frequency=96, rightside_frequency=2040),\n",
       " '톱': Scores(cohesion_forward=0, cohesion_backward=0, left_branching_entropy=2.5485591425599954, right_branching_entropy=2.9188874854536624, left_accessor_variety=25, right_accessor_variety=26, leftside_frequency=87, rightside_frequency=96),\n",
       " '홉': Scores(cohesion_forward=0, cohesion_backward=0, left_branching_entropy=0.8945510979978214, right_branching_entropy=1.5468228468569332, left_accessor_variety=3, right_accessor_variety=5, leftside_frequency=0, rightside_frequency=49),\n",
       " '햅': Scores(cohesion_forward=0, cohesion_backward=0, left_branching_entropy=1.3041538760466869, right_branching_entropy=-0.0, left_accessor_variety=5, right_accessor_variety=1, leftside_frequency=24, rightside_frequency=0),\n",
       " '갔': Scores(cohesion_forward=0, cohesion_backward=0, left_branching_entropy=2.798268276241358, right_branching_entropy=1.7335806776346383, left_accessor_variety=29, right_accessor_variety=10, leftside_frequency=334, rightside_frequency=0),\n",
       " '긋': Scores(cohesion_forward=0, cohesion_backward=0, left_branching_entropy=0.9719549721204945, right_branching_entropy=1.760452131916402, left_accessor_variety=3, right_accessor_variety=7, leftside_frequency=32, rightside_frequency=37),\n",
       " '늬': Scores(cohesion_forward=0, cohesion_backward=0, left_branching_entropy=0.6911086741443572, right_branching_entropy=1.640564677821156, left_accessor_variety=2, right_accessor_variety=7, leftside_frequency=0, rightside_frequency=60),\n",
       " '끓': Scores(cohesion_forward=0, cohesion_backward=0, left_branching_entropy=2.69106055042975, right_branching_entropy=1.463484805221945, left_accessor_variety=17, right_accessor_variety=5, leftside_frequency=87, rightside_frequency=0),\n",
       " '붙': Scores(cohesion_forward=0, cohesion_backward=0, left_branching_entropy=2.6169068566988227, right_branching_entropy=2.0291613986226777, left_accessor_variety=46, right_accessor_variety=17, leftside_frequency=1381, rightside_frequency=0),\n",
       " '뻐': Scores(cohesion_forward=0, cohesion_backward=0, left_branching_entropy=0.6931471805599453, right_branching_entropy=0.5623351446188083, left_accessor_variety=2, right_accessor_variety=2, leftside_frequency=15, rightside_frequency=7),\n",
       " '놀': Scores(cohesion_forward=0, cohesion_backward=0, left_branching_entropy=3.6584517165380643, right_branching_entropy=2.033825698998948, left_accessor_variety=83, right_accessor_variety=22, leftside_frequency=1201, rightside_frequency=15),\n",
       " '양': Scores(cohesion_forward=0, cohesion_backward=0, left_branching_entropy=4.497963894377363, right_branching_entropy=4.512094009733763, left_accessor_variety=280, right_accessor_variety=275, leftside_frequency=6262, rightside_frequency=1667),\n",
       " '낯': Scores(cohesion_forward=0, cohesion_backward=0, left_branching_entropy=2.675218390993847, right_branching_entropy=1.547471422332464, left_accessor_variety=17, right_accessor_variety=6, leftside_frequency=120, rightside_frequency=5),\n",
       " '엔': Scores(cohesion_forward=0, cohesion_backward=0, left_branching_entropy=4.232379153394946, right_branching_entropy=3.457736478725519, left_accessor_variety=186, right_accessor_variety=217, leftside_frequency=1870, rightside_frequency=1760),\n",
       " '열': Scores(cohesion_forward=0, cohesion_backward=0, left_branching_entropy=2.7495421175592196, right_branching_entropy=2.556439834656657, left_accessor_variety=226, right_accessor_variety=179, leftside_frequency=16004, rightside_frequency=807),\n",
       " '은': Scores(cohesion_forward=0, cohesion_backward=0, left_branching_entropy=5.095567542092186, right_branching_entropy=5.412078704825194, left_accessor_variety=829, right_accessor_variety=880, leftside_frequency=2513, rightside_frequency=114963),\n",
       " '사': Scores(cohesion_forward=0, cohesion_backward=0, left_branching_entropy=4.888428742867745, right_branching_entropy=4.164264684384077, left_accessor_variety=693, right_accessor_variety=596, leftside_frequency=70011, rightside_frequency=19655),\n",
       " '셜': Scores(cohesion_forward=0, cohesion_backward=0, left_branching_entropy=1.0619675482086433, right_branching_entropy=3.4546985470960574, left_accessor_variety=6, right_accessor_variety=46, leftside_frequency=8, rightside_frequency=305),\n",
       " '홋': Scores(cohesion_forward=0, cohesion_backward=0, left_branching_entropy=0.6365141682948128, right_branching_entropy=-0.0, left_accessor_variety=2, right_accessor_variety=1, leftside_frequency=17, rightside_frequency=0),\n",
       " '괜': Scores(cohesion_forward=0, cohesion_backward=0, left_branching_entropy=2.6878319699202557, right_branching_entropy=0.4728127545380583, left_accessor_variety=31, right_accessor_variety=3, leftside_frequency=257, rightside_frequency=0),\n",
       " '함': Scores(cohesion_forward=0, cohesion_backward=0, left_branching_entropy=2.8488619347798814, right_branching_entropy=1.088454850129536, left_accessor_variety=155, right_accessor_variety=118, leftside_frequency=8717, rightside_frequency=748),\n",
       " '뢰': Scores(cohesion_forward=0, cohesion_backward=0, left_branching_entropy=0.6615632381579821, right_branching_entropy=2.7273929048944896, left_accessor_variety=2, right_accessor_variety=23, leftside_frequency=7, rightside_frequency=178),\n",
       " '떼': Scores(cohesion_forward=0, cohesion_backward=0, left_branching_entropy=2.1057494000866543, right_branching_entropy=2.126248427007411, left_accessor_variety=20, right_accessor_variety=15, leftside_frequency=181, rightside_frequency=40),\n",
       " '맹': Scores(cohesion_forward=0, cohesion_backward=0, left_branching_entropy=2.437339090487446, right_branching_entropy=3.500304942106467, left_accessor_variety=26, right_accessor_variety=45, leftside_frequency=206, rightside_frequency=280),\n",
       " '곤': Scores(cohesion_forward=0, cohesion_backward=0, left_branching_entropy=3.2850003254907887, right_branching_entropy=3.4699141263799036, left_accessor_variety=49, right_accessor_variety=61, leftside_frequency=220, rightside_frequency=492),\n",
       " '될': Scores(cohesion_forward=0, cohesion_backward=0, left_branching_entropy=3.6041443232208143, right_branching_entropy=2.539421868419843, left_accessor_variety=133, right_accessor_variety=122, leftside_frequency=239, rightside_frequency=3492),\n",
       " '얇': Scores(cohesion_forward=0, cohesion_backward=0, left_branching_entropy=2.6300819388009735, right_branching_entropy=1.1547720044979257, left_accessor_variety=17, right_accessor_variety=4, leftside_frequency=98, rightside_frequency=0),\n",
       " '깡': Scores(cohesion_forward=0, cohesion_backward=0, left_branching_entropy=1.63331149832903, right_branching_entropy=1.2069777321644193, left_accessor_variety=6, right_accessor_variety=4, leftside_frequency=22, rightside_frequency=12),\n",
       " '푼': Scores(cohesion_forward=0, cohesion_backward=0, left_branching_entropy=1.2461446952384572, right_branching_entropy=1.2733256871159515, left_accessor_variety=6, right_accessor_variety=4, leftside_frequency=25, rightside_frequency=11),\n",
       " '겁': Scores(cohesion_forward=0, cohesion_backward=0, left_branching_entropy=2.8233853012172823, right_branching_entropy=0.5041668105208865, left_accessor_variety=50, right_accessor_variety=9, leftside_frequency=619, rightside_frequency=7),\n",
       " '계': Scores(cohesion_forward=0, cohesion_backward=0, left_branching_entropy=4.400276795089421, right_branching_entropy=3.802688592414875, left_accessor_variety=324, right_accessor_variety=315, leftside_frequency=10146, rightside_frequency=6663),\n",
       " '컸': Scores(cohesion_forward=0, cohesion_backward=0, left_branching_entropy=1.6039733157794134, right_branching_entropy=1.2317345647711186, left_accessor_variety=12, right_accessor_variety=6, leftside_frequency=209, rightside_frequency=0),\n",
       " '잡': Scores(cohesion_forward=0, cohesion_backward=0, left_branching_entropy=3.0582024372671643, right_branching_entropy=2.908170566900186, left_accessor_variety=94, right_accessor_variety=35, leftside_frequency=1659, rightside_frequency=65),\n",
       " '산': Scores(cohesion_forward=0, cohesion_backward=0, left_branching_entropy=4.715848247208662, right_branching_entropy=4.809120810296052, left_accessor_variety=319, right_accessor_variety=411, leftside_frequency=5471, rightside_frequency=7614),\n",
       " '뒤': Scores(cohesion_forward=0, cohesion_backward=0, left_branching_entropy=3.5432469032207314, right_branching_entropy=4.84928723811984, left_accessor_variety=171, right_accessor_variety=307, leftside_frequency=1875, rightside_frequency=48),\n",
       " '좋': Scores(cohesion_forward=0, cohesion_backward=0, left_branching_entropy=3.5349208797240124, right_branching_entropy=1.9068441964580234, left_accessor_variety=128, right_accessor_variety=15, leftside_frequency=4824, rightside_frequency=0),\n",
       " '압': Scores(cohesion_forward=0, cohesion_backward=0, left_branching_entropy=3.525752437454372, right_branching_entropy=2.0055523224248097, left_accessor_variety=107, right_accessor_variety=40, leftside_frequency=2491, rightside_frequency=150),\n",
       " '훼': Scores(cohesion_forward=0, cohesion_backward=0, left_branching_entropy=2.307713504029082, right_branching_entropy=0.07874344192149704, left_accessor_variety=26, right_accessor_variety=3, leftside_frequency=306, rightside_frequency=6),\n",
       " '딧': Scores(cohesion_forward=0, cohesion_backward=0, left_branching_entropy=0.5799151714181009, right_branching_entropy=-0.0, left_accessor_variety=2, right_accessor_variety=1, leftside_frequency=0, rightside_frequency=11),\n",
       " '직': Scores(cohesion_forward=0, cohesion_backward=0, left_branching_entropy=4.449395160206866, right_branching_entropy=3.551794190189873, left_accessor_variety=279, right_accessor_variety=274, leftside_frequency=7513, rightside_frequency=2641),\n",
       " '띤': Scores(cohesion_forward=0, cohesion_backward=0, left_branching_entropy=0.9832739442463889, right_branching_entropy=1.962893983379079, left_accessor_variety=3, right_accessor_variety=9, leftside_frequency=6, rightside_frequency=65),\n",
       " '팸': Scores(cohesion_forward=0, cohesion_backward=0, left_branching_entropy=1.519382664642301, right_branching_entropy=0.6365141682948128, left_accessor_variety=5, right_accessor_variety=2, leftside_frequency=16, rightside_frequency=0),\n",
       " '볕': Scores(cohesion_forward=0, cohesion_backward=0, left_branching_entropy=0, right_branching_entropy=0.6829081047004717, left_accessor_variety=0, right_accessor_variety=2, leftside_frequency=0, rightside_frequency=8),\n",
       " '란': Scores(cohesion_forward=0, cohesion_backward=0, left_branching_entropy=2.7593206630065943, right_branching_entropy=4.859876491455257, left_accessor_variety=74, right_accessor_variety=220, leftside_frequency=22, rightside_frequency=2085),\n",
       " '뼛': Scores(cohesion_forward=0, cohesion_backward=0, left_branching_entropy=1.0608569471580214, right_branching_entropy=1.0733942812811266, left_accessor_variety=3, right_accessor_variety=3, leftside_frequency=10, rightside_frequency=0),\n",
       " '퉁': Scores(cohesion_forward=0, cohesion_backward=0, left_branching_entropy=-0.0, right_branching_entropy=1.7782333057997073, left_accessor_variety=1, right_accessor_variety=6, leftside_frequency=7, rightside_frequency=28),\n",
       " '낡': Scores(cohesion_forward=0, cohesion_backward=0, left_branching_entropy=2.2113910814345936, right_branching_entropy=0.5653960819457478, left_accessor_variety=12, right_accessor_variety=3, leftside_frequency=67, rightside_frequency=0),\n",
       " '또': Scores(cohesion_forward=0, cohesion_backward=0, left_branching_entropy=2.659263959115573, right_branching_entropy=3.713640999639147, left_accessor_variety=237, right_accessor_variety=335, leftside_frequency=4949, rightside_frequency=61),\n",
       " '착': Scores(cohesion_forward=0, cohesion_backward=0, left_branching_entropy=3.622289706275464, right_branching_entropy=2.5450082135840475, left_accessor_variety=93, right_accessor_variety=62, leftside_frequency=1728, rightside_frequency=309),\n",
       " '듯': Scores(cohesion_forward=0, cohesion_backward=0, left_branching_entropy=2.9307302141067364, right_branching_entropy=4.0504222856366345, left_accessor_variety=55, right_accessor_variety=152, leftside_frequency=433, rightside_frequency=459),\n",
       " '갹': Scores(cohesion_forward=0, cohesion_backward=0, left_branching_entropy=0.6730116670092565, right_branching_entropy=-0.0, left_accessor_variety=2, right_accessor_variety=1, leftside_frequency=8, rightside_frequency=0),\n",
       " '먹': Scores(cohesion_forward=0, cohesion_backward=0, left_branching_entropy=3.897830619059234, right_branching_entropy=2.672290547981191, left_accessor_variety=111, right_accessor_variety=28, leftside_frequency=1628, rightside_frequency=13),\n",
       " '숱': Scores(cohesion_forward=0, cohesion_backward=0, left_branching_entropy=2.240214388027364, right_branching_entropy=-0.0, left_accessor_variety=10, right_accessor_variety=1, leftside_frequency=37, rightside_frequency=0),\n",
       " '뛰': Scores(cohesion_forward=0, cohesion_backward=0, left_branching_entropy=3.2412905492116617, right_branching_entropy=0.7486003279608763, left_accessor_variety=63, right_accessor_variety=12, leftside_frequency=1116, rightside_frequency=0),\n",
       " '귄': Scores(cohesion_forward=0, cohesion_backward=0, left_branching_entropy=0, right_branching_entropy=1.0888999753452238, left_accessor_variety=0, right_accessor_variety=3, leftside_frequency=0, rightside_frequency=16),\n",
       " '축': Scores(cohesion_forward=0, cohesion_backward=0, left_branching_entropy=4.150306428145457, right_branching_entropy=3.3080464039687807, left_accessor_variety=155, right_accessor_variety=128, leftside_frequency=2199, rightside_frequency=897),\n",
       " '탄': Scores(cohesion_forward=0, cohesion_backward=0, left_branching_entropy=3.8778700864797995, right_branching_entropy=3.5103845295065854, left_accessor_variety=115, right_accessor_variety=119, leftside_frequency=1604, rightside_frequency=742),\n",
       " '쐈': Scores(cohesion_forward=0, cohesion_backward=0, left_branching_entropy=0.6336816397516665, right_branching_entropy=1.4204218047714092, left_accessor_variety=6, right_accessor_variety=5, leftside_frequency=96, rightside_frequency=0),\n",
       " '작': Scores(cohesion_forward=0, cohesion_backward=0, left_branching_entropy=4.53787095689988, right_branching_entropy=3.416633423656028, left_accessor_variety=304, right_accessor_variety=222, leftside_frequency=7562, rightside_frequency=2267),\n",
       " '랍': Scores(cohesion_forward=0, cohesion_backward=0, left_branching_entropy=1.0986122886681096, right_branching_entropy=1.0980560910559418, left_accessor_variety=3, right_accessor_variety=4, leftside_frequency=18, rightside_frequency=25),\n",
       " '헹': Scores(cohesion_forward=0, cohesion_backward=0, left_branching_entropy=1.1124565824765003, right_branching_entropy=-0.0, left_accessor_variety=4, right_accessor_variety=1, leftside_frequency=19, rightside_frequency=0),\n",
       " '끝': Scores(cohesion_forward=0, cohesion_backward=0, left_branching_entropy=3.6548383885476294, right_branching_entropy=2.884388997100304, left_accessor_variety=127, right_accessor_variety=76, leftside_frequency=2231, rightside_frequency=31),\n",
       " '싹': Scores(cohesion_forward=0, cohesion_backward=0, left_branching_entropy=2.266430442564339, right_branching_entropy=1.6950866149748023, left_accessor_variety=11, right_accessor_variety=8, leftside_frequency=50, rightside_frequency=29),\n",
       " '쇄': Scores(cohesion_forward=0, cohesion_backward=0, left_branching_entropy=2.0800232452130456, right_branching_entropy=2.411202635657673, left_accessor_variety=10, right_accessor_variety=18, leftside_frequency=58, rightside_frequency=80),\n",
       " '긁': Scores(cohesion_forward=0, cohesion_backward=0, left_branching_entropy=1.3796491369985453, right_branching_entropy=1.052922565938695, left_accessor_variety=5, right_accessor_variety=3, leftside_frequency=33, rightside_frequency=0),\n",
       " '쏜': Scores(cohesion_forward=0, cohesion_backward=0, left_branching_entropy=1.3229393161641219, right_branching_entropy=1.7413324361208349, left_accessor_variety=11, right_accessor_variety=20, leftside_frequency=11, rightside_frequency=0),\n",
       " 'ㅇ': Scores(cohesion_forward=0, cohesion_backward=0, left_branching_entropy=0, right_branching_entropy=0, left_accessor_variety=0, right_accessor_variety=0, leftside_frequency=10, rightside_frequency=0),\n",
       " '낚': Scores(cohesion_forward=0, cohesion_backward=0, left_branching_entropy=3.078808603851023, right_branching_entropy=0.34528069192663746, left_accessor_variety=29, right_accessor_variety=3, leftside_frequency=169, rightside_frequency=0),\n",
       " '텐': Scores(cohesion_forward=0, cohesion_backward=0, left_branching_entropy=2.5140239233162855, right_branching_entropy=1.2133240305479756, left_accessor_variety=34, right_accessor_variety=17, leftside_frequency=698, rightside_frequency=59),\n",
       " '한': Scores(cohesion_forward=0, cohesion_backward=0, left_branching_entropy=5.421967233191575, right_branching_entropy=5.37182235093888, left_accessor_variety=863, right_accessor_variety=890, leftside_frequency=34689, rightside_frequency=93875),\n",
       " '코': Scores(cohesion_forward=0, cohesion_backward=0, left_branching_entropy=4.482331288052687, right_branching_entropy=3.3280907571264517, left_accessor_variety=264, right_accessor_variety=188, leftside_frequency=5373, rightside_frequency=1063),\n",
       " '셀': Scores(cohesion_forward=0, cohesion_backward=0, left_branching_entropy=3.4775576801186063, right_branching_entropy=2.067311083881271, left_accessor_variety=56, right_accessor_variety=24, leftside_frequency=541, rightside_frequency=94),\n",
       " '미': Scores(cohesion_forward=0, cohesion_backward=0, left_branching_entropy=4.614913724563358, right_branching_entropy=3.9233954752053415, left_accessor_variety=428, right_accessor_variety=437, leftside_frequency=21790, rightside_frequency=5049),\n",
       " '콜': Scores(cohesion_forward=0, cohesion_backward=0, left_branching_entropy=3.8109657500631138, right_branching_entropy=2.7785233492998973, left_accessor_variety=79, right_accessor_variety=53, leftside_frequency=642, rightside_frequency=279),\n",
       " '갱': Scores(cohesion_forward=0, cohesion_backward=0, left_branching_entropy=2.666371729263472, right_branching_entropy=1.1758582107857134, left_accessor_variety=17, right_accessor_variety=6, leftside_frequency=71, rightside_frequency=16),\n",
       " '넬': Scores(cohesion_forward=0, cohesion_backward=0, left_branching_entropy=0.8921178708188161, right_branching_entropy=1.7410506456818882, left_accessor_variety=3, right_accessor_variety=7, leftside_frequency=0, rightside_frequency=33),\n",
       " '샹': Scores(cohesion_forward=0, cohesion_backward=0, left_branching_entropy=0.6931471805599453, right_branching_entropy=-0.0, left_accessor_variety=2, right_accessor_variety=1, leftside_frequency=8, rightside_frequency=0),\n",
       " '벤': Scores(cohesion_forward=0, cohesion_backward=0, left_branching_entropy=3.3374901763902405, right_branching_entropy=1.4284632413665772, left_accessor_variety=50, right_accessor_variety=11, leftside_frequency=374, rightside_frequency=13),\n",
       " '쿤': Scores(cohesion_forward=0, cohesion_backward=0, left_branching_entropy=-0.0, right_branching_entropy=0.4293230219306162, left_accessor_variety=1, right_accessor_variety=2, leftside_frequency=13, rightside_frequency=0),\n",
       " '늙': Scores(cohesion_forward=0, cohesion_backward=0, left_branching_entropy=2.1160942561089704, right_branching_entropy=0.6145033203107282, left_accessor_variety=9, right_accessor_variety=2, leftside_frequency=35, rightside_frequency=0),\n",
       " '갓': Scores(cohesion_forward=0, cohesion_backward=0, left_branching_entropy=2.602814783612309, right_branching_entropy=1.6105704839198223, left_accessor_variety=19, right_accessor_variety=9, leftside_frequency=94, rightside_frequency=5),\n",
       " '칙': Scores(cohesion_forward=0, cohesion_backward=0, left_branching_entropy=1.6434436917911674, right_branching_entropy=1.665219466358187, left_accessor_variety=10, right_accessor_variety=27, leftside_frequency=19, rightside_frequency=570),\n",
       " '윽': Scores(cohesion_forward=0, cohesion_backward=0, left_branching_entropy=0.6931471805599453, right_branching_entropy=-0.0, left_accessor_variety=2, right_accessor_variety=1, leftside_frequency=6, rightside_frequency=0),\n",
       " '뻗': Scores(cohesion_forward=0, cohesion_backward=0, left_branching_entropy=1.7205498380200264, right_branching_entropy=0.5004024235381879, left_accessor_variety=8, right_accessor_variety=2, leftside_frequency=44, rightside_frequency=0),\n",
       " '피': Scores(cohesion_forward=0, cohesion_backward=0, left_branching_entropy=4.528564678291706, right_branching_entropy=3.385141656095195, left_accessor_variety=277, right_accessor_variety=201, leftside_frequency=6322, rightside_frequency=749),\n",
       " '켜': Scores(cohesion_forward=0, cohesion_backward=0, left_branching_entropy=1.095631544934633, right_branching_entropy=4.191648792589679, left_accessor_variety=12, right_accessor_variety=100, leftside_frequency=91, rightside_frequency=593),\n",
       " '렐': Scores(cohesion_forward=0, cohesion_backward=0, left_branching_entropy=0, right_branching_entropy=0.31449220128141064, left_accessor_variety=0, right_accessor_variety=2, leftside_frequency=0, rightside_frequency=30),\n",
       " '땡': Scores(cohesion_forward=0, cohesion_backward=0, left_branching_entropy=1.0986122886681096, right_branching_entropy=-0.0, left_accessor_variety=3, right_accessor_variety=1, leftside_frequency=12, rightside_frequency=0),\n",
       " '휠': Scores(cohesion_forward=0, cohesion_backward=0, left_branching_entropy=3.2423885061157267, right_branching_entropy=0.8186249373394614, left_accessor_variety=30, right_accessor_variety=5, leftside_frequency=131, rightside_frequency=0),\n",
       " '텀': Scores(cohesion_forward=0, cohesion_backward=0, left_branching_entropy=2.2984166668509936, right_branching_entropy=0.8007929376652316, left_accessor_variety=11, right_accessor_variety=4, leftside_frequency=35, rightside_frequency=20),\n",
       " '톈': Scores(cohesion_forward=0, cohesion_backward=0, left_branching_entropy=1.6035681031705153, right_branching_entropy=-0.0, left_accessor_variety=6, right_accessor_variety=1, leftside_frequency=24, rightside_frequency=0),\n",
       " '딛': Scores(cohesion_forward=0, cohesion_backward=0, left_branching_entropy=0.6460905050608089, right_branching_entropy=-0.0, left_accessor_variety=2, right_accessor_variety=1, leftside_frequency=26, rightside_frequency=0),\n",
       " '빠': Scores(cohesion_forward=0, cohesion_backward=0, left_branching_entropy=3.2293415586795042, right_branching_entropy=2.247035103961718, left_accessor_variety=83, right_accessor_variety=44, leftside_frequency=2117, rightside_frequency=603),\n",
       " '뻥': Scores(cohesion_forward=0, cohesion_backward=0, left_branching_entropy=1.4151390801119226, right_branching_entropy=0.7589367727620595, left_accessor_variety=5, right_accessor_variety=3, leftside_frequency=10, rightside_frequency=0),\n",
       " '상': Scores(cohesion_forward=0, cohesion_backward=0, left_branching_entropy=4.898584985808374, right_branching_entropy=4.609279575010049, left_accessor_variety=485, right_accessor_variety=529, leftside_frequency=22847, rightside_frequency=12918),\n",
       " '첫': Scores(cohesion_forward=0, cohesion_backward=0, left_branching_entropy=3.6439025999245556, right_branching_entropy=3.795771616579116, left_accessor_variety=140, right_accessor_variety=165, leftside_frequency=806, rightside_frequency=0),\n",
       " '콧': Scores(cohesion_forward=0, cohesion_backward=0, left_branching_entropy=0.9791019190315775, right_branching_entropy=2.562225499701443, left_accessor_variety=6, right_accessor_variety=15, leftside_frequency=17, rightside_frequency=62),\n",
       " '멘': Scores(cohesion_forward=0, cohesion_backward=0, left_branching_entropy=2.7608368845308022, right_branching_entropy=1.2120506430416411, left_accessor_variety=39, right_accessor_variety=9, leftside_frequency=359, rightside_frequency=17),\n",
       " '깜': Scores(cohesion_forward=0, cohesion_backward=0, left_branching_entropy=3.0001731518323593, right_branching_entropy=0.7565080811412158, left_accessor_variety=31, right_accessor_variety=5, leftside_frequency=396, rightside_frequency=0),\n",
       " '규': Scores(cohesion_forward=0, cohesion_backward=0, left_branching_entropy=4.337035552857458, right_branching_entropy=3.0536004450091516, left_accessor_variety=247, right_accessor_variety=177, leftside_frequency=5308, rightside_frequency=3416),\n",
       " '팟': Scores(cohesion_forward=0, cohesion_backward=0, left_branching_entropy=1.448316229498506, right_branching_entropy=1.167070670241199, left_accessor_variety=5, right_accessor_variety=4, leftside_frequency=20, rightside_frequency=46),\n",
       " '럿': Scores(cohesion_forward=0, cohesion_backward=0, left_branching_entropy=0.877977796482132, right_branching_entropy=2.4059331078749873, left_accessor_variety=4, right_accessor_variety=15, leftside_frequency=21, rightside_frequency=72),\n",
       " '핼': Scores(cohesion_forward=0, cohesion_backward=0, left_branching_entropy=0.6730116670092565, right_branching_entropy=-0.0, left_accessor_variety=2, right_accessor_variety=1, leftside_frequency=21, rightside_frequency=0),\n",
       " '잿': Scores(cohesion_forward=0, cohesion_backward=0, left_branching_entropy=0.5982695885852573, right_branching_entropy=-0.0, left_accessor_variety=2, right_accessor_variety=1, leftside_frequency=11, rightside_frequency=0),\n",
       " '9': Scores(cohesion_forward=0, cohesion_backward=0, left_branching_entropy=4.413439984175353, right_branching_entropy=3.9079520291509335, left_accessor_variety=256, right_accessor_variety=227, leftside_frequency=7429, rightside_frequency=5031),\n",
       " '빚': Scores(cohesion_forward=0, cohesion_backward=0, left_branching_entropy=2.4789427801641346, right_branching_entropy=2.2119754253580903, left_accessor_variety=31, right_accessor_variety=17, leftside_frequency=382, rightside_frequency=0),\n",
       " '펩': Scores(cohesion_forward=0, cohesion_backward=0, left_branching_entropy=1.8617021065270274, right_branching_entropy=0.8378972277814775, left_accessor_variety=7, right_accessor_variety=3, leftside_frequency=44, rightside_frequency=0),\n",
       " '흰': Scores(cohesion_forward=0, cohesion_backward=0, left_branching_entropy=2.851926782770111, right_branching_entropy=1.7727141312599728, left_accessor_variety=24, right_accessor_variety=11, leftside_frequency=94, rightside_frequency=0),\n",
       " '카': Scores(cohesion_forward=0, cohesion_backward=0, left_branching_entropy=4.588979731647801, right_branching_entropy=3.6957563919113343, left_accessor_variety=267, right_accessor_variety=164, leftside_frequency=4082, rightside_frequency=979),\n",
       " '페': Scores(cohesion_forward=0, cohesion_backward=0, left_branching_entropy=4.241799356058962, right_branching_entropy=2.3988302014565677, left_accessor_variety=175, right_accessor_variety=84, leftside_frequency=2359, rightside_frequency=393),\n",
       " '퍼': Scores(cohesion_forward=0, cohesion_backward=0, left_branching_entropy=4.008964619602384, right_branching_entropy=3.748020818218094, left_accessor_variety=96, right_accessor_variety=91, leftside_frequency=886, rightside_frequency=568),\n",
       " '디': Scores(cohesion_forward=0, cohesion_backward=0, left_branching_entropy=4.335381626596728, right_branching_entropy=2.68517802819071, left_accessor_variety=262, right_accessor_variety=183, leftside_frequency=6292, rightside_frequency=1665),\n",
       " '낄': Scores(cohesion_forward=0, cohesion_backward=0, left_branching_entropy=0.6730116670092565, right_branching_entropy=0.6035812046513235, left_accessor_variety=2, right_accessor_variety=7, leftside_frequency=0, rightside_frequency=305),\n",
       " '숟': Scores(cohesion_forward=0, cohesion_backward=0, left_branching_entropy=2.379120975540097, right_branching_entropy=-0.0, left_accessor_variety=14, right_accessor_variety=1, leftside_frequency=93, rightside_frequency=0),\n",
       " 'ㄴ': Scores(cohesion_forward=0, cohesion_backward=0, left_branching_entropy=2.111216545811636, right_branching_entropy=0.7047252954476639, left_accessor_variety=9, right_accessor_variety=4, leftside_frequency=36, rightside_frequency=0),\n",
       " '첩': Scores(cohesion_forward=0, cohesion_backward=0, left_branching_entropy=2.332796443546033, right_branching_entropy=1.688318412003283, left_accessor_variety=20, right_accessor_variety=16, leftside_frequency=106, rightside_frequency=113),\n",
       " '쓰': Scores(cohesion_forward=0, cohesion_backward=0, left_branching_entropy=3.4143571447606296, right_branching_entropy=2.8615776382598583, left_accessor_variety=93, right_accessor_variety=35, leftside_frequency=1951, rightside_frequency=41),\n",
       " '륜': Scores(cohesion_forward=0, cohesion_backward=0, left_branching_entropy=0, right_branching_entropy=1.5641315026219946, left_accessor_variety=0, right_accessor_variety=5, leftside_frequency=0, rightside_frequency=28),\n",
       " '왈': Scores(cohesion_forward=0, cohesion_backward=0, left_branching_entropy=0.4584565761117292, right_branching_entropy=0.5354297243461882, left_accessor_variety=5, right_accessor_variety=5, leftside_frequency=148, rightside_frequency=0),\n",
       " '꼽': Scores(cohesion_forward=0, cohesion_backward=0, left_branching_entropy=1.2010951137797272, right_branching_entropy=2.1289905061754992, left_accessor_variety=12, right_accessor_variety=14, leftside_frequency=878, rightside_frequency=0),\n",
       " '말': Scores(cohesion_forward=0, cohesion_backward=0, left_branching_entropy=2.458104025660862, right_branching_entropy=2.899588163206563, left_accessor_variety=208, right_accessor_variety=301, leftside_frequency=16737, rightside_frequency=1594),\n",
       " '촨': Scores(cohesion_forward=0, cohesion_backward=0, left_branching_entropy=-0.0, right_branching_entropy=0.6365141682948128, left_accessor_variety=1, right_accessor_variety=2, leftside_frequency=0, rightside_frequency=7),\n",
       " '언': Scores(cohesion_forward=0, cohesion_backward=0, left_branching_entropy=4.215954531994497, right_branching_entropy=2.8622383520453654, left_accessor_variety=187, right_accessor_variety=124, leftside_frequency=3759, rightside_frequency=937),\n",
       " '팀': Scores(cohesion_forward=0, cohesion_backward=0, left_branching_entropy=3.9881444180546817, right_branching_entropy=4.182334787594166, left_accessor_variety=150, right_accessor_variety=161, leftside_frequency=854, rightside_frequency=1626),\n",
       " '율': Scores(cohesion_forward=0, cohesion_backward=0, left_branching_entropy=2.945875440262622, right_branching_entropy=4.2003469908449675, left_accessor_variety=42, right_accessor_variety=111, leftside_frequency=85, rightside_frequency=1020),\n",
       " '적': Scores(cohesion_forward=0, cohesion_backward=0, left_branching_entropy=4.555000566743389, right_branching_entropy=4.684909074582164, left_accessor_variety=345, right_accessor_variety=400, leftside_frequency=8991, rightside_frequency=10202),\n",
       " '윰': Scores(cohesion_forward=0, cohesion_backward=0, left_branching_entropy=0.6829081047004717, right_branching_entropy=-0.0, left_accessor_variety=2, right_accessor_variety=1, leftside_frequency=18, rightside_frequency=0),\n",
       " '깊': Scores(cohesion_forward=0, cohesion_backward=0, left_branching_entropy=3.631564925041731, right_branching_entropy=1.5943868358520126, left_accessor_variety=62, right_accessor_variety=8, leftside_frequency=846, rightside_frequency=0),\n",
       " '옳': Scores(cohesion_forward=0, cohesion_backward=0, left_branching_entropy=2.2652561202618875, right_branching_entropy=1.498342591291627, left_accessor_variety=16, right_accessor_variety=5, leftside_frequency=180, rightside_frequency=0),\n",
       " '끙': Scores(cohesion_forward=0, cohesion_backward=0, left_branching_entropy=0.45056120886630463, right_branching_entropy=0.6890092384766586, left_accessor_variety=2, right_accessor_variety=2, leftside_frequency=12, rightside_frequency=11),\n",
       " '총': Scores(cohesion_forward=0, cohesion_backward=0, left_branching_entropy=4.4741303903195595, right_branching_entropy=3.5080438743453883, left_accessor_variety=278, right_accessor_variety=166, leftside_frequency=8033, rightside_frequency=347),\n",
       " '맞': Scores(cohesion_forward=0, cohesion_backward=0, left_branching_entropy=2.6205452650159864, right_branching_entropy=3.038837323926207, left_accessor_variety=123, right_accessor_variety=41, leftside_frequency=6215, rightside_frequency=0),\n",
       " '첼': Scores(cohesion_forward=0, cohesion_backward=0, left_branching_entropy=2.05474554492409, right_branching_entropy=1.4397455852759047, left_accessor_variety=10, right_accessor_variety=6, leftside_frequency=46, rightside_frequency=12),\n",
       " '넥': Scores(cohesion_forward=0, cohesion_backward=0, left_branching_entropy=3.4538748953789318, right_branching_entropy=1.2524779885362833, left_accessor_variety=45, right_accessor_variety=7, leftside_frequency=277, rightside_frequency=19),\n",
       " '톨': Scores(cohesion_forward=0, cohesion_backward=0, left_branching_entropy=0.2509548043576197, right_branching_entropy=0.5455945739691843, left_accessor_variety=2, right_accessor_variety=2, leftside_frequency=38, rightside_frequency=0),\n",
       " '것': Scores(cohesion_forward=0, cohesion_backward=0, left_branching_entropy=2.8478530351072306, right_branching_entropy=2.4201427816856134, left_accessor_variety=132, right_accessor_variety=208, leftside_frequency=30450, rightside_frequency=100),\n",
       " '갤': Scores(cohesion_forward=0, cohesion_backward=0, left_branching_entropy=3.7732913946408493, right_branching_entropy=1.0106135134985064, left_accessor_variety=83, right_accessor_variety=7, leftside_frequency=992, rightside_frequency=0),\n",
       " '팬': Scores(cohesion_forward=0, cohesion_backward=0, left_branching_entropy=4.230579421231822, right_branching_entropy=2.1858307888339215, left_accessor_variety=135, right_accessor_variety=47, leftside_frequency=1595, rightside_frequency=54),\n",
       " '텟': Scores(cohesion_forward=0, cohesion_backward=0, left_branching_entropy=-0.0, right_branching_entropy=-0.0, left_accessor_variety=1, right_accessor_variety=1, leftside_frequency=0, rightside_frequency=5),\n",
       " '헛': Scores(cohesion_forward=0, cohesion_backward=0, left_branching_entropy=2.9299948199107946, right_branching_entropy=1.1394471548372276, left_accessor_variety=25, right_accessor_variety=7, leftside_frequency=234, rightside_frequency=0),\n",
       " '번': Scores(cohesion_forward=0, cohesion_backward=0, left_branching_entropy=2.9955845505706447, right_branching_entropy=4.868068540005042, left_accessor_variety=104, right_accessor_variety=376, leftside_frequency=2620, rightside_frequency=6740),\n",
       " '훅': Scores(cohesion_forward=0, cohesion_backward=0, left_branching_entropy=1.9217150457160537, right_branching_entropy=1.580351101872914, left_accessor_variety=9, right_accessor_variety=6, leftside_frequency=25, rightside_frequency=0),\n",
       " '썹': Scores(cohesion_forward=0, cohesion_backward=0, left_branching_entropy=-0.0, right_branching_entropy=1.5607104090414063, left_accessor_variety=1, right_accessor_variety=5, leftside_frequency=0, rightside_frequency=24),\n",
       " '풍': Scores(cohesion_forward=0, cohesion_backward=0, left_branching_entropy=3.926104355279827, right_branching_entropy=3.39757486355272, left_accessor_variety=109, right_accessor_variety=95, leftside_frequency=1493, rightside_frequency=641),\n",
       " '샜': Scores(cohesion_forward=0, cohesion_backward=0, left_branching_entropy=-0.0, right_branching_entropy=-0.0, left_accessor_variety=1, right_accessor_variety=1, leftside_frequency=8, rightside_frequency=0),\n",
       " '팍': Scores(cohesion_forward=0, cohesion_backward=0, left_branching_entropy=1.7328679513998633, right_branching_entropy=0.6730116670092565, left_accessor_variety=6, right_accessor_variety=2, leftside_frequency=20, rightside_frequency=0),\n",
       " '측': Scores(cohesion_forward=0, cohesion_backward=0, left_branching_entropy=4.440534873006599, right_branching_entropy=2.5764155143629157, left_accessor_variety=177, right_accessor_variety=79, leftside_frequency=2935, rightside_frequency=329),\n",
       " '밑': Scores(cohesion_forward=0, cohesion_backward=0, left_branching_entropy=3.235474681147768, right_branching_entropy=2.31482617061357, left_accessor_variety=43, right_accessor_variety=15, leftside_frequency=276, rightside_frequency=17),\n",
       " '훨': Scores(cohesion_forward=0, cohesion_backward=0, left_branching_entropy=2.192095593246261, right_branching_entropy=0.17310279361489644, left_accessor_variety=23, right_accessor_variety=3, leftside_frequency=344, rightside_frequency=6),\n",
       " '킷': Scores(cohesion_forward=0, cohesion_backward=0, left_branching_entropy=-0.0, right_branching_entropy=2.8267503060668595, left_accessor_variety=1, right_accessor_variety=23, leftside_frequency=0, rightside_frequency=162),\n",
       " '덧': Scores(cohesion_forward=0, cohesion_backward=0, left_branching_entropy=0.9530866719011932, right_branching_entropy=0.43113339542131635, left_accessor_variety=19, right_accessor_variety=13, leftside_frequency=1366, rightside_frequency=67),\n",
       " '좌': Scores(cohesion_forward=0, cohesion_backward=0, left_branching_entropy=3.423951838416668, right_branching_entropy=3.3076905979084676, left_accessor_variety=51, right_accessor_variety=53, leftside_frequency=408, rightside_frequency=183),\n",
       " '맛': Scores(cohesion_forward=0, cohesion_backward=0, left_branching_entropy=3.6944053294748582, right_branching_entropy=2.787861543406029, left_accessor_variety=81, right_accessor_variety=38, leftside_frequency=884, rightside_frequency=72),\n",
       " '뱀': Scores(cohesion_forward=0, cohesion_backward=0, left_branching_entropy=2.0458538157364217, right_branching_entropy=1.1551258225445797, left_accessor_variety=9, right_accessor_variety=5, leftside_frequency=61, rightside_frequency=5),\n",
       " '짤': Scores(cohesion_forward=0, cohesion_backward=0, left_branching_entropy=1.564957250242801, right_branching_entropy=0.8921178708188161, left_accessor_variety=5, right_accessor_variety=3, leftside_frequency=14, rightside_frequency=0),\n",
       " '훌': Scores(cohesion_forward=0, cohesion_backward=0, left_branching_entropy=2.6040750912942534, right_branching_entropy=0.7804958476377705, left_accessor_variety=23, right_accessor_variety=4, leftside_frequency=244, rightside_frequency=0),\n",
       " '뤄': Scores(cohesion_forward=0, cohesion_backward=0, left_branching_entropy=0, right_branching_entropy=2.697926992714136, left_accessor_variety=0, right_accessor_variety=19, leftside_frequency=0, rightside_frequency=113),\n",
       " '조': Scores(cohesion_forward=0, cohesion_backward=0, left_branching_entropy=4.763622681791006, right_branching_entropy=4.149193525125146, left_accessor_variety=441, right_accessor_variety=351, leftside_frequency=22129, rightside_frequency=2542),\n",
       " '돔': Scores(cohesion_forward=0, cohesion_backward=0, left_branching_entropy=2.1517697097088817, right_branching_entropy=2.1139316089636973, left_accessor_variety=10, right_accessor_variety=9, leftside_frequency=17, rightside_frequency=24),\n",
       " '띕': Scores(cohesion_forward=0, cohesion_backward=0, left_branching_entropy=-0.0, right_branching_entropy=-0.0, left_accessor_variety=1, right_accessor_variety=1, leftside_frequency=5, rightside_frequency=0),\n",
       " '켐': Scores(cohesion_forward=0, cohesion_backward=0, left_branching_entropy=1.3321790402101223, right_branching_entropy=1.0296530140645737, left_accessor_variety=4, right_accessor_variety=3, leftside_frequency=16, rightside_frequency=5),\n",
       " '텔': Scores(cohesion_forward=0, cohesion_backward=0, left_branching_entropy=2.9279760426769337, right_branching_entropy=3.3126162393069407, left_accessor_variety=64, right_accessor_variety=114, leftside_frequency=512, rightside_frequency=779),\n",
       " '저': Scores(cohesion_forward=0, cohesion_backward=0, left_branching_entropy=3.7184439344968934, right_branching_entropy=3.2057783779495694, left_accessor_variety=274, right_accessor_variety=359, leftside_frequency=14247, rightside_frequency=2323),\n",
       " '꽂': Scores(cohesion_forward=0, cohesion_backward=0, left_branching_entropy=1.7049838022495345, right_branching_entropy=1.9090097005068012, left_accessor_variety=7, right_accessor_variety=7, leftside_frequency=51, rightside_frequency=0),\n",
       " '훑': Scores(cohesion_forward=0, cohesion_backward=0, left_branching_entropy=0.6365141682948128, right_branching_entropy=0, left_accessor_variety=2, right_accessor_variety=0, leftside_frequency=7, rightside_frequency=0),\n",
       " '솜': Scores(cohesion_forward=0, cohesion_backward=0, left_branching_entropy=2.644923270050158, right_branching_entropy=1.302048601229707, left_accessor_variety=16, right_accessor_variety=5, leftside_frequency=70, rightside_frequency=0),\n",
       " '엿': Scores(cohesion_forward=0, cohesion_backward=0, left_branching_entropy=1.8198444099769018, right_branching_entropy=0.9964629432068404, left_accessor_variety=10, right_accessor_variety=4, leftside_frequency=170, rightside_frequency=0),\n",
       " '탠': Scores(cohesion_forward=0, cohesion_backward=0, left_branching_entropy=0, right_branching_entropy=0.6365141682948128, left_accessor_variety=0, right_accessor_variety=2, leftside_frequency=0, rightside_frequency=12),\n",
       " '둔': Scores(cohesion_forward=0, cohesion_backward=0, left_branching_entropy=3.087569234244745, right_branching_entropy=3.873001964325764, left_accessor_variety=50, right_accessor_variety=123, leftside_frequency=356, rightside_frequency=611),\n",
       " '잇': Scores(cohesion_forward=0, cohesion_backward=0, left_branching_entropy=2.77729027251591, right_branching_entropy=1.7160357179422916, left_accessor_variety=36, right_accessor_variety=18, leftside_frequency=694, rightside_frequency=51),\n",
       " '준': Scores(cohesion_forward=0, cohesion_backward=0, left_branching_entropy=4.212052803565467, right_branching_entropy=3.9844254356545865, left_accessor_variety=196, right_accessor_variety=276, leftside_frequency=2717, rightside_frequency=3723),\n",
       " '촌': Scores(cohesion_forward=0, cohesion_backward=0, left_branching_entropy=2.8100092284099043, right_branching_entropy=3.7400379843591507, left_accessor_variety=24, right_accessor_variety=60, leftside_frequency=61, rightside_frequency=362),\n",
       " '켠': Scores(cohesion_forward=0, cohesion_backward=0, left_branching_entropy=0.6931471805599453, right_branching_entropy=-0.0, left_accessor_variety=2, right_accessor_variety=1, leftside_frequency=7, rightside_frequency=0),\n",
       " '앤': Scores(cohesion_forward=0, cohesion_backward=0, left_branching_entropy=3.3076574756972255, right_branching_entropy=3.236264919415687, left_accessor_variety=39, right_accessor_variety=38, leftside_frequency=99, rightside_frequency=85),\n",
       " '색': Scores(cohesion_forward=0, cohesion_backward=0, left_branching_entropy=4.067952824710005, right_branching_entropy=3.9212533328234254, left_accessor_variety=113, right_accessor_variety=168, leftside_frequency=930, rightside_frequency=1087),\n",
       " '뉜': Scores(cohesion_forward=0, cohesion_backward=0, left_branching_entropy=0, right_branching_entropy=-0.0, left_accessor_variety=0, right_accessor_variety=1, leftside_frequency=0, rightside_frequency=5),\n",
       " '꽁': Scores(cohesion_forward=0, cohesion_backward=0, left_branching_entropy=2.025483221463867, right_branching_entropy=1.4181724138495406, left_accessor_variety=9, right_accessor_variety=6, leftside_frequency=67, rightside_frequency=22),\n",
       " '묻': Scores(cohesion_forward=0, cohesion_backward=0, left_branching_entropy=2.4696222475413836, right_branching_entropy=2.04433029512792, left_accessor_variety=41, right_accessor_variety=16, leftside_frequency=984, rightside_frequency=0),\n",
       " '듀': Scores(cohesion_forward=0, cohesion_backward=0, left_branching_entropy=3.3131358158232946, right_branching_entropy=1.5261843537299997, left_accessor_variety=39, right_accessor_variety=11, leftside_frequency=274, rightside_frequency=14),\n",
       " '평': Scores(cohesion_forward=0, cohesion_backward=0, left_branching_entropy=4.153484747665957, right_branching_entropy=2.4960855340665162, left_accessor_variety=235, right_accessor_variety=89, leftside_frequency=7596, rightside_frequency=301),\n",
       " '갈': Scores(cohesion_forward=0, cohesion_backward=0, left_branching_entropy=3.7328536475213983, right_branching_entropy=3.1252993754397274, left_accessor_variety=123, right_accessor_variety=96, leftside_frequency=1652, rightside_frequency=1462),\n",
       " '췌': Scores(cohesion_forward=0, cohesion_backward=0, left_branching_entropy=0.6931471805599453, right_branching_entropy=-0.0, left_accessor_variety=2, right_accessor_variety=1, leftside_frequency=9, rightside_frequency=0),\n",
       " '큽': Scores(cohesion_forward=0, cohesion_backward=0, left_branching_entropy=0.5623351446188083, right_branching_entropy=-0.0, left_accessor_variety=2, right_accessor_variety=1, leftside_frequency=18, rightside_frequency=0),\n",
       " '료': Scores(cohesion_forward=0, cohesion_backward=0, left_branching_entropy=2.1682205454668675, right_branching_entropy=4.271677410400215, left_accessor_variety=30, right_accessor_variety=225, leftside_frequency=39, rightside_frequency=3428),\n",
       " '싶': Scores(cohesion_forward=0, cohesion_backward=0, left_branching_entropy=0.546705331083999, right_branching_entropy=1.8489667650505703, left_accessor_variety=9, right_accessor_variety=17, leftside_frequency=2314, rightside_frequency=0),\n",
       " '옷': Scores(cohesion_forward=0, cohesion_backward=0, left_branching_entropy=3.111849527066072, right_branching_entropy=2.364765373302861, left_accessor_variety=45, right_accessor_variety=28, leftside_frequency=424, rightside_frequency=19),\n",
       " '뜬': Scores(cohesion_forward=0, cohesion_backward=0, left_branching_entropy=1.9374131391364668, right_branching_entropy=1.9051014569694718, left_accessor_variety=10, right_accessor_variety=10, leftside_frequency=34, rightside_frequency=16),\n",
       " '약': Scores(cohesion_forward=0, cohesion_backward=0, left_branching_entropy=4.259252189225738, right_branching_entropy=4.304943117733714, left_accessor_variety=198, right_accessor_variety=229, leftside_frequency=2065, rightside_frequency=2272),\n",
       " '즙': Scores(cohesion_forward=0, cohesion_backward=0, left_branching_entropy=-0.0, right_branching_entropy=0.6931471805599453, left_accessor_variety=1, right_accessor_variety=2, leftside_frequency=0, rightside_frequency=15),\n",
       " '체': Scores(cohesion_forward=0, cohesion_backward=0, left_branching_entropy=4.30390696128246, right_branching_entropy=4.522484832286171, left_accessor_variety=264, right_accessor_variety=339, leftside_frequency=5221, rightside_frequency=5229),\n",
       " '핵': Scores(cohesion_forward=0, cohesion_backward=0, left_branching_entropy=3.3125530970939123, right_branching_entropy=2.546021044318482, left_accessor_variety=118, right_accessor_variety=68, leftside_frequency=2184, rightside_frequency=159),\n",
       " '텝': Scores(cohesion_forward=0, cohesion_backward=0, left_branching_entropy=0.9949236325717751, right_branching_entropy=1.38494337369854, left_accessor_variety=3, right_accessor_variety=6, leftside_frequency=9, rightside_frequency=30),\n",
       " '깨': Scores(cohesion_forward=0, cohesion_backward=0, left_branching_entropy=2.8420351089627074, right_branching_entropy=2.879024250000571, left_accessor_variety=45, right_accessor_variety=33, leftside_frequency=611, rightside_frequency=103),\n",
       " '닝': Scores(cohesion_forward=0, cohesion_backward=0, left_branching_entropy=2.0682007999082646, right_branching_entropy=3.266145034237695, left_accessor_variety=12, right_accessor_variety=37, leftside_frequency=45, rightside_frequency=215),\n",
       " '패': Scores(cohesion_forward=0, cohesion_backward=0, left_branching_entropy=4.467186647865204, right_branching_entropy=2.307937370599901, left_accessor_variety=208, right_accessor_variety=89, leftside_frequency=3835, rightside_frequency=300),\n",
       " '얘': Scores(cohesion_forward=0, cohesion_backward=0, left_branching_entropy=3.2442573923117486, right_branching_entropy=0.12287565530193048, left_accessor_variety=78, right_accessor_variety=5, leftside_frequency=1193, rightside_frequency=0),\n",
       " '며': Scores(cohesion_forward=0, cohesion_backward=0, left_branching_entropy=2.39441290739964, right_branching_entropy=5.425491931584892, left_accessor_variety=75, right_accessor_variety=636, leftside_frequency=154, rightside_frequency=25102),\n",
       " '뭄': Scores(cohesion_forward=0, cohesion_backward=0, left_branching_entropy=0, right_branching_entropy=0.5004024235381879, left_accessor_variety=0, right_accessor_variety=2, leftside_frequency=8, rightside_frequency=5),\n",
       " '뜯': Scores(cohesion_forward=0, cohesion_backward=0, left_branching_entropy=1.4231371345268764, right_branching_entropy=0.23032354087587759, left_accessor_variety=10, right_accessor_variety=2, leftside_frequency=125, rightside_frequency=0),\n",
       " '랜': Scores(cohesion_forward=0, cohesion_backward=0, left_branching_entropy=2.878008343666608, right_branching_entropy=3.0135252606128504, left_accessor_variety=29, right_accessor_variety=51, leftside_frequency=236, rightside_frequency=395),\n",
       " '힉': Scores(cohesion_forward=0, cohesion_backward=0, left_branching_entropy=0.5982695885852573, right_branching_entropy=-0.0, left_accessor_variety=2, right_accessor_variety=1, leftside_frequency=17, rightside_frequency=0),\n",
       " '솥': Scores(cohesion_forward=0, cohesion_backward=0, left_branching_entropy=0.6896709283570267, right_branching_entropy=1.3194222729952845, left_accessor_variety=2, right_accessor_variety=4, leftside_frequency=0, rightside_frequency=25),\n",
       " '종': Scores(cohesion_forward=0, cohesion_backward=0, left_branching_entropy=4.83734087324173, right_branching_entropy=4.32167200827628, left_accessor_variety=290, right_accessor_variety=289, leftside_frequency=4945, rightside_frequency=3666),\n",
       " '눈': Scores(cohesion_forward=0, cohesion_backward=0, left_branching_entropy=3.19261126276259, right_branching_entropy=2.814577503603357, left_accessor_variety=122, right_accessor_variety=82, leftside_frequency=3479, rightside_frequency=122),\n",
       " '톡': Scores(cohesion_forward=0, cohesion_backward=0, left_branching_entropy=2.0863728630991014, right_branching_entropy=2.399660319343291, left_accessor_variety=27, right_accessor_variety=34, leftside_frequency=163, rightside_frequency=545),\n",
       " '쩜': Scores(cohesion_forward=0, cohesion_backward=0, left_branching_entropy=0, right_branching_entropy=0.6730116670092565, left_accessor_variety=0, right_accessor_variety=2, leftside_frequency=0, rightside_frequency=7),\n",
       " '량': Scores(cohesion_forward=0, cohesion_backward=0, left_branching_entropy=2.696643969682644, right_branching_entropy=4.7847767332585045, left_accessor_variety=28, right_accessor_variety=201, leftside_frequency=5, rightside_frequency=2364),\n",
       " '공': Scores(cohesion_forward=0, cohesion_backward=0, left_branching_entropy=4.521931577754722, right_branching_entropy=4.014790456930513, left_accessor_variety=462, right_accessor_variety=394, leftside_frequency=34541, rightside_frequency=5423),\n",
       " '쿱': Scores(cohesion_forward=0, cohesion_backward=0, left_branching_entropy=-0.0, right_branching_entropy=-0.0, left_accessor_variety=1, right_accessor_variety=1, leftside_frequency=0, rightside_frequency=6),\n",
       " '섰': Scores(cohesion_forward=0, cohesion_backward=0, left_branching_entropy=0.8420532118309714, right_branching_entropy=0.7499242273867269, left_accessor_variety=7, right_accessor_variety=3, leftside_frequency=168, rightside_frequency=0),\n",
       " '꿰': Scores(cohesion_forward=0, cohesion_backward=0, left_branching_entropy=1.1297739581781119, right_branching_entropy=1.5540354473991147, left_accessor_variety=5, right_accessor_variety=5, leftside_frequency=56, rightside_frequency=0),\n",
       " '밝': Scores(cohesion_forward=0, cohesion_backward=0, left_branching_entropy=1.792382248235827, right_branching_entropy=0.8990676640736698, left_accessor_variety=64, right_accessor_variety=15, leftside_frequency=11970, rightside_frequency=0),\n",
       " '냅': Scores(cohesion_forward=0, cohesion_backward=0, left_branching_entropy=0.7251804619593594, right_branching_entropy=0.6425668400189826, left_accessor_variety=3, right_accessor_variety=3, leftside_frequency=15, rightside_frequency=34),\n",
       " '흑': Scores(cohesion_forward=0, cohesion_backward=0, left_branching_entropy=3.4136859905159507, right_branching_entropy=1.5779029894458925, left_accessor_variety=47, right_accessor_variety=10, leftside_frequency=380, rightside_frequency=0),\n",
       " '훔': Scores(cohesion_forward=0, cohesion_backward=0, left_branching_entropy=1.7481774574015048, right_branching_entropy=1.2963123270119183, left_accessor_variety=13, right_accessor_variety=4, leftside_frequency=125, rightside_frequency=0),\n",
       " '밧': Scores(cohesion_forward=0, cohesion_backward=0, left_branching_entropy=1.0986122886681096, right_branching_entropy=-0.0, left_accessor_variety=3, right_accessor_variety=1, leftside_frequency=13, rightside_frequency=0),\n",
       " '1': Scores(cohesion_forward=0, cohesion_backward=0, left_branching_entropy=4.559793554415731, right_branching_entropy=3.575478059973849, left_accessor_variety=526, right_accessor_variety=394, leftside_frequency=71085, rightside_frequency=10733),\n",
       " '딸': Scores(cohesion_forward=0, cohesion_backward=0, left_branching_entropy=3.245875269275488, right_branching_entropy=3.2099383945584727, left_accessor_variety=76, right_accessor_variety=65, leftside_frequency=574, rightside_frequency=32),\n",
       " '트': Scores(cohesion_forward=0, cohesion_backward=0, left_branching_entropy=4.119342870656743, right_branching_entropy=4.726545060620588, left_accessor_variety=329, right_accessor_variety=467, leftside_frequency=7023, rightside_frequency=12875),\n",
       " '뷔': Scores(cohesion_forward=0, cohesion_backward=0, left_branching_entropy=1.1035578599174531, right_branching_entropy=2.3924659717852435, left_accessor_variety=5, right_accessor_variety=32, leftside_frequency=25, rightside_frequency=949),\n",
       " '뎃': Scores(cohesion_forward=0, cohesion_backward=0, left_branching_entropy=-0.0, right_branching_entropy=0.6869615765973234, left_accessor_variety=1, right_accessor_variety=2, leftside_frequency=0, rightside_frequency=9),\n",
       " '쏠': Scores(cohesion_forward=0, cohesion_backward=0, left_branching_entropy=1.6050558417689376, right_branching_entropy=1.7926584611310048, left_accessor_variety=20, right_accessor_variety=12, leftside_frequency=287, rightside_frequency=0),\n",
       " '럽': Scores(cohesion_forward=0, cohesion_backward=0, left_branching_entropy=0.43932781849352504, right_branching_entropy=3.9949269909713783, left_accessor_variety=2, right_accessor_variety=88, leftside_frequency=0, rightside_frequency=865),\n",
       " '뽀': Scores(cohesion_forward=0, cohesion_backward=0, left_branching_entropy=2.55243571821447, right_branching_entropy=1.2045652207446214, left_accessor_variety=19, right_accessor_variety=5, leftside_frequency=153, rightside_frequency=11),\n",
       " '쩍': Scores(cohesion_forward=0, cohesion_backward=0, left_branching_entropy=-0.0, right_branching_entropy=2.113712914727078, left_accessor_variety=1, right_accessor_variety=17, leftside_frequency=6, rightside_frequency=149),\n",
       " '깍': Scores(cohesion_forward=0, cohesion_backward=0, left_branching_entropy=1.5317780787913653, right_branching_entropy=-0.0, left_accessor_variety=5, right_accessor_variety=1, leftside_frequency=20, rightside_frequency=0),\n",
       " '뭔': Scores(cohesion_forward=0, cohesion_backward=0, left_branching_entropy=2.7885890366573216, right_branching_entropy=0.64281234740109, left_accessor_variety=23, right_accessor_variety=5, leftside_frequency=160, rightside_frequency=0),\n",
       " '펠': Scores(cohesion_forward=0, cohesion_backward=0, left_branching_entropy=1.847410762973004, right_branching_entropy=0.9568415005776374, left_accessor_variety=10, right_accessor_variety=5, leftside_frequency=77, rightside_frequency=12),\n",
       " '웁': Scores(cohesion_forward=0, cohesion_backward=0, left_branching_entropy=-0.0, right_branching_entropy=-0.0, left_accessor_variety=1, right_accessor_variety=1, leftside_frequency=18, rightside_frequency=0),\n",
       " '찡': Scores(cohesion_forward=0, cohesion_backward=0, left_branching_entropy=0.9949236325717751, right_branching_entropy=-0.0, left_accessor_variety=3, right_accessor_variety=1, leftside_frequency=13, rightside_frequency=0),\n",
       " '퀼': Scores(cohesion_forward=0, cohesion_backward=0, left_branching_entropy=2.2052236275961636, right_branching_entropy=-0.0, left_accessor_variety=10, right_accessor_variety=1, leftside_frequency=47, rightside_frequency=0),\n",
       " '툼': Scores(cohesion_forward=0, cohesion_backward=0, left_branching_entropy=-0.0, right_branching_entropy=1.519382664642301, left_accessor_variety=1, right_accessor_variety=5, leftside_frequency=0, rightside_frequency=22),\n",
       " '션': Scores(cohesion_forward=0, cohesion_backward=0, left_branching_entropy=2.0089411905709595, right_branching_entropy=4.804245416615696, left_accessor_variety=20, right_accessor_variety=217, leftside_frequency=10, rightside_frequency=2569),\n",
       " '뱉': Scores(cohesion_forward=0, cohesion_backward=0, left_branching_entropy=0.6730116670092565, right_branching_entropy=-0.0, left_accessor_variety=2, right_accessor_variety=1, leftside_frequency=14, rightside_frequency=0),\n",
       " '육': Scores(cohesion_forward=0, cohesion_backward=0, left_branching_entropy=3.314980087853477, right_branching_entropy=3.8971397722256262, left_accessor_variety=103, right_accessor_variety=151, leftside_frequency=1437, rightside_frequency=1754),\n",
       " '댑': Scores(cohesion_forward=0, cohesion_backward=0, left_branching_entropy=-0.0, right_branching_entropy=-0.0, left_accessor_variety=1, right_accessor_variety=1, leftside_frequency=6, rightside_frequency=0),\n",
       " '뉘': Scores(cohesion_forward=0, cohesion_backward=0, left_branching_entropy=1.7504416966364251, right_branching_entropy=0.5954002839805336, left_accessor_variety=7, right_accessor_variety=2, leftside_frequency=50, rightside_frequency=0),\n",
       " '먼': Scores(cohesion_forward=0, cohesion_backward=0, left_branching_entropy=3.155515290737338, right_branching_entropy=1.5021249978867752, left_accessor_variety=59, right_accessor_variety=45, leftside_frequency=1231, rightside_frequency=288),\n",
       " '격': Scores(cohesion_forward=0, cohesion_backward=0, left_branching_entropy=3.822502697720247, right_branching_entropy=4.577990280685077, left_accessor_variety=91, right_accessor_variety=207, leftside_frequency=989, rightside_frequency=1829),\n",
       " '완': Scores(cohesion_forward=0, cohesion_backward=0, left_branching_entropy=3.8684964432235067, right_branching_entropy=2.7650864796286707, left_accessor_variety=164, right_accessor_variety=76, leftside_frequency=3681, rightside_frequency=575),\n",
       " '봄': Scores(cohesion_forward=0, cohesion_backward=0, left_branching_entropy=2.4548716384628535, right_branching_entropy=2.364629755690726, left_accessor_variety=20, right_accessor_variety=21, leftside_frequency=135, rightside_frequency=37),\n",
       " '쾌': Scores(cohesion_forward=0, cohesion_backward=0, left_branching_entropy=2.8705837616726635, right_branching_entropy=1.5717943007756556, left_accessor_variety=27, right_accessor_variety=10, leftside_frequency=252, rightside_frequency=0),\n",
       " '월': Scores(cohesion_forward=0, cohesion_backward=0, left_branching_entropy=2.8658828620286876, right_branching_entropy=4.465495566189176, left_accessor_variety=162, right_accessor_variety=354, leftside_frequency=2286, rightside_frequency=12603),\n",
       " '턴': Scores(cohesion_forward=0, cohesion_backward=0, left_branching_entropy=1.4340412117202102, right_branching_entropy=3.6376032788330153, left_accessor_variety=18, right_accessor_variety=107, leftside_frequency=22, rightside_frequency=1778),\n",
       " '갑': Scores(cohesion_forward=0, cohesion_backward=0, left_branching_entropy=3.241757816336815, right_branching_entropy=2.1586799864835085, left_accessor_variety=69, right_accessor_variety=48, leftside_frequency=1128, rightside_frequency=173),\n",
       " '뭣': Scores(cohesion_forward=0, cohesion_backward=0, left_branching_entropy=0.6931471805599453, right_branching_entropy=-0.0, left_accessor_variety=2, right_accessor_variety=1, leftside_frequency=8, rightside_frequency=0),\n",
       " '릭': Scores(cohesion_forward=0, cohesion_backward=0, left_branching_entropy=1.2433810116671173, right_branching_entropy=3.1202647094245184, left_accessor_variety=6, right_accessor_variety=38, leftside_frequency=0, rightside_frequency=243),\n",
       " '답': Scores(cohesion_forward=0, cohesion_backward=0, left_branching_entropy=2.908853150688512, right_branching_entropy=2.3500961928354767, left_accessor_variety=79, right_accessor_variety=49, leftside_frequency=2050, rightside_frequency=169),\n",
       " '팜': Scores(cohesion_forward=0, cohesion_backward=0, left_branching_entropy=2.6319693163871953, right_branching_entropy=0.9526283598698889, left_accessor_variety=20, right_accessor_variety=6, leftside_frequency=135, rightside_frequency=23),\n",
       " '길': Scores(cohesion_forward=0, cohesion_backward=0, left_branching_entropy=3.896702193715592, right_branching_entropy=3.8989292296712557, left_accessor_variety=171, right_accessor_variety=203, leftside_frequency=1371, rightside_frequency=2915),\n",
       " '테': Scores(cohesion_forward=0, cohesion_backward=0, left_branching_entropy=4.229758251120615, right_branching_entropy=2.9811831020533464, left_accessor_variety=203, right_accessor_variety=89, leftside_frequency=2326, rightside_frequency=699),\n",
       " '둑': Scores(cohesion_forward=0, cohesion_backward=0, left_branching_entropy=1.1217853135747708, right_branching_entropy=1.7432560874178025, left_accessor_variety=4, right_accessor_variety=8, leftside_frequency=22, rightside_frequency=25),\n",
       " '퐁': Scores(cohesion_forward=0, cohesion_backward=0, left_branching_entropy=1.15374194270109, right_branching_entropy=0.5982695885852573, left_accessor_variety=4, right_accessor_variety=2, leftside_frequency=8, rightside_frequency=9),\n",
       " '찾': Scores(cohesion_forward=0, cohesion_backward=0, left_branching_entropy=2.129029243982545, right_branching_entropy=1.7808211856904763, left_accessor_variety=90, right_accessor_variety=16, leftside_frequency=4156, rightside_frequency=0),\n",
       " '실': Scores(cohesion_forward=0, cohesion_backward=0, left_branching_entropy=4.484461319116033, right_branching_entropy=4.170682483732901, left_accessor_variety=378, right_accessor_variety=349, leftside_frequency=13164, rightside_frequency=4911),\n",
       " '짙': Scores(cohesion_forward=0, cohesion_backward=0, left_branching_entropy=2.431299445096434, right_branching_entropy=1.1478683312013354, left_accessor_variety=21, right_accessor_variety=5, leftside_frequency=261, rightside_frequency=0),\n",
       " '툇': Scores(cohesion_forward=0, cohesion_backward=0, left_branching_entropy=0.5004024235381879, right_branching_entropy=-0.0, left_accessor_variety=2, right_accessor_variety=1, leftside_frequency=15, rightside_frequency=0),\n",
       " '붓': Scores(cohesion_forward=0, cohesion_backward=0, left_branching_entropy=1.9186648025447774, right_branching_entropy=1.0217278604945916, left_accessor_variety=8, right_accessor_variety=3, leftside_frequency=46, rightside_frequency=0),\n",
       " '설': Scores(cohesion_forward=0, cohesion_backward=0, left_branching_entropy=3.837813284556568, right_branching_entropy=3.2409818585959713, left_accessor_variety=255, right_accessor_variety=249, leftside_frequency=8959, rightside_frequency=2706),\n",
       " '동': Scores(cohesion_forward=0, cohesion_backward=0, left_branching_entropy=4.67482344346373, right_branching_entropy=4.498774782798983, left_accessor_variety=445, right_accessor_variety=415, leftside_frequency=18571, rightside_frequency=6833),\n",
       " '악': Scores(cohesion_forward=0, cohesion_backward=0, left_branching_entropy=4.035168771620875, right_branching_entropy=3.697743866282835, left_accessor_variety=126, right_accessor_variety=106, leftside_frequency=1686, rightside_frequency=568),\n",
       " '찬': Scores(cohesion_forward=0, cohesion_backward=0, left_branching_entropy=3.8332891673310865, right_branching_entropy=3.6105137769663807, left_accessor_variety=88, right_accessor_variety=113, leftside_frequency=737, rightside_frequency=610),\n",
       " '져': Scores(cohesion_forward=0, cohesion_backward=0, left_branching_entropy=2.416482302717246, right_branching_entropy=3.9365328716651597, left_accessor_variety=25, right_accessor_variety=201, leftside_frequency=33, rightside_frequency=2569),\n",
       " '쇳': Scores(cohesion_forward=0, cohesion_backward=0, left_branching_entropy=0.6365141682948128, right_branching_entropy=-0.0, left_accessor_variety=2, right_accessor_variety=1, leftside_frequency=12, rightside_frequency=0),\n",
       " '4': Scores(cohesion_forward=0, cohesion_backward=0, left_branching_entropy=4.653755254216081, right_branching_entropy=4.288409708423021, left_accessor_variety=366, right_accessor_variety=307, leftside_frequency=15214, rightside_frequency=4893),\n",
       " '벨': Scores(cohesion_forward=0, cohesion_backward=0, left_branching_entropy=3.310771650500934, right_branching_entropy=3.378437012195048, left_accessor_variety=40, right_accessor_variety=48, leftside_frequency=178, rightside_frequency=206),\n",
       " '굿': Scores(cohesion_forward=0, cohesion_backward=0, left_branching_entropy=2.73392228887967, right_branching_entropy=1.9365527951718948, left_accessor_variety=18, right_accessor_variety=10, leftside_frequency=79, rightside_frequency=10),\n",
       " '쪽': Scores(cohesion_forward=0, cohesion_backward=0, left_branching_entropy=3.2382969683406535, right_branching_entropy=3.9621268351963286, left_accessor_variety=97, right_accessor_variety=140, leftside_frequency=612, rightside_frequency=1472),\n",
       " '폐': Scores(cohesion_forward=0, cohesion_backward=0, left_branching_entropy=4.197915279517627, right_branching_entropy=2.8966148578241797, left_accessor_variety=114, right_accessor_variety=48, leftside_frequency=1094, rightside_frequency=89),\n",
       " '참': Scores(cohesion_forward=0, cohesion_backward=0, left_branching_entropy=2.79207530375995, right_branching_entropy=1.7198090941431088, left_accessor_variety=208, right_accessor_variety=86, leftside_frequency=12587, rightside_frequency=135),\n",
       " '덤': Scores(cohesion_forward=0, cohesion_backward=0, left_branching_entropy=2.394155552849728, right_branching_entropy=2.6462313996978897, left_accessor_variety=13, right_accessor_variety=21, leftside_frequency=73, rightside_frequency=59),\n",
       " '손': Scores(cohesion_forward=0, cohesion_backward=0, left_branching_entropy=4.110111016525879, right_branching_entropy=3.2738288392999304, left_accessor_variety=241, right_accessor_variety=132, leftside_frequency=5529, rightside_frequency=249),\n",
       " '교': Scores(cohesion_forward=0, cohesion_backward=0, left_branching_entropy=4.663185891948859, right_branching_entropy=3.5026155127227128, left_accessor_variety=374, right_accessor_variety=284, leftside_frequency=11154, rightside_frequency=3856),\n",
       " '굶': Scores(cohesion_forward=0, cohesion_backward=0, left_branching_entropy=1.9274066713290796, right_branching_entropy=1.0006175255190992, left_accessor_variety=8, right_accessor_variety=3, leftside_frequency=43, rightside_frequency=0),\n",
       " '화': Scores(cohesion_forward=0, cohesion_backward=0, left_branching_entropy=4.623569355577031, right_branching_entropy=4.517902467261302, left_accessor_variety=404, right_accessor_variety=423, leftside_frequency=10144, rightside_frequency=9706),\n",
       " '왠': Scores(cohesion_forward=0, cohesion_backward=0, left_branching_entropy=1.5607104090414063, right_branching_entropy=-0.0, left_accessor_variety=5, right_accessor_variety=1, leftside_frequency=22, rightside_frequency=0),\n",
       " '깎': Scores(cohesion_forward=0, cohesion_backward=0, left_branching_entropy=1.894683897516393, right_branching_entropy=0.3165489716094417, left_accessor_variety=9, right_accessor_variety=2, leftside_frequency=77, rightside_frequency=0),\n",
       " '덟': Scores(cohesion_forward=0, cohesion_backward=0, left_branching_entropy=0, right_branching_entropy=1.6076694682412223, left_accessor_variety=0, right_accessor_variety=6, leftside_frequency=0, rightside_frequency=35),\n",
       " '멈': Scores(cohesion_forward=0, cohesion_backward=0, left_branching_entropy=2.794911323760622, right_branching_entropy=1.5988922408469257, left_accessor_variety=30, right_accessor_variety=6, leftside_frequency=290, rightside_frequency=0),\n",
       " '늑': Scores(cohesion_forward=0, cohesion_backward=0, left_branching_entropy=2.0725239149922294, right_branching_entropy=1.077513464358952, left_accessor_variety=10, right_accessor_variety=3, leftside_frequency=67, rightside_frequency=0),\n",
       " '갇': Scores(cohesion_forward=0, cohesion_backward=0, left_branching_entropy=0.5720006643989887, right_branching_entropy=1.3191944066361652, left_accessor_variety=5, right_accessor_variety=4, leftside_frequency=116, rightside_frequency=0),\n",
       " '센': Scores(cohesion_forward=0, cohesion_backward=0, left_branching_entropy=4.226066811825234, right_branching_entropy=1.8903311175780846, left_accessor_variety=110, right_accessor_variety=30, leftside_frequency=1014, rightside_frequency=126),\n",
       " '얕': Scores(cohesion_forward=0, cohesion_backward=0, left_branching_entropy=1.9072709391394818, right_branching_entropy=-0.0, left_accessor_variety=7, right_accessor_variety=1, leftside_frequency=29, rightside_frequency=0),\n",
       " '웃': Scores(cohesion_forward=0, cohesion_backward=0, left_branching_entropy=3.678312255997248, right_branching_entropy=1.927218807077616, left_accessor_variety=98, right_accessor_variety=39, leftside_frequency=2156, rightside_frequency=138),\n",
       " '갸': Scores(cohesion_forward=0, cohesion_backward=0, left_branching_entropy=0.47413931305783735, right_branching_entropy=-0.0, left_accessor_variety=2, right_accessor_variety=1, leftside_frequency=16, rightside_frequency=0),\n",
       " '얼': Scores(cohesion_forward=0, cohesion_backward=0, left_branching_entropy=3.709341625650706, right_branching_entropy=2.1420887625415195, left_accessor_variety=98, right_accessor_variety=77, leftside_frequency=1845, rightside_frequency=418),\n",
       " '침': Scores(cohesion_forward=0, cohesion_backward=0, left_branching_entropy=3.963646671238297, right_branching_entropy=3.4762224838315943, left_accessor_variety=114, right_accessor_variety=97, leftside_frequency=1536, rightside_frequency=572),\n",
       " '햇': Scores(cohesion_forward=0, cohesion_backward=0, left_branching_entropy=2.8537322566035304, right_branching_entropy=1.427921099763013, left_accessor_variety=24, right_accessor_variety=6, leftside_frequency=203, rightside_frequency=6),\n",
       " '품': Scores(cohesion_forward=0, cohesion_backward=0, left_branching_entropy=3.5076912106762097, right_branching_entropy=4.691505474577825, left_accessor_variety=118, right_accessor_variety=258, leftside_frequency=1145, rightside_frequency=4166),\n",
       " '딩': Scores(cohesion_forward=0, cohesion_backward=0, left_branching_entropy=2.074862025443262, right_branching_entropy=4.196977883862855, left_accessor_variety=12, right_accessor_variety=103, leftside_frequency=9, rightside_frequency=793),\n",
       " '걸': Scores(cohesion_forward=0, cohesion_backward=0, left_branching_entropy=3.3906281188320806, right_branching_entropy=3.459232377887463, left_accessor_variety=130, right_accessor_variety=171, leftside_frequency=3926, rightside_frequency=333),\n",
       " '물': Scores(cohesion_forward=0, cohesion_backward=0, left_branching_entropy=4.174039641557479, right_branching_entropy=4.346157563481207, left_accessor_variety=271, right_accessor_variety=322, leftside_frequency=6809, rightside_frequency=3012),\n",
       " '휀': Scores(cohesion_forward=0, cohesion_backward=0, left_branching_entropy=0.6931471805599453, right_branching_entropy=0, left_accessor_variety=2, right_accessor_variety=0, leftside_frequency=5, rightside_frequency=0),\n",
       " '돛': Scores(cohesion_forward=0, cohesion_backward=0, left_branching_entropy=-0.0, right_branching_entropy=0, left_accessor_variety=1, right_accessor_variety=0, leftside_frequency=5, rightside_frequency=0),\n",
       " '섹': Scores(cohesion_forward=0, cohesion_backward=0, left_branching_entropy=2.9924872579806765, right_branching_entropy=0.8788947371590308, left_accessor_variety=32, right_accessor_variety=4, leftside_frequency=386, rightside_frequency=0),\n",
       " '쁘': Scores(cohesion_forward=0, cohesion_backward=0, left_branching_entropy=1.519382664642301, right_branching_entropy=-0.0, left_accessor_variety=5, right_accessor_variety=1, leftside_frequency=14, rightside_frequency=0),\n",
       " '눠': Scores(cohesion_forward=0, cohesion_backward=0, left_branching_entropy=0, right_branching_entropy=3.389398784052171, left_accessor_variety=0, right_accessor_variety=39, leftside_frequency=0, rightside_frequency=221),\n",
       " '슝': Scores(cohesion_forward=0, cohesion_backward=0, left_branching_entropy=-0.0, right_branching_entropy=0.5982695885852573, left_accessor_variety=1, right_accessor_variety=2, leftside_frequency=0, rightside_frequency=11),\n",
       " '률': Scores(cohesion_forward=0, cohesion_backward=0, left_branching_entropy=2.259189062394721, right_branching_entropy=3.8268017531485494, left_accessor_variety=21, right_accessor_variety=97, leftside_frequency=0, rightside_frequency=1400),\n",
       " '깻': Scores(cohesion_forward=0, cohesion_backward=0, left_branching_entropy=0.47413931305783735, right_branching_entropy=-0.0, left_accessor_variety=2, right_accessor_variety=1, leftside_frequency=19, rightside_frequency=0),\n",
       " '섣': Scores(cohesion_forward=0, cohesion_backward=0, left_branching_entropy=2.3451059141743924, right_branching_entropy=0.6645284386549151, left_accessor_variety=11, right_accessor_variety=2, leftside_frequency=42, rightside_frequency=0),\n",
       " '강': Scores(cohesion_forward=0, cohesion_backward=0, left_branching_entropy=4.24228383254578, right_branching_entropy=3.708816193705747, left_accessor_variety=369, right_accessor_variety=244, leftside_frequency=19071, rightside_frequency=1006),\n",
       " '닫': Scores(cohesion_forward=0, cohesion_backward=0, left_branching_entropy=2.597608432937913, right_branching_entropy=2.180256508181921, left_accessor_variety=31, right_accessor_variety=13, leftside_frequency=359, rightside_frequency=0),\n",
       " '받': Scores(cohesion_forward=0, cohesion_backward=0, left_branching_entropy=1.9504954587636365, right_branching_entropy=2.1752444987105135, left_accessor_variety=146, right_accessor_variety=21, leftside_frequency=10897, rightside_frequency=0),\n",
       " '짭': Scores(cohesion_forward=0, cohesion_backward=0, left_branching_entropy=0.6931471805599453, right_branching_entropy=-0.0, left_accessor_variety=2, right_accessor_variety=1, leftside_frequency=7, rightside_frequency=0),\n",
       " '셋': Scores(cohesion_forward=0, cohesion_backward=0, left_branching_entropy=3.0207572240694027, right_branching_entropy=1.6756010042668954, left_accessor_variety=27, right_accessor_variety=14, leftside_frequency=173, rightside_frequency=60),\n",
       " '핥': Scores(cohesion_forward=0, cohesion_backward=0, left_branching_entropy=-0.0, right_branching_entropy=0, left_accessor_variety=1, right_accessor_variety=0, leftside_frequency=5, rightside_frequency=0),\n",
       " '려': Scores(cohesion_forward=0, cohesion_backward=0, left_branching_entropy=2.6284931030600247, right_branching_entropy=4.954014058442026, left_accessor_variety=37, right_accessor_variety=299, leftside_frequency=0, rightside_frequency=3886),\n",
       " '나': Scores(cohesion_forward=0, cohesion_backward=0, left_branching_entropy=4.18470460045603, right_branching_entropy=5.204744456286171, left_accessor_variety=465, right_accessor_variety=720, leftside_frequency=22214, rightside_frequency=18529),\n",
       " '핍': Scores(cohesion_forward=0, cohesion_backward=0, left_branching_entropy=0, right_branching_entropy=0.6931471805599453, left_accessor_variety=0, right_accessor_variety=2, leftside_frequency=0, rightside_frequency=9),\n",
       " '늄': Scores(cohesion_forward=0, cohesion_backward=0, left_branching_entropy=0.8832020462449786, right_branching_entropy=2.0237752895099956, left_accessor_variety=3, right_accessor_variety=8, leftside_frequency=0, rightside_frequency=35),\n",
       " '칫': Scores(cohesion_forward=0, cohesion_backward=0, left_branching_entropy=0, right_branching_entropy=2.847435971760307, left_accessor_variety=0, right_accessor_variety=19, leftside_frequency=7, rightside_frequency=86),\n",
       " '요': Scores(cohesion_forward=0, cohesion_backward=0, left_branching_entropy=4.0406329930308695, right_branching_entropy=4.816214911453993, left_accessor_variety=279, right_accessor_variety=475, leftside_frequency=5424, rightside_frequency=10464),\n",
       " '괌': Scores(cohesion_forward=0, cohesion_backward=0, left_branching_entropy=1.8364299221020812, right_branching_entropy=0.8828275435751075, left_accessor_variety=8, right_accessor_variety=3, leftside_frequency=31, rightside_frequency=0),\n",
       " '층': Scores(cohesion_forward=0, cohesion_backward=0, left_branching_entropy=3.3001343159425542, right_branching_entropy=4.4293513818155565, left_accessor_variety=50, right_accessor_variety=156, leftside_frequency=142, rightside_frequency=1856),\n",
       " '낀': Scores(cohesion_forward=0, cohesion_backward=0, left_branching_entropy=1.642582732698203, right_branching_entropy=2.595188835244782, left_accessor_variety=6, right_accessor_variety=17, leftside_frequency=0, rightside_frequency=59),\n",
       " '땐': Scores(cohesion_forward=0, cohesion_backward=0, left_branching_entropy=1.6471695066052783, right_branching_entropy=3.1014798196291724, left_accessor_variety=11, right_accessor_variety=27, leftside_frequency=0, rightside_frequency=36),\n",
       " '된': Scores(cohesion_forward=0, cohesion_backward=0, left_branching_entropy=4.099848495612567, right_branching_entropy=4.833464170224857, left_accessor_variety=221, right_accessor_variety=459, leftside_frequency=2730, rightside_frequency=16465),\n",
       " '부': Scores(cohesion_forward=0, cohesion_backward=0, left_branching_entropy=5.057226036624211, right_branching_entropy=4.742283493440775, left_accessor_variety=539, right_accessor_variety=487, leftside_frequency=24885, rightside_frequency=12983),\n",
       " '옐': Scores(cohesion_forward=0, cohesion_backward=0, left_branching_entropy=2.0278701686722105, right_branching_entropy=0.6806294878916634, left_accessor_variety=9, right_accessor_variety=2, leftside_frequency=40, rightside_frequency=0),\n",
       " '예': Scores(cohesion_forward=0, cohesion_backward=0, left_branching_entropy=4.313814898965261, right_branching_entropy=2.8112501216843144, left_accessor_variety=359, right_accessor_variety=183, leftside_frequency=16000, rightside_frequency=767),\n",
       " '잰': Scores(cohesion_forward=0, cohesion_backward=0, left_branching_entropy=1.0986122886681096, right_branching_entropy=0.6931471805599453, left_accessor_variety=3, right_accessor_variety=2, leftside_frequency=6, rightside_frequency=0),\n",
       " '긍': Scores(cohesion_forward=0, cohesion_backward=0, left_branching_entropy=2.9725870567207493, right_branching_entropy=0.06941989041669758, left_accessor_variety=31, right_accessor_variety=2, leftside_frequency=540, rightside_frequency=0),\n",
       " '흘': Scores(cohesion_forward=0, cohesion_backward=0, left_branching_entropy=2.393003934326057, right_branching_entropy=2.2485201974096785, left_accessor_variety=23, right_accessor_variety=19, leftside_frequency=391, rightside_frequency=135),\n",
       " '뮤': Scores(cohesion_forward=0, cohesion_backward=0, left_branching_entropy=3.9272627107122298, right_branching_entropy=0.8572653036019706, left_accessor_variety=99, right_accessor_variety=5, leftside_frequency=1294, rightside_frequency=0),\n",
       " '꽈': Scores(cohesion_forward=0, cohesion_backward=0, left_branching_entropy=-0.0, right_branching_entropy=0, left_accessor_variety=1, right_accessor_variety=0, leftside_frequency=5, rightside_frequency=0),\n",
       " '틀': Scores(cohesion_forward=0, cohesion_backward=0, left_branching_entropy=2.6424462931834976, right_branching_entropy=3.4175785654414272, left_accessor_variety=32, right_accessor_variety=56, leftside_frequency=295, rightside_frequency=447),\n",
       " '똬': Scores(cohesion_forward=0, cohesion_backward=0, left_branching_entropy=0.6931471805599453, right_branching_entropy=-0.0, left_accessor_variety=2, right_accessor_variety=1, leftside_frequency=5, rightside_frequency=0),\n",
       " '바': Scores(cohesion_forward=0, cohesion_backward=0, left_branching_entropy=4.065269506537424, right_branching_entropy=3.6149604380873552, left_accessor_variety=283, right_accessor_variety=203, leftside_frequency=9572, rightside_frequency=735),\n",
       " '솔': Scores(cohesion_forward=0, cohesion_backward=0, left_branching_entropy=4.074336618244883, right_branching_entropy=1.8039716935750327, left_accessor_variety=102, right_accessor_variety=21, leftside_frequency=1021, rightside_frequency=79),\n",
       " '뵈': Scores(cohesion_forward=0, cohesion_backward=0, left_branching_entropy=-0.0, right_branching_entropy=-0.0, left_accessor_variety=1, right_accessor_variety=1, leftside_frequency=17, rightside_frequency=0),\n",
       " '머': Scores(cohesion_forward=0, cohesion_backward=0, left_branching_entropy=2.8495099073833368, right_branching_entropy=1.7799996294692606, left_accessor_variety=95, right_accessor_variety=55, leftside_frequency=3328, rightside_frequency=205),\n",
       " '밥': Scores(cohesion_forward=0, cohesion_backward=0, left_branching_entropy=3.5317791288372944, right_branching_entropy=3.0730708898003716, left_accessor_variety=55, right_accessor_variety=48, leftside_frequency=318, rightside_frequency=150),\n",
       " '횃': Scores(cohesion_forward=0, cohesion_backward=0, left_branching_entropy=-0.0, right_branching_entropy=-0.0, left_accessor_variety=1, right_accessor_variety=1, leftside_frequency=10, rightside_frequency=0),\n",
       " '더': Scores(cohesion_forward=0, cohesion_backward=0, left_branching_entropy=4.048251832981263, right_branching_entropy=3.9918371194703757, left_accessor_variety=260, right_accessor_variety=370, leftside_frequency=7388, rightside_frequency=642),\n",
       " '벰': Scores(cohesion_forward=0, cohesion_backward=0, left_branching_entropy=0, right_branching_entropy=0, left_accessor_variety=0, right_accessor_variety=0, leftside_frequency=5, rightside_frequency=0),\n",
       " '올': Scores(cohesion_forward=0, cohesion_backward=0, left_branching_entropy=3.6921684479304178, right_branching_entropy=2.6206048569727445, left_accessor_variety=203, right_accessor_variety=115, leftside_frequency=8700, rightside_frequency=661),\n",
       " '중': Scores(cohesion_forward=0, cohesion_backward=0, left_branching_entropy=4.938639994611941, right_branching_entropy=4.0610695533075996, left_accessor_variety=463, right_accessor_variety=410, leftside_frequency=23248, rightside_frequency=2260),\n",
       " '렙': Scores(cohesion_forward=0, cohesion_backward=0, left_branching_entropy=1.185875219569766, right_branching_entropy=0.5146531654289292, left_accessor_variety=4, right_accessor_variety=2, leftside_frequency=16, rightside_frequency=14),\n",
       " '룀': Scores(cohesion_forward=0, cohesion_backward=0, left_branching_entropy=-0.0, right_branching_entropy=-0.0, left_accessor_variety=1, right_accessor_variety=1, leftside_frequency=0, rightside_frequency=8),\n",
       " '민': Scores(cohesion_forward=0, cohesion_backward=0, left_branching_entropy=4.496095135311363, right_branching_entropy=3.95569162034365, left_accessor_variety=275, right_accessor_variety=300, leftside_frequency=6582, rightside_frequency=4427),\n",
       " '콕': Scores(cohesion_forward=0, cohesion_backward=0, left_branching_entropy=0.3478228457017152, right_branching_entropy=0.9053018344185246, left_accessor_variety=6, right_accessor_variety=7, leftside_frequency=163, rightside_frequency=171),\n",
       " '뱅': Scores(cohesion_forward=0, cohesion_backward=0, left_branching_entropy=1.0143043035998405, right_branching_entropy=1.1126420133376964, left_accessor_variety=11, right_accessor_variety=10, leftside_frequency=170, rightside_frequency=43),\n",
       " '값': Scores(cohesion_forward=0, cohesion_backward=0, left_branching_entropy=3.1244011926726243, right_branching_entropy=3.2484093970594157, left_accessor_variety=30, right_accessor_variety=40, leftside_frequency=133, rightside_frequency=257),\n",
       " '팩': Scores(cohesion_forward=0, cohesion_backward=0, left_branching_entropy=3.2237688289721547, right_branching_entropy=1.6936719769712536, left_accessor_variety=30, right_accessor_variety=12, leftside_frequency=133, rightside_frequency=39),\n",
       " '기': Scores(cohesion_forward=0, cohesion_backward=0, left_branching_entropy=5.218208729667631, right_branching_entropy=3.9480987666149123, left_accessor_variety=757, right_accessor_variety=642, leftside_frequency=77367, rightside_frequency=33914),\n",
       " '달': Scores(cohesion_forward=0, cohesion_backward=0, left_branching_entropy=3.7073202565884986, right_branching_entropy=3.921135064448449, left_accessor_variety=184, right_accessor_variety=227, leftside_frequency=6743, rightside_frequency=3199),\n",
       " '뛴': Scores(cohesion_forward=0, cohesion_backward=0, left_branching_entropy=1.803296380735047, right_branching_entropy=1.5725027762229353, left_accessor_variety=7, right_accessor_variety=5, leftside_frequency=5, rightside_frequency=0),\n",
       " '빨': Scores(cohesion_forward=0, cohesion_backward=0, left_branching_entropy=3.6477246397104777, right_branching_entropy=1.60192212521249, left_accessor_variety=69, right_accessor_variety=12, leftside_frequency=812, rightside_frequency=7),\n",
       " '릎': Scores(cohesion_forward=0, cohesion_backward=0, left_branching_entropy=0, right_branching_entropy=1.9602708238644115, left_accessor_variety=0, right_accessor_variety=8, leftside_frequency=0, rightside_frequency=38),\n",
       " '칠': Scores(cohesion_forward=0, cohesion_backward=0, left_branching_entropy=3.168336214449196, right_branching_entropy=2.666946634239559, left_accessor_variety=44, right_accessor_variety=39, leftside_frequency=218, rightside_frequency=726),\n",
       " '컵': Scores(cohesion_forward=0, cohesion_backward=0, left_branching_entropy=2.2478418016812984, right_branching_entropy=2.3813430835514633, left_accessor_variety=13, right_accessor_variety=17, leftside_frequency=70, rightside_frequency=60),\n",
       " '만': Scores(cohesion_forward=0, cohesion_backward=0, left_branching_entropy=3.6950441113219985, right_branching_entropy=4.963389398519163, left_accessor_variety=492, right_accessor_variety=656, leftside_frequency=16510, rightside_frequency=23026),\n",
       " '넘': Scores(cohesion_forward=0, cohesion_backward=0, left_branching_entropy=2.8683173846096275, right_branching_entropy=2.3750900126387737, left_accessor_variety=104, right_accessor_variety=30, leftside_frequency=3913, rightside_frequency=15),\n",
       " '아': Scores(cohesion_forward=0, cohesion_backward=0, left_branching_entropy=4.47697103332597, right_branching_entropy=4.476673404616061, left_accessor_variety=544, right_accessor_variety=615, leftside_frequency=33052, rightside_frequency=16004),\n",
       " '몰': Scores(cohesion_forward=0, cohesion_backward=0, left_branching_entropy=3.2175586352682823, right_branching_entropy=2.980849764696245, left_accessor_variety=76, right_accessor_variety=63, leftside_frequency=1776, rightside_frequency=237),\n",
       " '룸': Scores(cohesion_forward=0, cohesion_backward=0, left_branching_entropy=2.1242342025454977, right_branching_entropy=3.3472874509058124, left_accessor_variety=14, right_accessor_variety=37, leftside_frequency=22, rightside_frequency=200),\n",
       " '즌': Scores(cohesion_forward=0, cohesion_backward=0, left_branching_entropy=0.671588715399869, right_branching_entropy=3.869131480732406, left_accessor_variety=2, right_accessor_variety=57, leftside_frequency=0, rightside_frequency=232),\n",
       " '섀': Scores(cohesion_forward=0, cohesion_backward=0, left_branching_entropy=1.0986122886681096, right_branching_entropy=-0.0, left_accessor_variety=3, right_accessor_variety=1, leftside_frequency=14, rightside_frequency=0),\n",
       " '긴': Scores(cohesion_forward=0, cohesion_backward=0, left_branching_entropy=4.012257576966216, right_branching_entropy=3.843626660577318, left_accessor_variety=102, right_accessor_variety=189, leftside_frequency=989, rightside_frequency=1900),\n",
       " '낼': Scores(cohesion_forward=0, cohesion_backward=0, left_branching_entropy=2.5291415768952223, right_branching_entropy=2.112362417211846, left_accessor_variety=24, right_accessor_variety=31, leftside_frequency=6, rightside_frequency=489),\n",
       " '신': Scores(cohesion_forward=0, cohesion_backward=0, left_branching_entropy=4.7196032741681115, right_branching_entropy=4.90681251444569, left_accessor_variety=438, right_accessor_variety=472, leftside_frequency=18294, rightside_frequency=5535),\n",
       " '황': Scores(cohesion_forward=0, cohesion_backward=0, left_branching_entropy=3.81672202298041, right_branching_entropy=4.250673487500445, left_accessor_variety=125, right_accessor_variety=161, leftside_frequency=1773, rightside_frequency=875),\n",
       " '게': Scores(cohesion_forward=0, cohesion_backward=0, left_branching_entropy=2.95109139889784, right_branching_entropy=5.351451095019152, left_accessor_variety=296, right_accessor_variety=661, leftside_frequency=3246, rightside_frequency=36093),\n",
       " '뀔': Scores(cohesion_forward=0, cohesion_backward=0, left_branching_entropy=0, right_branching_entropy=1.1078758665006603, left_accessor_variety=0, right_accessor_variety=4, leftside_frequency=0, rightside_frequency=42),\n",
       " '구': Scores(cohesion_forward=0, cohesion_backward=0, left_branching_entropy=4.696005097358957, right_branching_entropy=4.825696704895604, left_accessor_variety=442, right_accessor_variety=459, leftside_frequency=15083, rightside_frequency=12112),\n",
       " '얻': Scores(cohesion_forward=0, cohesion_backward=0, left_branching_entropy=1.6482135990690014, right_branching_entropy=2.1285416777144333, left_accessor_variety=28, right_accessor_variety=12, leftside_frequency=1453, rightside_frequency=0),\n",
       " '암': Scores(cohesion_forward=0, cohesion_backward=0, left_branching_entropy=3.896193073730775, right_branching_entropy=4.024655296730309, left_accessor_variety=76, right_accessor_variety=99, leftside_frequency=660, rightside_frequency=340),\n",
       " '쥔': Scores(cohesion_forward=0, cohesion_backward=0, left_branching_entropy=1.3211643880367676, right_branching_entropy=1.5890269151739727, left_accessor_variety=4, right_accessor_variety=5, leftside_frequency=0, rightside_frequency=9),\n",
       " '껴': Scores(cohesion_forward=0, cohesion_backward=0, left_branching_entropy=1.5276363315207027, right_branching_entropy=1.8481060154430864, left_accessor_variety=6, right_accessor_variety=11, leftside_frequency=34, rightside_frequency=40),\n",
       " '충': Scores(cohesion_forward=0, cohesion_backward=0, left_branching_entropy=4.260377027793479, right_branching_entropy=2.630349004081482, left_accessor_variety=180, right_accessor_variety=42, leftside_frequency=4103, rightside_frequency=161),\n",
       " '헐': Scores(cohesion_forward=0, cohesion_backward=0, left_branching_entropy=1.9845415565918731, right_branching_entropy=1.003690367837568, left_accessor_variety=9, right_accessor_variety=3, leftside_frequency=54, rightside_frequency=0),\n",
       " '홧': Scores(cohesion_forward=0, cohesion_backward=0, left_branching_entropy=1.0789922078775833, right_branching_entropy=-0.0, left_accessor_variety=3, right_accessor_variety=1, leftside_frequency=13, rightside_frequency=0),\n",
       " '훙': Scores(cohesion_forward=0, cohesion_backward=0, left_branching_entropy=0.6730116670092565, right_branching_entropy=2.04942938093195, left_accessor_variety=2, right_accessor_variety=9, leftside_frequency=14, rightside_frequency=31),\n",
       " '깼': Scores(cohesion_forward=0, cohesion_backward=0, left_branching_entropy=-0.0, right_branching_entropy=-0.0, left_accessor_variety=1, right_accessor_variety=1, leftside_frequency=9, rightside_frequency=0),\n",
       " '롱': Scores(cohesion_forward=0, cohesion_backward=0, left_branching_entropy=3.1615556276879184, right_branching_entropy=2.7345275569115075, left_accessor_variety=32, right_accessor_variety=26, leftside_frequency=153, rightside_frequency=75),\n",
       " '굽': Scores(cohesion_forward=0, cohesion_backward=0, left_branching_entropy=2.643974008091423, right_branching_entropy=1.4067824860546925, left_accessor_variety=20, right_accessor_variety=6, leftside_frequency=121, rightside_frequency=0),\n",
       " '별': Scores(cohesion_forward=0, cohesion_backward=0, left_branching_entropy=4.232842624745563, right_branching_entropy=4.367465230210789, left_accessor_variety=149, right_accessor_variety=215, leftside_frequency=1636, rightside_frequency=1911),\n",
       " '냉': Scores(cohesion_forward=0, cohesion_backward=0, left_branching_entropy=3.6146100442032405, right_branching_entropy=2.1167140815889183, left_accessor_variety=57, right_accessor_variety=18, leftside_frequency=638, rightside_frequency=0),\n",
       " '임': Scores(cohesion_forward=0, cohesion_backward=0, left_branching_entropy=4.249320576808339, right_branching_entropy=4.445382415982254, left_accessor_variety=266, right_accessor_variety=276, leftside_frequency=5965, rightside_frequency=3767),\n",
       " '제': Scores(cohesion_forward=0, cohesion_backward=0, left_branching_entropy=4.468329288803853, right_branching_entropy=4.2584194561932875, left_accessor_variety=550, right_accessor_variety=505, leftside_frequency=37778, rightside_frequency=17831),\n",
       " '앰': Scores(cohesion_forward=0, cohesion_backward=0, left_branching_entropy=1.366158847569202, right_branching_entropy=-0.0, left_accessor_variety=4, right_accessor_variety=1, leftside_frequency=20, rightside_frequency=0),\n",
       " '곶': Scores(cohesion_forward=0, cohesion_backward=0, left_branching_entropy=0.9075352941050092, right_branching_entropy=1.2112465729695872, left_accessor_variety=3, right_accessor_variety=4, leftside_frequency=16, rightside_frequency=6),\n",
       " '겐': Scores(cohesion_forward=0, cohesion_backward=0, left_branching_entropy=1.2049389384933378, right_branching_entropy=3.696248215465171, left_accessor_variety=10, right_accessor_variety=66, leftside_frequency=16, rightside_frequency=463),\n",
       " '됐': Scores(cohesion_forward=0, cohesion_backward=0, left_branching_entropy=1.4608913376743882, right_branching_entropy=1.1115690495884576, left_accessor_variety=44, right_accessor_variety=15, leftside_frequency=2959, rightside_frequency=0),\n",
       " '닷': Scores(cohesion_forward=0, cohesion_backward=0, left_branching_entropy=2.605043024663944, right_branching_entropy=0.8416674780198213, left_accessor_variety=16, right_accessor_variety=3, leftside_frequency=100, rightside_frequency=6),\n",
       " '롭': Scores(cohesion_forward=0, cohesion_backward=0, left_branching_entropy=-0.0, right_branching_entropy=1.0361987848192837, left_accessor_variety=1, right_accessor_variety=3, leftside_frequency=0, rightside_frequency=17),\n",
       " '댕': Scores(cohesion_forward=0, cohesion_backward=0, left_branching_entropy=0, right_branching_entropy=1.3862943611198906, left_accessor_variety=0, right_accessor_variety=4, leftside_frequency=0, rightside_frequency=10),\n",
       " '되': Scores(cohesion_forward=0, cohesion_backward=0, left_branching_entropy=2.3883568911355013, right_branching_entropy=2.890454372011199, left_accessor_variety=99, right_accessor_variety=74, leftside_frequency=6692, rightside_frequency=141),\n",
       " '잉': Scores(cohesion_forward=0, cohesion_backward=0, left_branching_entropy=2.7744603816409192, right_branching_entropy=3.0730193249137825, left_accessor_variety=24, right_accessor_variety=35, leftside_frequency=98, rightside_frequency=184),\n",
       " '투': Scores(cohesion_forward=0, cohesion_backward=0, left_branching_entropy=4.448325982774902, right_branching_entropy=1.8049767894271314, left_accessor_variety=274, right_accessor_variety=88, leftside_frequency=7218, rightside_frequency=199),\n",
       " '발': Scores(cohesion_forward=0, cohesion_backward=0, left_branching_entropy=4.223458756919811, right_branching_entropy=3.650136499499944, left_accessor_variety=349, right_accessor_variety=299, leftside_frequency=18506, rightside_frequency=2651),\n",
       " '폴': Scores(cohesion_forward=0, cohesion_backward=0, left_branching_entropy=3.5691616394957113, right_branching_entropy=2.2949822463408798, left_accessor_variety=50, right_accessor_variety=28, leftside_frequency=309, rightside_frequency=44),\n",
       " '셔': Scores(cohesion_forward=0, cohesion_backward=0, left_branching_entropy=3.0718911192323937, right_branching_entropy=1.7023256053734561, left_accessor_variety=30, right_accessor_variety=13, leftside_frequency=208, rightside_frequency=49),\n",
       " '쫓': Scores(cohesion_forward=0, cohesion_backward=0, left_branching_entropy=2.5664290774738983, right_branching_entropy=1.717408032038399, left_accessor_variety=25, right_accessor_variety=8, leftside_frequency=307, rightside_frequency=0),\n",
       " '섬': Scores(cohesion_forward=0, cohesion_backward=0, left_branching_entropy=3.7186584610637645, right_branching_entropy=2.916656141166096, left_accessor_variety=76, right_accessor_variety=54, leftside_frequency=540, rightside_frequency=183),\n",
       " '효': Scores(cohesion_forward=0, cohesion_backward=0, left_branching_entropy=4.335104556047247, right_branching_entropy=1.9653096204611356, left_accessor_variety=155, right_accessor_variety=54, leftside_frequency=2516, rightside_frequency=227),\n",
       " '떳': Scores(cohesion_forward=0, cohesion_backward=0, left_branching_entropy=1.903686688337618, right_branching_entropy=-0.0, left_accessor_variety=7, right_accessor_variety=1, leftside_frequency=31, rightside_frequency=0),\n",
       " '일': Scores(cohesion_forward=0, cohesion_backward=0, left_branching_entropy=3.547193711819799, right_branching_entropy=4.762822295308015, left_accessor_variety=487, right_accessor_variety=626, leftside_frequency=21585, rightside_frequency=48104),\n",
       " '몸': Scores(cohesion_forward=0, cohesion_backward=0, left_branching_entropy=3.3505312948850974, right_branching_entropy=2.665955626296349, left_accessor_variety=75, right_accessor_variety=40, leftside_frequency=1305, rightside_frequency=17),\n",
       " '큼': Scores(cohesion_forward=0, cohesion_backward=0, left_branching_entropy=0.03903900333086888, right_branching_entropy=5.056656001663813, left_accessor_variety=2, right_accessor_variety=232, leftside_frequency=11, rightside_frequency=2058),\n",
       " '퓨': Scores(cohesion_forward=0, cohesion_backward=0, left_branching_entropy=2.8199972777389735, right_branching_entropy=1.0573520528977132, left_accessor_variety=18, right_accessor_variety=4, leftside_frequency=74, rightside_frequency=0),\n",
       " '튼': Scores(cohesion_forward=0, cohesion_backward=0, left_branching_entropy=1.5351161272956984, right_branching_entropy=2.3466231148444896, left_accessor_variety=20, right_accessor_variety=40, leftside_frequency=60, rightside_frequency=396),\n",
       " '현': Scores(cohesion_forward=0, cohesion_backward=0, left_branching_entropy=4.552916339375582, right_branching_entropy=3.116665956092161, left_accessor_variety=409, right_accessor_variety=236, leftside_frequency=16694, rightside_frequency=4133),\n",
       " '윤': Scores(cohesion_forward=0, cohesion_backward=0, left_branching_entropy=4.027009530586113, right_branching_entropy=3.986398406613826, left_accessor_variety=170, right_accessor_variety=128, leftside_frequency=2738, rightside_frequency=601),\n",
       " '를': Scores(cohesion_forward=0, cohesion_backward=0, left_branching_entropy=4.542240827017184, right_branching_entropy=5.296019791592505, left_accessor_variety=463, right_accessor_variety=743, leftside_frequency=0, rightside_frequency=112313),\n",
       " '지': Scores(cohesion_forward=0, cohesion_backward=0, left_branching_entropy=4.490640899776924, right_branching_entropy=4.76210221309925, left_accessor_variety=695, right_accessor_variety=880, leftside_frequency=52452, rightside_frequency=68752),\n",
       " '칸': Scores(cohesion_forward=0, cohesion_backward=0, left_branching_entropy=2.8801339092241265, right_branching_entropy=2.9671744711012913, left_accessor_variety=25, right_accessor_variety=27, leftside_frequency=106, rightside_frequency=66),\n",
       " '룡': Scores(cohesion_forward=0, cohesion_backward=0, left_branching_entropy=0.9870594928218845, right_branching_entropy=2.009468883404426, left_accessor_variety=5, right_accessor_variety=27, leftside_frequency=0, rightside_frequency=287),\n",
       " '혁': Scores(cohesion_forward=0, cohesion_backward=0, left_branching_entropy=3.487886826800146, right_branching_entropy=2.7793676454436262, left_accessor_variety=98, right_accessor_variety=84, leftside_frequency=789, rightside_frequency=1185),\n",
       " '즈': Scores(cohesion_forward=0, cohesion_backward=0, left_branching_entropy=2.518143473903427, right_branching_entropy=4.659544941204968, left_accessor_variety=38, right_accessor_variety=197, leftside_frequency=50, rightside_frequency=2177),\n",
       " '혐': Scores(cohesion_forward=0, cohesion_backward=0, left_branching_entropy=3.300291631589809, right_branching_entropy=0.20433140910179845, left_accessor_variety=87, right_accessor_variety=5, leftside_frequency=2451, rightside_frequency=23),\n",
       " '꺾': Scores(cohesion_forward=0, cohesion_backward=0, left_branching_entropy=1.6607233897975113, right_branching_entropy=2.1390992158181845, left_accessor_variety=7, right_accessor_variety=9, leftside_frequency=102, rightside_frequency=0),\n",
       " '됨': Scores(cohesion_forward=0, cohesion_backward=0, left_branching_entropy=0.9293278083950873, right_branching_entropy=1.0449565210660352, left_accessor_variety=4, right_accessor_variety=5, leftside_frequency=18, rightside_frequency=44),\n",
       " '잔': Scores(cohesion_forward=0, cohesion_backward=0, left_branching_entropy=3.795204967722497, right_branching_entropy=2.9999642430529776, left_accessor_variety=82, right_accessor_variety=35, leftside_frequency=701, rightside_frequency=45),\n",
       " '빕': Scores(cohesion_forward=0, cohesion_backward=0, left_branching_entropy=-0.0, right_branching_entropy=-0.0, left_accessor_variety=1, right_accessor_variety=1, leftside_frequency=12, rightside_frequency=0),\n",
       " '윌': Scores(cohesion_forward=0, cohesion_backward=0, left_branching_entropy=2.6186072480875255, right_branching_entropy=0.8419651586287994, left_accessor_variety=15, right_accessor_variety=5, leftside_frequency=73, rightside_frequency=5),\n",
       " '휩': Scores(cohesion_forward=0, cohesion_backward=0, left_branching_entropy=0.871819654980601, right_branching_entropy=0.717888022498077, left_accessor_variety=6, right_accessor_variety=3, leftside_frequency=242, rightside_frequency=0),\n",
       " '궁': Scores(cohesion_forward=0, cohesion_backward=0, left_branching_entropy=3.276724873632513, right_branching_entropy=1.9209247908672102, left_accessor_variety=59, right_accessor_variety=46, leftside_frequency=834, rightside_frequency=180),\n",
       " '술': Scores(cohesion_forward=0, cohesion_backward=0, left_branching_entropy=3.150513225235743, right_branching_entropy=4.625794171791169, left_accessor_variety=74, right_accessor_variety=195, leftside_frequency=641, rightside_frequency=2008),\n",
       " '딴': Scores(cohesion_forward=0, cohesion_backward=0, left_branching_entropy=1.658200177632816, right_branching_entropy=2.3395679024037714, left_accessor_variety=9, right_accessor_variety=13, leftside_frequency=9, rightside_frequency=10),\n",
       " '립': Scores(cohesion_forward=0, cohesion_backward=0, left_branching_entropy=2.618066827442446, right_branching_entropy=4.217464208042034, left_accessor_variety=20, right_accessor_variety=123, leftside_frequency=56, rightside_frequency=1289),\n",
       " '싱': Scores(cohesion_forward=0, cohesion_backward=0, left_branching_entropy=3.6328350766654434, right_branching_entropy=2.0358035281485383, left_accessor_variety=79, right_accessor_variety=37, leftside_frequency=927, rightside_frequency=225),\n",
       " '슈': Scores(cohesion_forward=0, cohesion_backward=0, left_branching_entropy=3.828425791781268, right_branching_entropy=2.221664761942699, left_accessor_variety=79, right_accessor_variety=48, leftside_frequency=678, rightside_frequency=171),\n",
       " '앱': Scores(cohesion_forward=0, cohesion_backward=0, left_branching_entropy=3.4646614694325746, right_branching_entropy=3.3081583893937894, left_accessor_variety=73, right_accessor_variety=62, leftside_frequency=491, rightside_frequency=161),\n",
       " '옵': Scores(cohesion_forward=0, cohesion_backward=0, left_branching_entropy=2.7108749141209882, right_branching_entropy=0.5402672913429375, left_accessor_variety=20, right_accessor_variety=3, leftside_frequency=127, rightside_frequency=0),\n",
       " '홍': Scores(cohesion_forward=0, cohesion_backward=0, left_branching_entropy=4.171638368631723, right_branching_entropy=3.3037358346232226, left_accessor_variety=225, right_accessor_variety=110, leftside_frequency=4155, rightside_frequency=1076),\n",
       " '앵': Scores(cohesion_forward=0, cohesion_backward=0, left_branching_entropy=2.2431335090539752, right_branching_entropy=0.2498551017564145, left_accessor_variety=57, right_accessor_variety=5, leftside_frequency=1328, rightside_frequency=0),\n",
       " '젤': Scores(cohesion_forward=0, cohesion_backward=0, left_branching_entropy=2.321386255082378, right_branching_entropy=2.6751176259322462, left_accessor_variety=13, right_accessor_variety=21, leftside_frequency=59, rightside_frequency=126),\n",
       " '딕': Scores(cohesion_forward=0, cohesion_backward=0, left_branching_entropy=-0.0, right_branching_entropy=-0.0, left_accessor_variety=1, right_accessor_variety=1, leftside_frequency=0, rightside_frequency=11),\n",
       " '푹': Scores(cohesion_forward=0, cohesion_backward=0, left_branching_entropy=1.200744562250008, right_branching_entropy=1.1707800365125565, left_accessor_variety=5, right_accessor_variety=5, leftside_frequency=7, rightside_frequency=15),\n",
       " '쪼': Scores(cohesion_forward=0, cohesion_backward=0, left_branching_entropy=1.8651649104676509, right_branching_entropy=1.1128917986949127, left_accessor_variety=9, right_accessor_variety=4, leftside_frequency=53, rightside_frequency=0),\n",
       " '틸': Scores(cohesion_forward=0, cohesion_backward=0, left_branching_entropy=1.6687033327550642, right_branching_entropy=2.465090080514692, left_accessor_variety=6, right_accessor_variety=18, leftside_frequency=24, rightside_frequency=135),\n",
       " '팝': Scores(cohesion_forward=0, cohesion_backward=0, left_branching_entropy=3.600148558448552, right_branching_entropy=2.8322677099786318, left_accessor_variety=52, right_accessor_variety=27, leftside_frequency=218, rightside_frequency=53),\n",
       " '땔': Scores(cohesion_forward=0, cohesion_backward=0, left_branching_entropy=0.6931471805599453, right_branching_entropy=0.5004024235381879, left_accessor_variety=2, right_accessor_variety=2, leftside_frequency=8, rightside_frequency=0),\n",
       " '꿔': Scores(cohesion_forward=0, cohesion_backward=0, left_branching_entropy=1.0986122886681096, right_branching_entropy=2.5825770800649095, left_accessor_variety=3, right_accessor_variety=14, leftside_frequency=6, rightside_frequency=72),\n",
       " '쉼': Scores(cohesion_forward=0, cohesion_backward=0, left_branching_entropy=2.017807238354768, right_branching_entropy=0.8533473664281028, left_accessor_variety=8, right_accessor_variety=3, leftside_frequency=40, rightside_frequency=0),\n",
       " '슘': Scores(cohesion_forward=0, cohesion_backward=0, left_branching_entropy=0, right_branching_entropy=1.913177293211589, left_accessor_variety=0, right_accessor_variety=8, leftside_frequency=0, rightside_frequency=36),\n",
       " '객': Scores(cohesion_forward=0, cohesion_backward=0, left_branching_entropy=3.192386862434418, right_branching_entropy=3.9734113893346428, left_accessor_variety=61, right_accessor_variety=114, leftside_frequency=385, rightside_frequency=1097),\n",
       " '읊': Scores(cohesion_forward=0, cohesion_backward=0, left_branching_entropy=1.612343738151216, right_branching_entropy=0.4253282933732617, left_accessor_variety=7, right_accessor_variety=2, leftside_frequency=40, rightside_frequency=0),\n",
       " '덮': Scores(cohesion_forward=0, cohesion_backward=0, left_branching_entropy=2.443454967086346, right_branching_entropy=2.580548195574793, left_accessor_variety=24, right_accessor_variety=16, leftside_frequency=235, rightside_frequency=0),\n",
       " '겠': Scores(cohesion_forward=0, cohesion_backward=0, left_branching_entropy=-0.0, right_branching_entropy=0, left_accessor_variety=1, right_accessor_variety=0, leftside_frequency=10, rightside_frequency=0),\n",
       " '줬': Scores(cohesion_forward=0, cohesion_backward=0, left_branching_entropy=1.485976623762424, right_branching_entropy=0.49508142160019913, left_accessor_variety=12, right_accessor_variety=5, leftside_frequency=233, rightside_frequency=0),\n",
       " '됩': Scores(cohesion_forward=0, cohesion_backward=0, left_branching_entropy=1.94036312973396, right_branching_entropy=-0.0, left_accessor_variety=9, right_accessor_variety=1, leftside_frequency=264, rightside_frequency=0),\n",
       " '향': Scores(cohesion_forward=0, cohesion_backward=0, left_branching_entropy=3.472155886111299, right_branching_entropy=3.106825921100544, left_accessor_variety=117, right_accessor_variety=137, leftside_frequency=3124, rightside_frequency=1066),\n",
       " '남': Scores(cohesion_forward=0, cohesion_backward=0, left_branching_entropy=4.155248493569812, right_branching_entropy=4.0642231355607095, left_accessor_variety=304, right_accessor_variety=277, leftside_frequency=11550, rightside_frequency=3405),\n",
       " '찻': Scores(cohesion_forward=0, cohesion_backward=0, left_branching_entropy=1.1926405762243972, right_branching_entropy=0.605797499372304, left_accessor_variety=5, right_accessor_variety=2, leftside_frequency=23, rightside_frequency=0),\n",
       " '버': Scores(cohesion_forward=0, cohesion_backward=0, left_branching_entropy=3.642721432565834, right_branching_entropy=4.37862915204453, left_accessor_variety=170, right_accessor_variety=209, leftside_frequency=2215, rightside_frequency=1973),\n",
       " '로': Scores(cohesion_forward=0, cohesion_backward=0, left_branching_entropy=3.0579829532236324, right_branching_entropy=5.515706954529061, left_accessor_variety=555, right_accessor_variety=894, leftside_frequency=4025, rightside_frequency=115740),\n",
       " '궤': Scores(cohesion_forward=0, cohesion_backward=0, left_branching_entropy=2.654684208526636, right_branching_entropy=0.8123505873951785, left_accessor_variety=19, right_accessor_variety=5, leftside_frequency=122, rightside_frequency=0),\n",
       " '댄': Scores(cohesion_forward=0, cohesion_backward=0, left_branching_entropy=3.4564209860514516, right_branching_entropy=1.428771500707809, left_accessor_variety=41, right_accessor_variety=11, leftside_frequency=247, rightside_frequency=54),\n",
       " '넌': Scores(cohesion_forward=0, cohesion_backward=0, left_branching_entropy=2.3287129980646664, right_branching_entropy=1.5861207497697163, left_accessor_variety=15, right_accessor_variety=12, leftside_frequency=12, rightside_frequency=12),\n",
       " 'ㅠ': Scores(cohesion_forward=0, cohesion_backward=0, left_branching_entropy=-0.0, right_branching_entropy=1.0986122886681096, left_accessor_variety=1, right_accessor_variety=3, leftside_frequency=0, rightside_frequency=10),\n",
       " 'ㅋ': Scores(cohesion_forward=0, cohesion_backward=0, left_branching_entropy=-0.0, right_branching_entropy=0.6890092384766586, left_accessor_variety=1, right_accessor_variety=2, leftside_frequency=5, rightside_frequency=13),\n",
       " '휼': Scores(cohesion_forward=0, cohesion_backward=0, left_branching_entropy=0, right_branching_entropy=-0.0, left_accessor_variety=0, right_accessor_variety=1, leftside_frequency=0, rightside_frequency=7),\n",
       " '존': Scores(cohesion_forward=0, cohesion_backward=0, left_branching_entropy=3.7270061501821155, right_branching_entropy=4.05200210391963, left_accessor_variety=107, right_accessor_variety=219, leftside_frequency=1429, rightside_frequency=1893),\n",
       " '야': Scores(cohesion_forward=0, cohesion_backward=0, left_branching_entropy=3.62391729154009, right_branching_entropy=3.3381941244742546, left_accessor_variety=236, right_accessor_variety=311, leftside_frequency=2994, rightside_frequency=11039),\n",
       " '냄': Scores(cohesion_forward=0, cohesion_backward=0, left_branching_entropy=2.45182337711385, right_branching_entropy=1.0853759999071764, left_accessor_variety=14, right_accessor_variety=4, leftside_frequency=86, rightside_frequency=34),\n",
       " '잎': Scores(cohesion_forward=0, cohesion_backward=0, left_branching_entropy=1.7369859994643584, right_branching_entropy=1.432130700870712, left_accessor_variety=11, right_accessor_variety=8, leftside_frequency=38, rightside_frequency=79),\n",
       " '매': Scores(cohesion_forward=0, cohesion_backward=0, left_branching_entropy=4.4865725798346485, right_branching_entropy=3.7141719829580855, left_accessor_variety=346, right_accessor_variety=253, leftside_frequency=12953, rightside_frequency=2388),\n",
       " '탔': Scores(cohesion_forward=0, cohesion_backward=0, left_branching_entropy=0.8144496646195546, right_branching_entropy=0.44004365688022673, left_accessor_variety=5, right_accessor_variety=3, leftside_frequency=99, rightside_frequency=0),\n",
       " '잘': Scores(cohesion_forward=0, cohesion_backward=0, left_branching_entropy=3.673467874442142, right_branching_entropy=4.073500568058653, left_accessor_variety=137, right_accessor_variety=171, leftside_frequency=1280, rightside_frequency=11),\n",
       " '오': Scores(cohesion_forward=0, cohesion_backward=0, left_branching_entropy=3.7083224124461798, right_branching_entropy=3.457229068014071, left_accessor_variety=428, right_accessor_variety=358, leftside_frequency=32830, rightside_frequency=2382),\n",
       " '딥': Scores(cohesion_forward=0, cohesion_backward=0, left_branching_entropy=1.5808185358593017, right_branching_entropy=1.182323923910242, left_accessor_variety=5, right_accessor_variety=4, leftside_frequency=21, rightside_frequency=0),\n",
       " '씁': Scores(cohesion_forward=0, cohesion_backward=0, left_branching_entropy=2.309132501841918, right_branching_entropy=0.5106886688599794, left_accessor_variety=12, right_accessor_variety=2, leftside_frequency=53, rightside_frequency=0),\n",
       " '빗': Scores(cohesion_forward=0, cohesion_backward=0, left_branching_entropy=2.8927473158664405, right_branching_entropy=2.091385581583413, left_accessor_variety=26, right_accessor_variety=12, leftside_frequency=143, rightside_frequency=30),\n",
       " '딘': Scores(cohesion_forward=0, cohesion_backward=0, left_branching_entropy=1.8779719077827193, right_branching_entropy=2.5051518333952543, left_accessor_variety=8, right_accessor_variety=15, leftside_frequency=23, rightside_frequency=61),\n",
       " 'ㅎ': Scores(cohesion_forward=0, cohesion_backward=0, left_branching_entropy=0, right_branching_entropy=0, left_accessor_variety=0, right_accessor_variety=0, leftside_frequency=0, rightside_frequency=6),\n",
       " '꽃': Scores(cohesion_forward=0, cohesion_backward=0, left_branching_entropy=3.3968547365401576, right_branching_entropy=3.252984018167941, left_accessor_variety=64, right_accessor_variety=50, leftside_frequency=584, rightside_frequency=88),\n",
       " '폰': Scores(cohesion_forward=0, cohesion_backward=0, left_branching_entropy=1.9479873727765824, right_branching_entropy=4.215520784815735, left_accessor_variety=26, right_accessor_variety=114, leftside_frequency=57, rightside_frequency=1094),\n",
       " '쑥': Scores(cohesion_forward=0, cohesion_backward=0, left_branching_entropy=1.9273921261392744, right_branching_entropy=1.557123096889186, left_accessor_variety=7, right_accessor_variety=6, leftside_frequency=29, rightside_frequency=20),\n",
       " '빈': Scores(cohesion_forward=0, cohesion_backward=0, left_branching_entropy=3.525040950971352, right_branching_entropy=3.362919620888704, left_accessor_variety=94, right_accessor_variety=96, leftside_frequency=909, rightside_frequency=459),\n",
       " '뜨': Scores(cohesion_forward=0, cohesion_backward=0, left_branching_entropy=3.314304078458888, right_branching_entropy=1.3615423722309197, left_accessor_variety=51, right_accessor_variety=11, leftside_frequency=736, rightside_frequency=7),\n",
       " '꽤': Scores(cohesion_forward=0, cohesion_backward=0, left_branching_entropy=2.1046387570676695, right_branching_entropy=2.25937353483508, left_accessor_variety=13, right_accessor_variety=15, leftside_frequency=11, rightside_frequency=0),\n",
       " '욕': Scores(cohesion_forward=0, cohesion_backward=0, left_branching_entropy=3.612249341536986, right_branching_entropy=3.4280040645681025, left_accessor_variety=60, right_accessor_variety=73, leftside_frequency=480, rightside_frequency=437),\n",
       " '쇼': Scores(cohesion_forward=0, cohesion_backward=0, left_branching_entropy=3.9055925913697656, right_branching_entropy=2.7148749936763035, left_accessor_variety=138, right_accessor_variety=90, leftside_frequency=1852, rightside_frequency=890),\n",
       " '겟': Scores(cohesion_forward=0, cohesion_backward=0, left_branching_entropy=-0.0, right_branching_entropy=-0.0, left_accessor_variety=1, right_accessor_variety=1, leftside_frequency=8, rightside_frequency=0),\n",
       " '런': Scores(cohesion_forward=0, cohesion_backward=0, left_branching_entropy=3.1496944688954365, right_branching_entropy=4.814650008606062, left_accessor_variety=58, right_accessor_variety=281, leftside_frequency=439, rightside_frequency=4620),\n",
       " '뮐': Scores(cohesion_forward=0, cohesion_backward=0, left_branching_entropy=1.0986122886681096, right_branching_entropy=-0.0, left_accessor_variety=3, right_accessor_variety=1, leftside_frequency=7, rightside_frequency=0),\n",
       " '쿄': Scores(cohesion_forward=0, cohesion_backward=0, left_branching_entropy=0, right_branching_entropy=2.763769724814837, left_accessor_variety=0, right_accessor_variety=23, leftside_frequency=0, rightside_frequency=180),\n",
       " '쬐': Scores(cohesion_forward=0, cohesion_backward=0, left_branching_entropy=1.8475344105647664, right_branching_entropy=0.410116318288409, left_accessor_variety=7, right_accessor_variety=2, leftside_frequency=30, rightside_frequency=0),\n",
       " '캘': Scores(cohesion_forward=0, cohesion_backward=0, left_branching_entropy=2.4697331685012913, right_branching_entropy=0.7222663142246859, left_accessor_variety=21, right_accessor_variety=3, leftside_frequency=144, rightside_frequency=0),\n",
       " '걀': Scores(cohesion_forward=0, cohesion_backward=0, left_branching_entropy=0, right_branching_entropy=0.6931471805599453, left_accessor_variety=0, right_accessor_variety=2, leftside_frequency=0, rightside_frequency=12),\n",
       " '춰': Scores(cohesion_forward=0, cohesion_backward=0, left_branching_entropy=0.7595473914748635, right_branching_entropy=4.434179333105161, left_accessor_variety=3, right_accessor_variety=115, leftside_frequency=0, rightside_frequency=679),\n",
       " '뽐': Scores(cohesion_forward=0, cohesion_backward=0, left_branching_entropy=1.0114881455477427, right_branching_entropy=1.0965736964669357, left_accessor_variety=8, right_accessor_variety=4, leftside_frequency=415, rightside_frequency=0),\n",
       " '울': Scores(cohesion_forward=0, cohesion_backward=0, left_branching_entropy=3.9396578834647364, right_branching_entropy=3.6577240273391696, left_accessor_variety=162, right_accessor_variety=236, leftside_frequency=2117, rightside_frequency=17584),\n",
       " '졌': Scores(cohesion_forward=0, cohesion_backward=0, left_branching_entropy=1.6339410018277607, right_branching_entropy=1.2524321077769451, left_accessor_variety=6, right_accessor_variety=4, leftside_frequency=48, rightside_frequency=0),\n",
       " '뗐': Scores(cohesion_forward=0, cohesion_backward=0, left_branching_entropy=-0.0, right_branching_entropy=-0.0, left_accessor_variety=1, right_accessor_variety=1, leftside_frequency=62, rightside_frequency=0),\n",
       " '줌': Scores(cohesion_forward=0, cohesion_backward=0, left_branching_entropy=1.9080368345090655, right_branching_entropy=1.0296530140645737, left_accessor_variety=7, right_accessor_variety=3, leftside_frequency=20, rightside_frequency=8),\n",
       " '씽': Scores(cohesion_forward=0, cohesion_backward=0, left_branching_entropy=1.2563299681655054, right_branching_entropy=0.3350396185203728, left_accessor_variety=7, right_accessor_variety=3, leftside_frequency=201, rightside_frequency=24),\n",
       " '항': Scores(cohesion_forward=0, cohesion_backward=0, left_branching_entropy=4.424213661891955, right_branching_entropy=3.454421592213807, left_accessor_variety=196, right_accessor_variety=164, leftside_frequency=2987, rightside_frequency=1213),\n",
       " '꼬': Scores(cohesion_forward=0, cohesion_backward=0, left_branching_entropy=1.8439740133563158, right_branching_entropy=1.6370767810392495, left_accessor_variety=32, right_accessor_variety=15, leftside_frequency=819, rightside_frequency=81),\n",
       " '밋': Scores(cohesion_forward=0, cohesion_backward=0, left_branching_entropy=1.0608569471580214, right_branching_entropy=1.5473824076063531, left_accessor_variety=3, right_accessor_variety=7, leftside_frequency=15, rightside_frequency=32),\n",
       " '넋': Scores(cohesion_forward=0, cohesion_backward=0, left_branching_entropy=-0.0, right_branching_entropy=-0.0, left_accessor_variety=1, right_accessor_variety=1, leftside_frequency=10, rightside_frequency=0),\n",
       " '다': Scores(cohesion_forward=0, cohesion_backward=0, left_branching_entropy=3.53599736942039, right_branching_entropy=5.082272387471424, left_accessor_variety=595, right_accessor_variety=1051, leftside_frequency=22828, rightside_frequency=289209),\n",
       " '철': Scores(cohesion_forward=0, cohesion_backward=0, left_branching_entropy=4.445186936260098, right_branching_entropy=3.709056725120085, left_accessor_variety=220, right_accessor_variety=181, leftside_frequency=2529, rightside_frequency=1962),\n",
       " '쫴': Scores(cohesion_forward=0, cohesion_backward=0, left_branching_entropy=-0.0, right_branching_entropy=-0.0, left_accessor_variety=1, right_accessor_variety=1, leftside_frequency=7, rightside_frequency=0),\n",
       " '랑': Scores(cohesion_forward=0, cohesion_backward=0, left_branching_entropy=2.405323529874346, right_branching_entropy=4.530181791171692, left_accessor_variety=26, right_accessor_variety=153, leftside_frequency=21, rightside_frequency=1238),\n",
       " '놔': Scores(cohesion_forward=0, cohesion_backward=0, left_branching_entropy=2.158038867458229, right_branching_entropy=1.6959596808771844, left_accessor_variety=12, right_accessor_variety=8, leftside_frequency=56, rightside_frequency=39),\n",
       " '싸': Scores(cohesion_forward=0, cohesion_backward=0, left_branching_entropy=3.4970971094074774, right_branching_entropy=2.555390782097399, left_accessor_variety=55, right_accessor_variety=23, leftside_frequency=553, rightside_frequency=18),\n",
       " '웡': Scores(cohesion_forward=0, cohesion_backward=0, left_branching_entropy=1.2914167691452025, right_branching_entropy=1.0281838593329258, left_accessor_variety=4, right_accessor_variety=3, leftside_frequency=12, rightside_frequency=0),\n",
       " '럼': Scores(cohesion_forward=0, cohesion_backward=0, left_branching_entropy=0.30944296415558703, right_branching_entropy=5.047381122351108, left_accessor_variety=6, right_accessor_variety=321, leftside_frequency=0, rightside_frequency=3565),\n",
       " '냐': Scores(cohesion_forward=0, cohesion_backward=0, left_branching_entropy=1.9605912388263411, right_branching_entropy=2.9649761882989183, left_accessor_variety=23, right_accessor_variety=106, leftside_frequency=5, rightside_frequency=1939),\n",
       " '앓': Scores(cohesion_forward=0, cohesion_backward=0, left_branching_entropy=0.8467566743298073, right_branching_entropy=1.330375376713307, left_accessor_variety=7, right_accessor_variety=6, leftside_frequency=213, rightside_frequency=0),\n",
       " '쿡': Scores(cohesion_forward=0, cohesion_backward=0, left_branching_entropy=1.8358438772796093, right_branching_entropy=1.6905436834694256, left_accessor_variety=7, right_accessor_variety=7, leftside_frequency=18, rightside_frequency=19),\n",
       " '깥': Scores(cohesion_forward=0, cohesion_backward=0, left_branching_entropy=0, right_branching_entropy=1.0789922078775833, left_accessor_variety=0, right_accessor_variety=3, leftside_frequency=0, rightside_frequency=14),\n",
       " '균': Scores(cohesion_forward=0, cohesion_backward=0, left_branching_entropy=2.9874279953526406, right_branching_entropy=4.062386439965943, left_accessor_variety=59, right_accessor_variety=123, leftside_frequency=289, rightside_frequency=1655),\n",
       " '씹': Scores(cohesion_forward=0, cohesion_backward=0, left_branching_entropy=1.9257904650586823, right_branching_entropy=1.7728598089508285, left_accessor_variety=8, right_accessor_variety=6, leftside_frequency=45, rightside_frequency=0),\n",
       " '특': Scores(cohesion_forward=0, cohesion_backward=0, left_branching_entropy=3.9369359113731615, right_branching_entropy=2.47944373478045, left_accessor_variety=298, right_accessor_variety=43, leftside_frequency=11835, rightside_frequency=0),\n",
       " '없': Scores(cohesion_forward=0, cohesion_backward=0, left_branching_entropy=3.0169283111030785, right_branching_entropy=2.224668324512431, left_accessor_variety=221, right_accessor_variety=33, leftside_frequency=13357, rightside_frequency=0),\n",
       " '벚': Scores(cohesion_forward=0, cohesion_backward=0, left_branching_entropy=-0.0, right_branching_entropy=-0.0, left_accessor_variety=1, right_accessor_variety=1, leftside_frequency=7, rightside_frequency=0),\n",
       " '방': Scores(cohesion_forward=0, cohesion_backward=0, left_branching_entropy=4.4749671236450315, right_branching_entropy=3.15607898653446, left_accessor_variety=407, right_accessor_variety=273, leftside_frequency=20132, rightside_frequency=1750),\n",
       " '땄': Scores(cohesion_forward=0, cohesion_backward=0, left_branching_entropy=0.6365141682948128, right_branching_entropy=0, left_accessor_variety=2, right_accessor_variety=0, leftside_frequency=7, rightside_frequency=0),\n",
       " '봬': Scores(cohesion_forward=0, cohesion_backward=0, left_branching_entropy=0, right_branching_entropy=0.6730116670092565, left_accessor_variety=0, right_accessor_variety=2, leftside_frequency=0, rightside_frequency=15),\n",
       " '채': Scores(cohesion_forward=0, cohesion_backward=0, left_branching_entropy=4.427239470157001, right_branching_entropy=3.997939252514245, left_accessor_variety=235, right_accessor_variety=225, leftside_frequency=3346, rightside_frequency=1034),\n",
       " '룹': Scores(cohesion_forward=0, cohesion_backward=0, left_branching_entropy=-0.0, right_branching_entropy=4.100104526952683, left_accessor_variety=1, right_accessor_variety=158, leftside_frequency=0, rightside_frequency=2924),\n",
       " '람': Scores(cohesion_forward=0, cohesion_backward=0, left_branching_entropy=1.93679343875455, right_branching_entropy=4.303001561943123, left_accessor_variety=11, right_accessor_variety=135, leftside_frequency=24, rightside_frequency=1113),\n",
       " '법': Scores(cohesion_forward=0, cohesion_backward=0, left_branching_entropy=4.462347395000692, right_branching_entropy=4.052699810340646, left_accessor_variety=244, right_accessor_variety=213, leftside_frequency=3904, rightside_frequency=3747),\n",
       " '즐': Scores(cohesion_forward=0, cohesion_backward=0, left_branching_entropy=2.9392693565381407, right_branching_entropy=1.6448028197061222, left_accessor_variety=67, right_accessor_variety=11, leftside_frequency=2269, rightside_frequency=18),\n",
       " '츠': Scores(cohesion_forward=0, cohesion_backward=0, left_branching_entropy=0.8667697137704343, right_branching_entropy=3.679030434386326, left_accessor_variety=15, right_accessor_variety=150, leftside_frequency=0, rightside_frequency=3208),\n",
       " '닌': Scores(cohesion_forward=0, cohesion_backward=0, left_branching_entropy=2.0212655645353332, right_branching_entropy=4.771818099209322, left_accessor_variety=11, right_accessor_variety=196, leftside_frequency=43, rightside_frequency=1561),\n",
       " '챗': Scores(cohesion_forward=0, cohesion_backward=0, left_branching_entropy=1.4934105992200841, right_branching_entropy=1.4845345141243658, left_accessor_variety=5, right_accessor_variety=7, leftside_frequency=21, rightside_frequency=24),\n",
       " '친': Scores(cohesion_forward=0, cohesion_backward=0, left_branching_entropy=3.804671801678171, right_branching_entropy=3.6998604126339107, left_accessor_variety=165, right_accessor_variety=213, leftside_frequency=3494, rightside_frequency=1658),\n",
       " '흉': Scores(cohesion_forward=0, cohesion_backward=0, left_branching_entropy=3.3772727946346475, right_branching_entropy=1.3235545650479092, left_accessor_variety=41, right_accessor_variety=9, leftside_frequency=370, rightside_frequency=0),\n",
       " '독': Scores(cohesion_forward=0, cohesion_backward=0, left_branching_entropy=3.3578889159151903, right_branching_entropy=3.2218152855105777, left_accessor_variety=174, right_accessor_variety=186, leftside_frequency=5641, rightside_frequency=2126),\n",
       " '잃': Scores(cohesion_forward=0, cohesion_backward=0, left_branching_entropy=1.3177496153943487, right_branching_entropy=1.9125149613694354, left_accessor_variety=28, right_accessor_variety=9, leftside_frequency=728, rightside_frequency=0),\n",
       " '숭': Scores(cohesion_forward=0, cohesion_backward=0, left_branching_entropy=2.094357195990088, right_branching_entropy=1.2980509016891126, left_accessor_variety=9, right_accessor_variety=4, leftside_frequency=45, rightside_frequency=0),\n",
       " '빅': Scores(cohesion_forward=0, cohesion_backward=0, left_branching_entropy=3.7814146820315093, right_branching_entropy=2.1698398480954295, left_accessor_variety=74, right_accessor_variety=20, leftside_frequency=606, rightside_frequency=31),\n",
       " '쏘': Scores(cohesion_forward=0, cohesion_backward=0, left_branching_entropy=2.5302159509464786, right_branching_entropy=2.15173719269211, left_accessor_variety=32, right_accessor_variety=12, leftside_frequency=379, rightside_frequency=8),\n",
       " '엉': Scores(cohesion_forward=0, cohesion_backward=0, left_branching_entropy=2.949272447852699, right_branching_entropy=1.447522255467986, left_accessor_variety=26, right_accessor_variety=7, leftside_frequency=200, rightside_frequency=28),\n",
       " '렁': Scores(cohesion_forward=0, cohesion_backward=0, left_branching_entropy=0, right_branching_entropy=0, left_accessor_variety=0, right_accessor_variety=0, leftside_frequency=0, rightside_frequency=15),\n",
       " '팎': Scores(cohesion_forward=0, cohesion_backward=0, left_branching_entropy=0, right_branching_entropy=1.0789922078775833, left_accessor_variety=0, right_accessor_variety=3, leftside_frequency=0, rightside_frequency=17),\n",
       " '젊': Scores(cohesion_forward=0, cohesion_backward=0, left_branching_entropy=3.4517137572459102, right_branching_entropy=0.41876687482363356, left_accessor_variety=61, right_accessor_variety=5, leftside_frequency=660, rightside_frequency=0),\n",
       " '있': Scores(cohesion_forward=0, cohesion_backward=0, left_branching_entropy=1.8610564168601147, right_branching_entropy=1.7426156617276558, left_accessor_variety=170, right_accessor_variety=31, leftside_frequency=82215, rightside_frequency=0),\n",
       " '즉': Scores(cohesion_forward=0, cohesion_backward=0, left_branching_entropy=3.513257750869082, right_branching_entropy=2.511117272403658, left_accessor_variety=74, right_accessor_variety=61, leftside_frequency=524, rightside_frequency=0),\n",
       " '뜸': Scores(cohesion_forward=0, cohesion_backward=0, left_branching_entropy=1.3321790402101223, right_branching_entropy=0.5982695885852573, left_accessor_variety=4, right_accessor_variety=2, leftside_frequency=14, rightside_frequency=11),\n",
       " '처': Scores(cohesion_forward=0, cohesion_backward=0, left_branching_entropy=4.19856947611831, right_branching_entropy=3.250809242819554, left_accessor_variety=217, right_accessor_variety=212, leftside_frequency=5122, rightside_frequency=1994),\n",
       " '쿼': Scores(cohesion_forward=0, cohesion_backward=0, left_branching_entropy=2.042316124449607, right_branching_entropy=1.0283941667143721, left_accessor_variety=8, right_accessor_variety=3, leftside_frequency=36, rightside_frequency=0),\n",
       " '췄': Scores(cohesion_forward=0, cohesion_backward=0, left_branching_entropy=1.3545810752131697, right_branching_entropy=-0.0, left_accessor_variety=4, right_accessor_variety=1, leftside_frequency=20, rightside_frequency=0),\n",
       " '워': Scores(cohesion_forward=0, cohesion_backward=0, left_branching_entropy=3.8430135797748304, right_branching_entropy=3.7384690207186537, left_accessor_variety=121, right_accessor_variety=171, leftside_frequency=1338, rightside_frequency=1157),\n",
       " '쭈': Scores(cohesion_forward=0, cohesion_backward=0, left_branching_entropy=-0.0, right_branching_entropy=-0.0, left_accessor_variety=1, right_accessor_variety=1, leftside_frequency=11, rightside_frequency=0),\n",
       " '잊': Scores(cohesion_forward=0, cohesion_backward=0, left_branching_entropy=2.6890438042466114, right_branching_entropy=1.545465661337347, left_accessor_variety=25, right_accessor_variety=7, leftside_frequency=234, rightside_frequency=0),\n",
       " '째': Scores(cohesion_forward=0, cohesion_backward=0, left_branching_entropy=1.6497349798420191, right_branching_entropy=4.665645250676689, left_accessor_variety=21, right_accessor_variety=216, leftside_frequency=14, rightside_frequency=2227),\n",
       " '뺨': Scores(cohesion_forward=0, cohesion_backward=0, left_branching_entropy=1.304153876046687, right_branching_entropy=1.46508439655568, left_accessor_variety=5, right_accessor_variety=5, leftside_frequency=29, rightside_frequency=0),\n",
       " 'ㄷ': Scores(cohesion_forward=0, cohesion_backward=0, left_branching_entropy=0.6365141682948128, right_branching_entropy=0.5982695885852573, left_accessor_variety=2, right_accessor_variety=2, leftside_frequency=13, rightside_frequency=0),\n",
       " '쉰': Scores(cohesion_forward=0, cohesion_backward=0, left_branching_entropy=0.6931471805599453, right_branching_entropy=-0.0, left_accessor_variety=2, right_accessor_variety=1, leftside_frequency=5, rightside_frequency=0),\n",
       " '찔': Scores(cohesion_forward=0, cohesion_backward=0, left_branching_entropy=1.8020848516589267, right_branching_entropy=1.1293707237456698, left_accessor_variety=8, right_accessor_variety=5, leftside_frequency=81, rightside_frequency=5),\n",
       " '새': Scores(cohesion_forward=0, cohesion_backward=0, left_branching_entropy=4.1303938232520245, right_branching_entropy=2.7785160449608646, left_accessor_variety=239, right_accessor_variety=191, leftside_frequency=6992, rightside_frequency=338),\n",
       " '슴': Scores(cohesion_forward=0, cohesion_backward=0, left_branching_entropy=0.6365141682948128, right_branching_entropy=2.6173540473611863, left_accessor_variety=2, right_accessor_variety=20, leftside_frequency=11, rightside_frequency=132),\n",
       " '둠': Scores(cohesion_forward=0, cohesion_backward=0, left_branching_entropy=0, right_branching_entropy=0.47413931305783735, left_accessor_variety=0, right_accessor_variety=2, leftside_frequency=0, rightside_frequency=12),\n",
       " '릉': Scores(cohesion_forward=0, cohesion_backward=0, left_branching_entropy=0, right_branching_entropy=2.895623320067536, left_accessor_variety=0, right_accessor_variety=26, leftside_frequency=0, rightside_frequency=144),\n",
       " '따': Scores(cohesion_forward=0, cohesion_backward=0, left_branching_entropy=1.429105679870236, right_branching_entropy=1.6527502754161896, left_accessor_variety=102, right_accessor_variety=43, leftside_frequency=10012, rightside_frequency=29),\n",
       " '돌': Scores(cohesion_forward=0, cohesion_backward=0, left_branching_entropy=3.2961983223010236, right_branching_entropy=2.816208577846163, left_accessor_variety=141, right_accessor_variety=102, leftside_frequency=3728, rightside_frequency=502),\n",
       " '밸': Scores(cohesion_forward=0, cohesion_backward=0, left_branching_entropy=3.11303356977898, right_branching_entropy=1.392194385513057, left_accessor_variety=27, right_accessor_variety=5, leftside_frequency=114, rightside_frequency=0),\n",
       " '떠': Scores(cohesion_forward=0, cohesion_backward=0, left_branching_entropy=2.4039643906903985, right_branching_entropy=2.29116463887135, left_accessor_variety=50, right_accessor_variety=27, leftside_frequency=1686, rightside_frequency=9),\n",
       " '왕': Scores(cohesion_forward=0, cohesion_backward=0, left_branching_entropy=3.3899641072375224, right_branching_entropy=3.5795122624287945, left_accessor_variety=105, right_accessor_variety=109, leftside_frequency=1083, rightside_frequency=1260),\n",
       " '펀': Scores(cohesion_forward=0, cohesion_backward=0, left_branching_entropy=3.657141817045327, right_branching_entropy=0.7277434231334543, left_accessor_variety=74, right_accessor_variety=7, leftside_frequency=656, rightside_frequency=0),\n",
       " '블': Scores(cohesion_forward=0, cohesion_backward=0, left_branching_entropy=4.153791832907275, right_branching_entropy=2.9278641742693474, left_accessor_variety=141, right_accessor_variety=98, leftside_frequency=1869, rightside_frequency=541),\n",
       " '드': Scores(cohesion_forward=0, cohesion_backward=0, left_branching_entropy=4.19509119890045, right_branching_entropy=4.433562882910891, left_accessor_variety=298, right_accessor_variety=413, leftside_frequency=6396, rightside_frequency=10261),\n",
       " '진': Scores(cohesion_forward=0, cohesion_backward=0, left_branching_entropy=4.475788606717417, right_branching_entropy=4.521022605903836, left_accessor_variety=386, right_accessor_variety=560, leftside_frequency=15731, rightside_frequency=22226),\n",
       " '탁': Scores(cohesion_forward=0, cohesion_backward=0, left_branching_entropy=3.3009324014003876, right_branching_entropy=3.3243518873476625, left_accessor_variety=41, right_accessor_variety=67, leftside_frequency=293, rightside_frequency=349),\n",
       " '액': Scores(cohesion_forward=0, cohesion_backward=0, left_branching_entropy=3.481864758059752, right_branching_entropy=3.8819459145992647, left_accessor_variety=86, right_accessor_variety=104, leftside_frequency=549, rightside_frequency=1037),\n",
       " '닿': Scores(cohesion_forward=0, cohesion_backward=0, left_branching_entropy=1.640601034999095, right_branching_entropy=1.4832402108829783, left_accessor_variety=9, right_accessor_variety=5, leftside_frequency=101, rightside_frequency=0),\n",
       " '얄': Scores(cohesion_forward=0, cohesion_backward=0, left_branching_entropy=1.0296530140645737, right_branching_entropy=0.45056120886630463, left_accessor_variety=3, right_accessor_variety=2, leftside_frequency=21, rightside_frequency=10),\n",
       " '성': Scores(cohesion_forward=0, cohesion_backward=0, left_branching_entropy=4.953709232498269, right_branching_entropy=4.621407535347256, left_accessor_variety=487, right_accessor_variety=478, leftside_frequency=15840, rightside_frequency=8246),\n",
       " '쌉': Scores(cohesion_forward=0, cohesion_backward=0, left_branching_entropy=-0.0, right_branching_entropy=-0.0, left_accessor_variety=1, right_accessor_variety=1, leftside_frequency=11, rightside_frequency=0),\n",
       " '모': Scores(cohesion_forward=0, cohesion_backward=0, left_branching_entropy=4.284335943631254, right_branching_entropy=3.586990989284671, left_accessor_variety=423, right_accessor_variety=316, leftside_frequency=23387, rightside_frequency=2975),\n",
       " '푸': Scores(cohesion_forward=0, cohesion_backward=0, left_branching_entropy=3.5896131379535063, right_branching_entropy=2.333409602225386, left_accessor_variety=84, right_accessor_variety=26, leftside_frequency=934, rightside_frequency=45),\n",
       " '튬': Scores(cohesion_forward=0, cohesion_backward=0, left_branching_entropy=-0.0, right_branching_entropy=1.282710651855798, left_accessor_variety=1, right_accessor_variety=4, leftside_frequency=0, rightside_frequency=27),\n",
       " '혀': Scores(cohesion_forward=0, cohesion_backward=0, left_branching_entropy=1.6934449658569768, right_branching_entropy=3.959341704691131, left_accessor_variety=7, right_accessor_variety=113, leftside_frequency=35, rightside_frequency=1061),\n",
       " '허': Scores(cohesion_forward=0, cohesion_backward=0, left_branching_entropy=4.159161893874021, right_branching_entropy=3.514426327632856, left_accessor_variety=166, right_accessor_variety=106, leftside_frequency=2883, rightside_frequency=207),\n",
       " '께': Scores(cohesion_forward=0, cohesion_backward=0, left_branching_entropy=1.8550034304264524, right_branching_entropy=5.187116280323478, left_accessor_variety=18, right_accessor_variety=392, leftside_frequency=0, rightside_frequency=8156),\n",
       " '쌓': Scores(cohesion_forward=0, cohesion_backward=0, left_branching_entropy=2.334021328566409, right_branching_entropy=2.2262673464183713, left_accessor_variety=32, right_accessor_variety=15, leftside_frequency=616, rightside_frequency=0),\n",
       " '돼': Scores(cohesion_forward=0, cohesion_backward=0, left_branching_entropy=4.223507152140958, right_branching_entropy=4.135001523112267, left_accessor_variety=148, right_accessor_variety=279, leftside_frequency=436, rightside_frequency=3383),\n",
       " '둥': Scores(cohesion_forward=0, cohesion_backward=0, left_branching_entropy=2.3561328975478943, right_branching_entropy=1.7814397180031483, left_accessor_variety=13, right_accessor_variety=8, leftside_frequency=58, rightside_frequency=46),\n",
       " '샐': Scores(cohesion_forward=0, cohesion_backward=0, left_branching_entropy=2.390205932223849, right_branching_entropy=0.6903624772966789, left_accessor_variety=12, right_accessor_variety=4, leftside_frequency=49, rightside_frequency=0),\n",
       " '넴': Scores(cohesion_forward=0, cohesion_backward=0, left_branching_entropy=-0.0, right_branching_entropy=-0.0, left_accessor_variety=1, right_accessor_variety=1, leftside_frequency=0, rightside_frequency=8),\n",
       " '논': Scores(cohesion_forward=0, cohesion_backward=0, left_branching_entropy=4.35708926681063, right_branching_entropy=1.5568810180585984, left_accessor_variety=216, right_accessor_variety=28, leftside_frequency=4087, rightside_frequency=78),\n",
       " '입': Scores(cohesion_forward=0, cohesion_backward=0, left_branching_entropy=4.257566152834744, right_branching_entropy=3.8866174777529006, left_accessor_variety=305, right_accessor_variety=226, leftside_frequency=9144, rightside_frequency=1595),\n",
       " '곡': Scores(cohesion_forward=0, cohesion_backward=0, left_branching_entropy=3.47374276223512, right_branching_entropy=4.067436080172978, left_accessor_variety=88, right_accessor_variety=128, leftside_frequency=833, rightside_frequency=1164),\n",
       " '앉': Scores(cohesion_forward=0, cohesion_backward=0, left_branching_entropy=1.9820937268853331, right_branching_entropy=1.7639443943217716, left_accessor_variety=27, right_accessor_variety=12, leftside_frequency=451, rightside_frequency=0),\n",
       " '흠': Scores(cohesion_forward=0, cohesion_backward=0, left_branching_entropy=3.10069319553729, right_branching_entropy=2.192666989532571, left_accessor_variety=31, right_accessor_variety=21, leftside_frequency=121, rightside_frequency=85),\n",
       " '훤': Scores(cohesion_forward=0, cohesion_backward=0, left_branching_entropy=1.2181950724180413, right_branching_entropy=0.6829081047004717, left_accessor_variety=4, right_accessor_variety=2, leftside_frequency=28, rightside_frequency=0),\n",
       " '츰': Scores(cohesion_forward=0, cohesion_backward=0, left_branching_entropy=0, right_branching_entropy=1.491419446850779, left_accessor_variety=0, right_accessor_variety=5, leftside_frequency=0, rightside_frequency=33),\n",
       " '떴': Scores(cohesion_forward=0, cohesion_backward=0, left_branching_entropy=1.5606637380679027, right_branching_entropy=-0.0, left_accessor_variety=5, right_accessor_variety=1, leftside_frequency=46, rightside_frequency=0),\n",
       " '네': Scores(cohesion_forward=0, cohesion_backward=0, left_branching_entropy=4.376043685896764, right_branching_entropy=2.9199209345413286, left_accessor_variety=214, right_accessor_variety=141, leftside_frequency=3341, rightside_frequency=577),\n",
       " '판': Scores(cohesion_forward=0, cohesion_backward=0, left_branching_entropy=3.870914528415746, right_branching_entropy=2.4143142961424586, left_accessor_variety=264, right_accessor_variety=168, leftside_frequency=7593, rightside_frequency=997),\n",
       " '쉐': Scores(cohesion_forward=0, cohesion_backward=0, left_branching_entropy=2.6930573121923467, right_branching_entropy=1.0597955401078993, left_accessor_variety=20, right_accessor_variety=6, leftside_frequency=155, rightside_frequency=6),\n",
       " '뗄': Scores(cohesion_forward=0, cohesion_backward=0, left_branching_entropy=1.0318495120384898, right_branching_entropy=0.45056120886630463, left_accessor_variety=3, right_accessor_variety=2, leftside_frequency=8, rightside_frequency=0),\n",
       " '웜': Scores(cohesion_forward=0, cohesion_backward=0, left_branching_entropy=1.3321790402101223, right_branching_entropy=0.6365141682948128, left_accessor_variety=4, right_accessor_variety=2, leftside_frequency=9, rightside_frequency=0),\n",
       " '줄': Scores(cohesion_forward=0, cohesion_backward=0, left_branching_entropy=3.8376960249734515, right_branching_entropy=3.3672987826935206, left_accessor_variety=158, right_accessor_variety=120, leftside_frequency=2692, rightside_frequency=892),\n",
       " '땀': Scores(cohesion_forward=0, cohesion_backward=0, left_branching_entropy=1.2520822287899038, right_branching_entropy=1.1412270252518713, left_accessor_variety=18, right_accessor_variety=11, leftside_frequency=67, rightside_frequency=17),\n",
       " '쓴': Scores(cohesion_forward=0, cohesion_backward=0, left_branching_entropy=2.663441942725051, right_branching_entropy=3.177140534553703, left_accessor_variety=34, right_accessor_variety=63, leftside_frequency=95, rightside_frequency=44),\n",
       " '듣': Scores(cohesion_forward=0, cohesion_backward=0, left_branching_entropy=2.4289771168342935, right_branching_entropy=1.5537238380955622, left_accessor_variety=44, right_accessor_variety=10, leftside_frequency=748, rightside_frequency=0),\n",
       " '컷': Scores(cohesion_forward=0, cohesion_backward=0, left_branching_entropy=2.5475566653600414, right_branching_entropy=3.28089539461545, left_accessor_variety=22, right_accessor_variety=37, leftside_frequency=105, rightside_frequency=163),\n",
       " '끌': Scores(cohesion_forward=0, cohesion_backward=0, left_branching_entropy=1.5370517912090855, right_branching_entropy=1.6827721132329554, left_accessor_variety=33, right_accessor_variety=21, leftside_frequency=1480, rightside_frequency=62),\n",
       " '초': Scores(cohesion_forward=0, cohesion_backward=0, left_branching_entropy=4.4485984900563675, right_branching_entropy=4.457970500717379, left_accessor_variety=245, right_accessor_variety=284, leftside_frequency=4972, rightside_frequency=1510),\n",
       " '퓸': Scores(cohesion_forward=0, cohesion_backward=0, left_branching_entropy=0, right_branching_entropy=0.9949236325717752, left_accessor_variety=0, right_accessor_variety=3, leftside_frequency=0, rightside_frequency=12),\n",
       " '널': Scores(cohesion_forward=0, cohesion_backward=0, left_branching_entropy=2.2399598248916917, right_branching_entropy=3.7852017482321645, left_accessor_variety=27, right_accessor_variety=129, leftside_frequency=180, rightside_frequency=1789),\n",
       " '쯔': Scores(cohesion_forward=0, cohesion_backward=0, left_branching_entropy=1.956767002102549, right_branching_entropy=0.7671772508522116, left_accessor_variety=10, right_accessor_variety=5, leftside_frequency=83, rightside_frequency=8),\n",
       " '퉈': Scores(cohesion_forward=0, cohesion_backward=0, left_branching_entropy=-0.0, right_branching_entropy=0.9949236325717752, left_accessor_variety=1, right_accessor_variety=3, leftside_frequency=0, rightside_frequency=26),\n",
       " '벡': Scores(cohesion_forward=0, cohesion_backward=0, left_branching_entropy=1.771690670209995, right_branching_entropy=-0.0, left_accessor_variety=9, right_accessor_variety=1, leftside_frequency=57, rightside_frequency=0),\n",
       " '끊': Scores(cohesion_forward=0, cohesion_backward=0, left_branching_entropy=2.408591564657272, right_branching_entropy=2.078254439597235, left_accessor_variety=36, right_accessor_variety=15, leftside_frequency=1049, rightside_frequency=0),\n",
       " '광': Scores(cohesion_forward=0, cohesion_backward=0, left_branching_entropy=4.312607610732127, right_branching_entropy=3.209693055314841, left_accessor_variety=235, right_accessor_variety=130, leftside_frequency=4310, rightside_frequency=1401),\n",
       " '듬': Scores(cohesion_forward=0, cohesion_backward=0, left_branching_entropy=2.507516369049851, right_branching_entropy=0.6851299049297308, left_accessor_variety=18, right_accessor_variety=4, leftside_frequency=135, rightside_frequency=11),\n",
       " '핫': Scores(cohesion_forward=0, cohesion_backward=0, left_branching_entropy=2.543898351359744, right_branching_entropy=1.7487855919837123, left_accessor_variety=22, right_accessor_variety=10, leftside_frequency=155, rightside_frequency=0),\n",
       " '팁': Scores(cohesion_forward=0, cohesion_backward=0, left_branching_entropy=2.4748966639558203, right_branching_entropy=1.8844411571347017, left_accessor_variety=16, right_accessor_variety=12, leftside_frequency=93, rightside_frequency=14),\n",
       " '럭': Scores(cohesion_forward=0, cohesion_backward=0, left_branching_entropy=3.0931118553731327, right_branching_entropy=1.7587843234465759, left_accessor_variety=41, right_accessor_variety=25, leftside_frequency=252, rightside_frequency=116),\n",
       " '걔': Scores(cohesion_forward=0, cohesion_backward=0, left_branching_entropy=1.5740973368489728, right_branching_entropy=-0.0, left_accessor_variety=5, right_accessor_variety=1, leftside_frequency=16, rightside_frequency=0),\n",
       " '쥐': Scores(cohesion_forward=0, cohesion_backward=0, left_branching_entropy=2.7682625852627063, right_branching_entropy=2.6581690750830185, left_accessor_variety=27, right_accessor_variety=18, leftside_frequency=221, rightside_frequency=41),\n",
       " '뼈': Scores(cohesion_forward=0, cohesion_backward=0, left_branching_entropy=3.2255316470702136, right_branching_entropy=2.6812083276192156, left_accessor_variety=32, right_accessor_variety=21, leftside_frequency=137, rightside_frequency=20),\n",
       " '틱': Scores(cohesion_forward=0, cohesion_backward=0, left_branching_entropy=1.0449347893123995, right_branching_entropy=2.463760455544085, left_accessor_variety=7, right_accessor_variety=54, leftside_frequency=0, rightside_frequency=577),\n",
       " '꿍': Scores(cohesion_forward=0, cohesion_backward=0, left_branching_entropy=0.8374712547857914, right_branching_entropy=-0.0, left_accessor_variety=3, right_accessor_variety=1, leftside_frequency=49, rightside_frequency=0),\n",
       " '곳': Scores(cohesion_forward=0, cohesion_backward=0, left_branching_entropy=3.4149247925997077, right_branching_entropy=2.8770923324721505, left_accessor_variety=117, right_accessor_variety=100, leftside_frequency=2220, rightside_frequency=395),\n",
       " '천': Scores(cohesion_forward=0, cohesion_backward=0, left_branching_entropy=4.397583891847846, right_branching_entropy=4.733994724661288, left_accessor_variety=156, right_accessor_variety=231, leftside_frequency=1707, rightside_frequency=2191),\n",
       " '플': Scores(cohesion_forward=0, cohesion_backward=0, left_branching_entropy=4.558053564643605, right_branching_entropy=2.9019132307962185, left_accessor_variety=181, right_accessor_variety=82, leftside_frequency=1849, rightside_frequency=516),\n",
       " '쏟': Scores(cohesion_forward=0, cohesion_backward=0, left_branching_entropy=1.8899895431577094, right_branching_entropy=0.8448872967632006, left_accessor_variety=23, right_accessor_variety=8, leftside_frequency=658, rightside_frequency=0),\n",
       " '범': Scores(cohesion_forward=0, cohesion_backward=0, left_branching_entropy=4.344279646468196, right_branching_entropy=3.4451434556392906, left_accessor_variety=186, right_accessor_variety=165, leftside_frequency=2845, rightside_frequency=2118),\n",
       " '앗': Scores(cohesion_forward=0, cohesion_backward=0, left_branching_entropy=-0.0, right_branching_entropy=1.1464631760614805, left_accessor_variety=1, right_accessor_variety=7, leftside_frequency=34, rightside_frequency=17),\n",
       " '명': Scores(cohesion_forward=0, cohesion_backward=0, left_branching_entropy=4.267627385353943, right_branching_entropy=4.877159559945277, left_accessor_variety=259, right_accessor_variety=367, leftside_frequency=5297, rightside_frequency=4966),\n",
       " '넛': Scores(cohesion_forward=0, cohesion_backward=0, left_branching_entropy=0.6931471805599453, right_branching_entropy=1.5941666991180168, left_accessor_variety=2, right_accessor_variety=5, leftside_frequency=0, rightside_frequency=21),\n",
       " '흙': Scores(cohesion_forward=0, cohesion_backward=0, left_branching_entropy=2.6297577030464607, right_branching_entropy=1.8908287922697387, left_accessor_variety=17, right_accessor_variety=10, leftside_frequency=117, rightside_frequency=9),\n",
       " '묘': Scores(cohesion_forward=0, cohesion_backward=0, left_branching_entropy=2.974745048776896, right_branching_entropy=2.0997359235997557, left_accessor_variety=30, right_accessor_variety=15, leftside_frequency=265, rightside_frequency=20),\n",
       " '숫': Scores(cohesion_forward=0, cohesion_backward=0, left_branching_entropy=2.66864904536735, right_branching_entropy=-0.0, left_accessor_variety=23, right_accessor_variety=1, leftside_frequency=184, rightside_frequency=0),\n",
       " '험': Scores(cohesion_forward=0, cohesion_backward=0, left_branching_entropy=1.9829067129716396, right_branching_entropy=4.53748671302131, left_accessor_variety=23, right_accessor_variety=185, leftside_frequency=111, rightside_frequency=1843),\n",
       " '컹': Scores(cohesion_forward=0, cohesion_backward=0, left_branching_entropy=0, right_branching_entropy=-0.0, left_accessor_variety=0, right_accessor_variety=1, leftside_frequency=0, rightside_frequency=10),\n",
       " '앨': Scores(cohesion_forward=0, cohesion_backward=0, left_branching_entropy=3.2800722635967245, right_branching_entropy=0.33167497974149934, left_accessor_variety=69, right_accessor_variety=5, leftside_frequency=1190, rightside_frequency=11),\n",
       " '창': Scores(cohesion_forward=0, cohesion_backward=0, left_branching_entropy=4.075805746575697, right_branching_entropy=3.2064930689698525, left_accessor_variety=218, right_accessor_variety=129, leftside_frequency=3904, rightside_frequency=855),\n",
       " '꾼': Scores(cohesion_forward=0, cohesion_backward=0, left_branching_entropy=1.79563853749921, right_branching_entropy=3.2289920406199157, left_accessor_variety=10, right_accessor_variety=32, leftside_frequency=8, rightside_frequency=181),\n",
       " '븐': Scores(cohesion_forward=0, cohesion_backward=0, left_branching_entropy=0.8393412249978635, right_branching_entropy=2.7988915720255068, left_accessor_variety=3, right_accessor_variety=23, leftside_frequency=0, rightside_frequency=169),\n",
       " '멸': Scores(cohesion_forward=0, cohesion_backward=0, left_branching_entropy=2.8591562747718067, right_branching_entropy=1.6578113669846246, left_accessor_variety=21, right_accessor_variety=10, leftside_frequency=90, rightside_frequency=37),\n",
       " '핑': Scores(cohesion_forward=0, cohesion_backward=0, left_branching_entropy=2.5576711959642293, right_branching_entropy=3.5225254054684716, left_accessor_variety=39, right_accessor_variety=86, leftside_frequency=272, rightside_frequency=709),\n",
       " '근': Scores(cohesion_forward=0, cohesion_backward=0, left_branching_entropy=4.448728269631854, right_branching_entropy=4.848819545161547, left_accessor_variety=204, right_accessor_variety=347, leftside_frequency=3216, rightside_frequency=5955),\n",
       " '쉽': Scores(cohesion_forward=0, cohesion_backward=0, left_branching_entropy=3.1646914766540273, right_branching_entropy=1.2846022948583524, left_accessor_variety=54, right_accessor_variety=10, leftside_frequency=1312, rightside_frequency=8),\n",
       " '왼': Scores(cohesion_forward=0, cohesion_backward=0, left_branching_entropy=3.7148581782742043, right_branching_entropy=0.1636448580182942, left_accessor_variety=94, right_accessor_variety=3, leftside_frequency=1079, rightside_frequency=0),\n",
       " '름': Scores(cohesion_forward=0, cohesion_backward=0, left_branching_entropy=1.6133808655057025, right_branching_entropy=4.008426435902917, left_accessor_variety=10, right_accessor_variety=104, leftside_frequency=0, rightside_frequency=891),\n",
       " '운': Scores(cohesion_forward=0, cohesion_backward=0, left_branching_entropy=3.9985107374855517, right_branching_entropy=4.340030929745308, left_accessor_variety=283, right_accessor_variety=426, leftside_frequency=7665, rightside_frequency=9614),\n",
       " '숍': Scores(cohesion_forward=0, cohesion_backward=0, left_branching_entropy=1.223600564100693, right_branching_entropy=2.4260639608241354, left_accessor_variety=6, right_accessor_variety=16, leftside_frequency=10, rightside_frequency=127),\n",
       " '날': Scores(cohesion_forward=0, cohesion_backward=0, left_branching_entropy=3.641535270284003, right_branching_entropy=4.83283148956836, left_accessor_variety=127, right_accessor_variety=383, leftside_frequency=2074, rightside_frequency=8337),\n",
       " '쥘': Scores(cohesion_forward=0, cohesion_backward=0, left_branching_entropy=0.5982695885852573, right_branching_entropy=-0.0, left_accessor_variety=2, right_accessor_variety=1, leftside_frequency=0, rightside_frequency=5),\n",
       " '엑': Scores(cohesion_forward=0, cohesion_backward=0, left_branching_entropy=3.398428062534026, right_branching_entropy=0.6846249416233277, left_accessor_variety=74, right_accessor_variety=6, leftside_frequency=1120, rightside_frequency=0),\n",
       " '는': Scores(cohesion_forward=0, cohesion_backward=0, left_branching_entropy=4.020761321560399, right_branching_entropy=5.338319520045778, left_accessor_variety=485, right_accessor_variety=912, leftside_frequency=15, rightside_frequency=221627),\n",
       " '멀': Scores(cohesion_forward=0, cohesion_backward=0, left_branching_entropy=3.328810384211833, right_branching_entropy=1.9924168833870322, left_accessor_variety=46, right_accessor_variety=14, leftside_frequency=532, rightside_frequency=19),\n",
       " '섞': Scores(cohesion_forward=0, cohesion_backward=0, left_branching_entropy=2.5359905882658125, right_branching_entropy=1.6068300571001373, left_accessor_variety=19, right_accessor_variety=6, leftside_frequency=133, rightside_frequency=0),\n",
       " '춘': Scores(cohesion_forward=0, cohesion_backward=0, left_branching_entropy=3.5202186749788362, right_branching_entropy=3.6047001222868227, left_accessor_variety=60, right_accessor_variety=132, leftside_frequency=549, rightside_frequency=818),\n",
       " '치': Scores(cohesion_forward=0, cohesion_backward=0, left_branching_entropy=4.708756808566989, right_branching_entropy=4.831122312001916, left_accessor_variety=270, right_accessor_variety=346, leftside_frequency=3751, rightside_frequency=4909),\n",
       " '갖': Scores(cohesion_forward=0, cohesion_backward=0, left_branching_entropy=1.5374207926944576, right_branching_entropy=1.7946912522171088, left_accessor_variety=45, right_accessor_variety=27, leftside_frequency=3298, rightside_frequency=65),\n",
       " '뽕': Scores(cohesion_forward=0, cohesion_backward=0, left_branching_entropy=0.38721237518636065, right_branching_entropy=2.0330917220418416, left_accessor_variety=2, right_accessor_variety=10, leftside_frequency=7, rightside_frequency=54),\n",
       " '쥬': Scores(cohesion_forward=0, cohesion_backward=0, left_branching_entropy=2.1258727803203423, right_branching_entropy=1.3589306217108126, left_accessor_variety=13, right_accessor_variety=7, leftside_frequency=89, rightside_frequency=16),\n",
       " '튕': Scores(cohesion_forward=0, cohesion_backward=0, left_branching_entropy=1.445874413892315, right_branching_entropy=-0.0, left_accessor_variety=6, right_accessor_variety=1, leftside_frequency=48, rightside_frequency=0),\n",
       " '0': Scores(cohesion_forward=0, cohesion_backward=0, left_branching_entropy=3.59378588442739, right_branching_entropy=3.788955188641906, left_accessor_variety=202, right_accessor_variety=339, leftside_frequency=7785, rightside_frequency=26952),\n",
       " '순': Scores(cohesion_forward=0, cohesion_backward=0, left_branching_entropy=4.222788637320982, right_branching_entropy=3.542581074974634, left_accessor_variety=244, right_accessor_variety=159, leftside_frequency=4741, rightside_frequency=1601),\n",
       " '승': Scores(cohesion_forward=0, cohesion_backward=0, left_branching_entropy=4.27735689445599, right_branching_entropy=3.5302137010765007, left_accessor_variety=184, right_accessor_variety=127, leftside_frequency=3292, rightside_frequency=982),\n",
       " '갚': Scores(cohesion_forward=0, cohesion_backward=0, left_branching_entropy=2.230648205383485, right_branching_entropy=2.0250270609379544, left_accessor_variety=17, right_accessor_variety=10, leftside_frequency=174, rightside_frequency=0),\n",
       " '콩': Scores(cohesion_forward=0, cohesion_backward=0, left_branching_entropy=3.0132153673254063, right_branching_entropy=3.2477609429291916, left_accessor_variety=23, right_accessor_variety=40, leftside_frequency=93, rightside_frequency=253),\n",
       " '팽': Scores(cohesion_forward=0, cohesion_backward=0, left_branching_entropy=2.6083812361121796, right_branching_entropy=1.362528421358171, left_accessor_variety=19, right_accessor_variety=7, leftside_frequency=113, rightside_frequency=7),\n",
       " '펙': Scores(cohesion_forward=0, cohesion_backward=0, left_branching_entropy=-0.0, right_branching_entropy=1.5472867333409475, left_accessor_variety=1, right_accessor_variety=5, leftside_frequency=0, rightside_frequency=24),\n",
       " '김': Scores(cohesion_forward=0, cohesion_backward=0, left_branching_entropy=4.223069061866314, right_branching_entropy=4.347284442056579, left_accessor_variety=375, right_accessor_variety=235, leftside_frequency=26563, rightside_frequency=105),\n",
       " '댔': Scores(cohesion_forward=0, cohesion_backward=0, left_branching_entropy=-0.0, right_branching_entropy=-0.0, left_accessor_variety=1, right_accessor_variety=1, leftside_frequency=13, rightside_frequency=0),\n",
       " '잭': Scores(cohesion_forward=0, cohesion_backward=0, left_branching_entropy=2.9264824835554712, right_branching_entropy=0.9213601354667627, left_accessor_variety=31, right_accessor_variety=5, leftside_frequency=75, rightside_frequency=0),\n",
       " '쁜': Scores(cohesion_forward=0, cohesion_backward=0, left_branching_entropy=0, right_branching_entropy=3.381424938861313, left_accessor_variety=0, right_accessor_variety=49, leftside_frequency=0, rightside_frequency=475),\n",
       " '뇌': Scores(cohesion_forward=0, cohesion_backward=0, left_branching_entropy=3.761079060270162, right_branching_entropy=2.1138020980021834, left_accessor_variety=64, right_accessor_variety=27, leftside_frequency=543, rightside_frequency=29),\n",
       " '눔': Scores(cohesion_forward=0, cohesion_backward=0, left_branching_entropy=-0.0, right_branching_entropy=2.8837133561822332, left_accessor_variety=1, right_accessor_variety=23, leftside_frequency=0, rightside_frequency=147),\n",
       " '촘': Scores(cohesion_forward=0, cohesion_backward=0, left_branching_entropy=1.5740973368489728, right_branching_entropy=-0.0, left_accessor_variety=5, right_accessor_variety=1, leftside_frequency=21, rightside_frequency=0),\n",
       " '풀': Scores(cohesion_forward=0, cohesion_backward=0, left_branching_entropy=3.019815244188438, right_branching_entropy=2.553006933250153, left_accessor_variety=82, right_accessor_variety=52, leftside_frequency=1197, rightside_frequency=202),\n",
       " '욱': Scores(cohesion_forward=0, cohesion_backward=0, left_branching_entropy=2.853943690439132, right_branching_entropy=4.390471125277928, left_accessor_variety=34, right_accessor_variety=204, leftside_frequency=22, rightside_frequency=3000),\n",
       " '눌': Scores(cohesion_forward=0, cohesion_backward=0, left_branching_entropy=1.5866832038342675, right_branching_entropy=1.7552645156329696, left_accessor_variety=9, right_accessor_variety=11, leftside_frequency=112, rightside_frequency=64),\n",
       " '뎀': Scores(cohesion_forward=0, cohesion_backward=0, left_branching_entropy=0, right_branching_entropy=1.59671844554477, left_accessor_variety=0, right_accessor_variety=6, leftside_frequency=0, rightside_frequency=37),\n",
       " '앞': Scores(cohesion_forward=0, cohesion_backward=0, left_branching_entropy=3.6164431491464044, right_branching_entropy=2.235045353009949, left_accessor_variety=182, right_accessor_variety=74, leftside_frequency=7590, rightside_frequency=9),\n",
       " '헤': Scores(cohesion_forward=0, cohesion_backward=0, left_branching_entropy=2.5884432855981143, right_branching_entropy=1.4126818501889284, left_accessor_variety=148, right_accessor_variety=22, leftside_frequency=5427, rightside_frequency=0),\n",
       " '쐐': Scores(cohesion_forward=0, cohesion_backward=0, left_branching_entropy=0.6829081047004717, right_branching_entropy=-0.0, left_accessor_variety=2, right_accessor_variety=1, leftside_frequency=12, rightside_frequency=0),\n",
       " '뉴': Scores(cohesion_forward=0, cohesion_backward=0, left_branching_entropy=3.0259859364235306, right_branching_entropy=1.083693663250162, left_accessor_variety=220, right_accessor_variety=50, leftside_frequency=23270, rightside_frequency=151),\n",
       " '안': Scores(cohesion_forward=0, cohesion_backward=0, left_branching_entropy=4.603684773228646, right_branching_entropy=4.923443490893544, left_accessor_variety=404, right_accessor_variety=508, leftside_frequency=11569, rightside_frequency=6382),\n",
       " '써': Scores(cohesion_forward=0, cohesion_backward=0, left_branching_entropy=1.6336988278016462, right_branching_entropy=4.593279261109542, left_accessor_variety=39, right_accessor_variety=159, leftside_frequency=362, rightside_frequency=892),\n",
       " '알': Scores(cohesion_forward=0, cohesion_backward=0, left_branching_entropy=3.4209036987525505, right_branching_entropy=2.910331595126216, left_accessor_variety=206, right_accessor_variety=106, leftside_frequency=7457, rightside_frequency=167),\n",
       " '뫼': Scores(cohesion_forward=0, cohesion_backward=0, left_branching_entropy=0, right_branching_entropy=0.6931471805599453, left_accessor_variety=0, right_accessor_variety=2, leftside_frequency=0, rightside_frequency=5),\n",
       " '감': Scores(cohesion_forward=0, cohesion_backward=0, left_branching_entropy=4.6198167045439025, right_branching_entropy=3.55144900493404, left_accessor_variety=348, right_accessor_variety=237, leftside_frequency=10154, rightside_frequency=1639),\n",
       " '핸': Scores(cohesion_forward=0, cohesion_backward=0, left_branching_entropy=3.293147618401967, right_branching_entropy=0.8676590357289853, left_accessor_variety=36, right_accessor_variety=4, leftside_frequency=255, rightside_frequency=8),\n",
       " '혈': Scores(cohesion_forward=0, cohesion_backward=0, left_branching_entropy=3.5749146705185084, right_branching_entropy=3.0713814447927947, left_accessor_variety=58, right_accessor_variety=35, leftside_frequency=435, rightside_frequency=244),\n",
       " '륨': Scores(cohesion_forward=0, cohesion_backward=0, left_branching_entropy=-0.0, right_branching_entropy=2.134356682630404, left_accessor_variety=1, right_accessor_variety=9, leftside_frequency=0, rightside_frequency=32),\n",
       " '델': Scores(cohesion_forward=0, cohesion_backward=0, left_branching_entropy=1.807200089457584, right_branching_entropy=3.990269797556251, left_accessor_variety=22, right_accessor_variety=89, leftside_frequency=53, rightside_frequency=664),\n",
       " '높': Scores(cohesion_forward=0, cohesion_backward=0, left_branching_entropy=3.176561615971837, right_branching_entropy=2.239481059386804, left_accessor_variety=117, right_accessor_variety=20, leftside_frequency=6478, rightside_frequency=0),\n",
       " '뻑': Scores(cohesion_forward=0, cohesion_backward=0, left_branching_entropy=0, right_branching_entropy=0.5004024235381879, left_accessor_variety=0, right_accessor_variety=2, leftside_frequency=0, rightside_frequency=18),\n",
       " '할': Scores(cohesion_forward=0, cohesion_backward=0, left_branching_entropy=5.095767813312889, right_branching_entropy=2.7597302857725072, left_accessor_variety=474, right_accessor_variety=257, leftside_frequency=1995, rightside_frequency=22723),\n",
       " '썼': Scores(cohesion_forward=0, cohesion_backward=0, left_branching_entropy=2.2395765779367274, right_branching_entropy=1.0353920404256944, left_accessor_variety=20, right_accessor_variety=8, leftside_frequency=323, rightside_frequency=0),\n",
       " '련': Scores(cohesion_forward=0, cohesion_backward=0, left_branching_entropy=1.6085738252699575, right_branching_entropy=4.763388621051442, left_accessor_variety=9, right_accessor_variety=244, leftside_frequency=0, rightside_frequency=4465),\n",
       " '닻': Scores(cohesion_forward=0, cohesion_backward=0, left_branching_entropy=-0.0, right_branching_entropy=-0.0, left_accessor_variety=1, right_accessor_variety=1, leftside_frequency=5, rightside_frequency=0),\n",
       " '키': Scores(cohesion_forward=0, cohesion_backward=0, left_branching_entropy=3.926228197360046, right_branching_entropy=3.42364924119416, left_accessor_variety=130, right_accessor_variety=114, leftside_frequency=1906, rightside_frequency=578),\n",
       " '썩': Scores(cohesion_forward=0, cohesion_backward=0, left_branching_entropy=1.8718316115508995, right_branching_entropy=1.422127789947383, left_accessor_variety=9, right_accessor_variety=5, leftside_frequency=70, rightside_frequency=6),\n",
       " '력': Scores(cohesion_forward=0, cohesion_backward=0, left_branching_entropy=3.026162433505175, right_branching_entropy=4.770495837010516, left_accessor_variety=43, right_accessor_variety=230, leftside_frequency=0, rightside_frequency=3502),\n",
       " '곰': Scores(cohesion_forward=0, cohesion_backward=0, left_branching_entropy=2.5339560701668224, right_branching_entropy=1.3003942461348876, left_accessor_variety=14, right_accessor_variety=5, leftside_frequency=64, rightside_frequency=0),\n",
       " '샴': Scores(cohesion_forward=0, cohesion_backward=0, left_branching_entropy=2.545240660297457, right_branching_entropy=0.7664750392297743, left_accessor_variety=15, right_accessor_variety=3, leftside_frequency=70, rightside_frequency=0),\n",
       " '껍': Scores(cohesion_forward=0, cohesion_backward=0, left_branching_entropy=1.8988060114989598, right_branching_entropy=0.6751425885789244, left_accessor_variety=14, right_accessor_variety=2, leftside_frequency=112, rightside_frequency=0),\n",
       " '껏': Scores(cohesion_forward=0, cohesion_backward=0, left_branching_entropy=1.294556589016347, right_branching_entropy=3.7864483995313125, left_accessor_variety=6, right_accessor_variety=57, leftside_frequency=0, rightside_frequency=401),\n",
       " '멜': Scores(cohesion_forward=0, cohesion_backward=0, left_branching_entropy=3.65054265851086, right_branching_entropy=1.6967975741769574, left_accessor_variety=56, right_accessor_variety=13, leftside_frequency=389, rightside_frequency=23),\n",
       " '옥': Scores(cohesion_forward=0, cohesion_backward=0, left_branching_entropy=4.130967647642166, right_branching_entropy=3.5742411517547694, left_accessor_variety=100, right_accessor_variety=78, leftside_frequency=846, rightside_frequency=308),\n",
       " '하': Scores(cohesion_forward=0, cohesion_backward=0, left_branching_entropy=4.0079081870895905, right_branching_entropy=3.5578947313454248, left_accessor_variety=438, right_accessor_variety=319, leftside_frequency=30656, rightside_frequency=2633),\n",
       " '3': Scores(cohesion_forward=0, cohesion_backward=0, left_branching_entropy=4.788349410602981, right_branching_entropy=4.09786464583047, left_accessor_variety=401, right_accessor_variety=331, leftside_frequency=22656, rightside_frequency=4204),\n",
       " '콤': Scores(cohesion_forward=0, cohesion_backward=0, left_branching_entropy=1.710078959254716, right_branching_entropy=2.4919853856029874, left_accessor_variety=17, right_accessor_variety=45, leftside_frequency=336, rightside_frequency=291),\n",
       " '스': Scores(cohesion_forward=0, cohesion_backward=0, left_branching_entropy=4.422347589296232, right_branching_entropy=4.756420136328804, left_accessor_variety=560, right_accessor_variety=559, leftside_frequency=18646, rightside_frequency=31944),\n",
       " '퓰': Scores(cohesion_forward=0, cohesion_backward=0, left_branching_entropy=-0.0, right_branching_entropy=-0.0, left_accessor_variety=1, right_accessor_variety=1, leftside_frequency=8, rightside_frequency=0),\n",
       " '샌': Scores(cohesion_forward=0, cohesion_backward=0, left_branching_entropy=3.018499162040394, right_branching_entropy=1.1526012142117201, left_accessor_variety=23, right_accessor_variety=4, leftside_frequency=111, rightside_frequency=0),\n",
       " '농': Scores(cohesion_forward=0, cohesion_backward=0, left_branching_entropy=4.36504167817366, right_branching_entropy=3.1444522691452867, left_accessor_variety=183, right_accessor_variety=62, leftside_frequency=3090, rightside_frequency=159),\n",
       " '용': Scores(cohesion_forward=0, cohesion_backward=0, left_branching_entropy=4.883041855523343, right_branching_entropy=4.980797116674875, left_accessor_variety=279, right_accessor_variety=360, leftside_frequency=2614, rightside_frequency=5922),\n",
       " '했': Scores(cohesion_forward=0, cohesion_backward=0, left_branching_entropy=2.6639265032085704, right_branching_entropy=1.3473235441021998, left_accessor_variety=116, right_accessor_variety=20, leftside_frequency=10261, rightside_frequency=0),\n",
       " '캄': Scores(cohesion_forward=0, cohesion_backward=0, left_branching_entropy=2.321947658183326, right_branching_entropy=1.2412481223908, left_accessor_variety=12, right_accessor_variety=5, leftside_frequency=62, rightside_frequency=0),\n",
       " '겪': Scores(cohesion_forward=0, cohesion_backward=0, left_branching_entropy=1.3739529131468176, right_branching_entropy=2.057582720563486, left_accessor_variety=19, right_accessor_variety=11, leftside_frequency=782, rightside_frequency=0),\n",
       " '닳': Scores(cohesion_forward=0, cohesion_backward=0, left_branching_entropy=0.6108643020548935, right_branching_entropy=-0.0, left_accessor_variety=2, right_accessor_variety=1, leftside_frequency=13, rightside_frequency=0),\n",
       " '몬': Scores(cohesion_forward=0, cohesion_backward=0, left_branching_entropy=3.3072922620360337, right_branching_entropy=1.5790728091408175, left_accessor_variety=39, right_accessor_variety=27, leftside_frequency=280, rightside_frequency=125),\n",
       " '릿': Scores(cohesion_forward=0, cohesion_backward=0, left_branching_entropy=1.9313071951746892, right_branching_entropy=3.013295599848297, left_accessor_variety=9, right_accessor_variety=25, leftside_frequency=15, rightside_frequency=151),\n",
       " '곽': Scores(cohesion_forward=0, cohesion_backward=0, left_branching_entropy=2.4430697171019, right_branching_entropy=2.3894109875831524, left_accessor_variety=44, right_accessor_variety=28, leftside_frequency=593, rightside_frequency=51),\n",
       " '형': Scores(cohesion_forward=0, cohesion_backward=0, left_branching_entropy=4.783930032561497, right_branching_entropy=4.504947506678082, left_accessor_variety=341, right_accessor_variety=316, leftside_frequency=3524, rightside_frequency=5769),\n",
       " '녁': Scores(cohesion_forward=0, cohesion_backward=0, left_branching_entropy=-0.0, right_branching_entropy=3.151343842454701, left_accessor_variety=1, right_accessor_variety=44, leftside_frequency=0, rightside_frequency=421),\n",
       " '쿠': Scores(cohesion_forward=0, cohesion_backward=0, left_branching_entropy=3.893737235939918, right_branching_entropy=2.798873143949859, left_accessor_variety=74, right_accessor_variety=30, leftside_frequency=580, rightside_frequency=46),\n",
       " '뿜': Scores(cohesion_forward=0, cohesion_backward=0, left_branching_entropy=1.5832437177643264, right_branching_entropy=0.3156311865497606, left_accessor_variety=8, right_accessor_variety=2, leftside_frequency=103, rightside_frequency=0),\n",
       " '횟': Scores(cohesion_forward=0, cohesion_backward=0, left_branching_entropy=2.6085711693477687, right_branching_entropy=-0.0, left_accessor_variety=15, right_accessor_variety=1, leftside_frequency=71, rightside_frequency=0),\n",
       " '둬': Scores(cohesion_forward=0, cohesion_backward=0, left_branching_entropy=1.5340265284387788, right_branching_entropy=1.1048429582711154, left_accessor_variety=6, right_accessor_variety=5, leftside_frequency=26, rightside_frequency=22),\n",
       " '숯': Scores(cohesion_forward=0, cohesion_backward=0, left_branching_entropy=-0.0, right_branching_entropy=0, left_accessor_variety=1, right_accessor_variety=0, leftside_frequency=7, rightside_frequency=0),\n",
       " '닉': Scores(cohesion_forward=0, cohesion_backward=0, left_branching_entropy=2.2511911430767073, right_branching_entropy=3.110140697227694, left_accessor_variety=16, right_accessor_variety=33, leftside_frequency=50, rightside_frequency=212),\n",
       " '을': Scores(cohesion_forward=0, cohesion_backward=0, left_branching_entropy=5.290676413089728, right_branching_entropy=5.425005803779664, left_accessor_variety=927, right_accessor_variety=837, leftside_frequency=719, rightside_frequency=203217),\n",
       " '껌': Scores(cohesion_forward=0, cohesion_backward=0, left_branching_entropy=1.0986122886681096, right_branching_entropy=0, left_accessor_variety=3, right_accessor_variety=0, leftside_frequency=7, rightside_frequency=0),\n",
       " '병': Scores(cohesion_forward=0, cohesion_backward=0, left_branching_entropy=4.337584540703065, right_branching_entropy=2.988779072657648, left_accessor_variety=157, right_accessor_variety=126, leftside_frequency=2142, rightside_frequency=632),\n",
       " '극': Scores(cohesion_forward=0, cohesion_backward=0, left_branching_entropy=3.940198841956231, right_branching_entropy=3.1462945460548264, left_accessor_variety=145, right_accessor_variety=140, leftside_frequency=2491, rightside_frequency=2566),\n",
       " '궂': Scores(cohesion_forward=0, cohesion_backward=0, left_branching_entropy=0.6365141682948128, right_branching_entropy=-0.0, left_accessor_variety=2, right_accessor_variety=1, leftside_frequency=10, rightside_frequency=0),\n",
       " '켈': Scores(cohesion_forward=0, cohesion_backward=0, left_branching_entropy=1.6540948935617488, right_branching_entropy=1.7477427366100906, left_accessor_variety=10, right_accessor_variety=6, leftside_frequency=64, rightside_frequency=70),\n",
       " '씻': Scores(cohesion_forward=0, cohesion_backward=0, left_branching_entropy=2.337424291171737, right_branching_entropy=1.0125430986265451, left_accessor_variety=13, right_accessor_variety=5, leftside_frequency=88, rightside_frequency=0),\n",
       " '웹': Scores(cohesion_forward=0, cohesion_backward=0, left_branching_entropy=2.814678788231896, right_branching_entropy=1.190184669136238, left_accessor_variety=56, right_accessor_variety=19, leftside_frequency=705, rightside_frequency=0),\n",
       " '슨': Scores(cohesion_forward=0, cohesion_backward=0, left_branching_entropy=1.558330257002598, right_branching_entropy=3.780508536190847, left_accessor_variety=6, right_accessor_variety=81, leftside_frequency=0, rightside_frequency=637),\n",
       " '엎': Scores(cohesion_forward=0, cohesion_backward=0, left_branching_entropy=1.8347505070928416, right_branching_entropy=1.013261884144225, left_accessor_variety=7, right_accessor_variety=3, leftside_frequency=33, rightside_frequency=0),\n",
       " '쥴': Scores(cohesion_forward=0, cohesion_backward=0, left_branching_entropy=0.992281974852574, right_branching_entropy=0.45056120886630463, left_accessor_variety=3, right_accessor_variety=2, leftside_frequency=10, rightside_frequency=5),\n",
       " '꾀': Scores(cohesion_forward=0, cohesion_backward=0, left_branching_entropy=1.0939426930671767, right_branching_entropy=1.1991504370759016, left_accessor_variety=5, right_accessor_variety=4, leftside_frequency=88, rightside_frequency=0),\n",
       " '샘': Scores(cohesion_forward=0, cohesion_backward=0, left_branching_entropy=2.2853975242452926, right_branching_entropy=2.292427981273331, left_accessor_variety=17, right_accessor_variety=17, leftside_frequency=55, rightside_frequency=116),\n",
       " '붕': Scores(cohesion_forward=0, cohesion_backward=0, left_branching_entropy=2.2465529802141617, right_branching_entropy=1.5904721535977342, left_accessor_variety=13, right_accessor_variety=10, leftside_frequency=104, rightside_frequency=65),\n",
       " '납': Scores(cohesion_forward=0, cohesion_backward=0, left_branching_entropy=3.7159620083222835, right_branching_entropy=2.2723052707540017, left_accessor_variety=63, right_accessor_variety=23, leftside_frequency=604, rightside_frequency=73),\n",
       " '든': Scores(cohesion_forward=0, cohesion_backward=0, left_branching_entropy=3.130382973104776, right_branching_entropy=4.647823302034715, left_accessor_variety=53, right_accessor_variety=332, leftside_frequency=229, rightside_frequency=5625),\n",
       " '벙': Scores(cohesion_forward=0, cohesion_backward=0, left_branching_entropy=2.421628279754696, right_branching_entropy=-0.0, left_accessor_variety=12, right_accessor_variety=1, leftside_frequency=50, rightside_frequency=0),\n",
       " '셈': Scores(cohesion_forward=0, cohesion_backward=0, left_branching_entropy=2.1860765095397547, right_branching_entropy=0.8612140423523578, left_accessor_variety=21, right_accessor_variety=12, leftside_frequency=424, rightside_frequency=18),\n",
       " '찜': Scores(cohesion_forward=0, cohesion_backward=0, left_branching_entropy=1.6640943790998326, right_branching_entropy=0.7603741834880299, left_accessor_variety=7, right_accessor_variety=3, leftside_frequency=44, rightside_frequency=7),\n",
       " '웰': Scores(cohesion_forward=0, cohesion_backward=0, left_branching_entropy=3.0595454675862586, right_branching_entropy=2.102806026367822, left_accessor_variety=30, right_accessor_variety=11, leftside_frequency=226, rightside_frequency=26),\n",
       " '엮': Scores(cohesion_forward=0, cohesion_backward=0, left_branching_entropy=1.4812232248022905, right_branching_entropy=1.0982873330376035, left_accessor_variety=6, right_accessor_variety=4, leftside_frequency=84, rightside_frequency=0),\n",
       " '칩': Scores(cohesion_forward=0, cohesion_backward=0, left_branching_entropy=2.491950221866857, right_branching_entropy=1.6135496309453439, left_accessor_variety=24, right_accessor_variety=20, leftside_frequency=207, rightside_frequency=79),\n",
       " '핏': Scores(cohesion_forward=0, cohesion_backward=0, left_branching_entropy=2.2279861887503802, right_branching_entropy=2.6000511308620844, left_accessor_variety=11, right_accessor_variety=16, leftside_frequency=63, rightside_frequency=30),\n",
       " '취': Scores(cohesion_forward=0, cohesion_backward=0, left_branching_entropy=3.685156818069401, right_branching_entropy=2.7712557846291497, left_accessor_variety=198, right_accessor_variety=88, leftside_frequency=6134, rightside_frequency=360),\n",
       " '이': Scores(cohesion_forward=0, cohesion_backward=0, left_branching_entropy=5.297642345598471, right_branching_entropy=5.656735423765108, left_accessor_variety=1202, right_accessor_variety=1206, leftside_frequency=117086, rightside_frequency=141193),\n",
       " '램': Scores(cohesion_forward=0, cohesion_backward=0, left_branching_entropy=1.3540961787015326, right_branching_entropy=4.535228553261967, left_accessor_variety=37, right_accessor_variety=162, leftside_frequency=350, rightside_frequency=1324),\n",
       " '호': Scores(cohesion_forward=0, cohesion_backward=0, left_branching_entropy=4.645262673495136, right_branching_entropy=4.347884448160475, left_accessor_variety=319, right_accessor_variety=302, leftside_frequency=4914, rightside_frequency=5507),\n",
       " '펫': Scores(cohesion_forward=0, cohesion_backward=0, left_branching_entropy=1.8320275342901315, right_branching_entropy=1.989975630666442, left_accessor_variety=9, right_accessor_variety=9, leftside_frequency=35, rightside_frequency=32),\n",
       " '짧': Scores(cohesion_forward=0, cohesion_backward=0, left_branching_entropy=3.2892543804231846, right_branching_entropy=1.5907577032106837, left_accessor_variety=44, right_accessor_variety=7, leftside_frequency=346, rightside_frequency=0),\n",
       " '복': Scores(cohesion_forward=0, cohesion_backward=0, left_branching_entropy=4.4132826559017, right_branching_entropy=3.8035964463805256, left_accessor_variety=229, right_accessor_variety=196, leftside_frequency=4252, rightside_frequency=1564),\n",
       " '루': Scores(cohesion_forward=0, cohesion_backward=0, left_branching_entropy=3.5883625565104933, right_branching_entropy=3.3533317646543974, left_accessor_variety=113, right_accessor_variety=175, leftside_frequency=1727, rightside_frequency=1477),\n",
       " '않': Scores(cohesion_forward=0, cohesion_backward=0, left_branching_entropy=0.481067902961136, right_branching_entropy=2.4448187939124884, left_accessor_variety=21, right_accessor_variety=24, leftside_frequency=14902, rightside_frequency=0),\n",
       " '획': Scores(cohesion_forward=0, cohesion_backward=0, left_branching_entropy=2.2095213694450844, right_branching_entropy=3.2962319762473156, left_accessor_variety=32, right_accessor_variety=102, leftside_frequency=346, rightside_frequency=1228),\n",
       " '롯': Scores(cohesion_forward=0, cohesion_backward=0, left_branching_entropy=3.9041280763780613, right_branching_entropy=0.3156687890259886, left_accessor_variety=127, right_accessor_variety=23, leftside_frequency=1975, rightside_frequency=131),\n",
       " '같': Scores(cohesion_forward=0, cohesion_backward=0, left_branching_entropy=3.409670279894517, right_branching_entropy=1.409657710210831, left_accessor_variety=251, right_accessor_variety=17, leftside_frequency=7804, rightside_frequency=0),\n",
       " '윙': Scores(cohesion_forward=0, cohesion_backward=0, left_branching_entropy=1.8929615531682882, right_branching_entropy=1.3800852205867375, left_accessor_variety=10, right_accessor_variety=8, leftside_frequency=67, rightside_frequency=30),\n",
       " '괴': Scores(cohesion_forward=0, cohesion_backward=0, left_branching_entropy=3.2375665824785718, right_branching_entropy=2.5203412544207957, left_accessor_variety=39, right_accessor_variety=21, leftside_frequency=308, rightside_frequency=50),\n",
       " '엊': Scores(cohesion_forward=0, cohesion_backward=0, left_branching_entropy=0, right_branching_entropy=-0.0, left_accessor_variety=0, right_accessor_variety=1, leftside_frequency=9, rightside_frequency=0),\n",
       " '슷': Scores(cohesion_forward=0, cohesion_backward=0, left_branching_entropy=0, right_branching_entropy=0, left_accessor_variety=0, right_accessor_variety=0, leftside_frequency=0, rightside_frequency=5),\n",
       " '견': Scores(cohesion_forward=0, cohesion_backward=0, left_branching_entropy=3.1852210944420496, right_branching_entropy=3.9079786652501722, left_accessor_variety=77, right_accessor_variety=114, leftside_frequency=881, rightside_frequency=936),\n",
       " '뻔': Scores(cohesion_forward=0, cohesion_backward=0, left_branching_entropy=2.8445143612854067, right_branching_entropy=1.7070792337835645, left_accessor_variety=22, right_accessor_variety=9, leftside_frequency=154, rightside_frequency=0),\n",
       " '툭': Scores(cohesion_forward=0, cohesion_backward=0, left_branching_entropy=1.7917594692280547, right_branching_entropy=1.3086053872534493, left_accessor_variety=6, right_accessor_variety=4, leftside_frequency=9, rightside_frequency=5),\n",
       " '터': Scores(cohesion_forward=0, cohesion_backward=0, left_branching_entropy=1.7119196718145524, right_branching_entropy=5.232231288327644, left_accessor_variety=132, right_accessor_variety=521, leftside_frequency=1472, rightside_frequency=16679),\n",
       " '뵙': Scores(cohesion_forward=0, cohesion_backward=0, left_branching_entropy=1.3421131789144003, right_branching_entropy=0.6517565611726531, left_accessor_variety=4, right_accessor_variety=2, leftside_frequency=15, rightside_frequency=0),\n",
       " '휘': Scores(cohesion_forward=0, cohesion_backward=0, left_branching_entropy=3.3198491127004828, right_branching_entropy=2.9392191718542047, left_accessor_variety=48, right_accessor_variety=32, leftside_frequency=488, rightside_frequency=97),\n",
       " '베': Scores(cohesion_forward=0, cohesion_backward=0, left_branching_entropy=4.292518159500382, right_branching_entropy=2.5432651323199935, left_accessor_variety=167, right_accessor_variety=41, leftside_frequency=2401, rightside_frequency=104),\n",
       " '샷': Scores(cohesion_forward=0, cohesion_backward=0, left_branching_entropy=1.0949797342037142, right_branching_entropy=1.7460929019843046, left_accessor_variety=4, right_accessor_variety=6, leftside_frequency=15, rightside_frequency=24),\n",
       " '벵': Scores(cohesion_forward=0, cohesion_backward=0, left_branching_entropy=1.4553330351928317, right_branching_entropy=0.6853142072764582, left_accessor_variety=5, right_accessor_variety=2, leftside_frequency=23, rightside_frequency=0),\n",
       " '건': Scores(cohesion_forward=0, cohesion_backward=0, left_branching_entropy=4.637735584654975, right_branching_entropy=4.1364898237417185, left_accessor_variety=313, right_accessor_variety=321, leftside_frequency=6043, rightside_frequency=2755),\n",
       " '슐': Scores(cohesion_forward=0, cohesion_backward=0, left_branching_entropy=1.0986122886681096, right_branching_entropy=0.5799151714181009, left_accessor_variety=3, right_accessor_variety=2, leftside_frequency=12, rightside_frequency=7),\n",
       " '낌': Scores(cohesion_forward=0, cohesion_backward=0, left_branching_entropy=0.6615632381579821, right_branching_entropy=1.7163316357961729, left_accessor_variety=2, right_accessor_variety=7, leftside_frequency=0, rightside_frequency=51),\n",
       " '꺼': Scores(cohesion_forward=0, cohesion_backward=0, left_branching_entropy=2.370470381812809, right_branching_entropy=1.92223338884526, left_accessor_variety=28, right_accessor_variety=11, leftside_frequency=426, rightside_frequency=0),\n",
       " '맙': Scores(cohesion_forward=0, cohesion_backward=0, left_branching_entropy=-0.0, right_branching_entropy=-0.0, left_accessor_variety=1, right_accessor_variety=1, leftside_frequency=5, rightside_frequency=0),\n",
       " '므': Scores(cohesion_forward=0, cohesion_backward=0, left_branching_entropy=0, right_branching_entropy=0.17884491271684755, left_accessor_variety=0, right_accessor_variety=2, leftside_frequency=0, rightside_frequency=49),\n",
       " '뇨': Scores(cohesion_forward=0, cohesion_backward=0, left_branching_entropy=0.6581099875431143, right_branching_entropy=2.028479126545233, left_accessor_variety=2, right_accessor_variety=9, leftside_frequency=0, rightside_frequency=59),\n",
       " '춤': Scores(cohesion_forward=0, cohesion_backward=0, left_branching_entropy=3.321954343866717, right_branching_entropy=2.7720139738370766, left_accessor_variety=35, right_accessor_variety=29, leftside_frequency=135, rightside_frequency=96),\n",
       " '맡': Scores(cohesion_forward=0, cohesion_backward=0, left_branching_entropy=1.3979200284651232, right_branching_entropy=2.052369408180981, left_accessor_variety=34, right_accessor_variety=14, leftside_frequency=2164, rightside_frequency=0),\n",
       " '흐': Scores(cohesion_forward=0, cohesion_backward=0, left_branching_entropy=3.5544767540098614, right_branching_entropy=1.979207356186778, left_accessor_variety=74, right_accessor_variety=25, leftside_frequency=850, rightside_frequency=56),\n",
       " '칵': Scores(cohesion_forward=0, cohesion_backward=0, left_branching_entropy=2.6657637856513743, right_branching_entropy=1.009780247644639, left_accessor_variety=16, right_accessor_variety=4, leftside_frequency=77, rightside_frequency=14),\n",
       " '탕': Scores(cohesion_forward=0, cohesion_backward=0, left_branching_entropy=2.6400228447724614, right_branching_entropy=3.457480635907568, left_accessor_variety=22, right_accessor_variety=44, leftside_frequency=60, rightside_frequency=231),\n",
       " '외': Scores(cohesion_forward=0, cohesion_backward=0, left_branching_entropy=4.490673129609127, right_branching_entropy=3.540253631702153, left_accessor_variety=271, right_accessor_variety=256, leftside_frequency=7691, rightside_frequency=2019),\n",
       " '편': Scores(cohesion_forward=0, cohesion_backward=0, left_branching_entropy=4.312296362840648, right_branching_entropy=4.576941229614376, left_accessor_variety=209, right_accessor_variety=333, leftside_frequency=3879, rightside_frequency=4009),\n",
       " '념': Scores(cohesion_forward=0, cohesion_backward=0, left_branching_entropy=0.6182523970693317, right_branching_entropy=3.311104107658011, left_accessor_variety=2, right_accessor_variety=66, leftside_frequency=0, rightside_frequency=633),\n",
       " '벅': Scores(cohesion_forward=0, cohesion_backward=0, left_branching_entropy=1.6225272035993974, right_branching_entropy=1.7522792126991196, left_accessor_variety=10, right_accessor_variety=7, leftside_frequency=52, rightside_frequency=55),\n",
       " '론': Scores(cohesion_forward=0, cohesion_backward=0, left_branching_entropy=1.180540063123084, right_branching_entropy=3.0154306920010803, left_accessor_variety=61, right_accessor_variety=295, leftside_frequency=455, rightside_frequency=8050),\n",
       " '좇': Scores(cohesion_forward=0, cohesion_backward=0, left_branching_entropy=0.5004024235381879, right_branching_entropy=0.6365141682948128, left_accessor_variety=2, right_accessor_variety=2, leftside_frequency=29, rightside_frequency=0),\n",
       " '캔': Scores(cohesion_forward=0, cohesion_backward=0, left_branching_entropy=2.9481511834820617, right_branching_entropy=1.0990149743912232, left_accessor_variety=43, right_accessor_variety=12, leftside_frequency=630, rightside_frequency=8),\n",
       " '헨': Scores(cohesion_forward=0, cohesion_backward=0, left_branching_entropy=1.5086597717181076, right_branching_entropy=0.8982308258698813, left_accessor_variety=6, right_accessor_variety=3, leftside_frequency=39, rightside_frequency=5),\n",
       " '숲': Scores(cohesion_forward=0, cohesion_backward=0, left_branching_entropy=3.272598053788186, right_branching_entropy=3.06760286475027, left_accessor_variety=46, right_accessor_variety=33, leftside_frequency=199, rightside_frequency=114),\n",
       " '낱': Scores(cohesion_forward=0, cohesion_backward=0, left_branching_entropy=1.8130990180764117, right_branching_entropy=0.8548286398639261, left_accessor_variety=7, right_accessor_variety=3, leftside_frequency=30, rightside_frequency=0),\n",
       " '릇': Scores(cohesion_forward=0, cohesion_backward=0, left_branching_entropy=0, right_branching_entropy=1.6996989093371107, left_accessor_variety=0, right_accessor_variety=7, leftside_frequency=0, rightside_frequency=47),\n",
       " '킬': Scores(cohesion_forward=0, cohesion_backward=0, left_branching_entropy=1.6175089738046886, right_branching_entropy=2.2161702222227073, left_accessor_variety=26, right_accessor_variety=38, leftside_frequency=117, rightside_frequency=547),\n",
       " '류': Scores(cohesion_forward=0, cohesion_backward=0, left_branching_entropy=3.629429171237337, right_branching_entropy=4.718969327318339, left_accessor_variety=77, right_accessor_variety=182, leftside_frequency=518, rightside_frequency=1527),\n",
       " '곧': Scores(cohesion_forward=0, cohesion_backward=0, left_branching_entropy=2.989016331301613, right_branching_entropy=3.261754566553703, left_accessor_variety=37, right_accessor_variety=78, leftside_frequency=266, rightside_frequency=98),\n",
       " '댓': Scores(cohesion_forward=0, cohesion_backward=0, left_branching_entropy=2.9162518445227295, right_branching_entropy=0.1133649868760616, left_accessor_variety=27, right_accessor_variety=2, leftside_frequency=209, rightside_frequency=0),\n",
       " '묵': Scores(cohesion_forward=0, cohesion_backward=0, left_branching_entropy=3.313199757494247, right_branching_entropy=2.483357594301234, left_accessor_variety=38, right_accessor_variety=23, leftside_frequency=322, rightside_frequency=87),\n",
       " '멍': Scores(cohesion_forward=0, cohesion_backward=0, left_branching_entropy=2.420095419069516, right_branching_entropy=1.860957094749208, left_accessor_variety=14, right_accessor_variety=9, leftside_frequency=70, rightside_frequency=19),\n",
       " '딱': Scores(cohesion_forward=0, cohesion_backward=0, left_branching_entropy=2.454502477709327, right_branching_entropy=2.294709903279894, left_accessor_variety=37, right_accessor_variety=36, leftside_frequency=299, rightside_frequency=23),\n",
       " '륭': Scores(cohesion_forward=0, cohesion_backward=0, left_branching_entropy=-0.0, right_branching_entropy=-0.0, left_accessor_variety=1, right_accessor_variety=1, leftside_frequency=0, rightside_frequency=5),\n",
       " '젯': Scores(cohesion_forward=0, cohesion_backward=0, left_branching_entropy=0.6920129648318738, right_branching_entropy=1.7127324378491742, left_accessor_variety=2, right_accessor_variety=6, leftside_frequency=0, rightside_frequency=25),\n",
       " '였': Scores(cohesion_forward=0, cohesion_backward=0, left_branching_entropy=3.191149894803107, right_branching_entropy=1.2942436830847708, left_accessor_variety=39, right_accessor_variety=8, leftside_frequency=334, rightside_frequency=0),\n",
       " '꿇': Scores(cohesion_forward=0, cohesion_backward=0, left_branching_entropy=0.5982695885852573, right_branching_entropy=0.6931471805599453, left_accessor_variety=2, right_accessor_variety=2, leftside_frequency=15, rightside_frequency=0),\n",
       " '자': Scores(cohesion_forward=0, cohesion_backward=0, left_branching_entropy=4.507663308502377, right_branching_entropy=5.077530223789471, left_accessor_variety=588, right_accessor_variety=723, leftside_frequency=27549, rightside_frequency=60324),\n",
       " '쿵': Scores(cohesion_forward=0, cohesion_backward=0, left_branching_entropy=2.6385045436664067, right_branching_entropy=1.9366441876578633, left_accessor_variety=19, right_accessor_variety=11, leftside_frequency=97, rightside_frequency=80),\n",
       " '개': Scores(cohesion_forward=0, cohesion_backward=0, left_branching_entropy=4.675205603731746, right_branching_entropy=4.123919137339089, left_accessor_variety=384, right_accessor_variety=382, leftside_frequency=17216, rightside_frequency=6603),\n",
       " '샀': Scores(cohesion_forward=0, cohesion_backward=0, left_branching_entropy=1.1995549320735432, right_branching_entropy=0.7256666415476831, left_accessor_variety=9, right_accessor_variety=4, leftside_frequency=123, rightside_frequency=0),\n",
       " '골': Scores(cohesion_forward=0, cohesion_backward=0, left_branching_entropy=4.259679110161603, right_branching_entropy=3.2470589482615844, left_accessor_variety=140, right_accessor_variety=77, leftside_frequency=1531, rightside_frequency=296),\n",
       " '숨': Scores(cohesion_forward=0, cohesion_backward=0, left_branching_entropy=3.4273739196208926, right_branching_entropy=2.3977449434524956, left_accessor_variety=83, right_accessor_variety=38, leftside_frequency=2139, rightside_frequency=60),\n",
       " '짠': Scores(cohesion_forward=0, cohesion_backward=0, left_branching_entropy=2.4892003043604225, right_branching_entropy=1.5527108299421897, left_accessor_variety=14, right_accessor_variety=6, leftside_frequency=45, rightside_frequency=0),\n",
       " '샤': Scores(cohesion_forward=0, cohesion_backward=0, left_branching_entropy=3.8453274673031492, right_branching_entropy=2.0795385835483775, left_accessor_variety=78, right_accessor_variety=22, leftside_frequency=625, rightside_frequency=235),\n",
       " '뭇': Scores(cohesion_forward=0, cohesion_backward=0, left_branching_entropy=0.6837389058487535, right_branching_entropy=1.0591434127615207, left_accessor_variety=3, right_accessor_variety=4, leftside_frequency=20, rightside_frequency=22),\n",
       " '쩐': Scores(cohesion_forward=0, cohesion_backward=0, left_branching_entropy=0, right_branching_entropy=0, left_accessor_variety=0, right_accessor_variety=0, leftside_frequency=5, rightside_frequency=0),\n",
       " '껄': Scores(cohesion_forward=0, cohesion_backward=0, left_branching_entropy=-0.0, right_branching_entropy=-0.0, left_accessor_variety=1, right_accessor_variety=1, leftside_frequency=5, rightside_frequency=0),\n",
       " '꿀': Scores(cohesion_forward=0, cohesion_backward=0, left_branching_entropy=2.6719280612401497, right_branching_entropy=2.4372456217060927, left_accessor_variety=24, right_accessor_variety=23, leftside_frequency=204, rightside_frequency=88),\n",
       " '폼': Scores(cohesion_forward=0, cohesion_backward=0, left_branching_entropy=0.05338403027678455, right_branching_entropy=3.240163044364944, left_accessor_variety=2, right_accessor_variety=34, leftside_frequency=6, rightside_frequency=219),\n",
       " '쁨': Scores(cohesion_forward=0, cohesion_backward=0, left_branching_entropy=0, right_branching_entropy=2.0274614762383703, left_accessor_variety=0, right_accessor_variety=13, leftside_frequency=0, rightside_frequency=113),\n",
       " '찌': Scores(cohesion_forward=0, cohesion_backward=0, left_branching_entropy=1.6454111616550213, right_branching_entropy=2.9073253724598875, left_accessor_variety=21, right_accessor_variety=36, leftside_frequency=157, rightside_frequency=307),\n",
       " '셰': Scores(cohesion_forward=0, cohesion_backward=0, left_branching_entropy=3.1894722258962926, right_branching_entropy=1.789993938514315, left_accessor_variety=29, right_accessor_variety=7, leftside_frequency=197, rightside_frequency=6),\n",
       " '위': Scores(cohesion_forward=0, cohesion_backward=0, left_branching_entropy=3.4656239827072923, right_branching_entropy=3.2380822208293356, left_accessor_variety=408, right_accessor_variety=332, leftside_frequency=24212, rightside_frequency=4377),\n",
       " '금': Scores(cohesion_forward=0, cohesion_backward=0, left_branching_entropy=2.229591431478081, right_branching_entropy=2.2871286532245616, left_accessor_variety=321, right_accessor_variety=353, leftside_frequency=26859, rightside_frequency=5699),\n",
       " '끄': Scores(cohesion_forward=0, cohesion_backward=0, left_branching_entropy=1.1815517131887932, right_branching_entropy=1.3276834805933133, left_accessor_variety=8, right_accessor_variety=6, leftside_frequency=159, rightside_frequency=7),\n",
       " '돕': Scores(cohesion_forward=0, cohesion_backward=0, left_branching_entropy=1.5228821284555543, right_branching_entropy=1.1196494598471982, left_accessor_variety=14, right_accessor_variety=4, leftside_frequency=459, rightside_frequency=0),\n",
       " '낸': Scores(cohesion_forward=0, cohesion_backward=0, left_branching_entropy=2.968492402976497, right_branching_entropy=4.28768109056925, left_accessor_variety=49, right_accessor_variety=162, leftside_frequency=83, rightside_frequency=1172),\n",
       " '원': Scores(cohesion_forward=0, cohesion_backward=0, left_branching_entropy=4.55788657056681, right_branching_entropy=5.146945281337783, left_accessor_variety=427, right_accessor_variety=536, leftside_frequency=12220, rightside_frequency=20391),\n",
       " '햄': Scores(cohesion_forward=0, cohesion_backward=0, left_branching_entropy=2.637743951616528, right_branching_entropy=1.314398428430111, left_accessor_variety=17, right_accessor_variety=5, leftside_frequency=48, rightside_frequency=13),\n",
       " '덩': Scores(cohesion_forward=0, cohesion_backward=0, left_branching_entropy=2.553378313633433, right_branching_entropy=1.4149643971485488, left_accessor_variety=15, right_accessor_variety=5, leftside_frequency=68, rightside_frequency=0),\n",
       " '펄': Scores(cohesion_forward=0, cohesion_backward=0, left_branching_entropy=1.3199101094893373, right_branching_entropy=0.6931471805599453, left_accessor_variety=5, right_accessor_variety=2, leftside_frequency=20, rightside_frequency=0),\n",
       " '룰': Scores(cohesion_forward=0, cohesion_backward=0, left_branching_entropy=2.796814445432224, right_branching_entropy=2.2818022370695417, left_accessor_variety=21, right_accessor_variety=18, leftside_frequency=104, rightside_frequency=95),\n",
       " '섯': Scores(cohesion_forward=0, cohesion_backward=0, left_branching_entropy=0.5341593666871499, right_branching_entropy=2.5740775944713903, left_accessor_variety=2, right_accessor_variety=34, leftside_frequency=0, rightside_frequency=339),\n",
       " '펼': Scores(cohesion_forward=0, cohesion_backward=0, left_branching_entropy=1.9489115816606613, right_branching_entropy=1.4558826519222858, left_accessor_variety=35, right_accessor_variety=9, leftside_frequency=2070, rightside_frequency=0),\n",
       " '십': Scores(cohesion_forward=0, cohesion_backward=0, left_branching_entropy=2.6788348836816986, right_branching_entropy=3.4263924063129556, left_accessor_variety=36, right_accessor_variety=51, leftside_frequency=154, rightside_frequency=470),\n",
       " '뭘': Scores(cohesion_forward=0, cohesion_backward=0, left_branching_entropy=2.6547315398180995, right_branching_entropy=2.444702578341821, left_accessor_variety=20, right_accessor_variety=19, leftside_frequency=40, rightside_frequency=0),\n",
       " '틈': Scores(cohesion_forward=0, cohesion_backward=0, left_branching_entropy=2.9479146142396546, right_branching_entropy=2.220829937463043, left_accessor_variety=27, right_accessor_variety=11, leftside_frequency=148, rightside_frequency=0),\n",
       " '송': Scores(cohesion_forward=0, cohesion_backward=0, left_branching_entropy=4.161164710202492, right_branching_entropy=4.265767920339279, left_accessor_variety=211, right_accessor_variety=224, leftside_frequency=3535, rightside_frequency=2170),\n",
       " '좁': Scores(cohesion_forward=0, cohesion_backward=0, left_branching_entropy=2.6713583877016407, right_branching_entropy=1.7263163145812668, left_accessor_variety=23, right_accessor_variety=9, leftside_frequency=219, rightside_frequency=0),\n",
       " '행': Scores(cohesion_forward=0, cohesion_backward=0, left_branching_entropy=4.445568392913443, right_branching_entropy=3.7889586242048154, left_accessor_variety=294, right_accessor_variety=280, leftside_frequency=7910, rightside_frequency=5359),\n",
       " '뭉': Scores(cohesion_forward=0, cohesion_backward=0, left_branching_entropy=2.5212129701356503, right_branching_entropy=1.8544487724251195, left_accessor_variety=20, right_accessor_variety=8, leftside_frequency=171, rightside_frequency=0),\n",
       " '퀄': Scores(cohesion_forward=0, cohesion_backward=0, left_branching_entropy=2.549908733443306, right_branching_entropy=0.4783203281153531, left_accessor_variety=21, right_accessor_variety=2, leftside_frequency=130, rightside_frequency=0),\n",
       " '뱃': Scores(cohesion_forward=0, cohesion_backward=0, left_branching_entropy=2.062069541300165, right_branching_entropy=0.6914160776171183, left_accessor_variety=8, right_accessor_variety=2, leftside_frequency=25, rightside_frequency=0),\n",
       " '컬': Scores(cohesion_forward=0, cohesion_backward=0, left_branching_entropy=3.5956670505095043, right_branching_entropy=1.7760465560057772, left_accessor_variety=104, right_accessor_variety=67, leftside_frequency=2270, rightside_frequency=409),\n",
       " '굵': Scores(cohesion_forward=0, cohesion_backward=0, left_branching_entropy=2.3308306907785323, right_branching_entropy=0.9549403493005753, left_accessor_variety=14, right_accessor_variety=3, leftside_frequency=100, rightside_frequency=0),\n",
       " '여': Scores(cohesion_forward=0, cohesion_backward=0, left_branching_entropy=4.4910917685911755, right_branching_entropy=4.123579425124972, left_accessor_variety=426, right_accessor_variety=412, leftside_frequency=19018, rightside_frequency=6237),\n",
       " '봤': Scores(cohesion_forward=0, cohesion_backward=0, left_branching_entropy=2.589302649788396, right_branching_entropy=1.7070968382443283, left_accessor_variety=26, right_accessor_variety=11, leftside_frequency=487, rightside_frequency=0),\n",
       " '캣': Scores(cohesion_forward=0, cohesion_backward=0, left_branching_entropy=0.37677016125643675, right_branching_entropy=1.598368627819744, left_accessor_variety=2, right_accessor_variety=5, leftside_frequency=11, rightside_frequency=8),\n",
       " '던': Scores(cohesion_forward=0, cohesion_backward=0, left_branching_entropy=3.0779378659343597, right_branching_entropy=5.118880084916906, left_accessor_variety=106, right_accessor_variety=429, leftside_frequency=526, rightside_frequency=12255),\n",
       " ...}"
      ]
     },
     "execution_count": 166,
     "metadata": {},
     "output_type": "execute_result"
    }
   ],
   "source": [
    "word_score_table"
   ]
  },
  {
   "cell_type": "code",
   "execution_count": 167,
   "metadata": {},
   "outputs": [
    {
     "data": {
      "text/plain": [
       "{'융': 0,\n",
       " '북': 0,\n",
       " '릴': 0,\n",
       " '짱': 0,\n",
       " '읍': 0,\n",
       " '챔': 0,\n",
       " '맘': 0,\n",
       " '덜': 0,\n",
       " '짊': 0,\n",
       " '럴': 0,\n",
       " '텅': 0,\n",
       " '뚱': 0,\n",
       " '낫': 0,\n",
       " '넨': 0,\n",
       " '껑': 0,\n",
       " '쑤': 0,\n",
       " '캐': 0,\n",
       " '우': 0,\n",
       " '선': 0,\n",
       " '박': 0,\n",
       " '메': 0,\n",
       " '숏': 0,\n",
       " '뿔': 0,\n",
       " '샅': 0,\n",
       " '츤': 0,\n",
       " '놨': 0,\n",
       " '엘': 0,\n",
       " '영': 0,\n",
       " '넣': 0,\n",
       " '접': 0,\n",
       " '잤': 0,\n",
       " '족': 0,\n",
       " '픈': 0,\n",
       " '큐': 0,\n",
       " '쌍': 0,\n",
       " '싣': 0,\n",
       " '붉': 0,\n",
       " '밟': 0,\n",
       " '겨': 0,\n",
       " '룬': 0,\n",
       " '옅': 0,\n",
       " '닥': 0,\n",
       " '속': 0,\n",
       " '른': 0,\n",
       " '랄': 0,\n",
       " '쫑': 0,\n",
       " '띠': 0,\n",
       " '펌': 0,\n",
       " '누': 0,\n",
       " '털': 0,\n",
       " '확': 0,\n",
       " '밤': 0,\n",
       " '업': 0,\n",
       " '택': 0,\n",
       " '과': 0,\n",
       " '빔': 0,\n",
       " '라': 0,\n",
       " '팔': 0,\n",
       " '탑': 0,\n",
       " '망': 0,\n",
       " '역': 0,\n",
       " '쳤': 0,\n",
       " '읽': 0,\n",
       " '7': 0,\n",
       " '들': 0,\n",
       " '챈': 0,\n",
       " '뚝': 0,\n",
       " '군': 0,\n",
       " '녕': 0,\n",
       " '멤': 0,\n",
       " '컨': 0,\n",
       " '샛': 0,\n",
       " '뭐': 0,\n",
       " '의': 0,\n",
       " '불': 0,\n",
       " '괄': 0,\n",
       " '땅': 0,\n",
       " '삼': 0,\n",
       " '정': 0,\n",
       " '녘': 0,\n",
       " '꼴': 0,\n",
       " '케': 0,\n",
       " '노': 0,\n",
       " '꼼': 0,\n",
       " '찐': 0,\n",
       " '넓': 0,\n",
       " '관': 0,\n",
       " '쌀': 0,\n",
       " '젝': 0,\n",
       " '촬': 0,\n",
       " '마': 0,\n",
       " '줴': 0,\n",
       " '필': 0,\n",
       " '셸': 0,\n",
       " '옹': 0,\n",
       " '보': 0,\n",
       " '떡': 0,\n",
       " '봅': 0,\n",
       " '러': 0,\n",
       " '걱': 0,\n",
       " '옌': 0,\n",
       " '훈': 0,\n",
       " 'ㅣ': 0,\n",
       " '검': 0,\n",
       " '퀸': 0,\n",
       " '띈': 0,\n",
       " '넝': 0,\n",
       " '얹': 0,\n",
       " '웅': 0,\n",
       " '촛': 0,\n",
       " '밉': 0,\n",
       " '윳': 0,\n",
       " '랴': 0,\n",
       " '곁': 0,\n",
       " '인': 0,\n",
       " '봉': 0,\n",
       " '봇': 0,\n",
       " '환': 0,\n",
       " '첸': 0,\n",
       " '가': 0,\n",
       " '홀': 0,\n",
       " '꿋': 0,\n",
       " '짰': 0,\n",
       " '커': 0,\n",
       " '줘': 0,\n",
       " '경': 0,\n",
       " '뻣': 0,\n",
       " '배': 0,\n",
       " '텃': 0,\n",
       " '촉': 0,\n",
       " '맑': 0,\n",
       " '밴': 0,\n",
       " '빼': 0,\n",
       " '힐': 0,\n",
       " '략': 0,\n",
       " '뚫': 0,\n",
       " '룩': 0,\n",
       " '으': 0,\n",
       " '륵': 0,\n",
       " '귓': 0,\n",
       " '닮': 0,\n",
       " '린': 0,\n",
       " '권': 0,\n",
       " '랙': 0,\n",
       " '텍': 0,\n",
       " '죄': 0,\n",
       " '녀': 0,\n",
       " '애': 0,\n",
       " '씩': 0,\n",
       " '쟤': 0,\n",
       " '국': 0,\n",
       " '튀': 0,\n",
       " '멱': 0,\n",
       " '파': 0,\n",
       " '링': 0,\n",
       " '쎄': 0,\n",
       " '쳐': 0,\n",
       " '톱': 0,\n",
       " '홉': 0,\n",
       " '햅': 0,\n",
       " '갔': 0,\n",
       " '긋': 0,\n",
       " '늬': 0,\n",
       " '끓': 0,\n",
       " '붙': 0,\n",
       " '뻐': 0,\n",
       " '놀': 0,\n",
       " '양': 0,\n",
       " '낯': 0,\n",
       " '엔': 0,\n",
       " '열': 0,\n",
       " '은': 0,\n",
       " '사': 0,\n",
       " '셜': 0,\n",
       " '홋': 0,\n",
       " '괜': 0,\n",
       " '함': 0,\n",
       " '뢰': 0,\n",
       " '떼': 0,\n",
       " '맹': 0,\n",
       " '곤': 0,\n",
       " '될': 0,\n",
       " '얇': 0,\n",
       " '깡': 0,\n",
       " '푼': 0,\n",
       " '겁': 0,\n",
       " '계': 0,\n",
       " '컸': 0,\n",
       " '잡': 0,\n",
       " '산': 0,\n",
       " '뒤': 0,\n",
       " '좋': 0,\n",
       " '압': 0,\n",
       " '훼': 0,\n",
       " '딧': 0,\n",
       " '직': 0,\n",
       " '띤': 0,\n",
       " '팸': 0,\n",
       " '볕': 0,\n",
       " '란': 0,\n",
       " '뼛': 0,\n",
       " '퉁': 0,\n",
       " '낡': 0,\n",
       " '또': 0,\n",
       " '착': 0,\n",
       " '듯': 0,\n",
       " '갹': 0,\n",
       " '먹': 0,\n",
       " '숱': 0,\n",
       " '뛰': 0,\n",
       " '귄': 0,\n",
       " '축': 0,\n",
       " '탄': 0,\n",
       " '쐈': 0,\n",
       " '작': 0,\n",
       " '랍': 0,\n",
       " '헹': 0,\n",
       " '끝': 0,\n",
       " '싹': 0,\n",
       " '쇄': 0,\n",
       " '긁': 0,\n",
       " '쏜': 0,\n",
       " 'ㅇ': 0,\n",
       " '낚': 0,\n",
       " '텐': 0,\n",
       " '한': 0,\n",
       " '코': 0,\n",
       " '셀': 0,\n",
       " '미': 0,\n",
       " '콜': 0,\n",
       " '갱': 0,\n",
       " '넬': 0,\n",
       " '샹': 0,\n",
       " '벤': 0,\n",
       " '쿤': 0,\n",
       " '늙': 0,\n",
       " '갓': 0,\n",
       " '칙': 0,\n",
       " '윽': 0,\n",
       " '뻗': 0,\n",
       " '피': 0,\n",
       " '켜': 0,\n",
       " '렐': 0,\n",
       " '땡': 0,\n",
       " '휠': 0,\n",
       " '텀': 0,\n",
       " '톈': 0,\n",
       " '딛': 0,\n",
       " '빠': 0,\n",
       " '뻥': 0,\n",
       " '상': 0,\n",
       " '첫': 0,\n",
       " '콧': 0,\n",
       " '멘': 0,\n",
       " '깜': 0,\n",
       " '규': 0,\n",
       " '팟': 0,\n",
       " '럿': 0,\n",
       " '핼': 0,\n",
       " '잿': 0,\n",
       " '9': 0,\n",
       " '빚': 0,\n",
       " '펩': 0,\n",
       " '흰': 0,\n",
       " '카': 0,\n",
       " '페': 0,\n",
       " '퍼': 0,\n",
       " '디': 0,\n",
       " '낄': 0,\n",
       " '숟': 0,\n",
       " 'ㄴ': 0,\n",
       " '첩': 0,\n",
       " '쓰': 0,\n",
       " '륜': 0,\n",
       " '왈': 0,\n",
       " '꼽': 0,\n",
       " '말': 0,\n",
       " '촨': 0,\n",
       " '언': 0,\n",
       " '팀': 0,\n",
       " '율': 0,\n",
       " '적': 0,\n",
       " '윰': 0,\n",
       " '깊': 0,\n",
       " '옳': 0,\n",
       " '끙': 0,\n",
       " '총': 0,\n",
       " '맞': 0,\n",
       " '첼': 0,\n",
       " '넥': 0,\n",
       " '톨': 0,\n",
       " '것': 0,\n",
       " '갤': 0,\n",
       " '팬': 0,\n",
       " '텟': 0,\n",
       " '헛': 0,\n",
       " '번': 0,\n",
       " '훅': 0,\n",
       " '썹': 0,\n",
       " '풍': 0,\n",
       " '샜': 0,\n",
       " '팍': 0,\n",
       " '측': 0,\n",
       " '밑': 0,\n",
       " '훨': 0,\n",
       " '킷': 0,\n",
       " '덧': 0,\n",
       " '좌': 0,\n",
       " '맛': 0,\n",
       " '뱀': 0,\n",
       " '짤': 0,\n",
       " '훌': 0,\n",
       " '뤄': 0,\n",
       " '조': 0,\n",
       " '돔': 0,\n",
       " '띕': 0,\n",
       " '켐': 0,\n",
       " '텔': 0,\n",
       " '저': 0,\n",
       " '꽂': 0,\n",
       " '훑': 0,\n",
       " '솜': 0,\n",
       " '엿': 0,\n",
       " '탠': 0,\n",
       " '둔': 0,\n",
       " '잇': 0,\n",
       " '준': 0,\n",
       " '촌': 0,\n",
       " '켠': 0,\n",
       " '앤': 0,\n",
       " '색': 0,\n",
       " '뉜': 0,\n",
       " '꽁': 0,\n",
       " '묻': 0,\n",
       " '듀': 0,\n",
       " '평': 0,\n",
       " '갈': 0,\n",
       " '췌': 0,\n",
       " '큽': 0,\n",
       " '료': 0,\n",
       " '싶': 0,\n",
       " '옷': 0,\n",
       " '뜬': 0,\n",
       " '약': 0,\n",
       " '즙': 0,\n",
       " '체': 0,\n",
       " '핵': 0,\n",
       " '텝': 0,\n",
       " '깨': 0,\n",
       " '닝': 0,\n",
       " '패': 0,\n",
       " '얘': 0,\n",
       " '며': 0,\n",
       " '뭄': 0,\n",
       " '뜯': 0,\n",
       " '랜': 0,\n",
       " '힉': 0,\n",
       " '솥': 0,\n",
       " '종': 0,\n",
       " '눈': 0,\n",
       " '톡': 0,\n",
       " '쩜': 0,\n",
       " '량': 0,\n",
       " '공': 0,\n",
       " '쿱': 0,\n",
       " '섰': 0,\n",
       " '꿰': 0,\n",
       " '밝': 0,\n",
       " '냅': 0,\n",
       " '흑': 0,\n",
       " '훔': 0,\n",
       " '밧': 0,\n",
       " '1': 0,\n",
       " '딸': 0,\n",
       " '트': 0,\n",
       " '뷔': 0,\n",
       " '뎃': 0,\n",
       " '쏠': 0,\n",
       " '럽': 0,\n",
       " '뽀': 0,\n",
       " '쩍': 0,\n",
       " '깍': 0,\n",
       " '뭔': 0,\n",
       " '펠': 0,\n",
       " '웁': 0,\n",
       " '찡': 0,\n",
       " '퀼': 0,\n",
       " '툼': 0,\n",
       " '션': 0,\n",
       " '뱉': 0,\n",
       " '육': 0,\n",
       " '댑': 0,\n",
       " '뉘': 0,\n",
       " '먼': 0,\n",
       " '격': 0,\n",
       " '완': 0,\n",
       " '봄': 0,\n",
       " '쾌': 0,\n",
       " '월': 0,\n",
       " '턴': 0,\n",
       " '갑': 0,\n",
       " '뭣': 0,\n",
       " '릭': 0,\n",
       " '답': 0,\n",
       " '팜': 0,\n",
       " '길': 0,\n",
       " '테': 0,\n",
       " '둑': 0,\n",
       " '퐁': 0,\n",
       " '찾': 0,\n",
       " '실': 0,\n",
       " '짙': 0,\n",
       " '툇': 0,\n",
       " '붓': 0,\n",
       " '설': 0,\n",
       " '동': 0,\n",
       " '악': 0,\n",
       " '찬': 0,\n",
       " '져': 0,\n",
       " '쇳': 0,\n",
       " '4': 0,\n",
       " '벨': 0,\n",
       " '굿': 0,\n",
       " '쪽': 0,\n",
       " '폐': 0,\n",
       " '참': 0,\n",
       " '덤': 0,\n",
       " '손': 0,\n",
       " '교': 0,\n",
       " '굶': 0,\n",
       " '화': 0,\n",
       " '왠': 0,\n",
       " '깎': 0,\n",
       " '덟': 0,\n",
       " '멈': 0,\n",
       " '늑': 0,\n",
       " '갇': 0,\n",
       " '센': 0,\n",
       " '얕': 0,\n",
       " '웃': 0,\n",
       " '갸': 0,\n",
       " '얼': 0,\n",
       " '침': 0,\n",
       " '햇': 0,\n",
       " '품': 0,\n",
       " '딩': 0,\n",
       " '걸': 0,\n",
       " '물': 0,\n",
       " '휀': 0,\n",
       " '돛': 0,\n",
       " '섹': 0,\n",
       " '쁘': 0,\n",
       " '눠': 0,\n",
       " '슝': 0,\n",
       " '률': 0,\n",
       " '깻': 0,\n",
       " '섣': 0,\n",
       " '강': 0,\n",
       " '닫': 0,\n",
       " '받': 0,\n",
       " '짭': 0,\n",
       " '셋': 0,\n",
       " '핥': 0,\n",
       " '려': 0,\n",
       " '나': 0,\n",
       " '핍': 0,\n",
       " '늄': 0,\n",
       " '칫': 0,\n",
       " '요': 0,\n",
       " '괌': 0,\n",
       " '층': 0,\n",
       " '낀': 0,\n",
       " '땐': 0,\n",
       " '된': 0,\n",
       " '부': 0,\n",
       " '옐': 0,\n",
       " '예': 0,\n",
       " '잰': 0,\n",
       " '긍': 0,\n",
       " '흘': 0,\n",
       " '뮤': 0,\n",
       " '꽈': 0,\n",
       " '틀': 0,\n",
       " '똬': 0,\n",
       " '바': 0,\n",
       " '솔': 0,\n",
       " '뵈': 0,\n",
       " '머': 0,\n",
       " '밥': 0,\n",
       " '횃': 0,\n",
       " '더': 0,\n",
       " '벰': 0,\n",
       " '올': 0,\n",
       " '중': 0,\n",
       " '렙': 0,\n",
       " '룀': 0,\n",
       " '민': 0,\n",
       " '콕': 0,\n",
       " '뱅': 0,\n",
       " '값': 0,\n",
       " '팩': 0,\n",
       " '기': 0,\n",
       " '달': 0,\n",
       " '뛴': 0,\n",
       " '빨': 0,\n",
       " '릎': 0,\n",
       " '칠': 0,\n",
       " '컵': 0,\n",
       " '만': 0,\n",
       " '넘': 0,\n",
       " '아': 0,\n",
       " '몰': 0,\n",
       " '룸': 0,\n",
       " '즌': 0,\n",
       " '섀': 0,\n",
       " '긴': 0,\n",
       " '낼': 0,\n",
       " '신': 0,\n",
       " '황': 0,\n",
       " '게': 0,\n",
       " '뀔': 0,\n",
       " '구': 0,\n",
       " '얻': 0,\n",
       " '암': 0,\n",
       " '쥔': 0,\n",
       " '껴': 0,\n",
       " '충': 0,\n",
       " '헐': 0,\n",
       " '홧': 0,\n",
       " '훙': 0,\n",
       " '깼': 0,\n",
       " '롱': 0,\n",
       " '굽': 0,\n",
       " '별': 0,\n",
       " '냉': 0,\n",
       " '임': 0,\n",
       " '제': 0,\n",
       " '앰': 0,\n",
       " '곶': 0,\n",
       " '겐': 0,\n",
       " '됐': 0,\n",
       " '닷': 0,\n",
       " '롭': 0,\n",
       " '댕': 0,\n",
       " '되': 0,\n",
       " '잉': 0,\n",
       " '투': 0,\n",
       " '발': 0,\n",
       " '폴': 0,\n",
       " '셔': 0,\n",
       " '쫓': 0,\n",
       " '섬': 0,\n",
       " '효': 0,\n",
       " '떳': 0,\n",
       " '일': 0,\n",
       " '몸': 0,\n",
       " '큼': 0,\n",
       " '퓨': 0,\n",
       " '튼': 0,\n",
       " '현': 0,\n",
       " '윤': 0,\n",
       " '를': 0,\n",
       " '지': 0,\n",
       " '칸': 0,\n",
       " '룡': 0,\n",
       " '혁': 0,\n",
       " '즈': 0,\n",
       " '혐': 0,\n",
       " '꺾': 0,\n",
       " '됨': 0,\n",
       " '잔': 0,\n",
       " '빕': 0,\n",
       " '윌': 0,\n",
       " '휩': 0,\n",
       " '궁': 0,\n",
       " '술': 0,\n",
       " '딴': 0,\n",
       " '립': 0,\n",
       " '싱': 0,\n",
       " '슈': 0,\n",
       " '앱': 0,\n",
       " '옵': 0,\n",
       " '홍': 0,\n",
       " '앵': 0,\n",
       " '젤': 0,\n",
       " '딕': 0,\n",
       " '푹': 0,\n",
       " '쪼': 0,\n",
       " '틸': 0,\n",
       " '팝': 0,\n",
       " '땔': 0,\n",
       " '꿔': 0,\n",
       " '쉼': 0,\n",
       " '슘': 0,\n",
       " '객': 0,\n",
       " '읊': 0,\n",
       " '덮': 0,\n",
       " '겠': 0,\n",
       " '줬': 0,\n",
       " '됩': 0,\n",
       " '향': 0,\n",
       " '남': 0,\n",
       " '찻': 0,\n",
       " '버': 0,\n",
       " '로': 0,\n",
       " '궤': 0,\n",
       " '댄': 0,\n",
       " '넌': 0,\n",
       " 'ㅠ': 0,\n",
       " 'ㅋ': 0,\n",
       " '휼': 0,\n",
       " '존': 0,\n",
       " '야': 0,\n",
       " '냄': 0,\n",
       " '잎': 0,\n",
       " '매': 0,\n",
       " '탔': 0,\n",
       " '잘': 0,\n",
       " '오': 0,\n",
       " '딥': 0,\n",
       " '씁': 0,\n",
       " '빗': 0,\n",
       " '딘': 0,\n",
       " 'ㅎ': 0,\n",
       " '꽃': 0,\n",
       " '폰': 0,\n",
       " '쑥': 0,\n",
       " '빈': 0,\n",
       " '뜨': 0,\n",
       " '꽤': 0,\n",
       " '욕': 0,\n",
       " '쇼': 0,\n",
       " '겟': 0,\n",
       " '런': 0,\n",
       " '뮐': 0,\n",
       " '쿄': 0,\n",
       " '쬐': 0,\n",
       " '캘': 0,\n",
       " '걀': 0,\n",
       " '춰': 0,\n",
       " '뽐': 0,\n",
       " '울': 0,\n",
       " '졌': 0,\n",
       " '뗐': 0,\n",
       " '줌': 0,\n",
       " '씽': 0,\n",
       " '항': 0,\n",
       " '꼬': 0,\n",
       " '밋': 0,\n",
       " '넋': 0,\n",
       " '다': 0,\n",
       " '철': 0,\n",
       " '쫴': 0,\n",
       " '랑': 0,\n",
       " '놔': 0,\n",
       " '싸': 0,\n",
       " '웡': 0,\n",
       " '럼': 0,\n",
       " '냐': 0,\n",
       " '앓': 0,\n",
       " '쿡': 0,\n",
       " '깥': 0,\n",
       " '균': 0,\n",
       " '씹': 0,\n",
       " '특': 0,\n",
       " '없': 0,\n",
       " '벚': 0,\n",
       " '방': 0,\n",
       " '땄': 0,\n",
       " '봬': 0,\n",
       " '채': 0,\n",
       " '룹': 0,\n",
       " '람': 0,\n",
       " '법': 0,\n",
       " '즐': 0,\n",
       " '츠': 0,\n",
       " '닌': 0,\n",
       " '챗': 0,\n",
       " '친': 0,\n",
       " '흉': 0,\n",
       " '독': 0,\n",
       " '잃': 0,\n",
       " '숭': 0,\n",
       " '빅': 0,\n",
       " '쏘': 0,\n",
       " '엉': 0,\n",
       " '렁': 0,\n",
       " '팎': 0,\n",
       " '젊': 0,\n",
       " '있': 0,\n",
       " '즉': 0,\n",
       " '뜸': 0,\n",
       " '처': 0,\n",
       " '쿼': 0,\n",
       " '췄': 0,\n",
       " '워': 0,\n",
       " '쭈': 0,\n",
       " '잊': 0,\n",
       " '째': 0,\n",
       " '뺨': 0,\n",
       " 'ㄷ': 0,\n",
       " '쉰': 0,\n",
       " '찔': 0,\n",
       " '새': 0,\n",
       " '슴': 0,\n",
       " '둠': 0,\n",
       " '릉': 0,\n",
       " '따': 0,\n",
       " '돌': 0,\n",
       " '밸': 0,\n",
       " '떠': 0,\n",
       " '왕': 0,\n",
       " '펀': 0,\n",
       " '블': 0,\n",
       " '드': 0,\n",
       " '진': 0,\n",
       " '탁': 0,\n",
       " '액': 0,\n",
       " '닿': 0,\n",
       " '얄': 0,\n",
       " '성': 0,\n",
       " '쌉': 0,\n",
       " '모': 0,\n",
       " '푸': 0,\n",
       " '튬': 0,\n",
       " '혀': 0,\n",
       " '허': 0,\n",
       " '께': 0,\n",
       " '쌓': 0,\n",
       " '돼': 0,\n",
       " '둥': 0,\n",
       " '샐': 0,\n",
       " '넴': 0,\n",
       " '논': 0,\n",
       " '입': 0,\n",
       " '곡': 0,\n",
       " '앉': 0,\n",
       " '흠': 0,\n",
       " '훤': 0,\n",
       " '츰': 0,\n",
       " '떴': 0,\n",
       " '네': 0,\n",
       " '판': 0,\n",
       " '쉐': 0,\n",
       " '뗄': 0,\n",
       " '웜': 0,\n",
       " '줄': 0,\n",
       " '땀': 0,\n",
       " '쓴': 0,\n",
       " '듣': 0,\n",
       " '컷': 0,\n",
       " '끌': 0,\n",
       " '초': 0,\n",
       " '퓸': 0,\n",
       " '널': 0,\n",
       " '쯔': 0,\n",
       " '퉈': 0,\n",
       " '벡': 0,\n",
       " '끊': 0,\n",
       " '광': 0,\n",
       " '듬': 0,\n",
       " '핫': 0,\n",
       " '팁': 0,\n",
       " '럭': 0,\n",
       " '걔': 0,\n",
       " '쥐': 0,\n",
       " '뼈': 0,\n",
       " '틱': 0,\n",
       " '꿍': 0,\n",
       " '곳': 0,\n",
       " '천': 0,\n",
       " '플': 0,\n",
       " '쏟': 0,\n",
       " '범': 0,\n",
       " '앗': 0,\n",
       " '명': 0,\n",
       " '넛': 0,\n",
       " '흙': 0,\n",
       " '묘': 0,\n",
       " '숫': 0,\n",
       " '험': 0,\n",
       " '컹': 0,\n",
       " '앨': 0,\n",
       " '창': 0,\n",
       " '꾼': 0,\n",
       " '븐': 0,\n",
       " '멸': 0,\n",
       " '핑': 0,\n",
       " '근': 0,\n",
       " '쉽': 0,\n",
       " '왼': 0,\n",
       " '름': 0,\n",
       " '운': 0,\n",
       " '숍': 0,\n",
       " '날': 0,\n",
       " '쥘': 0,\n",
       " '엑': 0,\n",
       " '는': 0,\n",
       " '멀': 0,\n",
       " '섞': 0,\n",
       " '춘': 0,\n",
       " '치': 0,\n",
       " '갖': 0,\n",
       " '뽕': 0,\n",
       " '쥬': 0,\n",
       " '튕': 0,\n",
       " '0': 0,\n",
       " '순': 0,\n",
       " '승': 0,\n",
       " '갚': 0,\n",
       " '콩': 0,\n",
       " '팽': 0,\n",
       " '펙': 0,\n",
       " '김': 0,\n",
       " '댔': 0,\n",
       " '잭': 0,\n",
       " '쁜': 0,\n",
       " '뇌': 0,\n",
       " '눔': 0,\n",
       " '촘': 0,\n",
       " '풀': 0,\n",
       " '욱': 0,\n",
       " '눌': 0,\n",
       " '뎀': 0,\n",
       " '앞': 0,\n",
       " '헤': 0,\n",
       " '쐐': 0,\n",
       " '뉴': 0,\n",
       " '안': 0,\n",
       " '써': 0,\n",
       " '알': 0,\n",
       " '뫼': 0,\n",
       " '감': 0,\n",
       " '핸': 0,\n",
       " '혈': 0,\n",
       " '륨': 0,\n",
       " '델': 0,\n",
       " '높': 0,\n",
       " '뻑': 0,\n",
       " '할': 0,\n",
       " '썼': 0,\n",
       " '련': 0,\n",
       " '닻': 0,\n",
       " '키': 0,\n",
       " '썩': 0,\n",
       " '력': 0,\n",
       " '곰': 0,\n",
       " '샴': 0,\n",
       " '껍': 0,\n",
       " '껏': 0,\n",
       " '멜': 0,\n",
       " '옥': 0,\n",
       " '하': 0,\n",
       " '3': 0,\n",
       " '콤': 0,\n",
       " '스': 0,\n",
       " '퓰': 0,\n",
       " '샌': 0,\n",
       " '농': 0,\n",
       " '용': 0,\n",
       " '했': 0,\n",
       " '캄': 0,\n",
       " '겪': 0,\n",
       " '닳': 0,\n",
       " '몬': 0,\n",
       " '릿': 0,\n",
       " '곽': 0,\n",
       " '형': 0,\n",
       " '녁': 0,\n",
       " '쿠': 0,\n",
       " '뿜': 0,\n",
       " '횟': 0,\n",
       " '둬': 0,\n",
       " '숯': 0,\n",
       " '닉': 0,\n",
       " '을': 0,\n",
       " '껌': 0,\n",
       " '병': 0,\n",
       " '극': 0,\n",
       " '궂': 0,\n",
       " '켈': 0,\n",
       " '씻': 0,\n",
       " '웹': 0,\n",
       " '슨': 0,\n",
       " '엎': 0,\n",
       " '쥴': 0,\n",
       " '꾀': 0,\n",
       " '샘': 0,\n",
       " '붕': 0,\n",
       " '납': 0,\n",
       " '든': 0,\n",
       " '벙': 0,\n",
       " '셈': 0,\n",
       " '찜': 0,\n",
       " '웰': 0,\n",
       " '엮': 0,\n",
       " '칩': 0,\n",
       " '핏': 0,\n",
       " '취': 0,\n",
       " '이': 0,\n",
       " '램': 0,\n",
       " '호': 0,\n",
       " '펫': 0,\n",
       " '짧': 0,\n",
       " '복': 0,\n",
       " '루': 0,\n",
       " '않': 0,\n",
       " '획': 0,\n",
       " '롯': 0,\n",
       " '같': 0,\n",
       " '윙': 0,\n",
       " '괴': 0,\n",
       " '엊': 0,\n",
       " '슷': 0,\n",
       " '견': 0,\n",
       " '뻔': 0,\n",
       " '툭': 0,\n",
       " '터': 0,\n",
       " '뵙': 0,\n",
       " '휘': 0,\n",
       " '베': 0,\n",
       " '샷': 0,\n",
       " '벵': 0,\n",
       " '건': 0,\n",
       " '슐': 0,\n",
       " '낌': 0,\n",
       " '꺼': 0,\n",
       " '맙': 0,\n",
       " '므': 0,\n",
       " '뇨': 0,\n",
       " '춤': 0,\n",
       " '맡': 0,\n",
       " '흐': 0,\n",
       " '칵': 0,\n",
       " '탕': 0,\n",
       " '외': 0,\n",
       " '편': 0,\n",
       " '념': 0,\n",
       " '벅': 0,\n",
       " '론': 0,\n",
       " '좇': 0,\n",
       " '캔': 0,\n",
       " '헨': 0,\n",
       " '숲': 0,\n",
       " '낱': 0,\n",
       " '릇': 0,\n",
       " '킬': 0,\n",
       " '류': 0,\n",
       " '곧': 0,\n",
       " '댓': 0,\n",
       " '묵': 0,\n",
       " '멍': 0,\n",
       " '딱': 0,\n",
       " '륭': 0,\n",
       " '젯': 0,\n",
       " '였': 0,\n",
       " '꿇': 0,\n",
       " '자': 0,\n",
       " '쿵': 0,\n",
       " '개': 0,\n",
       " '샀': 0,\n",
       " '골': 0,\n",
       " '숨': 0,\n",
       " '짠': 0,\n",
       " '샤': 0,\n",
       " '뭇': 0,\n",
       " '쩐': 0,\n",
       " '껄': 0,\n",
       " '꿀': 0,\n",
       " '폼': 0,\n",
       " '쁨': 0,\n",
       " '찌': 0,\n",
       " '셰': 0,\n",
       " '위': 0,\n",
       " '금': 0,\n",
       " '끄': 0,\n",
       " '돕': 0,\n",
       " '낸': 0,\n",
       " '원': 0,\n",
       " '햄': 0,\n",
       " '덩': 0,\n",
       " '펄': 0,\n",
       " '룰': 0,\n",
       " '섯': 0,\n",
       " '펼': 0,\n",
       " '십': 0,\n",
       " '뭘': 0,\n",
       " '틈': 0,\n",
       " '송': 0,\n",
       " '좁': 0,\n",
       " '행': 0,\n",
       " '뭉': 0,\n",
       " '퀄': 0,\n",
       " '뱃': 0,\n",
       " '컬': 0,\n",
       " '굵': 0,\n",
       " '여': 0,\n",
       " '봤': 0,\n",
       " '캣': 0,\n",
       " '던': 0,\n",
       " ...}"
      ]
     },
     "execution_count": 167,
     "metadata": {},
     "output_type": "execute_result"
    }
   ],
   "source": [
    "from soynlp.tokenizer import LTokenizer\n",
    "\n",
    "scores = {word:score.cohesion_forward for word, score in word_score_table.items()}\n",
    "scores"
   ]
  },
  {
   "cell_type": "code",
   "execution_count": 169,
   "metadata": {},
   "outputs": [
    {
     "data": {
      "text/plain": [
       "['국제사회', '와', '우리', '의', '노력', '들로', '범죄', '를', '척결', '하자']"
      ]
     },
     "execution_count": 169,
     "metadata": {},
     "output_type": "execute_result"
    }
   ],
   "source": [
    "l_tokenizer = LTokenizer(scores=scores)\n",
    "l_tokenizer.tokenize(\"국제사회와 우리의 노력들로 범죄를 척결하자\")"
   ]
  },
  {
   "cell_type": "code",
   "execution_count": 170,
   "metadata": {},
   "outputs": [
    {
     "data": {
      "text/plain": [
       "[('국제사회', '와'), ('우리', '의'), ('노력', '들로'), ('범죄', '를'), ('척결', '하자')]"
      ]
     },
     "execution_count": 170,
     "metadata": {},
     "output_type": "execute_result"
    }
   ],
   "source": [
    "l_tokenizer = LTokenizer(scores=scores)\n",
    "l_tokenizer.tokenize(\"국제사회와 우리의 노력들로 범죄를 척결하자\", flatten=False)\n",
    "# 어절별로 묶기 위해 flatten=False 옵션 사용"
   ]
  },
  {
   "cell_type": "code",
   "execution_count": 171,
   "metadata": {},
   "outputs": [
    {
     "data": {
      "text/plain": [
       "[('에이비식스', ''), ('이대휘', ''), ('1월', ''), ('최애돌', ''), ('기부', ''), ('요정', '')]"
      ]
     },
     "execution_count": 171,
     "metadata": {},
     "output_type": "execute_result"
    }
   ],
   "source": [
    "l_tokenizer.tokenize(\"에이비식스 이대휘 1월 최애돌 기부 요정\", flatten=False)"
   ]
  },
  {
   "cell_type": "markdown",
   "metadata": {},
   "source": [
    "6) 최대 점수 토크나이저\n",
    "- 최대 점수 토크나이저는 띄어쓰기가 되지 않는 문장에서 점수가 높은 글자 시퀀스를 순차적으로 찾아내는 토크나이저"
   ]
  },
  {
   "cell_type": "code",
   "execution_count": 172,
   "metadata": {},
   "outputs": [
    {
     "data": {
      "text/plain": [
       "['국제사회', '와', '우리', '의', '노력', '들로', '범죄', '를', '척결', '하자']"
      ]
     },
     "execution_count": 172,
     "metadata": {},
     "output_type": "execute_result"
    }
   ],
   "source": [
    "from soynlp.tokenizer import MaxScoreTokenizer\n",
    "\n",
    "maxscore_tokenizer = MaxScoreTokenizer(scores=scores)\n",
    "maxscore_tokenizer.tokenize(\"국제사회와우리의노력들로범죄를척결하자\")"
   ]
  },
  {
   "cell_type": "markdown",
   "metadata": {},
   "source": [
    "#### SOYNLP를 이용한 반복되는 문자 정제\n",
    "- 불필요하게 반복되는 것을 하나로 정규화"
   ]
  },
  {
   "cell_type": "code",
   "execution_count": 173,
   "metadata": {},
   "outputs": [],
   "source": [
    "from soynlp.normalizer import *"
   ]
  },
  {
   "cell_type": "code",
   "execution_count": 174,
   "metadata": {},
   "outputs": [
    {
     "name": "stdout",
     "output_type": "stream",
     "text": [
      "아ㅋㅋ영화존잼쓰ㅠㅠ\n",
      "아ㅋㅋ영화존잼쓰ㅠㅠ\n",
      "아ㅋㅋ영화존잼쓰ㅠㅠ\n",
      "아ㅋㅋ영화존잼쓰ㅠㅠ\n"
     ]
    }
   ],
   "source": [
    "print(emoticon_normalize('앜ㅋㅋㅋㅋ이영화존잼쓰ㅠㅠㅠㅠㅠ', num_repeats=2))\n",
    "print(emoticon_normalize('앜ㅋㅋㅋㅋㅋㅋㅋㅋㅋ이영화존잼쓰ㅠㅠㅠㅠ', num_repeats=2))\n",
    "print(emoticon_normalize('앜ㅋㅋㅋㅋㅋㅋㅋㅋㅋㅋㅋㅋ이영화존잼쓰ㅠㅠㅠㅠㅠㅠ', num_repeats=2))\n",
    "print(emoticon_normalize('앜ㅋㅋㅋㅋㅋㅋㅋㅋㅋㅋㅋㅋㅋㅋㅋㅋㅋ이영화존잼쓰ㅠㅠㅠㅠㅠㅠㅠㅠ', num_repeats=2))"
   ]
  },
  {
   "cell_type": "code",
   "execution_count": 175,
   "metadata": {},
   "outputs": [
    {
     "name": "stdout",
     "output_type": "stream",
     "text": [
      "와하하핫\n",
      "와하하핫\n",
      "와하하핫\n"
     ]
    }
   ],
   "source": [
    "print(repeat_normalize('와하하하하하하하하하핫', num_repeats=2))\n",
    "print(repeat_normalize('와하하하하하하핫', num_repeats=2))\n",
    "print(repeat_normalize('와하하하하핫', num_repeats=2))"
   ]
  },
  {
   "cell_type": "code",
   "execution_count": 176,
   "metadata": {},
   "outputs": [
    {
     "name": "stdout",
     "output_type": "stream",
     "text": [
      "와하핫\n"
     ]
    }
   ],
   "source": [
    "print(repeat_normalize('와하하하하핫', num_repeats=1))"
   ]
  },
  {
   "cell_type": "markdown",
   "metadata": {},
   "source": [
    "#### 5. Customized KoNLPy"
   ]
  },
  {
   "cell_type": "code",
   "execution_count": 178,
   "metadata": {},
   "outputs": [],
   "source": [
    "# 형태소 분석기를 사용 단어 토큰화 \n",
    "# 형태소 분석기에 사용자 사전 추가 \n",
    "# pip install customized_konlpy"
   ]
  },
  {
   "cell_type": "code",
   "execution_count": 179,
   "metadata": {},
   "outputs": [
    {
     "name": "stderr",
     "output_type": "stream",
     "text": [
      "C:\\Users\\Administrator\\anaconda3\\lib\\site-packages\\konlpy\\tag\\_okt.py:16: UserWarning: \"Twitter\" has changed to \"Okt\" since KoNLPy v0.4.5.\n",
      "  warn('\"Twitter\" has changed to \"Okt\" since KoNLPy v0.4.5.')\n"
     ]
    },
    {
     "data": {
      "text/plain": [
       "['은', '경이', '는', '사무실', '로', '갔습니다', '.']"
      ]
     },
     "execution_count": 179,
     "metadata": {},
     "output_type": "execute_result"
    }
   ],
   "source": [
    "from ckonlpy.tag import Twitter\n",
    "twitter = Twitter()\n",
    "twitter.morphs('은경이는 사무실로 갔습니다.')"
   ]
  },
  {
   "cell_type": "code",
   "execution_count": 180,
   "metadata": {},
   "outputs": [],
   "source": [
    "twitter.add_dictionary('은경이', 'Noun')\n",
    "# 사용자 사전 추가"
   ]
  },
  {
   "cell_type": "code",
   "execution_count": 181,
   "metadata": {},
   "outputs": [
    {
     "data": {
      "text/plain": [
       "['은경이', '는', '사무실', '로', '갔습니다', '.']"
      ]
     },
     "execution_count": 181,
     "metadata": {},
     "output_type": "execute_result"
    }
   ],
   "source": [
    "twitter.morphs('은경이는 사무실로 갔습니다.')\n",
    "#  '은경이'라는 단어가 제대로 하나의 토큰으로 인식되는 것을 확인"
   ]
  },
  {
   "cell_type": "code",
   "execution_count": null,
   "metadata": {},
   "outputs": [],
   "source": []
  }
 ],
 "metadata": {
  "kernelspec": {
   "display_name": "Python 3",
   "language": "python",
   "name": "python3"
  },
  "language_info": {
   "codemirror_mode": {
    "name": "ipython",
    "version": 3
   },
   "file_extension": ".py",
   "mimetype": "text/x-python",
   "name": "python",
   "nbconvert_exporter": "python",
   "pygments_lexer": "ipython3",
   "version": "3.8.5"
  },
  "vp": {
   "base_numbering": 1,
   "nav_menu": {},
   "number_sections": true,
   "sideBar": true,
   "title_cell": "VisualPython",
   "title_sidebar": "VisualPython",
   "vpPosition": {
    "height": "calc(100% - 180px)",
    "right": "10px",
    "top": "110px",
    "width": "50%"
   },
   "vp_cell": false,
   "vp_section_display": true,
   "vp_window_display": false
  }
 },
 "nbformat": 4,
 "nbformat_minor": 4
}
